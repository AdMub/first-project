{
 "cells": [
  {
   "cell_type": "code",
   "execution_count": 1,
   "id": "50c1cec4",
   "metadata": {},
   "outputs": [
    {
     "name": "stdout",
     "output_type": "stream",
     "text": [
      "check how smart you're\n",
      "Ready?\n"
     ]
    }
   ],
   "source": [
    "print (\"Check your most noticeable character\\nReady?\")"
   ]
  },
  {
   "cell_type": "code",
   "execution_count": 7,
   "id": "2dbc941b",
   "metadata": {},
   "outputs": [
    {
     "name": "stdout",
     "output_type": "stream",
     "text": [
      "Yes\n",
      "Okay what's your name?\n",
      "yassir\n",
      "how old are you?\n",
      "19\n",
      "You get badmouth, lol\n"
     ]
    }
   ],
   "source": [
    "Response = input()\n",
    "if Response == \"Yes\":\n",
    "    print (\"Okay what's your name?\")\n",
    "name = input()\n",
    "print (\"how old are you?\")\n",
    "age = input()\n",
    "if name == \"yassir\":\n",
    "           print (\"You get badmouth, lol\")"
   ]
  },
  {
   "cell_type": "code",
   "execution_count": null,
   "id": "bc5f04b0",
   "metadata": {},
   "outputs": [],
   "source": []
  },
  {
   "cell_type": "code",
   "execution_count": null,
   "id": "292120c9",
   "metadata": {},
   "outputs": [],
   "source": []
  }
 ],
 "metadata": {
  "kernelspec": {
   "display_name": "Python 3 (ipykernel)",
   "language": "python",
   "name": "python3"
  },
  "language_info": {
   "codemirror_mode": {
    "name": "ipython",
    "version": 3
   },
   "file_extension": ".py",
   "mimetype": "text/x-python",
   "name": "python",
   "nbconvert_exporter": "python",
   "pygments_lexer": "ipython3",
   "version": "3.9.7"
  }
 },
 "nbformat": 4,
 "nbformat_minor": 5
}
