{
 "cells": [
  {
   "cell_type": "code",
   "execution_count": 4,
   "id": "86093629",
   "metadata": {},
   "outputs": [],
   "source": [
    "colors = ['red', 'orange', 'yellow', 'green', 'blue', 'indigo']"
   ]
  },
  {
   "cell_type": "code",
   "execution_count": 5,
   "id": "1ba9fc7c",
   "metadata": {},
   "outputs": [
    {
     "data": {
      "text/plain": [
       "['red', 'orange', 'yellow', 'green', 'blue', 'indigo']"
      ]
     },
     "execution_count": 5,
     "metadata": {},
     "output_type": "execute_result"
    }
   ],
   "source": [
    "colors"
   ]
  },
  {
   "cell_type": "code",
   "execution_count": 6,
   "id": "f4523f12",
   "metadata": {},
   "outputs": [
    {
     "name": "stdout",
     "output_type": "stream",
     "text": [
      "colors\n"
     ]
    }
   ],
   "source": [
    "print(\"colors\")"
   ]
  },
  {
   "cell_type": "code",
   "execution_count": 7,
   "id": "b967d49a",
   "metadata": {},
   "outputs": [],
   "source": [
    "colors.append(\"violet\")"
   ]
  },
  {
   "cell_type": "code",
   "execution_count": 8,
   "id": "c44d5741",
   "metadata": {},
   "outputs": [
    {
     "data": {
      "text/plain": [
       "['red', 'orange', 'yellow', 'green', 'blue', 'indigo', 'violet']"
      ]
     },
     "execution_count": 8,
     "metadata": {},
     "output_type": "execute_result"
    }
   ],
   "source": [
    "colors"
   ]
  },
  {
   "cell_type": "code",
   "execution_count": 9,
   "id": "7cdcdb2b",
   "metadata": {},
   "outputs": [],
   "source": [
    " def say_hi():\n",
    "        print('Hi!')"
   ]
  },
  {
   "cell_type": "code",
   "execution_count": 10,
   "id": "67f7e4e1",
   "metadata": {},
   "outputs": [
    {
     "data": {
      "text/plain": [
       "<function __main__.say_hi()>"
      ]
     },
     "execution_count": 10,
     "metadata": {},
     "output_type": "execute_result"
    }
   ],
   "source": [
    "say_hi"
   ]
  },
  {
   "cell_type": "code",
   "execution_count": 11,
   "id": "7d149c1e",
   "metadata": {},
   "outputs": [
    {
     "name": "stdout",
     "output_type": "stream",
     "text": [
      "Hi!\n"
     ]
    }
   ],
   "source": [
    "say_hi()"
   ]
  },
  {
   "cell_type": "code",
   "execution_count": 12,
   "id": "811290bb",
   "metadata": {},
   "outputs": [],
   "source": [
    "def sing_happy_birthday():\n",
    "    print(\"Happy Birthday To You\")\n",
    "    print(\"Happy Birthday To You\")\n",
    "    print(\"Happy Birthday To My Friend\")\n",
    "    print(\"Happy Birthday To You\")"
   ]
  },
  {
   "cell_type": "code",
   "execution_count": 14,
   "id": "ae3aa3d9",
   "metadata": {},
   "outputs": [
    {
     "name": "stdout",
     "output_type": "stream",
     "text": [
      "Happy Birthday To You\n",
      "Happy Birthday To You\n",
      "Happy Birthday To My Friend\n",
      "Happy Birthday To You\n"
     ]
    }
   ],
   "source": [
    "sing_happy_birthday()"
   ]
  },
  {
   "cell_type": "code",
   "execution_count": 17,
   "id": "adbfd1fb",
   "metadata": {
    "scrolled": true
   },
   "outputs": [
    {
     "name": "stdout",
     "output_type": "stream",
     "text": [
      "Happy Birthday To You\n",
      "Happy Birthday To You\n",
      "Happy Birthday To My Friend\n",
      "Happy Birthday To You\n",
      "Happy Birthday To You\n",
      "Happy Birthday To You\n",
      "Happy Birthday To My Friend\n",
      "Happy Birthday To You\n",
      "Happy Birthday To You\n",
      "Happy Birthday To You\n",
      "Happy Birthday To My Friend\n",
      "Happy Birthday To You\n",
      "Happy Birthday To You\n",
      "Happy Birthday To You\n",
      "Happy Birthday To My Friend\n",
      "Happy Birthday To You\n"
     ]
    }
   ],
   "source": [
    "sing_happy_birthday()\n",
    "sing_happy_birthday()\n",
    "sing_happy_birthday()\n",
    "sing_happy_birthday()"
   ]
  },
  {
   "cell_type": "code",
   "execution_count": 18,
   "id": "db6fb428",
   "metadata": {},
   "outputs": [],
   "source": [
    "def print_square_of_7():\n",
    "    print(7**2)"
   ]
  },
  {
   "cell_type": "code",
   "execution_count": 20,
   "id": "d236d50a",
   "metadata": {},
   "outputs": [
    {
     "name": "stdout",
     "output_type": "stream",
     "text": [
      "49\n"
     ]
    }
   ],
   "source": [
    "print_square_of_7()"
   ]
  },
  {
   "cell_type": "markdown",
   "id": "35fb1546",
   "metadata": {},
   "source": [
    "#### nums = [1,2,3,]"
   ]
  },
  {
   "cell_type": "code",
   "execution_count": 33,
   "id": "71b43a19",
   "metadata": {},
   "outputs": [],
   "source": [
    "nums = [1,2,3,4]"
   ]
  },
  {
   "cell_type": "code",
   "execution_count": 34,
   "id": "893abc26",
   "metadata": {},
   "outputs": [],
   "source": [
    "length = len(nums)"
   ]
  },
  {
   "cell_type": "code",
   "execution_count": 35,
   "id": "926869f3",
   "metadata": {},
   "outputs": [
    {
     "data": {
      "text/plain": [
       "4"
      ]
     },
     "execution_count": 35,
     "metadata": {},
     "output_type": "execute_result"
    }
   ],
   "source": [
    "length"
   ]
  },
  {
   "cell_type": "code",
   "execution_count": 36,
   "id": "62533959",
   "metadata": {},
   "outputs": [],
   "source": [
    "last_item = nums.pop()"
   ]
  },
  {
   "cell_type": "code",
   "execution_count": 37,
   "id": "e0d64333",
   "metadata": {},
   "outputs": [
    {
     "data": {
      "text/plain": [
       "[1, 2, 3]"
      ]
     },
     "execution_count": 37,
     "metadata": {},
     "output_type": "execute_result"
    }
   ],
   "source": [
    "nums"
   ]
  },
  {
   "cell_type": "code",
   "execution_count": 38,
   "id": "50710d3a",
   "metadata": {},
   "outputs": [
    {
     "data": {
      "text/plain": [
       "4"
      ]
     },
     "execution_count": 38,
     "metadata": {},
     "output_type": "execute_result"
    }
   ],
   "source": [
    "last_item"
   ]
  },
  {
   "cell_type": "code",
   "execution_count": 40,
   "id": "d1863ac1",
   "metadata": {},
   "outputs": [
    {
     "name": "stdout",
     "output_type": "stream",
     "text": [
      "None\n"
     ]
    }
   ],
   "source": [
    "def square_of_7():\n",
    "    7**2\n",
    "result = square_of_7()\n",
    "print(result)"
   ]
  },
  {
   "cell_type": "code",
   "execution_count": 41,
   "id": "af1b5c41",
   "metadata": {},
   "outputs": [
    {
     "name": "stdout",
     "output_type": "stream",
     "text": [
      "49\n"
     ]
    }
   ],
   "source": [
    "def square_of_7():\n",
    "    return 7**2\n",
    "result = square_of_7()\n",
    "print(result)"
   ]
  },
  {
   "cell_type": "code",
   "execution_count": 42,
   "id": "108c5984",
   "metadata": {},
   "outputs": [
    {
     "name": "stdout",
     "output_type": "stream",
     "text": [
      "Hi!\n"
     ]
    }
   ],
   "source": [
    "def say_hi():\n",
    "    return 'Hi!'\n",
    "greeting = say_hi()\n",
    "print(greeting)"
   ]
  },
  {
   "cell_type": "code",
   "execution_count": 43,
   "id": "c7cb910f",
   "metadata": {},
   "outputs": [
    {
     "name": "stdout",
     "output_type": "stream",
     "text": [
      "49\n"
     ]
    }
   ],
   "source": [
    "def square_of_7():\n",
    "    return 7**2\n",
    "    print(\"I AM AFTER THE RETURN!\")\n",
    "result = square_of_7()\n",
    "print(result)"
   ]
  },
  {
   "cell_type": "code",
   "execution_count": 44,
   "id": "0f9e0f33",
   "metadata": {},
   "outputs": [
    {
     "name": "stdout",
     "output_type": "stream",
     "text": [
      "I AM BEFORE THE RETURN!\n",
      "49\n"
     ]
    }
   ],
   "source": [
    "def square_of_7():\n",
    "    print(\"I AM BEFORE THE RETURN!\")\n",
    "    return 7**2\n",
    "    print(\"I AM AFTER THE RETURN!\")\n",
    "result = square_of_7()\n",
    "print(result)"
   ]
  },
  {
   "cell_type": "code",
   "execution_count": 9,
   "id": "15459d5f",
   "metadata": {},
   "outputs": [
    {
     "name": "stdout",
     "output_type": "stream",
     "text": [
      "tails\n"
     ]
    }
   ],
   "source": [
    "from random import random\n",
    "def flip_coin():\n",
    "    r = random()\n",
    "    if r > 0.5:\n",
    "        return\"heads\"\n",
    "    else:\n",
    "        return\"tails\"\n",
    "print(flip_coin())"
   ]
  },
  {
   "cell_type": "code",
   "execution_count": 11,
   "id": "57e45f1b",
   "metadata": {},
   "outputs": [
    {
     "name": "stdout",
     "output_type": "stream",
     "text": [
      "heads\n"
     ]
    }
   ],
   "source": [
    "from random import random\n",
    "def flip_coin():\n",
    "    r = random()\n",
    "    if r > 0.5:\n",
    "        return\"heads\"\n",
    "    else:\n",
    "        return\"tails\"\n",
    "print(flip_coin())"
   ]
  },
  {
   "cell_type": "code",
   "execution_count": 15,
   "id": "250e1ea3",
   "metadata": {},
   "outputs": [
    {
     "name": "stdout",
     "output_type": "stream",
     "text": [
      "HEADS\n"
     ]
    }
   ],
   "source": [
    "def flip_coin():\n",
    "    if random() > 0.5:\n",
    "        return \"HEADS\"\n",
    "    else:\n",
    "        return \"TAILS\"\n",
    "print(flip_coin())"
   ]
  },
  {
   "cell_type": "code",
   "execution_count": 17,
   "id": "0fb3d001",
   "metadata": {},
   "outputs": [
    {
     "name": "stdout",
     "output_type": "stream",
     "text": [
      "TAILS\n"
     ]
    }
   ],
   "source": [
    "def flip_coin():\n",
    "    if random() > 0.5:\n",
    "        return \"HEADS\"\n",
    "    else:\n",
    "        return \"TAILS\"\n",
    "print(flip_coin())"
   ]
  },
  {
   "cell_type": "code",
   "execution_count": 1,
   "id": "4cc87c21",
   "metadata": {},
   "outputs": [],
   "source": [
    "def generate_evens():\n",
    "    result = []\n",
    "    for x in range(1,50):\n",
    "        if x % 2 == 0:\n",
    "            result.append(x)\n",
    "    return result"
   ]
  },
  {
   "cell_type": "code",
   "execution_count": 2,
   "id": "c5f0728d",
   "metadata": {},
   "outputs": [
    {
     "name": "stdout",
     "output_type": "stream",
     "text": [
      "16\n",
      "64\n"
     ]
    }
   ],
   "source": [
    "def square(num):\n",
    "    return num * num\n",
    "print(square(4))\n",
    "print(square(8))"
   ]
  },
  {
   "cell_type": "code",
   "execution_count": 14,
   "id": "c595ebaf",
   "metadata": {},
   "outputs": [],
   "source": [
    "def sing_happy_birthday(name):\n",
    "    print(\"Happy Birthday To You\")\n",
    "    print(\"Happy Birthday To You\")\n",
    "    print(f\"Happy Birthday To Dear {name}\")\n",
    "    print(\"Happy Birthday To You\")"
   ]
  },
  {
   "cell_type": "code",
   "execution_count": 15,
   "id": "a3eac4fd",
   "metadata": {},
   "outputs": [
    {
     "name": "stdout",
     "output_type": "stream",
     "text": [
      "Happy Birthday To You\n",
      "Happy Birthday To You\n",
      "Happy Birthday To Dear JIMLAD\n",
      "Happy Birthday To You\n"
     ]
    }
   ],
   "source": [
    "sing_happy_birthday('JIMLAD')"
   ]
  },
  {
   "cell_type": "code",
   "execution_count": 16,
   "id": "a640695e",
   "metadata": {},
   "outputs": [
    {
     "name": "stdout",
     "output_type": "stream",
     "text": [
      "Happy Birthday To You\n",
      "Happy Birthday To You\n",
      "Happy Birthday To Dear JIMLAD\n",
      "Happy Birthday To You\n",
      "Happy Birthday To You\n",
      "Happy Birthday To You\n",
      "Happy Birthday To Dear ABU\n",
      "Happy Birthday To You\n"
     ]
    }
   ],
   "source": [
    "sing_happy_birthday('JIMLAD')\n",
    "sing_happy_birthday('ABU')"
   ]
  },
  {
   "cell_type": "code",
   "execution_count": 18,
   "id": "17385760",
   "metadata": {},
   "outputs": [],
   "source": [
    "def add(a,b):\n",
    "    return a+b"
   ]
  },
  {
   "cell_type": "code",
   "execution_count": 20,
   "id": "a70ad238",
   "metadata": {},
   "outputs": [
    {
     "data": {
      "text/plain": [
       "90"
      ]
     },
     "execution_count": 20,
     "metadata": {},
     "output_type": "execute_result"
    }
   ],
   "source": [
    "add(34,56)"
   ]
  },
  {
   "cell_type": "code",
   "execution_count": 21,
   "id": "fdd35f6b",
   "metadata": {},
   "outputs": [],
   "source": [
    "def multiply(first,second): \n",
    "    return first * second"
   ]
  },
  {
   "cell_type": "code",
   "execution_count": 22,
   "id": "4042727a",
   "metadata": {},
   "outputs": [
    {
     "data": {
      "text/plain": [
       "396"
      ]
     },
     "execution_count": 22,
     "metadata": {},
     "output_type": "execute_result"
    }
   ],
   "source": [
    "multiply(9,44)"
   ]
  },
  {
   "cell_type": "code",
   "execution_count": 35,
   "id": "d6038ee2",
   "metadata": {},
   "outputs": [],
   "source": [
    "def print_full_name(name1, name2):\n",
    "    return(f\"Your Full name is {name1}, {name2}\")"
   ]
  },
  {
   "cell_type": "code",
   "execution_count": 36,
   "id": "8f1084c8",
   "metadata": {},
   "outputs": [
    {
     "data": {
      "text/plain": [
       "'Your Full name is Abdul_Mojeed, Ibrahim'"
      ]
     },
     "execution_count": 36,
     "metadata": {},
     "output_type": "execute_result"
    }
   ],
   "source": [
    "print_full_name('Abdul_Mojeed', 'Ibrahim')"
   ]
  },
  {
   "cell_type": "code",
   "execution_count": 38,
   "id": "db9751ad",
   "metadata": {},
   "outputs": [],
   "source": [
    "def full_name(first_name, last_name):\n",
    "    return(f\"Your full name is {first_name}, {last_name}\")"
   ]
  },
  {
   "cell_type": "code",
   "execution_count": 40,
   "id": "153798e1",
   "metadata": {},
   "outputs": [
    {
     "data": {
      "text/plain": [
       "'Your full name is Abdul Mojeed, Ibrahim'"
      ]
     },
     "execution_count": 40,
     "metadata": {},
     "output_type": "execute_result"
    }
   ],
   "source": [
    "full_name('Abdul Mojeed', 'Ibrahim')"
   ]
  },
  {
   "cell_type": "code",
   "execution_count": 43,
   "id": "e38509bd",
   "metadata": {},
   "outputs": [],
   "source": [
    "def divide(num1, num2):\n",
    "    return num1 / num2"
   ]
  },
  {
   "cell_type": "code",
   "execution_count": 44,
   "id": "a2ec0596",
   "metadata": {},
   "outputs": [
    {
     "data": {
      "text/plain": [
       "2.25"
      ]
     },
     "execution_count": 44,
     "metadata": {},
     "output_type": "execute_result"
    }
   ],
   "source": [
    "divide(9,4)"
   ]
  },
  {
   "cell_type": "code",
   "execution_count": 45,
   "id": "d37a96ad",
   "metadata": {},
   "outputs": [
    {
     "name": "stdout",
     "output_type": "stream",
     "text": [
      "2.25\n",
      "0.4444444444444444\n"
     ]
    }
   ],
   "source": [
    "print(divide(9,4))\n",
    "print(divide(4,9))"
   ]
  },
  {
   "cell_type": "code",
   "execution_count": 46,
   "id": "22a69659",
   "metadata": {},
   "outputs": [],
   "source": [
    "def yell(word):\n",
    "    return word.upper() + \"!\""
   ]
  },
  {
   "cell_type": "code",
   "execution_count": 49,
   "id": "7c402c53",
   "metadata": {},
   "outputs": [
    {
     "data": {
      "text/plain": [
       "'INDIGO!'"
      ]
     },
     "execution_count": 49,
     "metadata": {},
     "output_type": "execute_result"
    }
   ],
   "source": [
    "yell('indigo')"
   ]
  },
  {
   "cell_type": "code",
   "execution_count": 50,
   "id": "5cf3cf34",
   "metadata": {},
   "outputs": [],
   "source": [
    "def yell(word):\n",
    "    return \"{}!\".format(word.upper())"
   ]
  },
  {
   "cell_type": "code",
   "execution_count": 51,
   "id": "694e2973",
   "metadata": {},
   "outputs": [
    {
     "data": {
      "text/plain": [
       "'BLUE!'"
      ]
     },
     "execution_count": 51,
     "metadata": {},
     "output_type": "execute_result"
    }
   ],
   "source": [
    "yell('blue')"
   ]
  },
  {
   "cell_type": "code",
   "execution_count": 52,
   "id": "8598a18c",
   "metadata": {},
   "outputs": [],
   "source": [
    "def yell(word):\n",
    "    return f\"{word.upper()}!\""
   ]
  },
  {
   "cell_type": "code",
   "execution_count": 53,
   "id": "98d68b41",
   "metadata": {},
   "outputs": [
    {
     "data": {
      "text/plain": [
       "'GREEN!'"
      ]
     },
     "execution_count": 53,
     "metadata": {},
     "output_type": "execute_result"
    }
   ],
   "source": [
    "yell('green')"
   ]
  },
  {
   "cell_type": "code",
   "execution_count": 56,
   "id": "83060134",
   "metadata": {},
   "outputs": [
    {
     "name": "stdout",
     "output_type": "stream",
     "text": [
      "1\n"
     ]
    }
   ],
   "source": [
    "def sum_odd_numbers(numbers):\n",
    "    total = 0\n",
    "    for num in numbers:\n",
    "        if num % 2 != 0:\n",
    "            total += num\n",
    "        return total\n",
    "print(sum_odd_numbers([1,2,3,4,5,6,7,8]))"
   ]
  },
  {
   "cell_type": "code",
   "execution_count": 60,
   "id": "db606e1d",
   "metadata": {},
   "outputs": [
    {
     "name": "stdout",
     "output_type": "stream",
     "text": [
      "16\n"
     ]
    }
   ],
   "source": [
    "def sum_odd_numbers(numbers):\n",
    "    total = 0\n",
    "    for num in numbers:\n",
    "        if num % 2 != 0:\n",
    "             total += num\n",
    "    return total\n",
    "print(sum_odd_numbers([1,2,3,4,5,6,7,8]))\n",
    "      "
   ]
  },
  {
   "cell_type": "code",
   "execution_count": 61,
   "id": "bf77f369",
   "metadata": {},
   "outputs": [
    {
     "name": "stdout",
     "output_type": "stream",
     "text": [
      "False\n",
      "True\n"
     ]
    }
   ],
   "source": [
    "def is_odd_number(num):\n",
    "    if num % 2 != 0:\n",
    "        return True\n",
    "    else:\n",
    "        return False\n",
    "print(is_odd_number(4))\n",
    "print(is_odd_number(9))"
   ]
  },
  {
   "cell_type": "code",
   "execution_count": 62,
   "id": "e8cb5d38",
   "metadata": {},
   "outputs": [
    {
     "name": "stdout",
     "output_type": "stream",
     "text": [
      "False\n",
      "True\n"
     ]
    }
   ],
   "source": [
    "def is_odd_number(num):\n",
    "    if num % 2 != 0:\n",
    "        return True\n",
    "    return False\n",
    "print(is_odd_number(4))\n",
    "print(is_odd_number(9))"
   ]
  },
  {
   "cell_type": "code",
   "execution_count": 64,
   "id": "4b01521c",
   "metadata": {},
   "outputs": [],
   "source": [
    " def count_dollar_signs(word):\n",
    "    count = 0\n",
    "    for char in word:\n",
    "        if char == '$':\n",
    "            count += 1\n",
    "    return count"
   ]
  },
  {
   "cell_type": "code",
   "execution_count": 67,
   "id": "519218c4",
   "metadata": {},
   "outputs": [
    {
     "data": {
      "text/plain": [
       "0"
      ]
     },
     "execution_count": 67,
     "metadata": {},
     "output_type": "execute_result"
    }
   ],
   "source": [
    "count_dollar_signs('money')"
   ]
  },
  {
   "cell_type": "code",
   "execution_count": 68,
   "id": "49d4bf6a",
   "metadata": {},
   "outputs": [],
   "source": [
    "def count_dollar_signs(word):\n",
    "    count = 0\n",
    "    for char in word:\n",
    "        if char == '$':\n",
    "            count += 1\n",
    "        return count"
   ]
  },
  {
   "cell_type": "code",
   "execution_count": 69,
   "id": "fedbdde6",
   "metadata": {},
   "outputs": [
    {
     "data": {
      "text/plain": [
       "0"
      ]
     },
     "execution_count": 69,
     "metadata": {},
     "output_type": "execute_result"
    }
   ],
   "source": [
    "count_dollar_signs('money')"
   ]
  },
  {
   "cell_type": "code",
   "execution_count": 72,
   "id": "4a330896",
   "metadata": {},
   "outputs": [
    {
     "name": "stdout",
     "output_type": "stream",
     "text": [
      "8\n",
      "81\n"
     ]
    }
   ],
   "source": [
    "def exponent(num, power):\n",
    "    return num ** power\n",
    "print(exponent(2,3))\n",
    "print(exponent(3,4))"
   ]
  },
  {
   "cell_type": "code",
   "execution_count": 74,
   "id": "3d7b8e47",
   "metadata": {},
   "outputs": [
    {
     "name": "stdout",
     "output_type": "stream",
     "text": [
      "8\n",
      "9\n"
     ]
    }
   ],
   "source": [
    "def exponent(num, power = 2):\n",
    "    return num ** power\n",
    "print(exponent(2,3))\n",
    "print(exponent(3))"
   ]
  },
  {
   "cell_type": "code",
   "execution_count": 75,
   "id": "6db4bc8b",
   "metadata": {},
   "outputs": [
    {
     "name": "stdout",
     "output_type": "stream",
     "text": [
      "8\n",
      "243\n",
      "16807\n"
     ]
    }
   ],
   "source": [
    "def exponent(num, power = 5):\n",
    "    return num ** power\n",
    "print(exponent(2,3))\n",
    "print(exponent(3))\n",
    "print(exponent(7))"
   ]
  },
  {
   "cell_type": "code",
   "execution_count": 76,
   "id": "e308cf03",
   "metadata": {},
   "outputs": [],
   "source": [
    "def add(a=20, b=40):\n",
    "    return a+b"
   ]
  },
  {
   "cell_type": "code",
   "execution_count": 77,
   "id": "902c2cae",
   "metadata": {},
   "outputs": [
    {
     "data": {
      "text/plain": [
       "60"
      ]
     },
     "execution_count": 77,
     "metadata": {},
     "output_type": "execute_result"
    }
   ],
   "source": [
    "add()"
   ]
  },
  {
   "cell_type": "code",
   "execution_count": 78,
   "id": "a05306de",
   "metadata": {},
   "outputs": [
    {
     "data": {
      "text/plain": [
       "80"
      ]
     },
     "execution_count": 78,
     "metadata": {},
     "output_type": "execute_result"
    }
   ],
   "source": [
    "add(50,30)"
   ]
  },
  {
   "cell_type": "code",
   "execution_count": 79,
   "id": "0910f7d3",
   "metadata": {},
   "outputs": [],
   "source": [
    "def show_information(first_name=\"ABU\", is_moderator=False):\n",
    "    if first_name == \"ABU\" and is_moderator:\n",
    "        return 'Welcome back moderator ABU!'\n",
    "    elif first_name == \"ABU\":\n",
    "        return \"I really thought you are a moderator...\"\n",
    "    return f\"Hello {first_name}!\""
   ]
  },
  {
   "cell_type": "code",
   "execution_count": 80,
   "id": "8313926d",
   "metadata": {},
   "outputs": [
    {
     "data": {
      "text/plain": [
       "'I really thought you are a moderator...'"
      ]
     },
     "execution_count": 80,
     "metadata": {},
     "output_type": "execute_result"
    }
   ],
   "source": [
    "show_information()"
   ]
  },
  {
   "cell_type": "code",
   "execution_count": 81,
   "id": "88dd0ed2",
   "metadata": {},
   "outputs": [
    {
     "data": {
      "text/plain": [
       "'Welcome back moderator ABU!'"
      ]
     },
     "execution_count": 81,
     "metadata": {},
     "output_type": "execute_result"
    }
   ],
   "source": [
    "show_information(is_moderator=True)"
   ]
  },
  {
   "cell_type": "code",
   "execution_count": 82,
   "id": "7ae7f9e0",
   "metadata": {},
   "outputs": [
    {
     "data": {
      "text/plain": [
       "'I really thought you are a moderator...'"
      ]
     },
     "execution_count": 82,
     "metadata": {},
     "output_type": "execute_result"
    }
   ],
   "source": [
    "show_information(is_moderator=False)"
   ]
  },
  {
   "cell_type": "code",
   "execution_count": 84,
   "id": "32bf1cf8",
   "metadata": {},
   "outputs": [
    {
     "data": {
      "text/plain": [
       "'I really thought you are a moderator...'"
      ]
     },
     "execution_count": 84,
     "metadata": {},
     "output_type": "execute_result"
    }
   ],
   "source": [
    "show_information('ABU')"
   ]
  },
  {
   "cell_type": "code",
   "execution_count": 85,
   "id": "092a6396",
   "metadata": {},
   "outputs": [
    {
     "data": {
      "text/plain": [
       "'Hello ARIB!'"
      ]
     },
     "execution_count": 85,
     "metadata": {},
     "output_type": "execute_result"
    }
   ],
   "source": [
    "show_information('ARIB')"
   ]
  },
  {
   "cell_type": "code",
   "execution_count": 86,
   "id": "f5f16ded",
   "metadata": {},
   "outputs": [],
   "source": [
    "def math(a,b, fn=add):\n",
    "    return fn(a,b)"
   ]
  },
  {
   "cell_type": "code",
   "execution_count": 87,
   "id": "ffb98d66",
   "metadata": {},
   "outputs": [
    {
     "data": {
      "text/plain": [
       "4"
      ]
     },
     "execution_count": 87,
     "metadata": {},
     "output_type": "execute_result"
    }
   ],
   "source": [
    "math(2,2)"
   ]
  },
  {
   "cell_type": "code",
   "execution_count": 91,
   "id": "c9343ca4",
   "metadata": {},
   "outputs": [],
   "source": [
    "def subtract(a,b):\n",
    "    return a-b"
   ]
  },
  {
   "cell_type": "code",
   "execution_count": 92,
   "id": "e3a49409",
   "metadata": {},
   "outputs": [
    {
     "data": {
      "text/plain": [
       "2"
      ]
     },
     "execution_count": 92,
     "metadata": {},
     "output_type": "execute_result"
    }
   ],
   "source": [
    "subtract(5,3)"
   ]
  },
  {
   "cell_type": "code",
   "execution_count": 93,
   "id": "9ed87123",
   "metadata": {},
   "outputs": [
    {
     "data": {
      "text/plain": [
       "0"
      ]
     },
     "execution_count": 93,
     "metadata": {},
     "output_type": "execute_result"
    }
   ],
   "source": [
    "math(2,2, subtract)"
   ]
  },
  {
   "cell_type": "code",
   "execution_count": 94,
   "id": "3cbe950d",
   "metadata": {},
   "outputs": [
    {
     "data": {
      "text/plain": [
       "-1"
      ]
     },
     "execution_count": 94,
     "metadata": {},
     "output_type": "execute_result"
    }
   ],
   "source": [
    "subtract(2,3)"
   ]
  },
  {
   "cell_type": "code",
   "execution_count": 95,
   "id": "5d750eea",
   "metadata": {},
   "outputs": [
    {
     "data": {
      "text/plain": [
       "1.0"
      ]
     },
     "execution_count": 95,
     "metadata": {},
     "output_type": "execute_result"
    }
   ],
   "source": [
    "math(2,2, divide)"
   ]
  },
  {
   "cell_type": "code",
   "execution_count": 96,
   "id": "d13d03a4",
   "metadata": {},
   "outputs": [],
   "source": [
    "def speak(animal=\"dog\"):\n",
    "    if animal == \"pig\":\n",
    "        return \"oink\"\n",
    "    elif animal == \"duck\":\n",
    "         return \"quack\"\n",
    "    elif animal == \"cat\":\n",
    "        return \"meow\"\n",
    "    elif animal == \"dog\":\n",
    "        return \"woof\"\n",
    "    else:\n",
    "        return \"?\""
   ]
  },
  {
   "cell_type": "code",
   "execution_count": 97,
   "id": "0bcf1c9a",
   "metadata": {},
   "outputs": [
    {
     "data": {
      "text/plain": [
       "'woof'"
      ]
     },
     "execution_count": 97,
     "metadata": {},
     "output_type": "execute_result"
    }
   ],
   "source": [
    "speak()"
   ]
  },
  {
   "cell_type": "code",
   "execution_count": 98,
   "id": "7adf36b7",
   "metadata": {},
   "outputs": [
    {
     "data": {
      "text/plain": [
       "'oink'"
      ]
     },
     "execution_count": 98,
     "metadata": {},
     "output_type": "execute_result"
    }
   ],
   "source": [
    "speak(\"pig\")"
   ]
  },
  {
   "cell_type": "code",
   "execution_count": 99,
   "id": "3bc993c1",
   "metadata": {},
   "outputs": [],
   "source": [
    "noises = {\n",
    "    \"dog\": \"woof\", \n",
    "    \"pig\": \"oink\", \n",
    "    \"duck\": \"quack\", \n",
    "    \"cat\": \"meow\"\n",
    "}\n"
   ]
  },
  {
   "cell_type": "code",
   "execution_count": 100,
   "id": "79f8dc0a",
   "metadata": {},
   "outputs": [
    {
     "data": {
      "text/plain": [
       "'meow'"
      ]
     },
     "execution_count": 100,
     "metadata": {},
     "output_type": "execute_result"
    }
   ],
   "source": [
    "speak(\"cat\")"
   ]
  },
  {
   "cell_type": "code",
   "execution_count": 104,
   "id": "79a4f640",
   "metadata": {},
   "outputs": [],
   "source": [
    "def speak(animal=\"dog\"):\n",
    "    noises = {\"dog\": \"woof\", \"pig\": \"oink\", \"duck\": \"quack\", \"cat\": \"meow\"}\n",
    "    noise = noises.get(animal)\n",
    "    if noise:\n",
    "        return noise\n",
    "    return \"Come back later\""
   ]
  },
  {
   "cell_type": "code",
   "execution_count": 105,
   "id": "dd5345b6",
   "metadata": {},
   "outputs": [
    {
     "data": {
      "text/plain": [
       "'woof'"
      ]
     },
     "execution_count": 105,
     "metadata": {},
     "output_type": "execute_result"
    }
   ],
   "source": [
    "speak()"
   ]
  },
  {
   "cell_type": "code",
   "execution_count": 106,
   "id": "df1af56a",
   "metadata": {},
   "outputs": [
    {
     "data": {
      "text/plain": [
       "'Come back later'"
      ]
     },
     "execution_count": 106,
     "metadata": {},
     "output_type": "execute_result"
    }
   ],
   "source": [
    "speak(\"goat\")"
   ]
  },
  {
   "cell_type": "code",
   "execution_count": 109,
   "id": "be76cf89",
   "metadata": {},
   "outputs": [],
   "source": [
    "def speak(animal='dog'):\n",
    "    noises = {'pig':'oink', 'duck':'quack', 'cat':'meow', 'dog':'woof'}\n",
    "    return noises.get(animal, '?')"
   ]
  },
  {
   "cell_type": "code",
   "execution_count": 110,
   "id": "10a5538b",
   "metadata": {},
   "outputs": [
    {
     "data": {
      "text/plain": [
       "'?'"
      ]
     },
     "execution_count": 110,
     "metadata": {},
     "output_type": "execute_result"
    }
   ],
   "source": [
    "speak('rat')"
   ]
  },
  {
   "cell_type": "code",
   "execution_count": 2,
   "id": "6231a4f6",
   "metadata": {},
   "outputs": [
    {
     "data": {
      "text/plain": [
       "'Hello ABU'"
      ]
     },
     "execution_count": 2,
     "metadata": {},
     "output_type": "execute_result"
    }
   ],
   "source": [
    "name = 'ABU'\n",
    "\n",
    "def say_hello():\n",
    "    return f'Hello {name}'\n",
    "    \n",
    "say_hello()"
   ]
  },
  {
   "cell_type": "code",
   "execution_count": 3,
   "id": "c8093879",
   "metadata": {},
   "outputs": [
    {
     "data": {
      "text/plain": [
       "'Hello ABU'"
      ]
     },
     "execution_count": 3,
     "metadata": {},
     "output_type": "execute_result"
    }
   ],
   "source": [
    "\n",
    "\n",
    "def say_hello():\n",
    "    name = 'ABU'\n",
    "    return f'Hello {name}'\n",
    "    \n",
    "say_hello()"
   ]
  },
  {
   "cell_type": "code",
   "execution_count": 4,
   "id": "00e519b7",
   "metadata": {},
   "outputs": [
    {
     "name": "stdout",
     "output_type": "stream",
     "text": [
      "ABU\n"
     ]
    }
   ],
   "source": [
    "def say_hello():\n",
    "    name = 'ABU'\n",
    "    return f'Hello {name}'\n",
    "    \n",
    "say_hello()\n",
    "print(name)"
   ]
  },
  {
   "cell_type": "code",
   "execution_count": 7,
   "id": "b85466c7",
   "metadata": {},
   "outputs": [
    {
     "name": "stdout",
     "output_type": "stream",
     "text": [
      "hello world\n"
     ]
    }
   ],
   "source": [
    "print(\"hello world\")"
   ]
  },
  {
   "cell_type": "code",
   "execution_count": 5,
   "id": "01ba3e7e",
   "metadata": {},
   "outputs": [
    {
     "ename": "UnboundLocalError",
     "evalue": "local variable 'total' referenced before assignment",
     "output_type": "error",
     "traceback": [
      "\u001b[1;31m---------------------------------------------------------------------------\u001b[0m",
      "\u001b[1;31mUnboundLocalError\u001b[0m                         Traceback (most recent call last)",
      "\u001b[1;32m~\\AppData\\Local\\Temp/ipykernel_2620/3154425804.py\u001b[0m in \u001b[0;36m<module>\u001b[1;34m\u001b[0m\n\u001b[0;32m      3\u001b[0m     \u001b[0mtotal\u001b[0m \u001b[1;33m+=\u001b[0m \u001b[1;36m1\u001b[0m\u001b[1;33m\u001b[0m\u001b[1;33m\u001b[0m\u001b[0m\n\u001b[0;32m      4\u001b[0m     \u001b[1;32mreturn\u001b[0m \u001b[0mtotal\u001b[0m\u001b[1;33m\u001b[0m\u001b[1;33m\u001b[0m\u001b[0m\n\u001b[1;32m----> 5\u001b[1;33m \u001b[0mincrement\u001b[0m\u001b[1;33m(\u001b[0m\u001b[1;33m)\u001b[0m\u001b[1;33m\u001b[0m\u001b[1;33m\u001b[0m\u001b[0m\n\u001b[0m",
      "\u001b[1;32m~\\AppData\\Local\\Temp/ipykernel_2620/3154425804.py\u001b[0m in \u001b[0;36mincrement\u001b[1;34m()\u001b[0m\n\u001b[0;32m      1\u001b[0m \u001b[0mtotal\u001b[0m \u001b[1;33m=\u001b[0m \u001b[1;36m0\u001b[0m\u001b[1;33m\u001b[0m\u001b[1;33m\u001b[0m\u001b[0m\n\u001b[0;32m      2\u001b[0m \u001b[1;32mdef\u001b[0m \u001b[0mincrement\u001b[0m\u001b[1;33m(\u001b[0m\u001b[1;33m)\u001b[0m\u001b[1;33m:\u001b[0m\u001b[1;33m\u001b[0m\u001b[1;33m\u001b[0m\u001b[0m\n\u001b[1;32m----> 3\u001b[1;33m     \u001b[0mtotal\u001b[0m \u001b[1;33m+=\u001b[0m \u001b[1;36m1\u001b[0m\u001b[1;33m\u001b[0m\u001b[1;33m\u001b[0m\u001b[0m\n\u001b[0m\u001b[0;32m      4\u001b[0m     \u001b[1;32mreturn\u001b[0m \u001b[0mtotal\u001b[0m\u001b[1;33m\u001b[0m\u001b[1;33m\u001b[0m\u001b[0m\n\u001b[0;32m      5\u001b[0m \u001b[0mincrement\u001b[0m\u001b[1;33m(\u001b[0m\u001b[1;33m)\u001b[0m\u001b[1;33m\u001b[0m\u001b[1;33m\u001b[0m\u001b[0m\n",
      "\u001b[1;31mUnboundLocalError\u001b[0m: local variable 'total' referenced before assignment"
     ]
    }
   ],
   "source": [
    "total = 0\n",
    "def increment():\n",
    "    total += 1\n",
    "    return total\n",
    "increment()"
   ]
  },
  {
   "cell_type": "code",
   "execution_count": 6,
   "id": "206a8175",
   "metadata": {},
   "outputs": [
    {
     "data": {
      "text/plain": [
       "1"
      ]
     },
     "execution_count": 6,
     "metadata": {},
     "output_type": "execute_result"
    }
   ],
   "source": [
    "total = 0\n",
    "def increment():\n",
    "    global total\n",
    "    total += 1\n",
    "    return total\n",
    "increment()"
   ]
  },
  {
   "cell_type": "code",
   "execution_count": 7,
   "id": "394cc218",
   "metadata": {},
   "outputs": [
    {
     "name": "stdout",
     "output_type": "stream",
     "text": [
      "Rusty\n"
     ]
    }
   ],
   "source": [
    "name = \"Rusty\"\n",
    "def greet():\n",
    "    print(name)\n",
    "greet()"
   ]
  },
  {
   "cell_type": "code",
   "execution_count": 8,
   "id": "4ecd4923",
   "metadata": {},
   "outputs": [
    {
     "data": {
      "text/plain": [
       "'Rusty'"
      ]
     },
     "execution_count": 8,
     "metadata": {},
     "output_type": "execute_result"
    }
   ],
   "source": [
    "name = \"Rusty\"\n",
    "def greet():\n",
    "    return(name)\n",
    "greet()"
   ]
  },
  {
   "cell_type": "code",
   "execution_count": 9,
   "id": "48158f1c",
   "metadata": {},
   "outputs": [
    {
     "name": "stdout",
     "output_type": "stream",
     "text": [
      "Rusty\n"
     ]
    }
   ],
   "source": [
    "name = \"Rusty\"\n",
    "def greet():\n",
    "    return(name)\n",
    "print(greet())"
   ]
  },
  {
   "cell_type": "code",
   "execution_count": 12,
   "id": "34318290",
   "metadata": {},
   "outputs": [
    {
     "name": "stdout",
     "output_type": "stream",
     "text": [
      "Steele\n"
     ]
    }
   ],
   "source": [
    "name = \"Rusty\"\n",
    "def greet():\n",
    "    name = 'Steele'\n",
    "    print(name)\n",
    "greet()"
   ]
  },
  {
   "cell_type": "code",
   "execution_count": 13,
   "id": "ff80d020",
   "metadata": {},
   "outputs": [
    {
     "ename": "UnboundLocalError",
     "evalue": "local variable 'name' referenced before assignment",
     "output_type": "error",
     "traceback": [
      "\u001b[1;31m---------------------------------------------------------------------------\u001b[0m",
      "\u001b[1;31mUnboundLocalError\u001b[0m                         Traceback (most recent call last)",
      "\u001b[1;32m~\\AppData\\Local\\Temp/ipykernel_2620/3839398808.py\u001b[0m in \u001b[0;36m<module>\u001b[1;34m\u001b[0m\n\u001b[0;32m      3\u001b[0m     \u001b[0mname\u001b[0m \u001b[1;33m+=\u001b[0m \u001b[1;34m'Steele'\u001b[0m\u001b[1;33m\u001b[0m\u001b[1;33m\u001b[0m\u001b[0m\n\u001b[0;32m      4\u001b[0m     \u001b[0mprint\u001b[0m\u001b[1;33m(\u001b[0m\u001b[0mname\u001b[0m\u001b[1;33m)\u001b[0m\u001b[1;33m\u001b[0m\u001b[1;33m\u001b[0m\u001b[0m\n\u001b[1;32m----> 5\u001b[1;33m \u001b[0mgreet\u001b[0m\u001b[1;33m(\u001b[0m\u001b[1;33m)\u001b[0m\u001b[1;33m\u001b[0m\u001b[1;33m\u001b[0m\u001b[0m\n\u001b[0m",
      "\u001b[1;32m~\\AppData\\Local\\Temp/ipykernel_2620/3839398808.py\u001b[0m in \u001b[0;36mgreet\u001b[1;34m()\u001b[0m\n\u001b[0;32m      1\u001b[0m \u001b[0mname\u001b[0m \u001b[1;33m=\u001b[0m \u001b[1;34m\"Rusty\"\u001b[0m\u001b[1;33m\u001b[0m\u001b[1;33m\u001b[0m\u001b[0m\n\u001b[0;32m      2\u001b[0m \u001b[1;32mdef\u001b[0m \u001b[0mgreet\u001b[0m\u001b[1;33m(\u001b[0m\u001b[1;33m)\u001b[0m\u001b[1;33m:\u001b[0m\u001b[1;33m\u001b[0m\u001b[1;33m\u001b[0m\u001b[0m\n\u001b[1;32m----> 3\u001b[1;33m     \u001b[0mname\u001b[0m \u001b[1;33m+=\u001b[0m \u001b[1;34m'Steele'\u001b[0m\u001b[1;33m\u001b[0m\u001b[1;33m\u001b[0m\u001b[0m\n\u001b[0m\u001b[0;32m      4\u001b[0m     \u001b[0mprint\u001b[0m\u001b[1;33m(\u001b[0m\u001b[0mname\u001b[0m\u001b[1;33m)\u001b[0m\u001b[1;33m\u001b[0m\u001b[1;33m\u001b[0m\u001b[0m\n\u001b[0;32m      5\u001b[0m \u001b[0mgreet\u001b[0m\u001b[1;33m(\u001b[0m\u001b[1;33m)\u001b[0m\u001b[1;33m\u001b[0m\u001b[1;33m\u001b[0m\u001b[0m\n",
      "\u001b[1;31mUnboundLocalError\u001b[0m: local variable 'name' referenced before assignment"
     ]
    }
   ],
   "source": [
    "name = \"Rusty\"\n",
    "def greet():\n",
    "    name += 'Steele'\n",
    "    print(name)\n",
    "greet()"
   ]
  },
  {
   "cell_type": "code",
   "execution_count": 15,
   "id": "d86bb2bf",
   "metadata": {},
   "outputs": [
    {
     "name": "stdout",
     "output_type": "stream",
     "text": [
      "Rusty Steele\n"
     ]
    }
   ],
   "source": [
    "name = \"Rusty\"\n",
    "def greet():\n",
    "    name = 'Rusty Steele'\n",
    "    print(name)\n",
    "greet()"
   ]
  },
  {
   "cell_type": "code",
   "execution_count": 17,
   "id": "7d1c963a",
   "metadata": {},
   "outputs": [
    {
     "name": "stdout",
     "output_type": "stream",
     "text": [
      "Rusty Steele\n"
     ]
    }
   ],
   "source": [
    "name = \"Rusty\"\n",
    "def greet():\n",
    "    global name\n",
    "    name += ' Steele'\n",
    "    print(name)\n",
    "greet()"
   ]
  },
  {
   "cell_type": "code",
   "execution_count": 19,
   "id": "56b2b279",
   "metadata": {},
   "outputs": [],
   "source": [
    "def outer():\n",
    "    count = 0\n",
    "    def inner():\n",
    "        nonlocal count\n",
    "        count += 1\n",
    "        return count\n",
    "    return inner\n"
   ]
  },
  {
   "cell_type": "code",
   "execution_count": 22,
   "id": "7a54abfa",
   "metadata": {},
   "outputs": [],
   "source": [
    "def outer():\n",
    "    count = 0\n",
    "    def inner():\n",
    "        \n",
    "        count += 1\n",
    "        return count\n",
    "    return inner\n"
   ]
  },
  {
   "cell_type": "code",
   "execution_count": 24,
   "id": "8f45b0e7",
   "metadata": {},
   "outputs": [
    {
     "data": {
      "text/plain": [
       "\"print(value, ..., sep=' ', end='\\\\n', file=sys.stdout, flush=False)\\n\\nPrints the values to a stream, or to sys.stdout by default.\\nOptional keyword arguments:\\nfile:  a file-like object (stream); defaults to the current sys.stdout.\\nsep:   string inserted between values, default a space.\\nend:   string appended after the last value, default a newline.\\nflush: whether to forcibly flush the stream.\""
      ]
     },
     "execution_count": 24,
     "metadata": {},
     "output_type": "execute_result"
    }
   ],
   "source": [
    " print.__doc__"
   ]
  },
  {
   "cell_type": "code",
   "execution_count": 26,
   "id": "dbdaf420",
   "metadata": {},
   "outputs": [
    {
     "ename": "NameError",
     "evalue": "name 'random' is not defined",
     "output_type": "error",
     "traceback": [
      "\u001b[1;31m---------------------------------------------------------------------------\u001b[0m",
      "\u001b[1;31mNameError\u001b[0m                                 Traceback (most recent call last)",
      "\u001b[1;32m~\\AppData\\Local\\Temp/ipykernel_2620/1866078884.py\u001b[0m in \u001b[0;36m<module>\u001b[1;34m\u001b[0m\n\u001b[1;32m----> 1\u001b[1;33m \u001b[0mrandom\u001b[0m\u001b[1;33m.\u001b[0m\u001b[0mrandint\u001b[0m\u001b[1;33m.\u001b[0m\u001b[0m__doc__\u001b[0m\u001b[1;33m\u001b[0m\u001b[1;33m\u001b[0m\u001b[0m\n\u001b[0m",
      "\u001b[1;31mNameError\u001b[0m: name 'random' is not defined"
     ]
    }
   ],
   "source": [
    "random.randint.__doc__"
   ]
  },
  {
   "cell_type": "code",
   "execution_count": 27,
   "id": "9fc5aab2",
   "metadata": {},
   "outputs": [
    {
     "data": {
      "text/plain": [
       "'Remove and return item at index (default last).\\n\\nRaises IndexError if list is empty or index is out of range.'"
      ]
     },
     "execution_count": 27,
     "metadata": {},
     "output_type": "execute_result"
    }
   ],
   "source": [
    "[1,2,3].pop.__doc__"
   ]
  },
  {
   "cell_type": "code",
   "execution_count": 28,
   "id": "a22c9e8e",
   "metadata": {},
   "outputs": [
    {
     "data": {
      "text/plain": [
       "'Sort the list in ascending order and return None.\\n\\nThe sort is in-place (i.e. the list itself is modified) and stable (i.e. the\\norder of two equal elements is maintained).\\n\\nIf a key function is given, apply it once to each list item and sort them,\\nascending or descending, according to their function values.\\n\\nThe reverse flag can be set to sort in descending order.'"
      ]
     },
     "execution_count": 28,
     "metadata": {},
     "output_type": "execute_result"
    }
   ],
   "source": [
    "[1].sort.__doc__"
   ]
  },
  {
   "cell_type": "code",
   "execution_count": 29,
   "id": "408d2095",
   "metadata": {},
   "outputs": [
    {
     "ename": "NameError",
     "evalue": "name 'exponent' is not defined",
     "output_type": "error",
     "traceback": [
      "\u001b[1;31m---------------------------------------------------------------------------\u001b[0m",
      "\u001b[1;31mNameError\u001b[0m                                 Traceback (most recent call last)",
      "\u001b[1;32m~\\AppData\\Local\\Temp/ipykernel_2620/1322905959.py\u001b[0m in \u001b[0;36m<module>\u001b[1;34m\u001b[0m\n\u001b[1;32m----> 1\u001b[1;33m \u001b[0mexponent\u001b[0m\u001b[1;33m.\u001b[0m\u001b[0m__doc__\u001b[0m\u001b[1;33m\u001b[0m\u001b[1;33m\u001b[0m\u001b[0m\n\u001b[0m",
      "\u001b[1;31mNameError\u001b[0m: name 'exponent' is not defined"
     ]
    }
   ],
   "source": [
    "exponent.__doc__"
   ]
  },
  {
   "cell_type": "code",
   "execution_count": 34,
   "id": "b6413a83",
   "metadata": {},
   "outputs": [
    {
     "name": "stdout",
     "output_type": "stream",
     "text": [
      "8\n",
      "9\n",
      "49\n",
      "exponent(num, power) raises num to specified power. Power defaults to 2.\n"
     ]
    }
   ],
   "source": [
    "def exponent(num, power=2):\n",
    "    \"\"\"exponent(num, power) raises num to specified power. Power defaults to 2.\"\"\"\n",
    "    return num ** power\n",
    "print(exponent(2,3))\n",
    "print(exponent(3))\n",
    "print(exponent(7))\n",
    "\n",
    "print(exponent.__doc__)"
   ]
  },
  {
   "cell_type": "code",
   "execution_count": 35,
   "id": "9578dae5",
   "metadata": {},
   "outputs": [],
   "source": [
    "def number_compare(a,b):\n",
    "    if a > b:\n",
    "        return \"First is greater\"\n",
    "    elif b > a:\n",
    "        return \"Second is greater\"\n",
    "    return \"Numbers are equal\""
   ]
  },
  {
   "cell_type": "code",
   "execution_count": 37,
   "id": "c5e619ed",
   "metadata": {},
   "outputs": [
    {
     "ename": "NameError",
     "evalue": "name 'a' is not defined",
     "output_type": "error",
     "traceback": [
      "\u001b[1;31m---------------------------------------------------------------------------\u001b[0m",
      "\u001b[1;31mNameError\u001b[0m                                 Traceback (most recent call last)",
      "\u001b[1;32m~\\AppData\\Local\\Temp/ipykernel_2620/3880026114.py\u001b[0m in \u001b[0;36m<module>\u001b[1;34m\u001b[0m\n\u001b[1;32m----> 1\u001b[1;33m \u001b[0mnumber_compare\u001b[0m\u001b[1;33m(\u001b[0m\u001b[0ma\u001b[0m\u001b[1;33m<\u001b[0m\u001b[0mb\u001b[0m\u001b[1;33m)\u001b[0m\u001b[1;33m\u001b[0m\u001b[1;33m\u001b[0m\u001b[0m\n\u001b[0m",
      "\u001b[1;31mNameError\u001b[0m: name 'a' is not defined"
     ]
    }
   ],
   "source": [
    "number_compare(a,b)"
   ]
  },
  {
   "cell_type": "code",
   "execution_count": 1,
   "id": "6a67a94e",
   "metadata": {},
   "outputs": [],
   "source": [
    "def list_manipulation(collection, command, location, value=None):\n",
    "    if(command == \"remove\" and location == \"end\"):\n",
    "        return collection.pop()\n",
    "    elif(command == \"remove\" and location == \"beginning\"):\n",
    "        return collection.pop(0)\n",
    "    elif(command == \"add\" and location == \"beginning\"):\n",
    "        collection.insert(0,value)\n",
    "        return collection\n",
    "    elif(command == \"add\" and location == \"end\"):\n",
    "        collection.append(value)\n",
    "        return collection"
   ]
  },
  {
   "cell_type": "code",
   "execution_count": 14,
   "id": "1d93a708",
   "metadata": {},
   "outputs": [],
   "source": [
    "list_manipulation('collection', 'command', 'location')"
   ]
  },
  {
   "cell_type": "code",
   "execution_count": 18,
   "id": "6e6dbea4",
   "metadata": {},
   "outputs": [
    {
     "ename": "TypeError",
     "evalue": "list_manipulation() missing 3 required positional arguments: 'collection', 'command', and 'location'",
     "output_type": "error",
     "traceback": [
      "\u001b[1;31m---------------------------------------------------------------------------\u001b[0m",
      "\u001b[1;31mTypeError\u001b[0m                                 Traceback (most recent call last)",
      "\u001b[1;32m~\\AppData\\Local\\Temp/ipykernel_9360/1320241160.py\u001b[0m in \u001b[0;36m<module>\u001b[1;34m\u001b[0m\n\u001b[1;32m----> 1\u001b[1;33m \u001b[0mlist_manipulation\u001b[0m\u001b[1;33m(\u001b[0m \u001b[1;33m)\u001b[0m\u001b[1;33m\u001b[0m\u001b[1;33m\u001b[0m\u001b[0m\n\u001b[0m",
      "\u001b[1;31mTypeError\u001b[0m: list_manipulation() missing 3 required positional arguments: 'collection', 'command', and 'location'"
     ]
    }
   ],
   "source": [
    "list_manipulation( )"
   ]
  },
  {
   "cell_type": "code",
   "execution_count": 23,
   "id": "00b42be1",
   "metadata": {},
   "outputs": [
    {
     "data": {
      "text/plain": [
       "'Remove and return item at index (default last).\\n\\nRaises IndexError if list is empty or index is out of range.'"
      ]
     },
     "execution_count": 23,
     "metadata": {},
     "output_type": "execute_result"
    }
   ],
   "source": [
    "[1,2,3].pop.__doc__"
   ]
  },
  {
   "cell_type": "code",
   "execution_count": 24,
   "id": "79573f78",
   "metadata": {},
   "outputs": [],
   "source": [
    "def intersection(l1, l2):\n",
    "    in_common = []\n",
    "    for val in l1:\n",
    "        if val in l2:\n",
    "            in_common.append(val)\n",
    "    return in_common\n"
   ]
  },
  {
   "cell_type": "code",
   "execution_count": 27,
   "id": "d4d2be4b",
   "metadata": {},
   "outputs": [
    {
     "ename": "TypeError",
     "evalue": "'int' object is not iterable",
     "output_type": "error",
     "traceback": [
      "\u001b[1;31m---------------------------------------------------------------------------\u001b[0m",
      "\u001b[1;31mTypeError\u001b[0m                                 Traceback (most recent call last)",
      "\u001b[1;32m~\\AppData\\Local\\Temp/ipykernel_9360/1135883209.py\u001b[0m in \u001b[0;36m<module>\u001b[1;34m\u001b[0m\n\u001b[1;32m----> 1\u001b[1;33m \u001b[0mintersection\u001b[0m\u001b[1;33m(\u001b[0m\u001b[1;36m11\u001b[0m\u001b[1;33m,\u001b[0m \u001b[1;36m12\u001b[0m\u001b[1;33m)\u001b[0m\u001b[1;33m\u001b[0m\u001b[1;33m\u001b[0m\u001b[0m\n\u001b[0m",
      "\u001b[1;32m~\\AppData\\Local\\Temp/ipykernel_9360/1324470316.py\u001b[0m in \u001b[0;36mintersection\u001b[1;34m(l1, l2)\u001b[0m\n\u001b[0;32m      1\u001b[0m \u001b[1;32mdef\u001b[0m \u001b[0mintersection\u001b[0m\u001b[1;33m(\u001b[0m\u001b[0ml1\u001b[0m\u001b[1;33m,\u001b[0m \u001b[0ml2\u001b[0m\u001b[1;33m)\u001b[0m\u001b[1;33m:\u001b[0m\u001b[1;33m\u001b[0m\u001b[1;33m\u001b[0m\u001b[0m\n\u001b[0;32m      2\u001b[0m     \u001b[0min_common\u001b[0m \u001b[1;33m=\u001b[0m \u001b[1;33m[\u001b[0m\u001b[1;33m]\u001b[0m\u001b[1;33m\u001b[0m\u001b[1;33m\u001b[0m\u001b[0m\n\u001b[1;32m----> 3\u001b[1;33m     \u001b[1;32mfor\u001b[0m \u001b[0mval\u001b[0m \u001b[1;32min\u001b[0m \u001b[0ml1\u001b[0m\u001b[1;33m:\u001b[0m\u001b[1;33m\u001b[0m\u001b[1;33m\u001b[0m\u001b[0m\n\u001b[0m\u001b[0;32m      4\u001b[0m         \u001b[1;32mif\u001b[0m \u001b[0mval\u001b[0m \u001b[1;32min\u001b[0m \u001b[0ml2\u001b[0m\u001b[1;33m:\u001b[0m\u001b[1;33m\u001b[0m\u001b[1;33m\u001b[0m\u001b[0m\n\u001b[0;32m      5\u001b[0m             \u001b[0min_common\u001b[0m\u001b[1;33m.\u001b[0m\u001b[0mappend\u001b[0m\u001b[1;33m(\u001b[0m\u001b[0mval\u001b[0m\u001b[1;33m)\u001b[0m\u001b[1;33m\u001b[0m\u001b[1;33m\u001b[0m\u001b[0m\n",
      "\u001b[1;31mTypeError\u001b[0m: 'int' object is not iterable"
     ]
    }
   ],
   "source": [
    "intersection(11, 12)"
   ]
  },
  {
   "cell_type": "code",
   "execution_count": null,
   "id": "06371fb2",
   "metadata": {},
   "outputs": [],
   "source": []
  }
 ],
 "metadata": {
  "kernelspec": {
   "display_name": "Python 3 (ipykernel)",
   "language": "python",
   "name": "python3"
  },
  "language_info": {
   "codemirror_mode": {
    "name": "ipython",
    "version": 3
   },
   "file_extension": ".py",
   "mimetype": "text/x-python",
   "name": "python",
   "nbconvert_exporter": "python",
   "pygments_lexer": "ipython3",
   "version": "3.9.7"
  }
 },
 "nbformat": 4,
 "nbformat_minor": 5
}
