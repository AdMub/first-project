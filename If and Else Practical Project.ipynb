{
 "cells": [
  {
   "cell_type": "code",
   "execution_count": 13,
   "id": "09108209",
   "metadata": {},
   "outputs": [
    {
     "name": "stdout",
     "output_type": "stream",
     "text": [
      "red........\n",
      "blue.......\n",
      "green......\n",
      "Player 1, play your card: yellow\n",
      "Player 2, play your card: blue\n",
      "Game-Over!\n"
     ]
    }
   ],
   "source": [
    "print(\"red........\")\n",
    "print(\"blue.......\")\n",
    "print(\"green......\")\n",
    "\n",
    "AdMub = input(\"Player 1, play your card: \")\n",
    "Jimlad = input(\"Player 2, play your card: \")\n",
    "\n",
    "if AdMub == \"red\" and Jimlad == \"blue\":\n",
    "    print(\"AdMub wins!\")\n",
    "elif AdMub == \"red\" and Jimlad == \"green\":\n",
    "    print(\"AdMub wins!\")\n",
    "elif AdMub == \"blue\" and Jimlad == \"green\": \n",
    "    print(\"AdMub wins!\")\n",
    "elif AdMub == \"blue\" and Jimlad == \"red\": \n",
    "    print(\"Jimlad wins!\")\n",
    "elif AdMub == \"green\" and Jimlad == \"red\": \n",
    "    print(\"Jimlad wins!\")\n",
    "elif AdMub == \"green\" and Jimlad == \"blue\": \n",
    "    print(\"Jimlad wins!\")\n",
    "    \n",
    "elif AdMub == Jimlad:\n",
    "    print(\"It's a draw!\")\n",
    "else:\n",
    "    print(\"Game-Over!\")"
   ]
  },
  {
   "cell_type": "code",
   "execution_count": 27,
   "id": "a8e06754",
   "metadata": {},
   "outputs": [
    {
     "name": "stdout",
     "output_type": "stream",
     "text": [
      "red........\n",
      "blue.......\n",
      "green......\n",
      "Player 1, play your card: yellow\n",
      "Player 2, play your card: red\n",
      "Game-Over!\n"
     ]
    }
   ],
   "source": [
    "print(\"red........\")\n",
    "print(\"blue.......\")\n",
    "print(\"green......\")\n",
    "\n",
    "AdMub = input(\"Player 1, play your card: \")\n",
    "Jimlad = input(\"Player 2, play your card: \")\n",
    "\n",
    "if AdMub == Jimlad:\n",
    "    print(\"It's a draw!\")\n",
    "    \n",
    "if AdMub == \"red\":\n",
    "    if Jimlad == \"blue\":\n",
    "        print(\"AdMub wins!\")\n",
    "    if Jimlad == \"green\":\n",
    "        print(\"AdMub wins!\")\n",
    "elif AdMub == \"blue\":\n",
    "    if Jimlad == \"green\": \n",
    "        print(\"AdMub wins!\") \n",
    "    if Jimlad == \"red\":\n",
    "        print(\"Jimlad wins!\")\n",
    "elif AdMub == \"green\": \n",
    "    if Jimlad == \"blue\": \n",
    "        print(\"Jimlad wins!\") \n",
    "    if Jimlad == \"red\": \n",
    "        print(\"Jimlad wins!\")\n",
    "else:\n",
    "    print(\"Game-Over!\")\n"
   ]
  },
  {
   "cell_type": "code",
   "execution_count": 2,
   "id": "b3ffcbeb",
   "metadata": {},
   "outputs": [
    {
     "name": "stdout",
     "output_type": "stream",
     "text": [
      "red........\n",
      "blue.......\n",
      "green......\n",
      "Player 1, play your card: red\n",
      "***Fair Play!\n",
      "***Fair Play!\n",
      "***Fair Play!\n",
      "***Fair Play!\n",
      "***Fair Play!\n",
      "\n",
      "Player 2, play your card: red\n",
      "It's a draw!\n"
     ]
    }
   ],
   "source": [
    "print(\"red........\")\n",
    "print(\"blue.......\")\n",
    "print(\"green......\")\n",
    "\n",
    "AdMub = input(\"Player 1, play your card: \")\n",
    "print(\"***Fair Play!\\n\"*5)\n",
    "Jimlad = input(\"Player 2, play your card: \")\n",
    "\n",
    "if AdMub == Jimlad:\n",
    "    print(\"It's a draw!\")\n",
    "    "
   ]
  },
  {
   "cell_type": "raw",
   "id": "89133a55",
   "metadata": {},
   "source": [
    "2 +2"
   ]
  },
  {
   "cell_type": "code",
   "execution_count": 10,
   "id": "18f12581",
   "metadata": {},
   "outputs": [
    {
     "name": "stdout",
     "output_type": "stream",
     "text": [
      "red.....\n",
      "blue.....\n",
      "green....\n",
      "AdMub, play your card: red\n",
      "computer plays blue\n",
      "AdMub wins!\n"
     ]
    }
   ],
   "source": [
    "import random\n",
    "print(\"red.....\")\n",
    "print(\"blue.....\")\n",
    "print(\"green....\")\n",
    "\n",
    "\n",
    "AdMub = input(\"AdMub, play your card: \")\n",
    "rand_num = random.randint(0,2)\n",
    "if rand_num == 0:\n",
    "    computer = \"red\"\n",
    "elif rand_num == 1:\n",
    "    computer = \"blue\"\n",
    "else:\n",
    "    computer = \"green\"\n",
    "print(f\"computer plays {computer}\")\n",
    "\n",
    "if AdMub == computer:\n",
    "    print(\"Draws!\")\n",
    "elif AdMub == \"red\":\n",
    "    if computer == \"blue\":\n",
    "        print(\"AdMub wins!\")\n",
    "    if computer == \"green\":\n",
    "        print(\"AdMub wins!\")\n",
    "elif AdMub == \"blue\":\n",
    "    if computer == \"green\": \n",
    "        print(\"AdMub wins!\") \n",
    "    if computer == \"red\":\n",
    "        print(\"computer wins!\")\n",
    "elif AdMub == \"green\": \n",
    "    if computer == \"blue\": \n",
    "        print(\"computer wins!\") \n",
    "    if computer == \"red\": \n",
    "        print(\"computer wins!\")\n",
    "else:\n",
    "    print(\"Game-Over!\")\n"
   ]
  },
  {
   "cell_type": "code",
   "execution_count": 13,
   "id": "b16b38fc",
   "metadata": {},
   "outputs": [
    {
     "name": "stdout",
     "output_type": "stream",
     "text": [
      "red.....\n",
      "blue.....\n",
      "green....\n",
      "AdMub, play your card: green\n",
      "computer plays red\n",
      "computer wins!\n"
     ]
    }
   ],
   "source": [
    "import random\n",
    "print(\"red.....\")\n",
    "print(\"blue.....\")\n",
    "print(\"green....\")\n",
    "\n",
    "\n",
    "AdMub = input(\"AdMub, play your card: \")\n",
    "rand_num = random.randint(0,2)\n",
    "if rand_num == 0:\n",
    "    computer = \"red\"\n",
    "elif rand_num == 1:\n",
    "    computer = \"blue\"\n",
    "else:\n",
    "    computer = \"green\"\n",
    "print(f\"computer plays {computer}\")\n",
    "\n",
    "if AdMub == computer:\n",
    "    print(\"Draws!\")\n",
    "elif AdMub == \"red\":\n",
    "    if computer == \"blue\":\n",
    "        print(\"AdMub wins!\")\n",
    "    else:\n",
    "        print(\"AdMub wins!\")\n",
    "elif AdMub == \"blue\":\n",
    "    if computer == \"green\": \n",
    "        print(\"AdMub wins!\") \n",
    "    else:\n",
    "        print(\"computer wins!\")\n",
    "elif AdMub == \"green\": \n",
    "    if computer == \"blue\": \n",
    "        print(\"computer wins!\") \n",
    "    else: \n",
    "        print(\"computer wins!\")\n",
    "else:\n",
    "    print(\"Game-Over!\")"
   ]
  },
  {
   "cell_type": "code",
   "execution_count": 14,
   "id": "128bc32a",
   "metadata": {},
   "outputs": [
    {
     "name": "stdout",
     "output_type": "stream",
     "text": [
      "AdMub, play your card: red\n",
      "computer plays blue\n",
      "AdMub wins!\n"
     ]
    }
   ],
   "source": [
    "import random\n",
    "\n",
    "\n",
    "AdMub = input(\"AdMub, play your card: \")\n",
    "rand_num = random.randint(0,2)\n",
    "if rand_num == 0:\n",
    "    computer = \"red\"\n",
    "elif rand_num == 1:\n",
    "    computer = \"blue\"\n",
    "else:\n",
    "    computer = \"green\"\n",
    "print(f\"computer plays {computer}\")\n",
    "\n",
    "if AdMub == computer:\n",
    "    print(\"Draws!\")\n",
    "elif AdMub == \"red\":\n",
    "    if computer == \"blue\":\n",
    "        print(\"AdMub wins!\")\n",
    "    else:\n",
    "        print(\"AdMub wins!\")\n",
    "elif AdMub == \"blue\":\n",
    "    if computer == \"green\": \n",
    "        print(\"AdMub wins!\") \n",
    "    else:\n",
    "        print(\"computer wins!\")\n",
    "elif AdMub == \"green\": \n",
    "    if computer == \"blue\": \n",
    "        print(\"computer wins!\") \n",
    "    else: \n",
    "        print(\"computer wins!\")\n",
    "else:\n",
    "    print(\"Game-Over!\")"
   ]
  },
  {
   "cell_type": "code",
   "execution_count": 15,
   "id": "852f20cb",
   "metadata": {},
   "outputs": [
    {
     "name": "stdout",
     "output_type": "stream",
     "text": [
      "AdMub, play your card: yellow\n",
      "computer plays red\n",
      "Game-Over!\n"
     ]
    }
   ],
   "source": [
    "from random import randint\n",
    "\n",
    "\n",
    "AdMub = input(\"AdMub, play your card: \")\n",
    "rand_num = randint(0,2)\n",
    "if rand_num == 0:\n",
    "    computer = \"red\"\n",
    "elif rand_num == 1:\n",
    "    computer = \"blue\"\n",
    "else:\n",
    "    computer = \"green\"\n",
    "print(f\"computer plays {computer}\")\n",
    "\n",
    "if AdMub == computer:\n",
    "    print(\"Draws!\")\n",
    "elif AdMub == \"red\":\n",
    "    if computer == \"blue\":\n",
    "        print(\"AdMub wins!\")\n",
    "    else:\n",
    "        print(\"AdMub wins!\")\n",
    "elif AdMub == \"blue\":\n",
    "    if computer == \"green\": \n",
    "        print(\"AdMub wins!\") \n",
    "    else:\n",
    "        print(\"computer wins!\")\n",
    "elif AdMub == \"green\": \n",
    "    if computer == \"blue\": rand\n",
    "        print(\"computer wins!\") \n",
    "    else: \n",
    "        print(\"computer wins!\")\n",
    "else:\n",
    "    print(\"Game-Over!\")"
   ]
  },
  {
   "cell_type": "code",
   "execution_count": 18,
   "id": "918cd179",
   "metadata": {},
   "outputs": [
    {
     "ename": "KeyboardInterrupt",
     "evalue": "Interrupted by user",
     "output_type": "error",
     "traceback": [
      "\u001b[1;31m---------------------------------------------------------------------------\u001b[0m",
      "\u001b[1;31mKeyboardInterrupt\u001b[0m                         Traceback (most recent call last)",
      "\u001b[1;32m~\\AppData\\Local\\Temp/ipykernel_5912/2257364329.py\u001b[0m in \u001b[0;36m<module>\u001b[1;34m\u001b[0m\n\u001b[0;32m      1\u001b[0m \u001b[1;32mimport\u001b[0m \u001b[0mrandom\u001b[0m\u001b[1;33m\u001b[0m\u001b[1;33m\u001b[0m\u001b[0m\n\u001b[1;32m----> 2\u001b[1;33m \u001b[0mAdMub\u001b[0m \u001b[1;33m=\u001b[0m \u001b[0minput\u001b[0m\u001b[1;33m(\u001b[0m\u001b[1;34m\"AdMub, play your card: \"\u001b[0m\u001b[1;33m)\u001b[0m\u001b[1;33m\u001b[0m\u001b[1;33m\u001b[0m\u001b[0m\n\u001b[0m\u001b[0;32m      3\u001b[0m \u001b[0mrand_num\u001b[0m \u001b[1;33m=\u001b[0m \u001b[0mrandom\u001b[0m\u001b[1;33m.\u001b[0m\u001b[0mrandint\u001b[0m\u001b[1;33m(\u001b[0m\u001b[1;36m0\u001b[0m\u001b[1;33m,\u001b[0m\u001b[1;36m3\u001b[0m\u001b[1;33m)\u001b[0m\u001b[1;33m\u001b[0m\u001b[1;33m\u001b[0m\u001b[0m\n",
      "\u001b[1;32m~\\anaconda3\\lib\\site-packages\\ipykernel\\kernelbase.py\u001b[0m in \u001b[0;36mraw_input\u001b[1;34m(self, prompt)\u001b[0m\n\u001b[0;32m   1004\u001b[0m                 \u001b[1;34m\"raw_input was called, but this frontend does not support input requests.\"\u001b[0m\u001b[1;33m\u001b[0m\u001b[1;33m\u001b[0m\u001b[0m\n\u001b[0;32m   1005\u001b[0m             )\n\u001b[1;32m-> 1006\u001b[1;33m         return self._input_request(\n\u001b[0m\u001b[0;32m   1007\u001b[0m             \u001b[0mstr\u001b[0m\u001b[1;33m(\u001b[0m\u001b[0mprompt\u001b[0m\u001b[1;33m)\u001b[0m\u001b[1;33m,\u001b[0m\u001b[1;33m\u001b[0m\u001b[1;33m\u001b[0m\u001b[0m\n\u001b[0;32m   1008\u001b[0m             \u001b[0mself\u001b[0m\u001b[1;33m.\u001b[0m\u001b[0m_parent_ident\u001b[0m\u001b[1;33m[\u001b[0m\u001b[1;34m\"shell\"\u001b[0m\u001b[1;33m]\u001b[0m\u001b[1;33m,\u001b[0m\u001b[1;33m\u001b[0m\u001b[1;33m\u001b[0m\u001b[0m\n",
      "\u001b[1;32m~\\anaconda3\\lib\\site-packages\\ipykernel\\kernelbase.py\u001b[0m in \u001b[0;36m_input_request\u001b[1;34m(self, prompt, ident, parent, password)\u001b[0m\n\u001b[0;32m   1049\u001b[0m             \u001b[1;32mexcept\u001b[0m \u001b[0mKeyboardInterrupt\u001b[0m\u001b[1;33m:\u001b[0m\u001b[1;33m\u001b[0m\u001b[1;33m\u001b[0m\u001b[0m\n\u001b[0;32m   1050\u001b[0m                 \u001b[1;31m# re-raise KeyboardInterrupt, to truncate traceback\u001b[0m\u001b[1;33m\u001b[0m\u001b[1;33m\u001b[0m\u001b[0m\n\u001b[1;32m-> 1051\u001b[1;33m                 \u001b[1;32mraise\u001b[0m \u001b[0mKeyboardInterrupt\u001b[0m\u001b[1;33m(\u001b[0m\u001b[1;34m\"Interrupted by user\"\u001b[0m\u001b[1;33m)\u001b[0m \u001b[1;32mfrom\u001b[0m \u001b[1;32mNone\u001b[0m\u001b[1;33m\u001b[0m\u001b[1;33m\u001b[0m\u001b[0m\n\u001b[0m\u001b[0;32m   1052\u001b[0m             \u001b[1;32mexcept\u001b[0m \u001b[0mException\u001b[0m\u001b[1;33m:\u001b[0m\u001b[1;33m\u001b[0m\u001b[1;33m\u001b[0m\u001b[0m\n\u001b[0;32m   1053\u001b[0m                 \u001b[0mself\u001b[0m\u001b[1;33m.\u001b[0m\u001b[0mlog\u001b[0m\u001b[1;33m.\u001b[0m\u001b[0mwarning\u001b[0m\u001b[1;33m(\u001b[0m\u001b[1;34m\"Invalid Message:\"\u001b[0m\u001b[1;33m,\u001b[0m \u001b[0mexc_info\u001b[0m\u001b[1;33m=\u001b[0m\u001b[1;32mTrue\u001b[0m\u001b[1;33m)\u001b[0m\u001b[1;33m\u001b[0m\u001b[1;33m\u001b[0m\u001b[0m\n",
      "\u001b[1;31mKeyboardInterrupt\u001b[0m: Interrupted by user"
     ]
    }
   ],
   "source": [
    "import random\n",
    "AdMub = input(\"AdMub, play your card: \")\n",
    "rand_num = random.randint(0,3)"
   ]
  },
  {
   "cell_type": "code",
   "execution_count": 1,
   "id": "9de94882",
   "metadata": {},
   "outputs": [
    {
     "name": "stdout",
     "output_type": "stream",
     "text": [
      "AdMub, play your card: yellow\n",
      "Jimlad, play your card: red\n",
      "computer plays red\n",
      "Draws!\n"
     ]
    }
   ],
   "source": [
    "import random\n",
    "AdMub = input(\"AdMub, play your card: \")\n",
    "Jimlad= input(\"Jimlad, play your card: \")\n",
    "rand_num = random.randint(0,3)\n",
    "if rand_num == 0:\n",
    "    computer = \"red\"\n",
    "elif rand_num == 1:\n",
    "    computer = \"blue\"\n",
    "elif rand_num == 2:\n",
    "    computer = \"yellow\"\n",
    "else:\n",
    "    computer = \"green\"\n",
    "print(f\"computer plays {computer}\")\n",
    "if AdMub == computer:\n",
    "    print(\"Draws!\")\n",
    "elif Jimlad == computer:\n",
    "    print(\"Draws!\")\n",
    "elif AdMub == Jimlad:\n",
    "    print(\"Draws!\")\n",
    "elif AdMub == \"red\":\n",
    "    if computer == \"blue\":\n",
    "        if Jimlad == \"green\":\n",
    "            print(\"AdMub wins!\")\n",
    "    if computer == \"blue\":\n",
    "        if Jimlad == \"yellow\":\n",
    "            print(\"AdMub wins!\")\n",
    "    if computer == \"green\":\n",
    "        if Jimlad == \"Blue\":\n",
    "            print(\"AdMub wins!\")\n",
    "    if computer == \"yellow\":\n",
    "        if Jimlad == \"blue\":\n",
    "            print(\"AdMub wins!\")\n",
    "    if computer == \"green\":\n",
    "        if Jimlad == \"yellow\":\n",
    "            print(\"AdMub wins!\")\n",
    "    else:\n",
    "        print(\"AdMub wins!\")\n",
    "elif AdMub == \"blue\":\n",
    "    if computer == \"green\":\n",
    "        if Jimlad == \"red\":\n",
    "            print(\"Jimlad wins!\")\n",
    "    if computer == \"red\":\n",
    "        if Jimlad == \"yellow\":\n",
    "            print(\"computer wins!\")\n",
    "    if computer == \"green\":\n",
    "        if Jimlad == \"yellow\":\n",
    "            print(\"AdMub wins!\")\n",
    "    if computer == \"yellow\":\n",
    "        if Jimlad == \"green\":\n",
    "            print(\"AdMub wins!\")\n",
    "    if computer == \"red\":\n",
    "        if Jimlad == \"green\":\n",
    "            print(\"computer wins!\")\n",
    "    else:\n",
    "        print(\"Jimlad wins!\")\n",
    "elif AdMub == \"green\": \n",
    "    if computer == \"red\":\n",
    "        if Jimlad == \"blue\":\n",
    "            print(\"computer wins!\") \n",
    "    if computer == \"red\":\n",
    "        if Jimlad == \"yellow\":\n",
    "            print(\"computer wins!\")\n",
    "    if computer == \"blue\":\n",
    "        if Jimlad == \"yellow\":\n",
    "            print(\"computer wins!\")\n",
    "    if computer == \"yellow\":\n",
    "        if Jimlad == \"blue\":\n",
    "            print(\"Jimlad wins!\")\n",
    "    if computer == \"yellow\":\n",
    "        if Jimlad == \"red\":\n",
    "            print(\"Jimlad wins!\")\n",
    "    else: \n",
    "        print(\"Jimlad wins!\")\n",
    "elif AdMub == \"yellow\":\n",
    "    if computer == \"blue\":\n",
    "        if Jimlad == \"red\":\n",
    "            print(\"Jimlad wins!\")\n",
    "    if computer == \"blue\":\n",
    "        if Jimlad == \"green\":\n",
    "            print(\"computer wins!\")\n",
    "    if computer == \"red\":\n",
    "        if Jimlad == \"green\":\n",
    "            print(\"computer wins!\")\n",
    "    if computer == \"green\":\n",
    "        if Jimlad == \"red\":\n",
    "            print(\"Jimlad wins!\")\n",
    "    if computer == \"green\":\n",
    "        if Jimlad == \"blue\":\n",
    "            print(\"Jimlad wins!\")\n",
    "    else:\n",
    "        print(\"computer wins!\")\n",
    "else:\n",
    "    print(\"Game-Over!\")"
   ]
  },
  {
   "cell_type": "code",
   "execution_count": null,
   "id": "0dc1ded2",
   "metadata": {},
   "outputs": [],
   "source": []
  }
 ],
 "metadata": {
  "kernelspec": {
   "display_name": "Python 3 (ipykernel)",
   "language": "python",
   "name": "python3"
  },
  "language_info": {
   "codemirror_mode": {
    "name": "ipython",
    "version": 3
   },
   "file_extension": ".py",
   "mimetype": "text/x-python",
   "name": "python",
   "nbconvert_exporter": "python",
   "pygments_lexer": "ipython3",
   "version": "3.9.7"
  }
 },
 "nbformat": 4,
 "nbformat_minor": 5
}
