{
 "cells": [
  {
   "cell_type": "code",
   "execution_count": 1,
   "id": "e8b6c0ff",
   "metadata": {},
   "outputs": [],
   "source": [
    "demo_list = [\"a\", 1, 45, True, 5.66]"
   ]
  },
  {
   "cell_type": "code",
   "execution_count": 3,
   "id": "96379957",
   "metadata": {},
   "outputs": [
    {
     "data": {
      "text/plain": [
       "['a', 1, 45, True, 5.66]"
      ]
     },
     "execution_count": 3,
     "metadata": {},
     "output_type": "execute_result"
    }
   ],
   "source": [
    "demo_list"
   ]
  },
  {
   "cell_type": "raw",
   "id": "c577c933",
   "metadata": {},
   "source": []
  },
  {
   "cell_type": "code",
   "execution_count": 4,
   "id": "d1faaa01",
   "metadata": {},
   "outputs": [
    {
     "data": {
      "text/plain": [
       "5"
      ]
     },
     "execution_count": 4,
     "metadata": {},
     "output_type": "execute_result"
    }
   ],
   "source": [
    "len(demo_list)"
   ]
  },
  {
   "cell_type": "code",
   "execution_count": 5,
   "id": "9c27cca9",
   "metadata": {},
   "outputs": [],
   "source": [
    "r = range(1,10)"
   ]
  },
  {
   "cell_type": "code",
   "execution_count": 6,
   "id": "8fdf4b9f",
   "metadata": {},
   "outputs": [
    {
     "data": {
      "text/plain": [
       "range(1, 10)"
      ]
     },
     "execution_count": 6,
     "metadata": {},
     "output_type": "execute_result"
    }
   ],
   "source": [
    "r"
   ]
  },
  {
   "cell_type": "code",
   "execution_count": 7,
   "id": "4c0bb5f8",
   "metadata": {},
   "outputs": [
    {
     "data": {
      "text/plain": [
       "[1, 2, 3, 4, 5, 6, 7, 8, 9]"
      ]
     },
     "execution_count": 7,
     "metadata": {},
     "output_type": "execute_result"
    }
   ],
   "source": [
    "list(r)"
   ]
  },
  {
   "cell_type": "code",
   "execution_count": 1,
   "id": "36562d6f",
   "metadata": {},
   "outputs": [
    {
     "data": {
      "text/plain": [
       "'3'"
      ]
     },
     "execution_count": 1,
     "metadata": {},
     "output_type": "execute_result"
    }
   ],
   "source": [
    "str(3)"
   ]
  },
  {
   "cell_type": "code",
   "execution_count": 2,
   "id": "9fc30528",
   "metadata": {},
   "outputs": [
    {
     "data": {
      "text/plain": [
       "'6'"
      ]
     },
     "execution_count": 2,
     "metadata": {},
     "output_type": "execute_result"
    }
   ],
   "source": [
    "str(6)"
   ]
  },
  {
   "cell_type": "code",
   "execution_count": 3,
   "id": "ffcf2392",
   "metadata": {},
   "outputs": [],
   "source": [
    "colors = [\"red\", \"blue\", \"yellow\"]"
   ]
  },
  {
   "cell_type": "code",
   "execution_count": 4,
   "id": "bab1c469",
   "metadata": {},
   "outputs": [
    {
     "data": {
      "text/plain": [
       "'yellow'"
      ]
     },
     "execution_count": 4,
     "metadata": {},
     "output_type": "execute_result"
    }
   ],
   "source": [
    "colors[2]"
   ]
  },
  {
   "cell_type": "code",
   "execution_count": 5,
   "id": "7ce2f81d",
   "metadata": {},
   "outputs": [
    {
     "data": {
      "text/plain": [
       "'blue'"
      ]
     },
     "execution_count": 5,
     "metadata": {},
     "output_type": "execute_result"
    }
   ],
   "source": [
    "colors[-2]"
   ]
  },
  {
   "cell_type": "code",
   "execution_count": 6,
   "id": "dfded37c",
   "metadata": {},
   "outputs": [
    {
     "data": {
      "text/plain": [
       "True"
      ]
     },
     "execution_count": 6,
     "metadata": {},
     "output_type": "execute_result"
    }
   ],
   "source": [
    "\"red\" in colors"
   ]
  },
  {
   "cell_type": "code",
   "execution_count": 7,
   "id": "660a9f4f",
   "metadata": {},
   "outputs": [
    {
     "data": {
      "text/plain": [
       "False"
      ]
     },
     "execution_count": 7,
     "metadata": {},
     "output_type": "execute_result"
    }
   ],
   "source": [
    "\"purple\" in colors"
   ]
  },
  {
   "cell_type": "code",
   "execution_count": 8,
   "id": "792e98af",
   "metadata": {},
   "outputs": [
    {
     "name": "stdout",
     "output_type": "stream",
     "text": [
      "WONDERFUL!\n"
     ]
    }
   ],
   "source": [
    "if \"red\" in colors:\n",
    "    print(\"WONDERFUL!\")"
   ]
  },
  {
   "cell_type": "code",
   "execution_count": 9,
   "id": "42ec2e21",
   "metadata": {},
   "outputs": [],
   "source": [
    "if \"green\" in colors:\n",
    "    print(\"WONDERFUL!\")"
   ]
  },
  {
   "cell_type": "code",
   "execution_count": 10,
   "id": "13e2a08c",
   "metadata": {},
   "outputs": [
    {
     "name": "stdout",
     "output_type": "stream",
     "text": [
      "WONDERFUL!\n"
     ]
    }
   ],
   "source": [
    "if \"red\" in colors:\n",
    "    print(\"WONDERFUL!\")\n",
    "else:\n",
    "    print(\"NOT BAD!\")"
   ]
  },
  {
   "cell_type": "code",
   "execution_count": 11,
   "id": "0cd1dee1",
   "metadata": {},
   "outputs": [
    {
     "name": "stdout",
     "output_type": "stream",
     "text": [
      "NOT BAD!\n"
     ]
    }
   ],
   "source": [
    "if \"green\" in colors:\n",
    "    print(\"WONDERFUL!\")\n",
    "else:\n",
    "    print(\"NOT BAD!\")"
   ]
  },
  {
   "cell_type": "code",
   "execution_count": 14,
   "id": "9b5b5e19",
   "metadata": {},
   "outputs": [
    {
     "name": "stdout",
     "output_type": "stream",
     "text": [
      "magenta\n",
      "black\n",
      "white\n"
     ]
    }
   ],
   "source": [
    "colors = ['magenta','black', 'white']\n",
    "for color in colors:\n",
    "    print(color)"
   ]
  },
  {
   "cell_type": "code",
   "execution_count": 15,
   "id": "9e70ece5",
   "metadata": {},
   "outputs": [
    {
     "name": "stdout",
     "output_type": "stream",
     "text": [
      "magenta\n",
      "black\n",
      "white\n",
      "wine\n",
      "crimson \n"
     ]
    }
   ],
   "source": [
    "colors = ['magenta','black', 'white', 'wine', 'crimson ']\n",
    "i = 0\n",
    "while i < len(colors):\n",
    "    print(colors[i])\n",
    "    i += 1"
   ]
  },
  {
   "cell_type": "code",
   "execution_count": 19,
   "id": "3290a361",
   "metadata": {},
   "outputs": [
    {
     "name": "stdout",
     "output_type": "stream",
     "text": [
      "0:magenta\n",
      "1:black\n",
      "2:white\n",
      "3:wine\n",
      "4:crimson \n"
     ]
    }
   ],
   "source": [
    "colors = ['magenta','black', 'white', 'wine', 'crimson ']\n",
    "i = 0\n",
    "while i < len(colors):\n",
    "    print(f\"{i}:{colors[i]}\")\n",
    "    i += 1\n"
   ]
  },
  {
   "cell_type": "code",
   "execution_count": 22,
   "id": "f5f21c87",
   "metadata": {},
   "outputs": [],
   "source": [
    "\n",
    "people = [\"Hanna\",\"Louisa\",\"Claudia\", \"Angela\",\"Geoffrey\", \"aparna\"]\n"
   ]
  },
  {
   "cell_type": "code",
   "execution_count": 25,
   "id": "df0344d1",
   "metadata": {},
   "outputs": [
    {
     "ename": "SyntaxError",
     "evalue": "invalid syntax (Temp/ipykernel_4476/1699575429.py, line 1)",
     "output_type": "error",
     "traceback": [
      "\u001b[1;36m  File \u001b[1;32m\"C:\\Users\\user\\AppData\\Local\\Temp/ipykernel_4476/1699575429.py\"\u001b[1;36m, line \u001b[1;32m1\u001b[0m\n\u001b[1;33m    chang \"Hanna\" to \"Abu\"\u001b[0m\n\u001b[1;37m          ^\u001b[0m\n\u001b[1;31mSyntaxError\u001b[0m\u001b[1;31m:\u001b[0m invalid syntax\n"
     ]
    }
   ],
   "source": [
    "chang \"Hanna\" to \"Abu\"\n",
    "people[0]"
   ]
  },
  {
   "cell_type": "code",
   "execution_count": 26,
   "id": "e6181b2d",
   "metadata": {},
   "outputs": [],
   "source": [
    "colors = ['magenta','black', 'white', 'wine', 'crimson ']"
   ]
  },
  {
   "cell_type": "code",
   "execution_count": 27,
   "id": "21b6820a",
   "metadata": {},
   "outputs": [],
   "source": [
    "colors.append(\"red\")"
   ]
  },
  {
   "cell_type": "raw",
   "id": "40e81f1d",
   "metadata": {},
   "source": []
  },
  {
   "cell_type": "code",
   "execution_count": 28,
   "id": "3751dc03",
   "metadata": {},
   "outputs": [
    {
     "data": {
      "text/plain": [
       "['magenta', 'black', 'white', 'wine', 'crimson ', 'red']"
      ]
     },
     "execution_count": 28,
     "metadata": {},
     "output_type": "execute_result"
    }
   ],
   "source": [
    "colors"
   ]
  },
  {
   "cell_type": "code",
   "execution_count": 29,
   "id": "a8622e06",
   "metadata": {},
   "outputs": [
    {
     "ename": "TypeError",
     "evalue": "list.append() takes exactly one argument (2 given)",
     "output_type": "error",
     "traceback": [
      "\u001b[1;31m---------------------------------------------------------------------------\u001b[0m",
      "\u001b[1;31mTypeError\u001b[0m                                 Traceback (most recent call last)",
      "\u001b[1;32m~\\AppData\\Local\\Temp/ipykernel_4476/686694281.py\u001b[0m in \u001b[0;36m<module>\u001b[1;34m\u001b[0m\n\u001b[1;32m----> 1\u001b[1;33m \u001b[0mcolors\u001b[0m\u001b[1;33m.\u001b[0m\u001b[0mappend\u001b[0m\u001b[1;33m(\u001b[0m\u001b[1;34m\"blue\"\u001b[0m\u001b[1;33m,\u001b[0m\u001b[1;34m\"green\"\u001b[0m\u001b[1;33m)\u001b[0m\u001b[1;33m\u001b[0m\u001b[1;33m\u001b[0m\u001b[0m\n\u001b[0m",
      "\u001b[1;31mTypeError\u001b[0m: list.append() takes exactly one argument (2 given)"
     ]
    }
   ],
   "source": [
    "colors.append(\"blue\",\"green\")"
   ]
  },
  {
   "cell_type": "code",
   "execution_count": 30,
   "id": "711af4cd",
   "metadata": {},
   "outputs": [],
   "source": [
    "colors.append([\"blue\",\"green\"])"
   ]
  },
  {
   "cell_type": "code",
   "execution_count": 31,
   "id": "354d8378",
   "metadata": {},
   "outputs": [
    {
     "data": {
      "text/plain": [
       "['magenta', 'black', 'white', 'wine', 'crimson ', 'red', ['blue', 'green']]"
      ]
     },
     "execution_count": 31,
     "metadata": {},
     "output_type": "execute_result"
    }
   ],
   "source": [
    "colors"
   ]
  },
  {
   "cell_type": "code",
   "execution_count": 32,
   "id": "48893d6e",
   "metadata": {},
   "outputs": [],
   "source": [
    "colors = ['magenta','black', 'white', 'wine', 'crimson ']"
   ]
  },
  {
   "cell_type": "code",
   "execution_count": 34,
   "id": "a4e05348",
   "metadata": {},
   "outputs": [],
   "source": [
    "colors.extend([\"emerald\",\"tomato\"])"
   ]
  },
  {
   "cell_type": "code",
   "execution_count": 35,
   "id": "ec600010",
   "metadata": {},
   "outputs": [
    {
     "data": {
      "text/plain": [
       "['magenta', 'black', 'white', 'wine', 'crimson ', 'emerald', 'tomato']"
      ]
     },
     "execution_count": 35,
     "metadata": {},
     "output_type": "execute_result"
    }
   ],
   "source": [
    "colors"
   ]
  },
  {
   "cell_type": "code",
   "execution_count": 1,
   "id": "ec4efef4",
   "metadata": {},
   "outputs": [],
   "source": [
    "colors = ['magenta','black', 'white', 'wine', 'crimson ']"
   ]
  },
  {
   "cell_type": "code",
   "execution_count": 2,
   "id": "6bad963f",
   "metadata": {},
   "outputs": [],
   "source": [
    "colors.insert(2,\"boy\")"
   ]
  },
  {
   "cell_type": "code",
   "execution_count": 3,
   "id": "4dfdcb53",
   "metadata": {},
   "outputs": [
    {
     "data": {
      "text/plain": [
       "['magenta', 'black', 'boy', 'white', 'wine', 'crimson ']"
      ]
     },
     "execution_count": 3,
     "metadata": {},
     "output_type": "execute_result"
    }
   ],
   "source": [
    "colors"
   ]
  },
  {
   "cell_type": "code",
   "execution_count": 4,
   "id": "792d8653",
   "metadata": {},
   "outputs": [],
   "source": [
    "colors.insert(-2,\"boy\")"
   ]
  },
  {
   "cell_type": "code",
   "execution_count": 5,
   "id": "46d4cf31",
   "metadata": {},
   "outputs": [
    {
     "data": {
      "text/plain": [
       "['magenta', 'black', 'boy', 'white', 'boy', 'wine', 'crimson ']"
      ]
     },
     "execution_count": 5,
     "metadata": {},
     "output_type": "execute_result"
    }
   ],
   "source": [
    "colors"
   ]
  },
  {
   "cell_type": "code",
   "execution_count": 6,
   "id": "9d2eeb8b",
   "metadata": {},
   "outputs": [],
   "source": [
    "colors.insert(0,\"boy\")"
   ]
  },
  {
   "cell_type": "code",
   "execution_count": 7,
   "id": "cca815a3",
   "metadata": {},
   "outputs": [
    {
     "data": {
      "text/plain": [
       "['boy', 'magenta', 'black', 'boy', 'white', 'boy', 'wine', 'crimson ']"
      ]
     },
     "execution_count": 7,
     "metadata": {},
     "output_type": "execute_result"
    }
   ],
   "source": [
    "colors"
   ]
  },
  {
   "cell_type": "code",
   "execution_count": 8,
   "id": "fe578dc3",
   "metadata": {},
   "outputs": [],
   "source": [
    "colors.insert(len(colors),\"last\")"
   ]
  },
  {
   "cell_type": "raw",
   "id": "24ac01e5",
   "metadata": {},
   "source": [
    "colors"
   ]
  },
  {
   "cell_type": "code",
   "execution_count": 9,
   "id": "28567023",
   "metadata": {},
   "outputs": [
    {
     "data": {
      "text/plain": [
       "['boy', 'magenta', 'black', 'boy', 'white', 'boy', 'wine', 'crimson ', 'last']"
      ]
     },
     "execution_count": 9,
     "metadata": {},
     "output_type": "execute_result"
    }
   ],
   "source": [
    "colors"
   ]
  },
  {
   "cell_type": "code",
   "execution_count": 10,
   "id": "e009d636",
   "metadata": {},
   "outputs": [],
   "source": [
    "colors.clear() "
   ]
  },
  {
   "cell_type": "code",
   "execution_count": 11,
   "id": "b38a51ba",
   "metadata": {},
   "outputs": [
    {
     "data": {
      "text/plain": [
       "[]"
      ]
     },
     "execution_count": 11,
     "metadata": {},
     "output_type": "execute_result"
    }
   ],
   "source": [
    "colors"
   ]
  },
  {
   "cell_type": "code",
   "execution_count": 12,
   "id": "447f14f2",
   "metadata": {},
   "outputs": [],
   "source": [
    "colors = ['boy', 'magenta', 'black', 'boy', 'white', 'boy', 'wine', 'crimson ', 'last']"
   ]
  },
  {
   "cell_type": "markdown",
   "id": "8f33a4eb",
   "metadata": {},
   "source": []
  },
  {
   "cell_type": "code",
   "execution_count": 14,
   "id": "5ea94891",
   "metadata": {},
   "outputs": [
    {
     "data": {
      "text/plain": [
       "'black'"
      ]
     },
     "execution_count": 14,
     "metadata": {},
     "output_type": "execute_result"
    }
   ],
   "source": [
    "colors[2]"
   ]
  },
  {
   "cell_type": "code",
   "execution_count": 15,
   "id": "e8f147fa",
   "metadata": {},
   "outputs": [
    {
     "data": {
      "text/plain": [
       "'last'"
      ]
     },
     "execution_count": 15,
     "metadata": {},
     "output_type": "execute_result"
    }
   ],
   "source": [
    "colors.pop()"
   ]
  },
  {
   "cell_type": "code",
   "execution_count": 17,
   "id": "afde95eb",
   "metadata": {},
   "outputs": [
    {
     "data": {
      "text/plain": [
       "'boy'"
      ]
     },
     "execution_count": 17,
     "metadata": {},
     "output_type": "execute_result"
    }
   ],
   "source": [
    "colors.pop(3)"
   ]
  },
  {
   "cell_type": "code",
   "execution_count": 18,
   "id": "7ee0fd64",
   "metadata": {},
   "outputs": [
    {
     "data": {
      "text/plain": [
       "['boy', 'magenta', 'black', 'white', 'boy', 'wine', 'crimson ']"
      ]
     },
     "execution_count": 18,
     "metadata": {},
     "output_type": "execute_result"
    }
   ],
   "source": [
    "colors"
   ]
  },
  {
   "cell_type": "code",
   "execution_count": 19,
   "id": "2c28fb50",
   "metadata": {},
   "outputs": [
    {
     "data": {
      "text/plain": [
       "'boy'"
      ]
     },
     "execution_count": 19,
     "metadata": {},
     "output_type": "execute_result"
    }
   ],
   "source": [
    "colors.pop(0)"
   ]
  },
  {
   "cell_type": "raw",
   "id": "2daf741a",
   "metadata": {},
   "source": [
    " "
   ]
  },
  {
   "cell_type": "code",
   "execution_count": 20,
   "id": "081453df",
   "metadata": {},
   "outputs": [
    {
     "data": {
      "text/plain": [
       "['magenta', 'black', 'white', 'boy', 'wine', 'crimson ']"
      ]
     },
     "execution_count": 20,
     "metadata": {},
     "output_type": "execute_result"
    }
   ],
   "source": [
    "colors"
   ]
  },
  {
   "cell_type": "code",
   "execution_count": 21,
   "id": "7a8c7b5b",
   "metadata": {},
   "outputs": [],
   "source": [
    "last_colors = colors.pop()"
   ]
  },
  {
   "cell_type": "code",
   "execution_count": 22,
   "id": "8f462431",
   "metadata": {},
   "outputs": [
    {
     "data": {
      "text/plain": [
       "['magenta', 'black', 'white', 'boy', 'wine']"
      ]
     },
     "execution_count": 22,
     "metadata": {},
     "output_type": "execute_result"
    }
   ],
   "source": [
    "colors"
   ]
  },
  {
   "cell_type": "code",
   "execution_count": 23,
   "id": "ba44508c",
   "metadata": {},
   "outputs": [
    {
     "data": {
      "text/plain": [
       "'crimson '"
      ]
     },
     "execution_count": 23,
     "metadata": {},
     "output_type": "execute_result"
    }
   ],
   "source": [
    " last_colors"
   ]
  },
  {
   "cell_type": "code",
   "execution_count": 24,
   "id": "e59ab903",
   "metadata": {},
   "outputs": [],
   "source": [
    "colors = ['boy', 'magenta', 'black', 'boy', 'white', 'boy', 'wine', 'crimson ', 'last']"
   ]
  },
  {
   "cell_type": "code",
   "execution_count": 26,
   "id": "292e8606",
   "metadata": {},
   "outputs": [],
   "source": [
    "colors.remove('boy')"
   ]
  },
  {
   "cell_type": "code",
   "execution_count": 27,
   "id": "38734772",
   "metadata": {},
   "outputs": [
    {
     "data": {
      "text/plain": [
       "['magenta', 'black', 'boy', 'white', 'boy', 'wine', 'crimson ', 'last']"
      ]
     },
     "execution_count": 27,
     "metadata": {},
     "output_type": "execute_result"
    }
   ],
   "source": [
    "colors"
   ]
  },
  {
   "cell_type": "code",
   "execution_count": 28,
   "id": "effbadbf",
   "metadata": {},
   "outputs": [],
   "source": [
    "colors.remove('last')"
   ]
  },
  {
   "cell_type": "code",
   "execution_count": 29,
   "id": "686639d7",
   "metadata": {},
   "outputs": [
    {
     "data": {
      "text/plain": [
       "['magenta', 'black', 'boy', 'white', 'boy', 'wine', 'crimson ']"
      ]
     },
     "execution_count": 29,
     "metadata": {},
     "output_type": "execute_result"
    }
   ],
   "source": [
    "colors"
   ]
  },
  {
   "cell_type": "code",
   "execution_count": 30,
   "id": "4c2357f5",
   "metadata": {},
   "outputs": [],
   "source": [
    "colors.remove('boy')"
   ]
  },
  {
   "cell_type": "code",
   "execution_count": 31,
   "id": "ebc2ccb4",
   "metadata": {},
   "outputs": [
    {
     "data": {
      "text/plain": [
       "['magenta', 'black', 'white', 'boy', 'wine', 'crimson ']"
      ]
     },
     "execution_count": 31,
     "metadata": {},
     "output_type": "execute_result"
    }
   ],
   "source": [
    "colors"
   ]
  },
  {
   "cell_type": "code",
   "execution_count": 33,
   "id": "cfdfac79",
   "metadata": {},
   "outputs": [
    {
     "data": {
      "text/plain": [
       "4"
      ]
     },
     "execution_count": 33,
     "metadata": {},
     "output_type": "execute_result"
    }
   ],
   "source": [
    "colors.index('wine')"
   ]
  },
  {
   "cell_type": "code",
   "execution_count": 34,
   "id": "a428531d",
   "metadata": {},
   "outputs": [
    {
     "data": {
      "text/plain": [
       "1"
      ]
     },
     "execution_count": 34,
     "metadata": {},
     "output_type": "execute_result"
    }
   ],
   "source": [
    "colors.index('black')"
   ]
  },
  {
   "cell_type": "code",
   "execution_count": 35,
   "id": "49739493",
   "metadata": {},
   "outputs": [],
   "source": [
    "colors = ['magenta', 'black', 'boy', 'white', 'boy', 'wine', 'crimson ', 'last']"
   ]
  },
  {
   "cell_type": "code",
   "execution_count": 36,
   "id": "84d5a2ef",
   "metadata": {},
   "outputs": [
    {
     "data": {
      "text/plain": [
       "2"
      ]
     },
     "execution_count": 36,
     "metadata": {},
     "output_type": "execute_result"
    }
   ],
   "source": [
    "colors.index('boy')"
   ]
  },
  {
   "cell_type": "code",
   "execution_count": 37,
   "id": "45daca0c",
   "metadata": {},
   "outputs": [
    {
     "data": {
      "text/plain": [
       "4"
      ]
     },
     "execution_count": 37,
     "metadata": {},
     "output_type": "execute_result"
    }
   ],
   "source": [
    "colors.index('boy', 3)"
   ]
  },
  {
   "cell_type": "code",
   "execution_count": 38,
   "id": "83dcb314",
   "metadata": {},
   "outputs": [
    {
     "data": {
      "text/plain": [
       "['magenta', 'black', 'boy', 'white', 'boy', 'wine', 'crimson ', 'last']"
      ]
     },
     "execution_count": 38,
     "metadata": {},
     "output_type": "execute_result"
    }
   ],
   "source": [
    "colors"
   ]
  },
  {
   "cell_type": "code",
   "execution_count": 40,
   "id": "b14cd143",
   "metadata": {},
   "outputs": [
    {
     "data": {
      "text/plain": [
       "4"
      ]
     },
     "execution_count": 40,
     "metadata": {},
     "output_type": "execute_result"
    }
   ],
   "source": [
    "colors.index('boy', 4)"
   ]
  },
  {
   "cell_type": "code",
   "execution_count": 41,
   "id": "46f0a6d9",
   "metadata": {},
   "outputs": [
    {
     "data": {
      "text/plain": [
       "2"
      ]
     },
     "execution_count": 41,
     "metadata": {},
     "output_type": "execute_result"
    }
   ],
   "source": [
    "colors.index('boy', 1)"
   ]
  },
  {
   "cell_type": "code",
   "execution_count": 42,
   "id": "11283334",
   "metadata": {},
   "outputs": [
    {
     "data": {
      "text/plain": [
       "1"
      ]
     },
     "execution_count": 42,
     "metadata": {},
     "output_type": "execute_result"
    }
   ],
   "source": [
    " colors.count('wine')"
   ]
  },
  {
   "cell_type": "code",
   "execution_count": 43,
   "id": "2792386d",
   "metadata": {},
   "outputs": [
    {
     "data": {
      "text/plain": [
       "2"
      ]
     },
     "execution_count": 43,
     "metadata": {},
     "output_type": "execute_result"
    }
   ],
   "source": [
    " colors.count('boy')"
   ]
  },
  {
   "cell_type": "code",
   "execution_count": 44,
   "id": "b6af8feb",
   "metadata": {},
   "outputs": [
    {
     "data": {
      "text/plain": [
       "0"
      ]
     },
     "execution_count": 44,
     "metadata": {},
     "output_type": "execute_result"
    }
   ],
   "source": [
    " colors.count('first')"
   ]
  },
  {
   "cell_type": "code",
   "execution_count": 45,
   "id": "5a885306",
   "metadata": {},
   "outputs": [
    {
     "data": {
      "text/plain": [
       "['magenta', 'black', 'boy', 'white', 'boy', 'wine', 'crimson ', 'last']"
      ]
     },
     "execution_count": 45,
     "metadata": {},
     "output_type": "execute_result"
    }
   ],
   "source": [
    "colors"
   ]
  },
  {
   "cell_type": "code",
   "execution_count": 46,
   "id": "6eebc025",
   "metadata": {},
   "outputs": [
    {
     "name": "stdout",
     "output_type": "stream",
     "text": [
      "['last', 'crimson ', 'wine', 'boy', 'white', 'boy', 'black', 'magenta']\n"
     ]
    }
   ],
   "source": [
    "colors.reverse()\n",
    "print(colors)"
   ]
  },
  {
   "cell_type": "code",
   "execution_count": 47,
   "id": "add13ac6",
   "metadata": {},
   "outputs": [
    {
     "data": {
      "text/plain": [
       "['last', 'crimson ', 'wine', 'boy', 'white', 'boy', 'black', 'magenta']"
      ]
     },
     "execution_count": 47,
     "metadata": {},
     "output_type": "execute_result"
    }
   ],
   "source": [
    "colors"
   ]
  },
  {
   "cell_type": "code",
   "execution_count": 49,
   "id": "e96052ea",
   "metadata": {},
   "outputs": [
    {
     "name": "stdout",
     "output_type": "stream",
     "text": [
      "['black', 'boy', 'boy', 'crimson ', 'last', 'magenta', 'white', 'wine']\n"
     ]
    }
   ],
   "source": [
    "colors.sort()\n",
    "print(colors)"
   ]
  },
  {
   "cell_type": "code",
   "execution_count": 50,
   "id": "dd234d53",
   "metadata": {},
   "outputs": [],
   "source": [
    "colors.extend([\"WHITE\",\"White\"])"
   ]
  },
  {
   "cell_type": "code",
   "execution_count": 51,
   "id": "d10432f3",
   "metadata": {},
   "outputs": [
    {
     "data": {
      "text/plain": [
       "['black',\n",
       " 'boy',\n",
       " 'boy',\n",
       " 'crimson ',\n",
       " 'last',\n",
       " 'magenta',\n",
       " 'white',\n",
       " 'wine',\n",
       " 'WHITE',\n",
       " 'White']"
      ]
     },
     "execution_count": 51,
     "metadata": {},
     "output_type": "execute_result"
    }
   ],
   "source": [
    "colors"
   ]
  },
  {
   "cell_type": "code",
   "execution_count": 52,
   "id": "a14a66c4",
   "metadata": {},
   "outputs": [
    {
     "data": {
      "text/plain": [
       "['black',\n",
       " 'boy',\n",
       " 'boy',\n",
       " 'crimson ',\n",
       " 'last',\n",
       " 'magenta',\n",
       " 'white',\n",
       " 'wine',\n",
       " 'WHITE',\n",
       " 'White']"
      ]
     },
     "execution_count": 52,
     "metadata": {},
     "output_type": "execute_result"
    }
   ],
   "source": [
    "colors"
   ]
  },
  {
   "cell_type": "code",
   "execution_count": 53,
   "id": "69a3f59f",
   "metadata": {},
   "outputs": [],
   "source": [
    "colors = ['magenta', 'black', 'boy', 'white', 'boy', 'wine', 'crimson ', 'last']"
   ]
  },
  {
   "cell_type": "code",
   "execution_count": 54,
   "id": "467d1a23",
   "metadata": {},
   "outputs": [],
   "source": [
    "colors.extend(['BOY',\"WINE\"])"
   ]
  },
  {
   "cell_type": "code",
   "execution_count": 56,
   "id": "0bdbea31",
   "metadata": {},
   "outputs": [
    {
     "name": "stdout",
     "output_type": "stream",
     "text": [
      "['BOY', 'WINE', 'black', 'boy', 'boy', 'crimson ', 'last', 'magenta', 'white', 'wine']\n"
     ]
    }
   ],
   "source": [
    "colors.sort()\n",
    "print(colors)"
   ]
  },
  {
   "cell_type": "code",
   "execution_count": 57,
   "id": "12582803",
   "metadata": {},
   "outputs": [],
   "source": [
    "colors.extend(['Boy',\"Wine\"])"
   ]
  },
  {
   "cell_type": "code",
   "execution_count": 58,
   "id": "1f0fd91e",
   "metadata": {},
   "outputs": [
    {
     "data": {
      "text/plain": [
       "['BOY',\n",
       " 'WINE',\n",
       " 'black',\n",
       " 'boy',\n",
       " 'boy',\n",
       " 'crimson ',\n",
       " 'last',\n",
       " 'magenta',\n",
       " 'white',\n",
       " 'wine',\n",
       " 'Boy',\n",
       " 'Wine']"
      ]
     },
     "execution_count": 58,
     "metadata": {},
     "output_type": "execute_result"
    }
   ],
   "source": [
    "colors"
   ]
  },
  {
   "cell_type": "code",
   "execution_count": 59,
   "id": "98d9f3ed",
   "metadata": {},
   "outputs": [
    {
     "name": "stdout",
     "output_type": "stream",
     "text": [
      "['BOY', 'Boy', 'WINE', 'Wine', 'black', 'boy', 'boy', 'crimson ', 'last', 'magenta', 'white', 'wine']\n"
     ]
    }
   ],
   "source": [
    "colors.sort()\n",
    "print(colors)"
   ]
  },
  {
   "cell_type": "code",
   "execution_count": 64,
   "id": "875842d9",
   "metadata": {},
   "outputs": [],
   "source": [
    "words = ['Coding',  ' Is',  ' Fun!'] "
   ]
  },
  {
   "cell_type": "code",
   "execution_count": 65,
   "id": "22b3940e",
   "metadata": {},
   "outputs": [
    {
     "data": {
      "text/plain": [
       "'Coding Is Fun!'"
      ]
     },
     "execution_count": 65,
     "metadata": {},
     "output_type": "execute_result"
    }
   ],
   "source": [
    "''.join(words)"
   ]
  },
  {
   "cell_type": "code",
   "execution_count": 66,
   "id": "38ec2b26",
   "metadata": {},
   "outputs": [],
   "source": [
    "words = ['Coding', 'Is',  'Fun!'] "
   ]
  },
  {
   "cell_type": "code",
   "execution_count": 67,
   "id": "492a4e4f",
   "metadata": {},
   "outputs": [
    {
     "data": {
      "text/plain": [
       "'Coding Is Fun!'"
      ]
     },
     "execution_count": 67,
     "metadata": {},
     "output_type": "execute_result"
    }
   ],
   "source": [
    "' '.join(words)"
   ]
  },
  {
   "cell_type": "code",
   "execution_count": 71,
   "id": "12d65b99",
   "metadata": {},
   "outputs": [],
   "source": [
    "name = ['Dr', 'JIMLAD']"
   ]
  },
  {
   "cell_type": "code",
   "execution_count": 73,
   "id": "95f4f97c",
   "metadata": {},
   "outputs": [
    {
     "data": {
      "text/plain": [
       "'Dr. JIMLAD'"
      ]
     },
     "execution_count": 73,
     "metadata": {},
     "output_type": "execute_result"
    }
   ],
   "source": [
    "'. '.join(name)"
   ]
  },
  {
   "cell_type": "code",
   "execution_count": 78,
   "id": "bbd6e44f",
   "metadata": {},
   "outputs": [
    {
     "data": {
      "text/plain": [
       "'BOYhouse: Boyhouse: WINEhouse: Winehouse: blackhouse: boyhouse: boyhouse: crimson house: lasthouse: magentahouse: whitehouse: wine'"
      ]
     },
     "execution_count": 78,
     "metadata": {},
     "output_type": "execute_result"
    }
   ],
   "source": [
    "'house: '. join( colors)"
   ]
  },
  {
   "cell_type": "code",
   "execution_count": 79,
   "id": "a65f56d0",
   "metadata": {},
   "outputs": [
    {
     "data": {
      "text/plain": [
       "['BOY',\n",
       " 'Boy',\n",
       " 'WINE',\n",
       " 'Wine',\n",
       " 'black',\n",
       " 'boy',\n",
       " 'boy',\n",
       " 'crimson ',\n",
       " 'last',\n",
       " 'magenta',\n",
       " 'white',\n",
       " 'wine']"
      ]
     },
     "execution_count": 79,
     "metadata": {},
     "output_type": "execute_result"
    }
   ],
   "source": [
    "colors"
   ]
  },
  {
   "cell_type": "code",
   "execution_count": 80,
   "id": "662c4ad3",
   "metadata": {},
   "outputs": [],
   "source": [
    "house = ', '.join(colors)"
   ]
  },
  {
   "cell_type": "code",
   "execution_count": 81,
   "id": "f28dd43f",
   "metadata": {},
   "outputs": [
    {
     "data": {
      "text/plain": [
       "'BOY, Boy, WINE, Wine, black, boy, boy, crimson , last, magenta, white, wine'"
      ]
     },
     "execution_count": 81,
     "metadata": {},
     "output_type": "execute_result"
    }
   ],
   "source": [
    "house"
   ]
  },
  {
   "cell_type": "code",
   "execution_count": 82,
   "id": "84ee8cb8",
   "metadata": {},
   "outputs": [],
   "source": [
    "colors = ['black', 'boy', 'boy', 'crimson ', 'last', 'magenta', 'white', 'wine']"
   ]
  },
  {
   "cell_type": "code",
   "execution_count": null,
   "id": "8640cb4f",
   "metadata": {},
   "outputs": [],
   "source": []
  },
  {
   "cell_type": "code",
   "execution_count": 83,
   "id": "b2fd6839",
   "metadata": {},
   "outputs": [
    {
     "data": {
      "text/plain": [
       "['black', 'boy', 'boy', 'crimson ', 'last', 'magenta', 'white', 'wine']"
      ]
     },
     "execution_count": 83,
     "metadata": {},
     "output_type": "execute_result"
    }
   ],
   "source": [
    "colors"
   ]
  },
  {
   "cell_type": "code",
   "execution_count": 84,
   "id": "cbf54726",
   "metadata": {},
   "outputs": [
    {
     "data": {
      "text/plain": [
       "['boy', 'crimson ', 'last', 'magenta', 'white', 'wine']"
      ]
     },
     "execution_count": 84,
     "metadata": {},
     "output_type": "execute_result"
    }
   ],
   "source": [
    "colors[2:]"
   ]
  },
  {
   "cell_type": "code",
   "execution_count": 85,
   "id": "aeb17d51",
   "metadata": {},
   "outputs": [
    {
     "data": {
      "text/plain": [
       "['white', 'wine']"
      ]
     },
     "execution_count": 85,
     "metadata": {},
     "output_type": "execute_result"
    }
   ],
   "source": [
    "colors[6:]"
   ]
  },
  {
   "cell_type": "code",
   "execution_count": 88,
   "id": "c0d5af5c",
   "metadata": {},
   "outputs": [
    {
     "data": {
      "text/plain": [
       "['wine']"
      ]
     },
     "execution_count": 88,
     "metadata": {},
     "output_type": "execute_result"
    }
   ],
   "source": [
    "colors[-1:]"
   ]
  },
  {
   "cell_type": "code",
   "execution_count": 89,
   "id": "885715ca",
   "metadata": {},
   "outputs": [
    {
     "data": {
      "text/plain": [
       "['boy', 'crimson ', 'last', 'magenta', 'white', 'wine']"
      ]
     },
     "execution_count": 89,
     "metadata": {},
     "output_type": "execute_result"
    }
   ],
   "source": [
    "colors[-6:]"
   ]
  },
  {
   "cell_type": "code",
   "execution_count": 93,
   "id": "4f69928b",
   "metadata": {},
   "outputs": [
    {
     "data": {
      "text/plain": [
       "['black', 'boy', 'boy', 'crimson ', 'last', 'magenta', 'white', 'wine']"
      ]
     },
     "execution_count": 93,
     "metadata": {},
     "output_type": "execute_result"
    }
   ],
   "source": [
    "colors[:]"
   ]
  },
  {
   "cell_type": "code",
   "execution_count": 94,
   "id": "659e38e9",
   "metadata": {},
   "outputs": [],
   "source": [
    "colors2 = colors[:]"
   ]
  },
  {
   "cell_type": "code",
   "execution_count": 95,
   "id": "ad568079",
   "metadata": {},
   "outputs": [
    {
     "data": {
      "text/plain": [
       "['black', 'boy', 'boy', 'crimson ', 'last', 'magenta', 'white', 'wine']"
      ]
     },
     "execution_count": 95,
     "metadata": {},
     "output_type": "execute_result"
    }
   ],
   "source": [
    "colors2"
   ]
  },
  {
   "cell_type": "code",
   "execution_count": 96,
   "id": "f1906c55",
   "metadata": {},
   "outputs": [
    {
     "data": {
      "text/plain": [
       "False"
      ]
     },
     "execution_count": 96,
     "metadata": {},
     "output_type": "execute_result"
    }
   ],
   "source": [
    "colors2 is colors"
   ]
  },
  {
   "cell_type": "code",
   "execution_count": 97,
   "id": "a6bba585",
   "metadata": {},
   "outputs": [
    {
     "data": {
      "text/plain": [
       "True"
      ]
     },
     "execution_count": 97,
     "metadata": {},
     "output_type": "execute_result"
    }
   ],
   "source": [
    "colors2 == colors"
   ]
  },
  {
   "cell_type": "code",
   "execution_count": 98,
   "id": "cdc9e612",
   "metadata": {},
   "outputs": [
    {
     "data": {
      "text/plain": [
       "['black', 'boy', 'boy']"
      ]
     },
     "execution_count": 98,
     "metadata": {},
     "output_type": "execute_result"
    }
   ],
   "source": [
    "colors[:3]"
   ]
  },
  {
   "cell_type": "code",
   "execution_count": 99,
   "id": "a0e30798",
   "metadata": {},
   "outputs": [
    {
     "data": {
      "text/plain": [
       "['black', 'boy', 'boy', 'crimson ', 'last', 'magenta']"
      ]
     },
     "execution_count": 99,
     "metadata": {},
     "output_type": "execute_result"
    }
   ],
   "source": [
    "colors[:6]"
   ]
  },
  {
   "cell_type": "code",
   "execution_count": 100,
   "id": "36b170a6",
   "metadata": {},
   "outputs": [
    {
     "data": {
      "text/plain": [
       "['crimson ', 'last', 'magenta']"
      ]
     },
     "execution_count": 100,
     "metadata": {},
     "output_type": "execute_result"
    }
   ],
   "source": [
    "colors[3:6]"
   ]
  },
  {
   "cell_type": "code",
   "execution_count": 101,
   "id": "893eba3e",
   "metadata": {},
   "outputs": [
    {
     "data": {
      "text/plain": [
       "[]"
      ]
     },
     "execution_count": 101,
     "metadata": {},
     "output_type": "execute_result"
    }
   ],
   "source": [
    "colors[:0]"
   ]
  },
  {
   "cell_type": "code",
   "execution_count": 102,
   "id": "c862a13a",
   "metadata": {},
   "outputs": [
    {
     "data": {
      "text/plain": [
       "['black', 'boy', 'boy', 'crimson ', 'last', 'magenta']"
      ]
     },
     "execution_count": 102,
     "metadata": {},
     "output_type": "execute_result"
    }
   ],
   "source": [
    "colors[:-2]"
   ]
  },
  {
   "cell_type": "code",
   "execution_count": 103,
   "id": "c6f9d2f9",
   "metadata": {},
   "outputs": [
    {
     "data": {
      "text/plain": [
       "['black', 'boy', 'boy', 'crimson ', 'last', 'magenta', 'white', 'wine']"
      ]
     },
     "execution_count": 103,
     "metadata": {},
     "output_type": "execute_result"
    }
   ],
   "source": [
    "colors"
   ]
  },
  {
   "cell_type": "code",
   "execution_count": 110,
   "id": "0f17d9da",
   "metadata": {},
   "outputs": [
    {
     "data": {
      "text/plain": [
       "['magenta']"
      ]
     },
     "execution_count": 110,
     "metadata": {},
     "output_type": "execute_result"
    }
   ],
   "source": [
    "colors[-3:6]"
   ]
  },
  {
   "cell_type": "code",
   "execution_count": 107,
   "id": "838bea96",
   "metadata": {},
   "outputs": [
    {
     "data": {
      "text/plain": [
       "[]"
      ]
     },
     "execution_count": 107,
     "metadata": {},
     "output_type": "execute_result"
    }
   ],
   "source": [
    "colors[6:-3]"
   ]
  },
  {
   "cell_type": "code",
   "execution_count": 108,
   "id": "a1f0a924",
   "metadata": {},
   "outputs": [
    {
     "data": {
      "text/plain": [
       "['boy', 'boy', 'crimson ', 'last', 'magenta', 'white']"
      ]
     },
     "execution_count": 108,
     "metadata": {},
     "output_type": "execute_result"
    }
   ],
   "source": [
    "colors[1:-1]"
   ]
  },
  {
   "cell_type": "code",
   "execution_count": 109,
   "id": "135b8eca",
   "metadata": {},
   "outputs": [
    {
     "data": {
      "text/plain": [
       "['boy', 'crimson ', 'magenta', 'wine']"
      ]
     },
     "execution_count": 109,
     "metadata": {},
     "output_type": "execute_result"
    }
   ],
   "source": [
    "colors[1::2]"
   ]
  },
  {
   "cell_type": "code",
   "execution_count": 111,
   "id": "81599a86",
   "metadata": {},
   "outputs": [
    {
     "data": {
      "text/plain": [
       "['black', 'boy', 'last', 'white']"
      ]
     },
     "execution_count": 111,
     "metadata": {},
     "output_type": "execute_result"
    }
   ],
   "source": [
    "colors[::2]"
   ]
  },
  {
   "cell_type": "code",
   "execution_count": 112,
   "id": "49a29e76",
   "metadata": {},
   "outputs": [
    {
     "data": {
      "text/plain": [
       "['boy', 'last', 'wine']"
      ]
     },
     "execution_count": 112,
     "metadata": {},
     "output_type": "execute_result"
    }
   ],
   "source": [
    "colors[1::3]"
   ]
  },
  {
   "cell_type": "code",
   "execution_count": 116,
   "id": "81548165",
   "metadata": {},
   "outputs": [
    {
     "data": {
      "text/plain": [
       "['black', 'crimson ', 'white']"
      ]
     },
     "execution_count": 116,
     "metadata": {},
     "output_type": "execute_result"
    }
   ],
   "source": [
    "colors[::3]"
   ]
  },
  {
   "cell_type": "code",
   "execution_count": 114,
   "id": "b658012d",
   "metadata": {},
   "outputs": [
    {
     "data": {
      "text/plain": [
       "['black', 'boy', 'boy', 'crimson ', 'last', 'magenta', 'white', 'wine']"
      ]
     },
     "execution_count": 114,
     "metadata": {},
     "output_type": "execute_result"
    }
   ],
   "source": [
    "colors"
   ]
  },
  {
   "cell_type": "code",
   "execution_count": 115,
   "id": "ad159e65",
   "metadata": {},
   "outputs": [
    {
     "data": {
      "text/plain": [
       "['wine', 'white', 'magenta', 'last', 'crimson ', 'boy', 'boy', 'black']"
      ]
     },
     "execution_count": 115,
     "metadata": {},
     "output_type": "execute_result"
    }
   ],
   "source": [
    "colors[::-1]"
   ]
  },
  {
   "cell_type": "code",
   "execution_count": 117,
   "id": "bb9c317a",
   "metadata": {},
   "outputs": [
    {
     "data": {
      "text/plain": [
       "['wine', 'magenta', 'crimson ', 'boy']"
      ]
     },
     "execution_count": 117,
     "metadata": {},
     "output_type": "execute_result"
    }
   ],
   "source": [
    "colors[::-2]"
   ]
  },
  {
   "cell_type": "code",
   "execution_count": 118,
   "id": "03d46441",
   "metadata": {},
   "outputs": [
    {
     "data": {
      "text/plain": [
       "['boy', 'black']"
      ]
     },
     "execution_count": 118,
     "metadata": {},
     "output_type": "execute_result"
    }
   ],
   "source": [
    "colors[1::-1]"
   ]
  },
  {
   "cell_type": "code",
   "execution_count": 119,
   "id": "9fb17bbd",
   "metadata": {},
   "outputs": [
    {
     "data": {
      "text/plain": [
       "[]"
      ]
     },
     "execution_count": 119,
     "metadata": {},
     "output_type": "execute_result"
    }
   ],
   "source": [
    "colors[-1:1]"
   ]
  },
  {
   "cell_type": "code",
   "execution_count": 120,
   "id": "75810d82",
   "metadata": {},
   "outputs": [
    {
     "data": {
      "text/plain": [
       "['boy', 'crimson ', 'last', 'magenta', 'white', 'wine']"
      ]
     },
     "execution_count": 120,
     "metadata": {},
     "output_type": "execute_result"
    }
   ],
   "source": [
    "colors[2::1]"
   ]
  },
  {
   "cell_type": "code",
   "execution_count": 121,
   "id": "846c911b",
   "metadata": {},
   "outputs": [
    {
     "data": {
      "text/plain": [
       "['boy', 'boy', 'black']"
      ]
     },
     "execution_count": 121,
     "metadata": {},
     "output_type": "execute_result"
    }
   ],
   "source": [
    "colors[2::-1]"
   ]
  },
  {
   "cell_type": "code",
   "execution_count": 122,
   "id": "b564bc01",
   "metadata": {},
   "outputs": [
    {
     "data": {
      "text/plain": [
       "['black', 'boy', 'boy', 'crimson ', 'last', 'magenta', 'white', 'wine']"
      ]
     },
     "execution_count": 122,
     "metadata": {},
     "output_type": "execute_result"
    }
   ],
   "source": [
    "colors"
   ]
  },
  {
   "cell_type": "code",
   "execution_count": 123,
   "id": "d3813f5a",
   "metadata": {},
   "outputs": [
    {
     "data": {
      "text/plain": [
       "['crimson ', 'boy', 'boy', 'black']"
      ]
     },
     "execution_count": 123,
     "metadata": {},
     "output_type": "execute_result"
    }
   ],
   "source": [
    "colors[3::-1]"
   ]
  },
  {
   "cell_type": "code",
   "execution_count": 124,
   "id": "9fd17280",
   "metadata": {},
   "outputs": [
    {
     "data": {
      "text/plain": [
       "['crimson ', 'boy']"
      ]
     },
     "execution_count": 124,
     "metadata": {},
     "output_type": "execute_result"
    }
   ],
   "source": [
    "colors[3::-2]"
   ]
  },
  {
   "cell_type": "code",
   "execution_count": 125,
   "id": "fe398ae1",
   "metadata": {},
   "outputs": [
    {
     "data": {
      "text/plain": [
       "['crimson ', 'magenta', 'wine']"
      ]
     },
     "execution_count": 125,
     "metadata": {},
     "output_type": "execute_result"
    }
   ],
   "source": [
    "colors[-5::2]"
   ]
  },
  {
   "cell_type": "code",
   "execution_count": 126,
   "id": "3c66626c",
   "metadata": {},
   "outputs": [
    {
     "data": {
      "text/plain": [
       "['crimson ', 'boy']"
      ]
     },
     "execution_count": 126,
     "metadata": {},
     "output_type": "execute_result"
    }
   ],
   "source": [
    "colors[-5::-2]"
   ]
  },
  {
   "cell_type": "code",
   "execution_count": 127,
   "id": "6b96b24a",
   "metadata": {},
   "outputs": [
    {
     "data": {
      "text/plain": [
       "['wine', 'last']"
      ]
     },
     "execution_count": 127,
     "metadata": {},
     "output_type": "execute_result"
    }
   ],
   "source": [
    "colors[:1:-3]"
   ]
  },
  {
   "cell_type": "code",
   "execution_count": 128,
   "id": "819a7b6e",
   "metadata": {},
   "outputs": [
    {
     "data": {
      "text/plain": [
       "['black', 'boy', 'boy', 'crimson ', 'last', 'magenta', 'white', 'wine']"
      ]
     },
     "execution_count": 128,
     "metadata": {},
     "output_type": "execute_result"
    }
   ],
   "source": [
    "colors"
   ]
  },
  {
   "cell_type": "code",
   "execution_count": 129,
   "id": "3d75bc6d",
   "metadata": {},
   "outputs": [
    {
     "data": {
      "text/plain": [
       "['wine', 'white', 'magenta', 'last', 'crimson ', 'boy']"
      ]
     },
     "execution_count": 129,
     "metadata": {},
     "output_type": "execute_result"
    }
   ],
   "source": [
    "colors[:1:-1]"
   ]
  },
  {
   "cell_type": "code",
   "execution_count": 130,
   "id": "6721ff4c",
   "metadata": {},
   "outputs": [
    {
     "data": {
      "text/plain": [
       "['wine', 'magenta', 'crimson ']"
      ]
     },
     "execution_count": 130,
     "metadata": {},
     "output_type": "execute_result"
    }
   ],
   "source": [
    "colors[:1:-2]"
   ]
  },
  {
   "cell_type": "code",
   "execution_count": 131,
   "id": "de4a7775",
   "metadata": {},
   "outputs": [],
   "source": [
    "string = \"This is Fun!\""
   ]
  },
  {
   "cell_type": "code",
   "execution_count": 132,
   "id": "a9af5bec",
   "metadata": {},
   "outputs": [
    {
     "data": {
      "text/plain": [
       "'!nuF si sihT'"
      ]
     },
     "execution_count": 132,
     "metadata": {},
     "output_type": "execute_result"
    }
   ],
   "source": [
    "string[::-1]"
   ]
  },
  {
   "cell_type": "code",
   "execution_count": 133,
   "id": "d18834e5",
   "metadata": {},
   "outputs": [
    {
     "data": {
      "text/plain": [
       "'!u ish'"
      ]
     },
     "execution_count": 133,
     "metadata": {},
     "output_type": "execute_result"
    }
   ],
   "source": [
    "string[::-2]"
   ]
  },
  {
   "cell_type": "code",
   "execution_count": 134,
   "id": "2f2b5f83",
   "metadata": {},
   "outputs": [
    {
     "data": {
      "text/plain": [
       "'crimson '"
      ]
     },
     "execution_count": 134,
     "metadata": {},
     "output_type": "execute_result"
    }
   ],
   "source": [
    " colors[3]"
   ]
  },
  {
   "cell_type": "code",
   "execution_count": 135,
   "id": "10757724",
   "metadata": {},
   "outputs": [
    {
     "data": {
      "text/plain": [
       "' nosmirc'"
      ]
     },
     "execution_count": 135,
     "metadata": {},
     "output_type": "execute_result"
    }
   ],
   "source": [
    "colors[3][::-1]"
   ]
  },
  {
   "cell_type": "code",
   "execution_count": 2,
   "id": "6d97570e",
   "metadata": {},
   "outputs": [
    {
     "data": {
      "text/plain": [
       "'A'"
      ]
     },
     "execution_count": 2,
     "metadata": {},
     "output_type": "execute_result"
    }
   ],
   "source": [
    "'JIMLAD'[4]"
   ]
  },
  {
   "cell_type": "code",
   "execution_count": 3,
   "id": "81f71f47",
   "metadata": {},
   "outputs": [
    {
     "name": "stdout",
     "output_type": "stream",
     "text": [
      "['AdMub', 'JIMLAD']\n"
     ]
    }
   ],
   "source": [
    "names =[\"JIMLAD\", \"AdMub\"]\n",
    "names[0], names[1] = names[1], names[0]\n",
    "print(names)"
   ]
  },
  {
   "cell_type": "code",
   "execution_count": 5,
   "id": "015a2900",
   "metadata": {},
   "outputs": [
    {
     "name": "stdout",
     "output_type": "stream",
     "text": [
      "['Violet', 'Indigo', 'Magenta']\n"
     ]
    }
   ],
   "source": [
    "colors = [\"Magenta\",'Violet','Indigo']\n",
    "colors[0],colors[1],colors[2] = colors[1],colors[2],colors[0]\n",
    "print(colors)"
   ]
  },
  {
   "cell_type": "code",
   "execution_count": null,
   "id": "0c53a2b8",
   "metadata": {},
   "outputs": [],
   "source": []
  }
 ],
 "metadata": {
  "kernelspec": {
   "display_name": "Python 3 (ipykernel)",
   "language": "python",
   "name": "python3"
  },
  "language_info": {
   "codemirror_mode": {
    "name": "ipython",
    "version": 3
   },
   "file_extension": ".py",
   "mimetype": "text/x-python",
   "name": "python",
   "nbconvert_exporter": "python",
   "pygments_lexer": "ipython3",
   "version": "3.9.7"
  }
 },
 "nbformat": 4,
 "nbformat_minor": 5
}
