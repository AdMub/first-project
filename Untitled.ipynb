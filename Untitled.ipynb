{
 "cells": [
  {
   "cell_type": "code",
   "execution_count": 2,
   "id": "4d516485",
   "metadata": {},
   "outputs": [
    {
     "ename": "SyntaxError",
     "evalue": "invalid syntax (Temp/ipykernel_4408/2235967750.py, line 1)",
     "output_type": "error",
     "traceback": [
      "\u001b[1;36m  File \u001b[1;32m\"C:\\Users\\user\\AppData\\Local\\Temp/ipykernel_4408/2235967750.py\"\u001b[1;36m, line \u001b[1;32m1\u001b[0m\n\u001b[1;33m    int not_awaesomeness = 5;\u001b[0m\n\u001b[1;37m        ^\u001b[0m\n\u001b[1;31mSyntaxError\u001b[0m\u001b[1;31m:\u001b[0m invalid syntax\n"
     ]
    }
   ],
   "source": [
    "int not_awaesomeness = 5;\n",
    "not_awesomeness = \"cool\""
   ]
  },
  {
   "cell_type": "code",
   "execution_count": 1,
   "id": "51ad198d",
   "metadata": {},
   "outputs": [],
   "source": [
    "num = 12"
   ]
  },
  {
   "cell_type": "code",
   "execution_count": 2,
   "id": "11b9e36c",
   "metadata": {},
   "outputs": [
    {
     "data": {
      "text/plain": [
       "int"
      ]
     },
     "execution_count": 2,
     "metadata": {},
     "output_type": "execute_result"
    }
   ],
   "source": [
    "type(num)"
   ]
  },
  {
   "cell_type": "code",
   "execution_count": 3,
   "id": "96f25e46",
   "metadata": {},
   "outputs": [
    {
     "data": {
      "text/plain": [
       "99.99"
      ]
     },
     "execution_count": 3,
     "metadata": {},
     "output_type": "execute_result"
    }
   ],
   "source": [
    "  float(99.99)"
   ]
  },
  {
   "cell_type": "code",
   "execution_count": 4,
   "id": "db28d752",
   "metadata": {},
   "outputs": [
    {
     "name": "stdout",
     "output_type": "stream",
     "text": [
      "How man kilometers did you run today? \n",
      "57\n",
      "Ok, you said57\n"
     ]
    }
   ],
   "source": [
    "print(\"How man kilometers did you run today? \")\n",
    "kms = input()\n",
    "print(\"Ok, you said\" + kms)"
   ]
  },
  {
   "cell_type": "code",
   "execution_count": 5,
   "id": "9421dbe2",
   "metadata": {},
   "outputs": [
    {
     "name": "stdout",
     "output_type": "stream",
     "text": [
      "How man kilometers did you run today? \n",
      "20\n",
      "Ok, you said 20\n"
     ]
    }
   ],
   "source": [
    "print(\"How man kilometers did you run today? \")\n",
    "kms = input()\n",
    "print(\"Ok, you said \" + kms)"
   ]
  },
  {
   "cell_type": "code",
   "execution_count": 6,
   "id": "4a9d9a8e",
   "metadata": {},
   "outputs": [
    {
     "name": "stdout",
     "output_type": "stream",
     "text": [
      "How many kilometers did you run today? \n",
      "53\n",
      "Okay, you said 53\n"
     ]
    }
   ],
   "source": [
    "print(\"How many kilometers did you run today? \")\n",
    "kms = input()\n",
    "mile = float(kms)/1.60934\n",
    "print(\"Okay, you said \" + kms)"
   ]
  },
  {
   "cell_type": "code",
   "execution_count": 8,
   "id": "ea67583c",
   "metadata": {},
   "outputs": [
    {
     "name": "stdout",
     "output_type": "stream",
     "text": [
      "How many kilometers did you run today? \n",
      "45\n",
      " That is equal 27.961773149241303 miles\n"
     ]
    }
   ],
   "source": [
    "print(\"How many kilometers did you run today? \")\n",
    "kms = input()\n",
    "miles = float(kms)/1.60934\n",
    "print(f\" That is equal {miles} miles\")"
   ]
  },
  {
   "cell_type": "code",
   "execution_count": 10,
   "id": "b0eaaea9",
   "metadata": {},
   "outputs": [
    {
     "name": "stdout",
     "output_type": "stream",
     "text": [
      "How many kilometers did you run today? \n",
      "77\n",
      "That is equal to 47.84570072203512 miles\n"
     ]
    }
   ],
   "source": [
    "print(\"How many kilometers did you run today? \")\n",
    "kms = input()\n",
    "miles = float(kms)/1.60934\n",
    "print(f\"That is equal to {miles} miles\")"
   ]
  },
  {
   "cell_type": "code",
   "execution_count": 11,
   "id": "83ca4739",
   "metadata": {},
   "outputs": [
    {
     "name": "stdout",
     "output_type": "stream",
     "text": [
      "How many kilometers did you run today? \n",
      "33\n",
      "That is equal to 20.51 miles\n"
     ]
    }
   ],
   "source": [
    "print(\"How many kilometers did you run today? \")\n",
    "kms = input()\n",
    "miles = float(kms)/1.60934\n",
    "print(f\"That is equal to {round(miles, 2)} miles\")"
   ]
  },
  {
   "cell_type": "code",
   "execution_count": 12,
   "id": "50ffd45b",
   "metadata": {},
   "outputs": [
    {
     "name": "stdout",
     "output_type": "stream",
     "text": [
      "How many kilometers did you run today? \n",
      "33\n",
      "That is equal to 20.505300309443623 miles\n"
     ]
    }
   ],
   "source": [
    "print(\"How many kilometers did you run today? \")\n",
    "kms = input()\n",
    "miles = int(kms)/1.60934\n",
    "print(f\"That is equal to {miles} miles\")"
   ]
  },
  {
   "cell_type": "code",
   "execution_count": 14,
   "id": "6b16bc0d",
   "metadata": {},
   "outputs": [
    {
     "name": "stdout",
     "output_type": "stream",
     "text": [
      "How many kilometers did you run today? \n",
      "33.7\n",
      "That is equal to 20.94026122509849 miles\n"
     ]
    }
   ],
   "source": [
    "print(\"How many kilometers did you run today? \")\n",
    "kms = input()\n",
    "miles = float(kms)/1.60934\n",
    "round = (miles, 2)\n",
    "print(f\"That is equal to {miles} miles\")"
   ]
  },
  {
   "cell_type": "code",
   "execution_count": 3,
   "id": "8e483e07",
   "metadata": {},
   "outputs": [
    {
     "name": "stdout",
     "output_type": "stream",
     "text": [
      "How many kilometers did you run today? \n",
      "55\n",
      "That is equal to 34.18 miles\n"
     ]
    }
   ],
   "source": [
    "print(\"How many kilometers did you run today? \")\n",
    "kms = input()\n",
    "miles = float(kms)/1.60934\n",
    "miles = round(miles, 2)\n",
    "print(f\"That is equal to {miles} miles\")"
   ]
  },
  {
   "cell_type": "code",
   "execution_count": 2,
   "id": "36a096b7",
   "metadata": {},
   "outputs": [
    {
     "name": "stdout",
     "output_type": "stream",
     "text": [
      "How many kilometres did you cycle? \n",
      "55\n",
      "Your 55km cycle is 27.34mi\n"
     ]
    }
   ],
   "source": [
    "print(\"How many kilometres did you cycle? \")\n",
    "kms = input()\n",
    "mile = float(kms)/1.60934\n",
    "print(f\"Your {kms}km cycle is {round(miles, 2)}mi\")"
   ]
  },
  {
   "cell_type": "code",
   "execution_count": 21,
   "id": "de026e13",
   "metadata": {},
   "outputs": [
    {
     "name": "stdout",
     "output_type": "stream",
     "text": [
      "How many kilometers did you run today? \n",
      "66\n"
     ]
    },
    {
     "ename": "TypeError",
     "evalue": "'tuple' object is not callable",
     "output_type": "error",
     "traceback": [
      "\u001b[1;31m---------------------------------------------------------------------------\u001b[0m",
      "\u001b[1;31mTypeError\u001b[0m                                 Traceback (most recent call last)",
      "\u001b[1;32m~\\AppData\\Local\\Temp/ipykernel_4800/3307144377.py\u001b[0m in \u001b[0;36m<module>\u001b[1;34m\u001b[0m\n\u001b[0;32m      2\u001b[0m \u001b[0mkms\u001b[0m \u001b[1;33m=\u001b[0m \u001b[0minput\u001b[0m\u001b[1;33m(\u001b[0m\u001b[1;33m)\u001b[0m\u001b[1;33m\u001b[0m\u001b[1;33m\u001b[0m\u001b[0m\n\u001b[0;32m      3\u001b[0m \u001b[0mmiles\u001b[0m \u001b[1;33m=\u001b[0m \u001b[0mfloat\u001b[0m\u001b[1;33m(\u001b[0m\u001b[0mkms\u001b[0m\u001b[1;33m)\u001b[0m\u001b[1;33m/\u001b[0m\u001b[1;36m1.60934\u001b[0m\u001b[1;33m\u001b[0m\u001b[1;33m\u001b[0m\u001b[0m\n\u001b[1;32m----> 4\u001b[1;33m \u001b[0mprint\u001b[0m\u001b[1;33m(\u001b[0m\u001b[1;34mf\"That is equal to {round(miles, 2)} miles\"\u001b[0m\u001b[1;33m)\u001b[0m\u001b[1;33m\u001b[0m\u001b[1;33m\u001b[0m\u001b[0m\n\u001b[0m",
      "\u001b[1;31mTypeError\u001b[0m: 'tuple' object is not callable"
     ]
    }
   ],
   "source": [
    "print(\"How many kilometers did you run today? \")\n",
    "kms = input()\n",
    "miles = float(kms)/1.60934\n",
    "print(f\"That is equal to {round(miles, 2)} miles\")"
   ]
  },
  {
   "cell_type": "code",
   "execution_count": 1,
   "id": "8311abb1",
   "metadata": {},
   "outputs": [
    {
     "name": "stdout",
     "output_type": "stream",
     "text": [
      "How many kilometers did you run today? \n",
      "44\n",
      "That is equal to 27.34 miles\n"
     ]
    }
   ],
   "source": [
    "print(\"How many kilometers did you run today? \")\n",
    "kms = input()\n",
    "miles = float(kms)/1.60934\n",
    "print(f\"That is equal to {round(miles, 2)} miles\")"
   ]
  },
  {
   "cell_type": "code",
   "execution_count": null,
   "id": "df97cc61",
   "metadata": {},
   "outputs": [],
   "source": []
  }
 ],
 "metadata": {
  "kernelspec": {
   "display_name": "Python 3 (ipykernel)",
   "language": "python",
   "name": "python3"
  },
  "language_info": {
   "codemirror_mode": {
    "name": "ipython",
    "version": 3
   },
   "file_extension": ".py",
   "mimetype": "text/x-python",
   "name": "python",
   "nbconvert_exporter": "python",
   "pygments_lexer": "ipython3",
   "version": "3.9.7"
  }
 },
 "nbformat": 4,
 "nbformat_minor": 5
}
