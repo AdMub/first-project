{
 "cells": [
  {
   "cell_type": "code",
   "execution_count": 1,
   "id": "e737deb2",
   "metadata": {},
   "outputs": [],
   "source": [
    "nums = [1,2,3]"
   ]
  },
  {
   "cell_type": "code",
   "execution_count": 2,
   "id": "d5a023b9",
   "metadata": {},
   "outputs": [
    {
     "data": {
      "text/plain": [
       "[10, 20, 30]"
      ]
     },
     "execution_count": 2,
     "metadata": {},
     "output_type": "execute_result"
    }
   ],
   "source": [
    "[x*10 for x in nums]"
   ]
  },
  {
   "cell_type": "code",
   "execution_count": 3,
   "id": "e479d338",
   "metadata": {},
   "outputs": [
    {
     "data": {
      "text/plain": [
       "[0.5, 1.0, 1.5]"
      ]
     },
     "execution_count": 3,
     "metadata": {},
     "output_type": "execute_result"
    }
   ],
   "source": [
    "[x/2 for x in nums]"
   ]
  },
  {
   "cell_type": "code",
   "execution_count": 9,
   "id": "bf9260b8",
   "metadata": {},
   "outputs": [
    {
     "name": "stdout",
     "output_type": "stream",
     "text": [
      "[2, 4, 6, 8, 10]\n"
     ]
    }
   ],
   "source": [
    "numbers = [1,2,3,4,5]\n",
    "doubled_numbers = []\n",
    "for num in numbers:\n",
    "    doubled_number = num * 2\n",
    "    doubled_numbers.append(doubled_number)\n",
    "print(doubled_numbers)"
   ]
  },
  {
   "cell_type": "code",
   "execution_count": 11,
   "id": "125167f5",
   "metadata": {},
   "outputs": [
    {
     "name": "stdout",
     "output_type": "stream",
     "text": [
      "[2, 4, 6, 8, 10]\n"
     ]
    }
   ],
   "source": [
    "numbers = [1,2,3,4,5]\n",
    "doubled_numbers=[num*2 for num in numbers]\n",
    "print(doubled_numbers)"
   ]
  },
  {
   "cell_type": "code",
   "execution_count": 13,
   "id": "6dbc8152",
   "metadata": {},
   "outputs": [
    {
     "data": {
      "text/plain": [
       "['c', 'o', 'l', 't']"
      ]
     },
     "execution_count": 13,
     "metadata": {},
     "output_type": "execute_result"
    }
   ],
   "source": [
    "names = 'colt'\n",
    "[char for char in names]"
   ]
  },
  {
   "cell_type": "code",
   "execution_count": 14,
   "id": "23a7b499",
   "metadata": {},
   "outputs": [
    {
     "data": {
      "text/plain": [
       "['C', 'O', 'L', 'T']"
      ]
     },
     "execution_count": 14,
     "metadata": {},
     "output_type": "execute_result"
    }
   ],
   "source": [
    "names = 'colt'\n",
    "[char.upper() for char in names]"
   ]
  },
  {
   "cell_type": "code",
   "execution_count": 15,
   "id": "453d63f2",
   "metadata": {},
   "outputs": [
    {
     "data": {
      "text/plain": [
       "['jimlad', 'admub', 'boy']"
      ]
     },
     "execution_count": 15,
     "metadata": {},
     "output_type": "execute_result"
    }
   ],
   "source": [
    "friends = ['jimlad','admub','boy']\n",
    "[friend for friend in friends]"
   ]
  },
  {
   "cell_type": "code",
   "execution_count": 16,
   "id": "f2aa48c9",
   "metadata": {},
   "outputs": [
    {
     "data": {
      "text/plain": [
       "['JIMLAD', 'ADMUB', 'BOY']"
      ]
     },
     "execution_count": 16,
     "metadata": {},
     "output_type": "execute_result"
    }
   ],
   "source": [
    "friends = ['jimlad','admub','boy']\n",
    "[friend.upper() for friend in friends]"
   ]
  },
  {
   "cell_type": "code",
   "execution_count": 18,
   "id": "3022951f",
   "metadata": {},
   "outputs": [
    {
     "data": {
      "text/plain": [
       "['J', 'A', 'B']"
      ]
     },
     "execution_count": 18,
     "metadata": {},
     "output_type": "execute_result"
    }
   ],
   "source": [
    "friends = ['jimlad','admub','boy']\n",
    "[friend[0].upper() for friend in friends]"
   ]
  },
  {
   "cell_type": "code",
   "execution_count": 19,
   "id": "a6883a0b",
   "metadata": {},
   "outputs": [
    {
     "data": {
      "text/plain": [
       "['j', 'a', 'b']"
      ]
     },
     "execution_count": 19,
     "metadata": {},
     "output_type": "execute_result"
    }
   ],
   "source": [
    "friends = ['jimlad','admub','boy']\n",
    "[friend[0] for friend in friends]"
   ]
  },
  {
   "cell_type": "code",
   "execution_count": 20,
   "id": "56b67193",
   "metadata": {},
   "outputs": [
    {
     "data": {
      "text/plain": [
       "['I', 'D', 'O']"
      ]
     },
     "execution_count": 20,
     "metadata": {},
     "output_type": "execute_result"
    }
   ],
   "source": [
    "friends = ['jimlad','admub','boy']\n",
    "[friend[1].upper() for friend in friends]"
   ]
  },
  {
   "cell_type": "code",
   "execution_count": 22,
   "id": "3d82e3c9",
   "metadata": {},
   "outputs": [
    {
     "data": {
      "text/plain": [
       "['JIMLAD', 'ADMUB', 'BOY']"
      ]
     },
     "execution_count": 22,
     "metadata": {},
     "output_type": "execute_result"
    }
   ],
   "source": [
    "friends = ['jimlad','admub','boy']\n",
    "[friend.upper() for friend in friends]"
   ]
  },
  {
   "cell_type": "code",
   "execution_count": 23,
   "id": "3f793493",
   "metadata": {},
   "outputs": [
    {
     "data": {
      "text/plain": [
       "[10, 20, 30, 40]"
      ]
     },
     "execution_count": 23,
     "metadata": {},
     "output_type": "execute_result"
    }
   ],
   "source": [
    "[num*10 for num in range(1,5)]"
   ]
  },
  {
   "cell_type": "code",
   "execution_count": 32,
   "id": "4ce7ad4b",
   "metadata": {},
   "outputs": [
    {
     "data": {
      "text/plain": [
       "[False, False, False]"
      ]
     },
     "execution_count": 32,
     "metadata": {},
     "output_type": "execute_result"
    }
   ],
   "source": [
    "[bool(val) for val in [0, [], '']]"
   ]
  },
  {
   "cell_type": "code",
   "execution_count": 25,
   "id": "2b4b221f",
   "metadata": {},
   "outputs": [
    {
     "data": {
      "text/plain": [
       "[True, False, False]"
      ]
     },
     "execution_count": 25,
     "metadata": {},
     "output_type": "execute_result"
    }
   ],
   "source": [
    "[bool(val) for val in [1, [], '']]"
   ]
  },
  {
   "cell_type": "code",
   "execution_count": 28,
   "id": "e7de46ec",
   "metadata": {},
   "outputs": [
    {
     "data": {
      "text/plain": [
       "False"
      ]
     },
     "execution_count": 28,
     "metadata": {},
     "output_type": "execute_result"
    }
   ],
   "source": [
    "bool('')"
   ]
  },
  {
   "cell_type": "code",
   "execution_count": 29,
   "id": "b3560a24",
   "metadata": {},
   "outputs": [
    {
     "data": {
      "text/plain": [
       "False"
      ]
     },
     "execution_count": 29,
     "metadata": {},
     "output_type": "execute_result"
    }
   ],
   "source": [
    "bool([])"
   ]
  },
  {
   "cell_type": "code",
   "execution_count": 30,
   "id": "802f0144",
   "metadata": {},
   "outputs": [
    {
     "data": {
      "text/plain": [
       "True"
      ]
     },
     "execution_count": 30,
     "metadata": {},
     "output_type": "execute_result"
    }
   ],
   "source": [
    "bool('asd')"
   ]
  },
  {
   "cell_type": "code",
   "execution_count": 31,
   "id": "0dc82c98",
   "metadata": {},
   "outputs": [
    {
     "data": {
      "text/plain": [
       "True"
      ]
     },
     "execution_count": 31,
     "metadata": {},
     "output_type": "execute_result"
    }
   ],
   "source": [
    "bool(12)"
   ]
  },
  {
   "cell_type": "code",
   "execution_count": 33,
   "id": "de96f37d",
   "metadata": {},
   "outputs": [
    {
     "name": "stdout",
     "output_type": "stream",
     "text": [
      "['1', '2', '3', '4', '5']\n"
     ]
    }
   ],
   "source": [
    "numbers = [1,2,3,4,5]\n",
    "string_list = [str(num) for num in numbers]\n",
    "print(string_list)"
   ]
  },
  {
   "cell_type": "code",
   "execution_count": 36,
   "id": "1aeff20f",
   "metadata": {},
   "outputs": [
    {
     "name": "stdout",
     "output_type": "stream",
     "text": [
      "['AdMub', 'JIMLAD', 'Boy']\n"
     ]
    }
   ],
   "source": [
    "numbers = ['AdMub','JIMLAD','Boy']\n",
    "string_list = [str(data) for data in numbers]\n",
    "print(string_list)"
   ]
  },
  {
   "cell_type": "code",
   "execution_count": 37,
   "id": "1f194af3",
   "metadata": {},
   "outputs": [],
   "source": [
    "nums = [1,2,3]"
   ]
  },
  {
   "cell_type": "code",
   "execution_count": 38,
   "id": "ecced98c",
   "metadata": {},
   "outputs": [
    {
     "data": {
      "text/plain": [
       "['1 Hello', '2 Hello', '3 Hello']"
      ]
     },
     "execution_count": 38,
     "metadata": {},
     "output_type": "execute_result"
    }
   ],
   "source": [
    "[str(num)+ \" Hello\" for num in nums]"
   ]
  },
  {
   "cell_type": "code",
   "execution_count": 39,
   "id": "0e5ee8d3",
   "metadata": {},
   "outputs": [],
   "source": [
    "numbers = [1,2,3,4,5,6]\n",
    "evens = [num for num in numbers if num % 2 == 0]\n",
    "odd   = [num for num in numbers if num % 2 != 0 ]"
   ]
  },
  {
   "cell_type": "code",
   "execution_count": 40,
   "id": "5b6207a0",
   "metadata": {},
   "outputs": [
    {
     "data": {
      "text/plain": [
       "[0.5, 4, 1.5, 8, 2.5, 12]"
      ]
     },
     "execution_count": 40,
     "metadata": {},
     "output_type": "execute_result"
    }
   ],
   "source": [
    "[num*2 if num % 2 == 0 else num/2 for num in numbers] "
   ]
  },
  {
   "cell_type": "code",
   "execution_count": 43,
   "id": "6b95ba9d",
   "metadata": {},
   "outputs": [
    {
     "data": {
      "text/plain": [
       "[2, 4, 6, 8, 10, 12]"
      ]
     },
     "execution_count": 43,
     "metadata": {},
     "output_type": "execute_result"
    }
   ],
   "source": [
    "[num*2 if num/2 else num % 2 == 0 for num in numbers]"
   ]
  },
  {
   "cell_type": "code",
   "execution_count": 44,
   "id": "93c4730f",
   "metadata": {},
   "outputs": [
    {
     "data": {
      "text/plain": [
       "[2, 1.0, 6, 2.0, 10, 3.0]"
      ]
     },
     "execution_count": 44,
     "metadata": {},
     "output_type": "execute_result"
    }
   ],
   "source": [
    "[num*2 if num % 2 != 0 else num/2 for num in numbers] "
   ]
  },
  {
   "cell_type": "code",
   "execution_count": 45,
   "id": "680e9a2d",
   "metadata": {},
   "outputs": [
    {
     "data": {
      "text/plain": [
       "'Cdng s Fn'"
      ]
     },
     "execution_count": 45,
     "metadata": {},
     "output_type": "execute_result"
    }
   ],
   "source": [
    "with_vowels = \"Coding is Fun\"\n",
    "''.join(char for char in with_vowels if char not in \"aeiou\")"
   ]
  },
  {
   "cell_type": "code",
   "execution_count": 47,
   "id": "446b4739",
   "metadata": {},
   "outputs": [
    {
     "data": {
      "text/plain": [
       "'oiiu'"
      ]
     },
     "execution_count": 47,
     "metadata": {},
     "output_type": "execute_result"
    }
   ],
   "source": [
    "name = \"Coding is Fun\"\n",
    "''.join(char for char in name if char  in \"aeiou\")"
   ]
  },
  {
   "cell_type": "code",
   "execution_count": 54,
   "id": "004bf250",
   "metadata": {},
   "outputs": [
    {
     "data": {
      "text/plain": [
       "'Coding is Fun'"
      ]
     },
     "execution_count": 54,
     "metadata": {},
     "output_type": "execute_result"
    }
   ],
   "source": [
    "'  '.join(['Coding' ' is' ' Fun'])"
   ]
  },
  {
   "cell_type": "code",
   "execution_count": 55,
   "id": "22210e78",
   "metadata": {},
   "outputs": [
    {
     "data": {
      "text/plain": [
       "['C', 'd', 'n', 'g', ' ', 's', ' ', 'F', 'n']"
      ]
     },
     "execution_count": 55,
     "metadata": {},
     "output_type": "execute_result"
    }
   ],
   "source": [
    "[char for char in with_vowels if char not in \"aeiou\"]"
   ]
  },
  {
   "cell_type": "code",
   "execution_count": 56,
   "id": "147e489b",
   "metadata": {},
   "outputs": [],
   "source": [
    "answer2 = []\n",
    "for num in [1,2,3,4,5,6]:\n",
    "    if num % 2 == 0:\n",
    "        answer2.append(num)"
   ]
  },
  {
   "cell_type": "code",
   "execution_count": 57,
   "id": "813f76d2",
   "metadata": {},
   "outputs": [
    {
     "data": {
      "text/plain": [
       "[2, 4, 6]"
      ]
     },
     "execution_count": 57,
     "metadata": {},
     "output_type": "execute_result"
    }
   ],
   "source": [
    "answer2"
   ]
  },
  {
   "cell_type": "code",
   "execution_count": 58,
   "id": "20b88f76",
   "metadata": {},
   "outputs": [],
   "source": [
    "answer = []\n",
    "for person in [\"Elie\", \"Tim\", \"Matt\"]:\n",
    "    answer.append(person[0])"
   ]
  },
  {
   "cell_type": "code",
   "execution_count": 59,
   "id": "5910b96d",
   "metadata": {},
   "outputs": [
    {
     "data": {
      "text/plain": [
       "['E', 'T', 'M']"
      ]
     },
     "execution_count": 59,
     "metadata": {},
     "output_type": "execute_result"
    }
   ],
   "source": [
    "answer"
   ]
  },
  {
   "cell_type": "code",
   "execution_count": 60,
   "id": "868274b4",
   "metadata": {},
   "outputs": [],
   "source": [
    "answer = [val for val in range(1,101) if val % 12 == 0] "
   ]
  },
  {
   "cell_type": "code",
   "execution_count": 62,
   "id": "a8eb3033",
   "metadata": {},
   "outputs": [
    {
     "data": {
      "text/plain": [
       "[12, 24, 36, 48, 60, 72, 84, 96]"
      ]
     },
     "execution_count": 62,
     "metadata": {},
     "output_type": "execute_result"
    }
   ],
   "source": [
    "answer"
   ]
  },
  {
   "cell_type": "code",
   "execution_count": 63,
   "id": "fc81c533",
   "metadata": {},
   "outputs": [
    {
     "name": "stdout",
     "output_type": "stream",
     "text": [
      "12\n",
      "24\n",
      "36\n",
      "48\n",
      "60\n",
      "72\n",
      "84\n",
      "96\n"
     ]
    }
   ],
   "source": [
    "answer = []\n",
    "for val in range(1,101):\n",
    "    if val % 12 == 0:\n",
    "        print(val)"
   ]
  },
  {
   "cell_type": "code",
   "execution_count": 65,
   "id": "e084a3ae",
   "metadata": {},
   "outputs": [],
   "source": [
    "answer = []\n",
    "for val in range(1,101):\n",
    "    if val % 12 == 0:\n",
    "        answer.append(val)"
   ]
  },
  {
   "cell_type": "code",
   "execution_count": 66,
   "id": "78ee78ee",
   "metadata": {},
   "outputs": [
    {
     "data": {
      "text/plain": [
       "[12, 24, 36, 48, 60, 72, 84, 96]"
      ]
     },
     "execution_count": 66,
     "metadata": {},
     "output_type": "execute_result"
    }
   ],
   "source": [
    "answer"
   ]
  },
  {
   "cell_type": "code",
   "execution_count": 67,
   "id": "4b2a8723",
   "metadata": {},
   "outputs": [],
   "source": [
    "nested_list = [[1,2,3], [4,5,6], [7,8,9]]"
   ]
  },
  {
   "cell_type": "code",
   "execution_count": 72,
   "id": "799587dc",
   "metadata": {},
   "outputs": [
    {
     "data": {
      "text/plain": [
       "2"
      ]
     },
     "execution_count": 72,
     "metadata": {},
     "output_type": "execute_result"
    }
   ],
   "source": [
    "nested_list[0][1]"
   ]
  },
  {
   "cell_type": "code",
   "execution_count": 73,
   "id": "d98c13cc",
   "metadata": {},
   "outputs": [
    {
     "data": {
      "text/plain": [
       "5"
      ]
     },
     "execution_count": 73,
     "metadata": {},
     "output_type": "execute_result"
    }
   ],
   "source": [
    "nested_list[1][1]"
   ]
  },
  {
   "cell_type": "code",
   "execution_count": 74,
   "id": "d8ef1791",
   "metadata": {},
   "outputs": [
    {
     "data": {
      "text/plain": [
       "9"
      ]
     },
     "execution_count": 74,
     "metadata": {},
     "output_type": "execute_result"
    }
   ],
   "source": [
    "nested_list[2][2]"
   ]
  },
  {
   "cell_type": "code",
   "execution_count": 75,
   "id": "074c5e91",
   "metadata": {},
   "outputs": [
    {
     "data": {
      "text/plain": [
       "[1, 2, 3]"
      ]
     },
     "execution_count": 75,
     "metadata": {},
     "output_type": "execute_result"
    }
   ],
   "source": [
    "nested_list[0]"
   ]
  },
  {
   "cell_type": "code",
   "execution_count": 76,
   "id": "e32a303f",
   "metadata": {},
   "outputs": [
    {
     "data": {
      "text/plain": [
       "[7, 8, 9]"
      ]
     },
     "execution_count": 76,
     "metadata": {},
     "output_type": "execute_result"
    }
   ],
   "source": [
    "nested_list[-1]"
   ]
  },
  {
   "cell_type": "code",
   "execution_count": 77,
   "id": "327e2a12",
   "metadata": {},
   "outputs": [
    {
     "data": {
      "text/plain": [
       "3"
      ]
     },
     "execution_count": 77,
     "metadata": {},
     "output_type": "execute_result"
    }
   ],
   "source": [
    "nested_list[0][-1]"
   ]
  },
  {
   "cell_type": "code",
   "execution_count": 78,
   "id": "6e6eb018",
   "metadata": {},
   "outputs": [
    {
     "data": {
      "text/plain": [
       "9"
      ]
     },
     "execution_count": 78,
     "metadata": {},
     "output_type": "execute_result"
    }
   ],
   "source": [
    "nested_list[-1][2]"
   ]
  },
  {
   "cell_type": "code",
   "execution_count": 79,
   "id": "990a1da9",
   "metadata": {},
   "outputs": [
    {
     "name": "stdout",
     "output_type": "stream",
     "text": [
      "1\n",
      "2\n",
      "3\n",
      "4\n",
      "5\n",
      "6\n",
      "7\n",
      "8\n",
      "9\n"
     ]
    }
   ],
   "source": [
    "for l in nested_list:\n",
    "    for val in l:\n",
    "        print(val)"
   ]
  },
  {
   "cell_type": "code",
   "execution_count": 80,
   "id": "1d12f804",
   "metadata": {},
   "outputs": [],
   "source": [
    "answer = [val for val in range(1,101) if val % 12 == 0] "
   ]
  },
  {
   "cell_type": "code",
   "execution_count": 84,
   "id": "0e10b825",
   "metadata": {},
   "outputs": [],
   "source": [
    "l = [val for val in nested_list if l]"
   ]
  },
  {
   "cell_type": "code",
   "execution_count": 85,
   "id": "27babfa3",
   "metadata": {},
   "outputs": [
    {
     "data": {
      "text/plain": [
       "9"
      ]
     },
     "execution_count": 85,
     "metadata": {},
     "output_type": "execute_result"
    }
   ],
   "source": [
    "val"
   ]
  },
  {
   "cell_type": "code",
   "execution_count": 86,
   "id": "0414cfde",
   "metadata": {},
   "outputs": [
    {
     "data": {
      "text/plain": [
       "[[1, 2, 3], [4, 5, 6], [7, 8, 9]]"
      ]
     },
     "execution_count": 86,
     "metadata": {},
     "output_type": "execute_result"
    }
   ],
   "source": [
    "l"
   ]
  },
  {
   "cell_type": "code",
   "execution_count": 89,
   "id": "f9ec388b",
   "metadata": {},
   "outputs": [],
   "source": [
    "l = [val for val in l if nested_list]"
   ]
  },
  {
   "cell_type": "code",
   "execution_count": 90,
   "id": "c17fb868",
   "metadata": {},
   "outputs": [
    {
     "data": {
      "text/plain": [
       "[[1, 2, 3], [4, 5, 6], [7, 8, 9]]"
      ]
     },
     "execution_count": 90,
     "metadata": {},
     "output_type": "execute_result"
    }
   ],
   "source": [
    "l"
   ]
  },
  {
   "cell_type": "code",
   "execution_count": 91,
   "id": "dbeca700",
   "metadata": {},
   "outputs": [
    {
     "name": "stdout",
     "output_type": "stream",
     "text": [
      "9\n"
     ]
    }
   ],
   "source": [
    "print(val)"
   ]
  },
  {
   "cell_type": "code",
   "execution_count": 92,
   "id": "18c4e57e",
   "metadata": {},
   "outputs": [
    {
     "data": {
      "text/plain": [
       "[[1, 2, 3], [4, 5, 6], [7, 8, 9]]"
      ]
     },
     "execution_count": 92,
     "metadata": {},
     "output_type": "execute_result"
    }
   ],
   "source": [
    "nested_list"
   ]
  },
  {
   "cell_type": "code",
   "execution_count": 93,
   "id": "200b314c",
   "metadata": {},
   "outputs": [
    {
     "name": "stdout",
     "output_type": "stream",
     "text": [
      "[1, 2, 3]\n",
      "[4, 5, 6]\n",
      "[7, 8, 9]\n"
     ]
    }
   ],
   "source": [
    "for age in nested_list:\n",
    "    print(age)"
   ]
  },
  {
   "cell_type": "code",
   "execution_count": 94,
   "id": "6ec9f757",
   "metadata": {},
   "outputs": [],
   "source": [
    " val = [val for val in l if nested_list]"
   ]
  },
  {
   "cell_type": "code",
   "execution_count": 95,
   "id": "d3832e29",
   "metadata": {},
   "outputs": [
    {
     "data": {
      "text/plain": [
       "[[1, 2, 3], [4, 5, 6], [7, 8, 9]]"
      ]
     },
     "execution_count": 95,
     "metadata": {},
     "output_type": "execute_result"
    }
   ],
   "source": [
    "val"
   ]
  },
  {
   "cell_type": "code",
   "execution_count": 96,
   "id": "16769cc7",
   "metadata": {},
   "outputs": [
    {
     "name": "stdout",
     "output_type": "stream",
     "text": [
      "1\n",
      "2\n",
      "3\n",
      "4\n",
      "5\n",
      "6\n",
      "7\n",
      "8\n",
      "9\n"
     ]
    },
    {
     "data": {
      "text/plain": [
       "[[None, None, None], [None, None, None], [None, None, None]]"
      ]
     },
     "execution_count": 96,
     "metadata": {},
     "output_type": "execute_result"
    }
   ],
   "source": [
    "[[print(val) for val in l] for l in nested_list]"
   ]
  },
  {
   "cell_type": "code",
   "execution_count": 97,
   "id": "6505707b",
   "metadata": {},
   "outputs": [
    {
     "name": "stdout",
     "output_type": "stream",
     "text": [
      "[[1, 2, 3], [1, 2, 3], [1, 2, 3]]\n"
     ]
    }
   ],
   "source": [
    "board = [[num for num in range(1,4)] for val in range(1,4)] \n",
    "print(board)"
   ]
  },
  {
   "cell_type": "code",
   "execution_count": 98,
   "id": "7592922d",
   "metadata": {},
   "outputs": [
    {
     "name": "stdout",
     "output_type": "stream",
     "text": [
      "[[1, 2, 3], [1, 2, 3], [1, 2, 3]]\n"
     ]
    }
   ],
   "source": [
    "board = [[num for num in range(1,4)] for num in range(1,4)] \n",
    "print(board)"
   ]
  },
  {
   "cell_type": "code",
   "execution_count": 99,
   "id": "6340e04d",
   "metadata": {},
   "outputs": [
    {
     "name": "stdout",
     "output_type": "stream",
     "text": [
      "[[1, 2, 3, 4], [1, 2, 3, 4], [1, 2, 3, 4]]\n"
     ]
    }
   ],
   "source": [
    "board = [[num for num in range(1,5)] for val in range(1,4)] \n",
    "print(board)"
   ]
  },
  {
   "cell_type": "code",
   "execution_count": 100,
   "id": "158781d4",
   "metadata": {},
   "outputs": [
    {
     "name": "stdout",
     "output_type": "stream",
     "text": [
      "[1, 2, 3]\n"
     ]
    }
   ],
   "source": [
    "age = [num for num in range(1,4)]\n",
    "print(age)"
   ]
  },
  {
   "cell_type": "code",
   "execution_count": 102,
   "id": "812c28b2",
   "metadata": {},
   "outputs": [
    {
     "data": {
      "text/plain": [
       "[['X', 'O', 'X'], ['X', 'O', 'X'], ['X', 'O', 'X']]"
      ]
     },
     "execution_count": 102,
     "metadata": {},
     "output_type": "execute_result"
    }
   ],
   "source": [
    "[[\"X\" if num % 2 != 0 else \"O\" for num in range(1,4)] for val in range(1,4)]"
   ]
  },
  {
   "cell_type": "code",
   "execution_count": 104,
   "id": "62c69708",
   "metadata": {},
   "outputs": [
    {
     "data": {
      "text/plain": [
       "[['O', 'X', 'O'], ['O', 'X', 'O'], ['O', 'X', 'O']]"
      ]
     },
     "execution_count": 104,
     "metadata": {},
     "output_type": "execute_result"
    }
   ],
   "source": [
    "[[\"X\" if num % 2 == 0 else \"O\" for num in range(1,4)] for val in range(1,4)]"
   ]
  },
  {
   "cell_type": "code",
   "execution_count": 1,
   "id": "71537e5f",
   "metadata": {},
   "outputs": [
    {
     "data": {
      "text/plain": [
       "['*', '*', '*']"
      ]
     },
     "execution_count": 1,
     "metadata": {},
     "output_type": "execute_result"
    }
   ],
   "source": [
    "['*' for i in range(1,4)]"
   ]
  },
  {
   "cell_type": "code",
   "execution_count": 2,
   "id": "95a1f73c",
   "metadata": {},
   "outputs": [
    {
     "data": {
      "text/plain": [
       "['*', '*', '*', '*']"
      ]
     },
     "execution_count": 2,
     "metadata": {},
     "output_type": "execute_result"
    }
   ],
   "source": [
    "['*' for i in range(5,9)]"
   ]
  },
  {
   "cell_type": "code",
   "execution_count": 3,
   "id": "b93981db",
   "metadata": {},
   "outputs": [
    {
     "data": {
      "text/plain": [
       "[['*'], ['*'], ['*'], ['*']]"
      ]
     },
     "execution_count": 3,
     "metadata": {},
     "output_type": "execute_result"
    }
   ],
   "source": [
    "[['*'] for i in range(5,9)]"
   ]
  },
  {
   "cell_type": "code",
   "execution_count": 6,
   "id": "cdd3758b",
   "metadata": {
    "scrolled": true
   },
   "outputs": [
    {
     "data": {
      "text/plain": [
       "[['*'],\n",
       " ['*'],\n",
       " ['*'],\n",
       " ['*'],\n",
       " ['*'],\n",
       " ['*'],\n",
       " ['*'],\n",
       " ['*'],\n",
       " ['*'],\n",
       " ['*'],\n",
       " ['*'],\n",
       " ['*']]"
      ]
     },
     "execution_count": 6,
     "metadata": {},
     "output_type": "execute_result"
    }
   ],
   "source": [
    "[['*'] for x in [1,2,3] for i in range(5,9)]"
   ]
  },
  {
   "cell_type": "code",
   "execution_count": 7,
   "id": "6b1b21aa",
   "metadata": {},
   "outputs": [
    {
     "data": {
      "text/plain": [
       "[['*', '*', '*'], ['*', '*', '*'], ['*', '*', '*'], ['*', '*', '*']]"
      ]
     },
     "execution_count": 7,
     "metadata": {},
     "output_type": "execute_result"
    }
   ],
   "source": [
    "[['*' for x in [1,2,3]] for i in range(5,9)]"
   ]
  },
  {
   "cell_type": "code",
   "execution_count": 8,
   "id": "c3eb6ad8",
   "metadata": {},
   "outputs": [
    {
     "data": {
      "text/plain": [
       "[['*', '*', '*'], ['*', '*', '*'], ['*', '*', '*'], ['*', '*', '*']]"
      ]
     },
     "execution_count": 8,
     "metadata": {},
     "output_type": "execute_result"
    }
   ],
   "source": [
    "[['*' for x in range(1,4)] for i in range(5,9)]"
   ]
  },
  {
   "cell_type": "code",
   "execution_count": 11,
   "id": "cf3ee1a5",
   "metadata": {},
   "outputs": [
    {
     "name": "stdout",
     "output_type": "stream",
     "text": [
      "[0, 0, 0, 0, 0, 0, 0, 0, 0, 0, 1, 1, 1, 1, 1, 1, 1, 1, 1, 1, 2, 2, 2, 2, 2, 2, 2, 2, 2, 2, 3, 3, 3, 3, 3, 3, 3, 3, 3, 3, 4, 4, 4, 4, 4, 4, 4, 4, 4, 4, 5, 5, 5, 5, 5, 5, 5, 5, 5, 5, 6, 6, 6, 6, 6, 6, 6, 6, 6, 6, 7, 7, 7, 7, 7, 7, 7, 7, 7, 7, 8, 8, 8, 8, 8, 8, 8, 8, 8, 8, 9, 9, 9, 9, 9, 9, 9, 9, 9, 9]\n"
     ]
    }
   ],
   "source": [
    "age = [ num for num in range(0,10) for i in range(0,10)]\n",
    "print(age)"
   ]
  },
  {
   "cell_type": "code",
   "execution_count": 13,
   "id": "793db86e",
   "metadata": {},
   "outputs": [
    {
     "name": "stdout",
     "output_type": "stream",
     "text": [
      "[0, 1, 2, 3, 4, 5, 6, 7, 8, 9, 0, 1, 2, 3, 4, 5, 6, 7, 8, 9, 0, 1, 2, 3, 4, 5, 6, 7, 8, 9, 0, 1, 2, 3, 4, 5, 6, 7, 8, 9, 0, 1, 2, 3, 4, 5, 6, 7, 8, 9, 0, 1, 2, 3, 4, 5, 6, 7, 8, 9, 0, 1, 2, 3, 4, 5, 6, 7, 8, 9, 0, 1, 2, 3, 4, 5, 6, 7, 8, 9, 0, 1, 2, 3, 4, 5, 6, 7, 8, 9, 0, 1, 2, 3, 4, 5, 6, 7, 8, 9]\n"
     ]
    }
   ],
   "source": [
    "age = [num for num in range(0,10) for num in range(0,10)]\n",
    "print(age)"
   ]
  },
  {
   "cell_type": "code",
   "execution_count": 14,
   "id": "186818b7",
   "metadata": {},
   "outputs": [
    {
     "name": "stdout",
     "output_type": "stream",
     "text": [
      "[[0, 1, 2, 3, 4, 5, 6, 7, 8, 9], [0, 1, 2, 3, 4, 5, 6, 7, 8, 9], [0, 1, 2, 3, 4, 5, 6, 7, 8, 9], [0, 1, 2, 3, 4, 5, 6, 7, 8, 9], [0, 1, 2, 3, 4, 5, 6, 7, 8, 9], [0, 1, 2, 3, 4, 5, 6, 7, 8, 9], [0, 1, 2, 3, 4, 5, 6, 7, 8, 9], [0, 1, 2, 3, 4, 5, 6, 7, 8, 9], [0, 1, 2, 3, 4, 5, 6, 7, 8, 9], [0, 1, 2, 3, 4, 5, 6, 7, 8, 9]]\n"
     ]
    }
   ],
   "source": [
    "age = [[num for num in range(0,10)] for num in range(0,10)]\n",
    "print(age)"
   ]
  },
  {
   "cell_type": "code",
   "execution_count": 15,
   "id": "2b7c0d56",
   "metadata": {},
   "outputs": [
    {
     "name": "stdout",
     "output_type": "stream",
     "text": [
      "[[0, 1, 2, 3, 4, 5, 6, 7, 8, 9], [0, 1, 2, 3, 4, 5, 6, 7, 8, 9], [0, 1, 2, 3, 4, 5, 6, 7, 8, 9], [0, 1, 2, 3, 4, 5, 6, 7, 8, 9], [0, 1, 2, 3, 4, 5, 6, 7, 8, 9], [0, 1, 2, 3, 4, 5, 6, 7, 8, 9], [0, 1, 2, 3, 4, 5, 6, 7, 8, 9], [0, 1, 2, 3, 4, 5, 6, 7, 8, 9], [0, 1, 2, 3, 4, 5, 6, 7, 8, 9], [0, 1, 2, 3, 4, 5, 6, 7, 8, 9]]\n"
     ]
    }
   ],
   "source": [
    "age = [[num for num in range(0,10)] for i in range(0,10)]\n",
    "print(age)"
   ]
  },
  {
   "cell_type": "code",
   "execution_count": null,
   "id": "49950195",
   "metadata": {},
   "outputs": [],
   "source": []
  }
 ],
 "metadata": {
  "kernelspec": {
   "display_name": "Python 3 (ipykernel)",
   "language": "python",
   "name": "python3"
  },
  "language_info": {
   "codemirror_mode": {
    "name": "ipython",
    "version": 3
   },
   "file_extension": ".py",
   "mimetype": "text/x-python",
   "name": "python",
   "nbconvert_exporter": "python",
   "pygments_lexer": "ipython3",
   "version": "3.9.7"
  }
 },
 "nbformat": 4,
 "nbformat_minor": 5
}
