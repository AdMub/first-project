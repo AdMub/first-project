{
 "cells": [
  {
   "cell_type": "code",
   "execution_count": 1,
   "id": "5b8139ed",
   "metadata": {},
   "outputs": [],
   "source": [
    "s = {1,4,5,4,5} "
   ]
  },
  {
   "cell_type": "code",
   "execution_count": 2,
   "id": "af7baa54",
   "metadata": {},
   "outputs": [
    {
     "data": {
      "text/plain": [
       "{1, 4, 5}"
      ]
     },
     "execution_count": 2,
     "metadata": {},
     "output_type": "execute_result"
    }
   ],
   "source": [
    "s"
   ]
  },
  {
   "cell_type": "code",
   "execution_count": 3,
   "id": "6d46b94f",
   "metadata": {},
   "outputs": [
    {
     "ename": "TypeError",
     "evalue": "'set' object is not subscriptable",
     "output_type": "error",
     "traceback": [
      "\u001b[1;31m---------------------------------------------------------------------------\u001b[0m",
      "\u001b[1;31mTypeError\u001b[0m                                 Traceback (most recent call last)",
      "\u001b[1;32m~\\AppData\\Local\\Temp/ipykernel_1336/243613605.py\u001b[0m in \u001b[0;36m<module>\u001b[1;34m\u001b[0m\n\u001b[1;32m----> 1\u001b[1;33m \u001b[0ms\u001b[0m\u001b[1;33m[\u001b[0m\u001b[1;36m0\u001b[0m\u001b[1;33m]\u001b[0m\u001b[1;33m\u001b[0m\u001b[1;33m\u001b[0m\u001b[0m\n\u001b[0m",
      "\u001b[1;31mTypeError\u001b[0m: 'set' object is not subscriptable"
     ]
    }
   ],
   "source": [
    "s[0]"
   ]
  },
  {
   "cell_type": "code",
   "execution_count": 4,
   "id": "885b628c",
   "metadata": {},
   "outputs": [
    {
     "data": {
      "text/plain": [
       "True"
      ]
     },
     "execution_count": 4,
     "metadata": {},
     "output_type": "execute_result"
    }
   ],
   "source": [
    " 4 in s"
   ]
  },
  {
   "cell_type": "code",
   "execution_count": 5,
   "id": "a4dbc172",
   "metadata": {},
   "outputs": [
    {
     "data": {
      "text/plain": [
       "False"
      ]
     },
     "execution_count": 5,
     "metadata": {},
     "output_type": "execute_result"
    }
   ],
   "source": [
    "\"h\" in s"
   ]
  },
  {
   "cell_type": "code",
   "execution_count": 6,
   "id": "3587b66f",
   "metadata": {},
   "outputs": [],
   "source": [
    "p = {1, 4,5,'a','b',23.444}"
   ]
  },
  {
   "cell_type": "code",
   "execution_count": 7,
   "id": "d2d270cb",
   "metadata": {},
   "outputs": [
    {
     "data": {
      "text/plain": [
       "{1, 23.444, 4, 5, 'a', 'b'}"
      ]
     },
     "execution_count": 7,
     "metadata": {},
     "output_type": "execute_result"
    }
   ],
   "source": [
    "p"
   ]
  },
  {
   "cell_type": "code",
   "execution_count": 19,
   "id": "0d2c3fb6",
   "metadata": {},
   "outputs": [
    {
     "data": {
      "text/plain": [
       "{1, 23.444, 4, 5, 'a', 'b'}"
      ]
     },
     "execution_count": 19,
     "metadata": {},
     "output_type": "execute_result"
    }
   ],
   "source": [
    "p"
   ]
  },
  {
   "cell_type": "code",
   "execution_count": 13,
   "id": "fc6b02fe",
   "metadata": {},
   "outputs": [],
   "source": [
    "months = (\"January\", \"February\", \"March\", \"April\", \"May\", \"June\", \"July\", \"August\", \"September\", \"October\", \"November\", \"December\")"
   ]
  },
  {
   "cell_type": "code",
   "execution_count": 14,
   "id": "5f18ce14",
   "metadata": {},
   "outputs": [
    {
     "name": "stdout",
     "output_type": "stream",
     "text": [
      "{'November', 'May', 'August', 'January', 'July', 'March', 'September', 'April', 'October', 'June', 'February', 'December'}\n"
     ]
    }
   ],
   "source": [
    "print(set(months))"
   ]
  },
  {
   "cell_type": "code",
   "execution_count": 15,
   "id": "6205a041",
   "metadata": {},
   "outputs": [
    {
     "name": "stdout",
     "output_type": "stream",
     "text": [
      "['November', 'May', 'August', 'January', 'July', 'March', 'September', 'April', 'October', 'June', 'February', 'December']\n"
     ]
    }
   ],
   "source": [
    "print(list(set(months)))"
   ]
  },
  {
   "cell_type": "code",
   "execution_count": 16,
   "id": "749753c3",
   "metadata": {},
   "outputs": [
    {
     "name": "stdout",
     "output_type": "stream",
     "text": [
      "12\n"
     ]
    }
   ],
   "source": [
    "print(len(set(months)))"
   ]
  },
  {
   "cell_type": "code",
   "execution_count": 22,
   "id": "f81866a2",
   "metadata": {},
   "outputs": [],
   "source": [
    "d = set([1,2,3])"
   ]
  },
  {
   "cell_type": "code",
   "execution_count": 24,
   "id": "a3b3d90d",
   "metadata": {},
   "outputs": [],
   "source": [
    "d.add(4)"
   ]
  },
  {
   "cell_type": "code",
   "execution_count": 25,
   "id": "6f1d52e2",
   "metadata": {},
   "outputs": [
    {
     "data": {
      "text/plain": [
       "{1, 2, 3, 4}"
      ]
     },
     "execution_count": 25,
     "metadata": {},
     "output_type": "execute_result"
    }
   ],
   "source": [
    "d"
   ]
  },
  {
   "cell_type": "code",
   "execution_count": 26,
   "id": "a1f6b057",
   "metadata": {},
   "outputs": [],
   "source": [
    "d.add(4)"
   ]
  },
  {
   "cell_type": "code",
   "execution_count": 29,
   "id": "c01d494c",
   "metadata": {},
   "outputs": [
    {
     "data": {
      "text/plain": [
       "{1, 2, 3, 4}"
      ]
     },
     "execution_count": 29,
     "metadata": {},
     "output_type": "execute_result"
    }
   ],
   "source": [
    "d"
   ]
  },
  {
   "cell_type": "code",
   "execution_count": 30,
   "id": "bafb3bf2",
   "metadata": {},
   "outputs": [],
   "source": [
    "d.remove(4)"
   ]
  },
  {
   "cell_type": "code",
   "execution_count": 31,
   "id": "7c9e1dc0",
   "metadata": {},
   "outputs": [
    {
     "data": {
      "text/plain": [
       "{1, 2, 3}"
      ]
     },
     "execution_count": 31,
     "metadata": {},
     "output_type": "execute_result"
    }
   ],
   "source": [
    "d"
   ]
  },
  {
   "cell_type": "code",
   "execution_count": 32,
   "id": "845a1330",
   "metadata": {},
   "outputs": [
    {
     "ename": "KeyError",
     "evalue": "5",
     "output_type": "error",
     "traceback": [
      "\u001b[1;31m---------------------------------------------------------------------------\u001b[0m",
      "\u001b[1;31mKeyError\u001b[0m                                  Traceback (most recent call last)",
      "\u001b[1;32m~\\AppData\\Local\\Temp/ipykernel_1336/3460114557.py\u001b[0m in \u001b[0;36m<module>\u001b[1;34m\u001b[0m\n\u001b[1;32m----> 1\u001b[1;33m \u001b[0md\u001b[0m\u001b[1;33m.\u001b[0m\u001b[0mremove\u001b[0m\u001b[1;33m(\u001b[0m\u001b[1;36m5\u001b[0m\u001b[1;33m)\u001b[0m\u001b[1;33m\u001b[0m\u001b[1;33m\u001b[0m\u001b[0m\n\u001b[0m",
      "\u001b[1;31mKeyError\u001b[0m: 5"
     ]
    }
   ],
   "source": [
    "d.remove(5)"
   ]
  },
  {
   "cell_type": "code",
   "execution_count": 33,
   "id": "042f0c0d",
   "metadata": {},
   "outputs": [],
   "source": [
    "d.discard(5)"
   ]
  },
  {
   "cell_type": "code",
   "execution_count": 34,
   "id": "265ea73e",
   "metadata": {},
   "outputs": [
    {
     "data": {
      "text/plain": [
       "{1, 2, 3}"
      ]
     },
     "execution_count": 34,
     "metadata": {},
     "output_type": "execute_result"
    }
   ],
   "source": [
    "d"
   ]
  },
  {
   "cell_type": "code",
   "execution_count": 35,
   "id": "37a5a742",
   "metadata": {},
   "outputs": [],
   "source": [
    "d.discard(2)"
   ]
  },
  {
   "cell_type": "code",
   "execution_count": 36,
   "id": "b029e07c",
   "metadata": {},
   "outputs": [
    {
     "data": {
      "text/plain": [
       "{1, 3}"
      ]
     },
     "execution_count": 36,
     "metadata": {},
     "output_type": "execute_result"
    }
   ],
   "source": [
    "d"
   ]
  },
  {
   "cell_type": "code",
   "execution_count": 37,
   "id": "d1d3414a",
   "metadata": {},
   "outputs": [],
   "source": [
    "another_d = d.copy()"
   ]
  },
  {
   "cell_type": "code",
   "execution_count": 38,
   "id": "dee62796",
   "metadata": {},
   "outputs": [
    {
     "data": {
      "text/plain": [
       "{1, 3}"
      ]
     },
     "execution_count": 38,
     "metadata": {},
     "output_type": "execute_result"
    }
   ],
   "source": [
    "another_d"
   ]
  },
  {
   "cell_type": "code",
   "execution_count": 39,
   "id": "287b78e1",
   "metadata": {},
   "outputs": [
    {
     "data": {
      "text/plain": [
       "False"
      ]
     },
     "execution_count": 39,
     "metadata": {},
     "output_type": "execute_result"
    }
   ],
   "source": [
    "another_d is d"
   ]
  },
  {
   "cell_type": "code",
   "execution_count": 40,
   "id": "60dd15d2",
   "metadata": {},
   "outputs": [
    {
     "data": {
      "text/plain": [
       "True"
      ]
     },
     "execution_count": 40,
     "metadata": {},
     "output_type": "execute_result"
    }
   ],
   "source": [
    "another_d == d"
   ]
  },
  {
   "cell_type": "code",
   "execution_count": 41,
   "id": "bd585624",
   "metadata": {},
   "outputs": [],
   "source": [
    "d.clear()"
   ]
  },
  {
   "cell_type": "code",
   "execution_count": 42,
   "id": "2d7ab99f",
   "metadata": {},
   "outputs": [
    {
     "data": {
      "text/plain": [
       "set()"
      ]
     },
     "execution_count": 42,
     "metadata": {},
     "output_type": "execute_result"
    }
   ],
   "source": [
    "d"
   ]
  },
  {
   "cell_type": "code",
   "execution_count": 43,
   "id": "11d393aa",
   "metadata": {},
   "outputs": [],
   "source": [
    "math_students = {\"Matthew\", \"Helen\", \"Prashant\", \"James\", \"Aparna\"}\n",
    "biology_students = {\"Jane\", \"Matthew\", \"Charlotte\", \"Mesut\", \"Olivier\", \"James\"}"
   ]
  },
  {
   "cell_type": "code",
   "execution_count": 44,
   "id": "92e9d91c",
   "metadata": {},
   "outputs": [
    {
     "data": {
      "text/plain": [
       "{'Aparna',\n",
       " 'Charlotte',\n",
       " 'Helen',\n",
       " 'James',\n",
       " 'Jane',\n",
       " 'Matthew',\n",
       " 'Mesut',\n",
       " 'Olivier',\n",
       " 'Prashant'}"
      ]
     },
     "execution_count": 44,
     "metadata": {},
     "output_type": "execute_result"
    }
   ],
   "source": [
    "math_students | biology_students"
   ]
  },
  {
   "cell_type": "code",
   "execution_count": 46,
   "id": "cbaaad24",
   "metadata": {},
   "outputs": [
    {
     "data": {
      "text/plain": [
       "{'James', 'Matthew'}"
      ]
     },
     "execution_count": 46,
     "metadata": {},
     "output_type": "execute_result"
    }
   ],
   "source": [
    " math_students & biology_students"
   ]
  },
  {
   "cell_type": "code",
   "execution_count": 47,
   "id": "1be001a8",
   "metadata": {},
   "outputs": [
    {
     "data": {
      "text/plain": [
       "{0, 1, 4, 9, 16, 25, 36, 49, 64, 81}"
      ]
     },
     "execution_count": 47,
     "metadata": {},
     "output_type": "execute_result"
    }
   ],
   "source": [
    "{x**2 for x in range(10)}"
   ]
  },
  {
   "cell_type": "code",
   "execution_count": 48,
   "id": "ef66640a",
   "metadata": {},
   "outputs": [
    {
     "data": {
      "text/plain": [
       "{0: 0, 1: 1, 2: 4, 3: 9, 4: 16, 5: 25, 6: 36, 7: 49, 8: 64, 9: 81}"
      ]
     },
     "execution_count": 48,
     "metadata": {},
     "output_type": "execute_result"
    }
   ],
   "source": [
    "{x:x**2 for x in range(10)}"
   ]
  },
  {
   "cell_type": "code",
   "execution_count": 49,
   "id": "59573d08",
   "metadata": {},
   "outputs": [
    {
     "data": {
      "text/plain": [
       "{'E', 'H', 'L', 'O'}"
      ]
     },
     "execution_count": 49,
     "metadata": {},
     "output_type": "execute_result"
    }
   ],
   "source": [
    "{char.upper() for char in \"HELLO\"}"
   ]
  },
  {
   "cell_type": "code",
   "execution_count": 51,
   "id": "8aa078c1",
   "metadata": {},
   "outputs": [],
   "source": [
    "def are_all_vowels_in_string(string):\n",
    "    return len({char for char in string if char in 'aeiou'}) == 5"
   ]
  },
  {
   "cell_type": "code",
   "execution_count": 52,
   "id": "70a01ee9",
   "metadata": {},
   "outputs": [],
   "source": [
    "string = 'Hello'"
   ]
  },
  {
   "cell_type": "code",
   "execution_count": 61,
   "id": "41b304e5",
   "metadata": {},
   "outputs": [
    {
     "data": {
      "text/plain": [
       "{'a', 'e', 'i', 'o', 'u'}"
      ]
     },
     "execution_count": 61,
     "metadata": {},
     "output_type": "execute_result"
    }
   ],
   "source": [
    " {char for char in string if char in 'aeiou'}"
   ]
  },
  {
   "cell_type": "code",
   "execution_count": 54,
   "id": "bcda468e",
   "metadata": {},
   "outputs": [],
   "source": [
    "string = 'Hello hahaha'"
   ]
  },
  {
   "cell_type": "code",
   "execution_count": 55,
   "id": "3c2d5c4e",
   "metadata": {},
   "outputs": [
    {
     "data": {
      "text/plain": [
       "{'a', 'e', 'o'}"
      ]
     },
     "execution_count": 55,
     "metadata": {},
     "output_type": "execute_result"
    }
   ],
   "source": [
    "{char for char in string if char in 'aeiou'}"
   ]
  },
  {
   "cell_type": "code",
   "execution_count": 57,
   "id": "587ba2b4",
   "metadata": {},
   "outputs": [
    {
     "data": {
      "text/plain": [
       "3"
      ]
     },
     "execution_count": 57,
     "metadata": {},
     "output_type": "execute_result"
    }
   ],
   "source": [
    "len ({char for char in string if char in 'aeiou'})"
   ]
  },
  {
   "cell_type": "code",
   "execution_count": 58,
   "id": "41788922",
   "metadata": {},
   "outputs": [
    {
     "data": {
      "text/plain": [
       "False"
      ]
     },
     "execution_count": 58,
     "metadata": {},
     "output_type": "execute_result"
    }
   ],
   "source": [
    "len ({char for char in string if char in 'aeiou'}) == 5"
   ]
  },
  {
   "cell_type": "code",
   "execution_count": 59,
   "id": "9e18010a",
   "metadata": {},
   "outputs": [
    {
     "data": {
      "text/plain": [
       "True"
      ]
     },
     "execution_count": 59,
     "metadata": {},
     "output_type": "execute_result"
    }
   ],
   "source": [
    "len ({char for char in string if char in 'aeiou'}) == 3"
   ]
  },
  {
   "cell_type": "code",
   "execution_count": 60,
   "id": "4c6b21c0",
   "metadata": {},
   "outputs": [],
   "source": [
    "string = \"sequoia\""
   ]
  },
  {
   "cell_type": "code",
   "execution_count": 62,
   "id": "4df0f875",
   "metadata": {},
   "outputs": [
    {
     "data": {
      "text/plain": [
       "True"
      ]
     },
     "execution_count": 62,
     "metadata": {},
     "output_type": "execute_result"
    }
   ],
   "source": [
    "len ({char for char in string if char in 'aeiou'}) == 5"
   ]
  },
  {
   "cell_type": "code",
   "execution_count": 63,
   "id": "a499f91c",
   "metadata": {},
   "outputs": [
    {
     "data": {
      "text/plain": [
       "{'a', 'e', 'i', 'o', 'u'}"
      ]
     },
     "execution_count": 63,
     "metadata": {},
     "output_type": "execute_result"
    }
   ],
   "source": [
    "{char for char in string if char in 'aeiou'}"
   ]
  },
  {
   "cell_type": "code",
   "execution_count": null,
   "id": "0c2fda41",
   "metadata": {},
   "outputs": [],
   "source": []
  }
 ],
 "metadata": {
  "kernelspec": {
   "display_name": "Python 3 (ipykernel)",
   "language": "python",
   "name": "python3"
  },
  "language_info": {
   "codemirror_mode": {
    "name": "ipython",
    "version": 3
   },
   "file_extension": ".py",
   "mimetype": "text/x-python",
   "name": "python",
   "nbconvert_exporter": "python",
   "pygments_lexer": "ipython3",
   "version": "3.9.7"
  }
 },
 "nbformat": 4,
 "nbformat_minor": 5
}
