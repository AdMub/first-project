{
 "cells": [
  {
   "cell_type": "code",
   "execution_count": 1,
   "id": "276c3d89",
   "metadata": {},
   "outputs": [
    {
     "data": {
      "text/plain": [
       "19"
      ]
     },
     "execution_count": 1,
     "metadata": {},
     "output_type": "execute_result"
    }
   ],
   "source": [
    "def sum_all_nums(num1, num2, num3):\n",
    "    return num1 + num2 + num3\n",
    "sum_all_nums(4,6,9)"
   ]
  },
  {
   "cell_type": "code",
   "execution_count": 2,
   "id": "8052db66",
   "metadata": {},
   "outputs": [
    {
     "data": {
      "text/plain": [
       "19"
      ]
     },
     "execution_count": 2,
     "metadata": {},
     "output_type": "execute_result"
    }
   ],
   "source": [
    "def sum_all_nums(num1, num2, num3,num4,num5):\n",
    "    return num1 + num2 + num3\n",
    "sum_all_nums(4,6,9,5,34)\n"
   ]
  },
  {
   "cell_type": "code",
   "execution_count": 5,
   "id": "de98fb2c",
   "metadata": {},
   "outputs": [
    {
     "data": {
      "text/plain": [
       "19"
      ]
     },
     "execution_count": 5,
     "metadata": {},
     "output_type": "execute_result"
    }
   ],
   "source": [
    "def sum_all_nums(num1, num2, num3,num4=0,num5=0):\n",
    "    return num1 + num2 + num3 + num4 + num5\n",
    "sum_all_nums(4,6,9,5,34)\n",
    "sum_all_nums(4,6,9)"
   ]
  },
  {
   "cell_type": "code",
   "execution_count": 6,
   "id": "7d11cb6f",
   "metadata": {},
   "outputs": [
    {
     "ename": "TypeError",
     "evalue": "sum_all_nums() missing 2 required positional arguments: 'num4' and 'num5'",
     "output_type": "error",
     "traceback": [
      "\u001b[1;31m---------------------------------------------------------------------------\u001b[0m",
      "\u001b[1;31mTypeError\u001b[0m                                 Traceback (most recent call last)",
      "\u001b[1;32m~\\AppData\\Local\\Temp/ipykernel_7380/1258172852.py\u001b[0m in \u001b[0;36m<module>\u001b[1;34m\u001b[0m\n\u001b[0;32m      2\u001b[0m     \u001b[1;32mreturn\u001b[0m \u001b[0mnum1\u001b[0m \u001b[1;33m+\u001b[0m \u001b[0mnum2\u001b[0m \u001b[1;33m+\u001b[0m \u001b[0mnum3\u001b[0m \u001b[1;33m+\u001b[0m \u001b[0mnum4\u001b[0m \u001b[1;33m+\u001b[0m \u001b[0mnum5\u001b[0m\u001b[1;33m\u001b[0m\u001b[1;33m\u001b[0m\u001b[0m\n\u001b[0;32m      3\u001b[0m \u001b[0msum_all_nums\u001b[0m\u001b[1;33m(\u001b[0m\u001b[1;36m4\u001b[0m\u001b[1;33m,\u001b[0m\u001b[1;36m6\u001b[0m\u001b[1;33m,\u001b[0m\u001b[1;36m9\u001b[0m\u001b[1;33m,\u001b[0m\u001b[1;36m5\u001b[0m\u001b[1;33m,\u001b[0m\u001b[1;36m34\u001b[0m\u001b[1;33m)\u001b[0m\u001b[1;33m\u001b[0m\u001b[1;33m\u001b[0m\u001b[0m\n\u001b[1;32m----> 4\u001b[1;33m \u001b[0msum_all_nums\u001b[0m\u001b[1;33m(\u001b[0m\u001b[1;36m4\u001b[0m\u001b[1;33m,\u001b[0m\u001b[1;36m6\u001b[0m\u001b[1;33m,\u001b[0m\u001b[1;36m9\u001b[0m\u001b[1;33m)\u001b[0m\u001b[1;33m\u001b[0m\u001b[1;33m\u001b[0m\u001b[0m\n\u001b[0m",
      "\u001b[1;31mTypeError\u001b[0m: sum_all_nums() missing 2 required positional arguments: 'num4' and 'num5'"
     ]
    }
   ],
   "source": [
    "def sum_all_nums(num1, num2, num3,num4,num5):\n",
    "    return num1 + num2 + num3 + num4 + num5\n",
    "sum_all_nums(4,6,9,5,34)\n",
    "sum_all_nums(4,6,9)"
   ]
  },
  {
   "cell_type": "code",
   "execution_count": 7,
   "id": "9fef2f6e",
   "metadata": {},
   "outputs": [
    {
     "name": "stdout",
     "output_type": "stream",
     "text": [
      "(4, 6, 9, 5, 34)\n",
      "(4, 6, 9)\n"
     ]
    }
   ],
   "source": [
    "def sum_all_nums(*args):\n",
    "    print(args)\n",
    "sum_all_nums(4,6,9,5,34)\n",
    "sum_all_nums(4,6,9)"
   ]
  },
  {
   "cell_type": "code",
   "execution_count": 8,
   "id": "ed174958",
   "metadata": {},
   "outputs": [
    {
     "name": "stdout",
     "output_type": "stream",
     "text": [
      "(4, 6, 9, 5, 34)\n",
      "None\n",
      "(4, 6, 9)\n"
     ]
    }
   ],
   "source": [
    "def sum_all_nums(*args):\n",
    "    print(args)\n",
    "    \n",
    "print(sum_all_nums(4,6,9,5,34))\n",
    "print((4,6,9))"
   ]
  },
  {
   "cell_type": "code",
   "execution_count": 14,
   "id": "9e84c0bb",
   "metadata": {},
   "outputs": [
    {
     "name": "stdout",
     "output_type": "stream",
     "text": [
      "58\n",
      "(4, 6, 9)\n"
     ]
    }
   ],
   "source": [
    "def sum_all_nums(*args):\n",
    "    total = 0\n",
    "    for nums in args:\n",
    "        total += nums\n",
    "    return total\n",
    "    \n",
    "print(sum_all_nums(4,6,9,5,34))\n",
    "print((4,6,9))"
   ]
  },
  {
   "cell_type": "code",
   "execution_count": 15,
   "id": "8a5cd113",
   "metadata": {},
   "outputs": [
    {
     "name": "stdout",
     "output_type": "stream",
     "text": [
      "(4, 6, 9, 5, 34)\n",
      "(4, 6, 9)\n"
     ]
    }
   ],
   "source": [
    "def sum_all_nums(*args):\n",
    "    total = 0\n",
    "    for nums in args:\n",
    "        total += nums\n",
    "    return args\n",
    "    \n",
    "print(sum_all_nums(4,6,9,5,34))\n",
    "print((4,6,9))"
   ]
  },
  {
   "cell_type": "code",
   "execution_count": 17,
   "id": "448e74ca",
   "metadata": {},
   "outputs": [
    {
     "data": {
      "text/plain": [
       "19"
      ]
     },
     "execution_count": 17,
     "metadata": {},
     "output_type": "execute_result"
    }
   ],
   "source": [
    "def sum_all_nums(*args):\n",
    "    total = 0\n",
    "    for nums in args:\n",
    "        total += nums\n",
    "    return total\n",
    "    \n",
    "sum_all_nums(4,6,9,5,34)\n",
    "sum_all_nums(4,6,9)"
   ]
  },
  {
   "cell_type": "code",
   "execution_count": 18,
   "id": "ae7be1dc",
   "metadata": {},
   "outputs": [
    {
     "name": "stdout",
     "output_type": "stream",
     "text": [
      "58\n",
      "19\n"
     ]
    }
   ],
   "source": [
    "def sum_all_nums(*args):\n",
    "    total = 0\n",
    "    for nums in args:\n",
    "        total += nums\n",
    "    return total\n",
    "    \n",
    "print(sum_all_nums(4,6,9,5,34))\n",
    "print(sum_all_nums(4,6,9))"
   ]
  },
  {
   "cell_type": "code",
   "execution_count": 19,
   "id": "ba478c40",
   "metadata": {},
   "outputs": [
    {
     "name": "stdout",
     "output_type": "stream",
     "text": [
      "4\n",
      "54\n",
      "4\n",
      "15\n"
     ]
    }
   ],
   "source": [
    "def sum_all_nums(num1, *args):\n",
    "    print(num1)\n",
    "    total = 0\n",
    "    for nums in args:\n",
    "        total += nums\n",
    "    return total\n",
    "    \n",
    "print(sum_all_nums(4,6,9,5,34))\n",
    "print(sum_all_nums(4,6,9))"
   ]
  },
  {
   "cell_type": "code",
   "execution_count": 21,
   "id": "ed4e8adc",
   "metadata": {},
   "outputs": [
    {
     "name": "stdout",
     "output_type": "stream",
     "text": [
      "4 6\n",
      "48\n",
      "4 6\n",
      "9\n"
     ]
    }
   ],
   "source": [
    "def sum_all_nums(num1, num2, *args):\n",
    "    print(num1, num2)\n",
    "    total = 0\n",
    "    for nums in args:\n",
    "        total += nums\n",
    "    return total\n",
    "    \n",
    "print(sum_all_nums(4,6,9,5,34))\n",
    "print(sum_all_nums(4,6,9))"
   ]
  },
  {
   "cell_type": "code",
   "execution_count": 23,
   "id": "6fbb1f56",
   "metadata": {},
   "outputs": [
    {
     "name": "stdout",
     "output_type": "stream",
     "text": [
      "4\n",
      "6\n",
      "48\n",
      "4\n",
      "6\n",
      "9\n"
     ]
    }
   ],
   "source": [
    "def sum_all_nums(num1, num2, *args):\n",
    "    print(num1)\n",
    "    print(num2)\n",
    "    total = 0\n",
    "    for nums in args:\n",
    "        total += nums\n",
    "    return total\n",
    "    \n",
    "print(sum_all_nums(4,6,9,5,34))\n",
    "print(sum_all_nums(4,6,9))"
   ]
  },
  {
   "cell_type": "code",
   "execution_count": 24,
   "id": "ac767109",
   "metadata": {},
   "outputs": [
    {
     "name": "stdout",
     "output_type": "stream",
     "text": [
      "4\n",
      "4\n",
      "48\n",
      "4\n",
      "4\n",
      "9\n"
     ]
    }
   ],
   "source": [
    "def sum_all_nums(num1, num2, *args):\n",
    "    print(num1)\n",
    "    print(num1)\n",
    "    total = 0\n",
    "    for nums in args:\n",
    "        total += nums\n",
    "    return total\n",
    "    \n",
    "print(sum_all_nums(4,6,9,5,34))\n",
    "print(sum_all_nums(4,6,9))"
   ]
  },
  {
   "cell_type": "code",
   "execution_count": 27,
   "id": "e6c40599",
   "metadata": {},
   "outputs": [
    {
     "data": {
      "text/plain": [
       "'Not sure who you are'"
      ]
     },
     "execution_count": 27,
     "metadata": {},
     "output_type": "execute_result"
    }
   ],
   "source": [
    "def ensure_correct_info(*args):\n",
    "    if \"Abu\" in args and \"Arib\" in args:\n",
    "        return \"Welcome  back Abu!\"\n",
    "    return \"Not sure who you are\"\n",
    "\n",
    "ensure_correct_info()"
   ]
  },
  {
   "cell_type": "code",
   "execution_count": 29,
   "id": "dc96c994",
   "metadata": {},
   "outputs": [
    {
     "data": {
      "text/plain": [
       "'Welcome  back Abu!'"
      ]
     },
     "execution_count": 29,
     "metadata": {},
     "output_type": "execute_result"
    }
   ],
   "source": [
    "def ensure_correct_info(*args):\n",
    "    if \"Abu\" in args and \"Arib\" in args:\n",
    "        return \"Welcome  back Abu!\"\n",
    "    return \"Not sure who you are\"\n",
    "\n",
    "\n",
    "ensure_correct_info()\n",
    "ensure_correct_info(1, True, \"Abu\", \"Arib\")"
   ]
  },
  {
   "cell_type": "code",
   "execution_count": 32,
   "id": "b4171fc1",
   "metadata": {},
   "outputs": [
    {
     "data": {
      "text/plain": [
       "'Not sure who you are'"
      ]
     },
     "execution_count": 32,
     "metadata": {},
     "output_type": "execute_result"
    }
   ],
   "source": [
    "def ensure_correct_info(*args):\n",
    "    if \"Abu\" in args and \"Arib\" in args:\n",
    "        return \"Welcome  back Abu!\"\n",
    "    return \"Not sure who you are\"\n",
    "\n",
    "ensure_correct_info(True)"
   ]
  },
  {
   "cell_type": "code",
   "execution_count": 34,
   "id": "b791ffcf",
   "metadata": {},
   "outputs": [
    {
     "data": {
      "text/plain": [
       "'Not sure who you are'"
      ]
     },
     "execution_count": 34,
     "metadata": {},
     "output_type": "execute_result"
    }
   ],
   "source": [
    "def ensure_correct_info(*args):\n",
    "    if \"Abu\" in args and \"Arib\" in args:\n",
    "        return \"Welcome  back Abu!\"\n",
    "    return \"Not sure who you are\"\n",
    "\n",
    "ensure_correct_info(\"Abu\" == True)"
   ]
  },
  {
   "cell_type": "code",
   "execution_count": 35,
   "id": "81f4b48a",
   "metadata": {},
   "outputs": [
    {
     "data": {
      "text/plain": [
       "'Welcome  back Abu!'"
      ]
     },
     "execution_count": 35,
     "metadata": {},
     "output_type": "execute_result"
    }
   ],
   "source": [
    "def ensure_correct_info(*args):\n",
    "    if \"Abu\" in args and \"Arib\" in args:\n",
    "        return \"Welcome  back Abu!\"\n",
    "    return \"Not sure who you are\"\n",
    "\n",
    "\n",
    "ensure_correct_info()\n",
    "ensure_correct_info(13, True, \"Abu\", \"Arib\")"
   ]
  },
  {
   "cell_type": "code",
   "execution_count": 36,
   "id": "c87508f1",
   "metadata": {},
   "outputs": [
    {
     "data": {
      "text/plain": [
       "'Not sure who you are'"
      ]
     },
     "execution_count": 36,
     "metadata": {},
     "output_type": "execute_result"
    }
   ],
   "source": [
    "def ensure_correct_info(*args):\n",
    "    if \"Abu\" in args and \"Arib\" in args:\n",
    "        return \"Welcome  back Abu!\"\n",
    "    return \"Not sure who you are\"\n",
    "\n",
    "\n",
    "ensure_correct_info()\n",
    "ensure_correct_info(1, True, \"Abu\")"
   ]
  },
  {
   "cell_type": "code",
   "execution_count": 37,
   "id": "1bc06ba8",
   "metadata": {},
   "outputs": [
    {
     "data": {
      "text/plain": [
       "'Welcome  back Abu!'"
      ]
     },
     "execution_count": 37,
     "metadata": {},
     "output_type": "execute_result"
    }
   ],
   "source": [
    "def ensure_correct_info(*args):\n",
    "    if \"Abu\" in args and \"Arib\" in args:\n",
    "        return \"Welcome  back Abu!\"\n",
    "    return \"Not sure who you are\"\n",
    "\n",
    "\n",
    "ensure_correct_info()\n",
    "ensure_correct_info(1, False, \"Abu\", \"Arib\")"
   ]
  },
  {
   "cell_type": "code",
   "execution_count": 38,
   "id": "bb14ff16",
   "metadata": {},
   "outputs": [
    {
     "data": {
      "text/plain": [
       "'Not sure who you are'"
      ]
     },
     "execution_count": 38,
     "metadata": {},
     "output_type": "execute_result"
    }
   ],
   "source": [
    "def ensure_correct_info(*args):\n",
    "    if \"Abu\" in args and \"Arib\" in args:\n",
    "        return \"Welcome  back Abu!\"\n",
    "    return \"Not sure who you are\"\n",
    "\n",
    "\n",
    "ensure_correct_info()\n",
    "ensure_correct_info(1, True, \"Abu\", \"Dog\")"
   ]
  },
  {
   "cell_type": "code",
   "execution_count": 39,
   "id": "658098fc",
   "metadata": {},
   "outputs": [
    {
     "data": {
      "text/plain": [
       "'Not sure who you are'"
      ]
     },
     "execution_count": 39,
     "metadata": {},
     "output_type": "execute_result"
    }
   ],
   "source": [
    "def ensure_correct_info(*args):\n",
    "    if \"Abu\" in args and \"Arib\" in args:\n",
    "        return \"Welcome  back Abu!\"\n",
    "    return \"Not sure who you are\"\n",
    "\n",
    "\n",
    "ensure_correct_info()\n",
    "ensure_correct_info(1, True, \"abu\", \"Arib\")"
   ]
  },
  {
   "cell_type": "code",
   "execution_count": 40,
   "id": "9461c43f",
   "metadata": {},
   "outputs": [
    {
     "name": "stdout",
     "output_type": "stream",
     "text": [
      "()\n",
      "(1, True, 'Abu', 'Arib')\n"
     ]
    },
    {
     "data": {
      "text/plain": [
       "'Welcome  back Abu!'"
      ]
     },
     "execution_count": 40,
     "metadata": {},
     "output_type": "execute_result"
    }
   ],
   "source": [
    "def ensure_correct_info(*args):\n",
    "    print(args)\n",
    "    if \"Abu\" in args and \"Arib\" in args:\n",
    "        return \"Welcome  back Abu!\"\n",
    "    return \"Not sure who you are\"\n",
    "\n",
    "\n",
    "ensure_correct_info()\n",
    "ensure_correct_info(1, True, \"Abu\", \"Arib\")"
   ]
  },
  {
   "cell_type": "code",
   "execution_count": 41,
   "id": "ac4325a2",
   "metadata": {},
   "outputs": [
    {
     "data": {
      "text/plain": [
       "'Welcome  back Abu!'"
      ]
     },
     "execution_count": 41,
     "metadata": {},
     "output_type": "execute_result"
    }
   ],
   "source": [
    "def ensure_correct_info(*args):\n",
    "    if \"Abu\" in args and \"Arib\" in args:\n",
    "        return \"Welcome  back Abu!\"\n",
    "    return \"Not sure who you are\"\n",
    "\n",
    "\n",
    "ensure_correct_info()\n",
    "ensure_correct_info(True, 1, \"Abu\", \"Arib\")"
   ]
  },
  {
   "cell_type": "code",
   "execution_count": 42,
   "id": "13f1451b",
   "metadata": {},
   "outputs": [
    {
     "data": {
      "text/plain": [
       "'Welcome  back Abu!'"
      ]
     },
     "execution_count": 42,
     "metadata": {},
     "output_type": "execute_result"
    }
   ],
   "source": [
    "def ensure_correct_info(*args):\n",
    "    if \"Abu\" in args and \"Arib\" in args:\n",
    "        return \"Welcome  back Abu!\"\n",
    "    return \"Not sure who you are\"\n",
    "\n",
    "\n",
    "ensure_correct_info()\n",
    "ensure_correct_info(\"Arib\", True, 33, \"Abu\")"
   ]
  },
  {
   "cell_type": "code",
   "execution_count": 43,
   "id": "b72fd061",
   "metadata": {},
   "outputs": [
    {
     "name": "stdout",
     "output_type": "stream",
     "text": [
      "()\n",
      "Not sure who you are\n",
      "(1, True, 'Abu', 'Arib')\n",
      "Welcome  back Abu!\n"
     ]
    }
   ],
   "source": [
    "def ensure_correct_info(*args):\n",
    "    print(args)\n",
    "    if \"Abu\" in args and \"Arib\" in args:\n",
    "        return \"Welcome  back Abu!\"\n",
    "    return \"Not sure who you are\"\n",
    "\n",
    "\n",
    "print(ensure_correct_info())\n",
    "print(ensure_correct_info(1, True, \"Abu\", \"Arib\"))"
   ]
  },
  {
   "cell_type": "code",
   "execution_count": 46,
   "id": "a90e044a",
   "metadata": {},
   "outputs": [
    {
     "name": "stdout",
     "output_type": "stream",
     "text": [
      "()\n",
      "(1, True, 'Abu', 'Arib')\n",
      "Welcome  back Abu!\n"
     ]
    }
   ],
   "source": [
    "def ensure_correct_info(*args):\n",
    "    print(args)\n",
    "    if \"Abu\" in args and \"Arib\" in args:\n",
    "        return \"Welcome  back Abu!\"\n",
    "    return \"Not sure who you are\"\n",
    "\n",
    "\n",
    "ensure_correct_info()\n",
    "print(ensure_correct_info(1, True, \"Abu\", \"Arib\"))"
   ]
  },
  {
   "cell_type": "code",
   "execution_count": 45,
   "id": "16507e0c",
   "metadata": {},
   "outputs": [
    {
     "name": "stdout",
     "output_type": "stream",
     "text": [
      "('hello', False, 78)\n",
      "Not sure who you are\n",
      "(1, True, 'Abu', 'Arib')\n",
      "Welcome  back Abu!\n"
     ]
    }
   ],
   "source": [
    "def ensure_correct_info(*args):\n",
    "    print(args)\n",
    "    if \"Abu\" in args and \"Arib\" in args:\n",
    "        return \"Welcome  back Abu!\"\n",
    "    return \"Not sure who you are\"\n",
    "\n",
    "\n",
    "print(ensure_correct_info(\"hello\", False, 78))\n",
    "print(ensure_correct_info(1, True, \"Abu\", \"Arib\"))"
   ]
  },
  {
   "cell_type": "code",
   "execution_count": 48,
   "id": "98ecdcb9",
   "metadata": {},
   "outputs": [
    {
     "data": {
      "text/plain": [
       "False"
      ]
     },
     "execution_count": 48,
     "metadata": {},
     "output_type": "execute_result"
    }
   ],
   "source": [
    "def contains_purple(*args):\n",
    "    if \"purple\" in args: return True\n",
    "    return False\n",
    "\n",
    "contains_purple()"
   ]
  },
  {
   "cell_type": "code",
   "execution_count": 49,
   "id": "9c676e19",
   "metadata": {},
   "outputs": [
    {
     "data": {
      "text/plain": [
       "True"
      ]
     },
     "execution_count": 49,
     "metadata": {},
     "output_type": "execute_result"
    }
   ],
   "source": [
    "def contains_purple(*args):\n",
    "    if \"purple\" in args: return True\n",
    "    return False\n",
    "\n",
    "contains_purple(\"purple\")"
   ]
  },
  {
   "cell_type": "code",
   "execution_count": 1,
   "id": "87aa1f5a",
   "metadata": {},
   "outputs": [
    {
     "name": "stdout",
     "output_type": "stream",
     "text": [
      "colt's favorite color is purple\n",
      "ruby's favorite color is red\n",
      "ethel's favorite color is teal\n",
      "colt's favorite color is purple\n",
      "ruby's favorite color is red\n",
      "ethel's favorite color is teal\n",
      "ted's favorite color is blue\n",
      "colt's favorite color is royal deep amazing purple\n"
     ]
    }
   ],
   "source": [
    "def fav_colors(**kwargs):\n",
    "\tfor person, color in kwargs.items():\n",
    "\t\tprint(f\"{person}'s favorite color is {color}\")\n",
    "\n",
    "fav_colors(colt=\"purple\", ruby=\"red\", ethel=\"teal\")\n",
    "fav_colors(colt=\"purple\", ruby=\"red\", ethel=\"teal\", ted=\"blue\")\n",
    "fav_colors(colt=\"royal deep amazing purple\")"
   ]
  },
  {
   "cell_type": "code",
   "execution_count": 13,
   "id": "8423a1f1",
   "metadata": {},
   "outputs": [
    {
     "name": "stdout",
     "output_type": "stream",
     "text": [
      "Abu's favorite color is yellow\n",
      "Jimlad's favorite color is lilac\n",
      "Arib's favorite color is Magenta\n"
     ]
    }
   ],
   "source": [
    "def fav_colors(**args):\n",
    "    for person, color in args.items():\n",
    "        print(f\"{person}'s favorite color is {color}\")\n",
    "        \n",
    "fav_colors(Abu = \"yellow\", Jimlad = \"lilac\", Arib = \"Magenta\")"
   ]
  },
  {
   "cell_type": "code",
   "execution_count": 11,
   "id": "dd245a7d",
   "metadata": {},
   "outputs": [
    {
     "name": "stdout",
     "output_type": "stream",
     "text": [
      "colt's favorite color is purple\n",
      "ruby's favorite color is red\n",
      "ethel's favorite color is teal\n",
      "colt's favorite color is purple\n",
      "ruby's favorite color is red\n",
      "ethel's favorite color is teal\n",
      "ted's favorite color is blue\n",
      "colt's favorite color is royal deep amazing purple\n"
     ]
    }
   ],
   "source": [
    "def fav_colors(**kwargs):\n",
    "    for person, colors in kwargs.items():\n",
    "        print(f\"{person}'s favorite color is {colors}\")\n",
    "        \n",
    "fav_colors(colt=\"purple\", ruby=\"red\", ethel=\"teal\")\n",
    "fav_colors(colt=\"purple\", ruby=\"red\", ethel=\"teal\", ted=\"blue\")\n",
    "fav_colors(colt=\"royal deep amazing purple\")"
   ]
  },
  {
   "cell_type": "code",
   "execution_count": 9,
   "id": "73b397f9",
   "metadata": {},
   "outputs": [
    {
     "name": "stdout",
     "output_type": "stream",
     "text": [
      "colt's favorite color is purple\n",
      "ruby's favorite color is red\n",
      "ethel's favorite color is teal\n",
      "colt's favorite color is purple\n",
      "ruby's favorite color is red\n",
      "ethel's favorite color is teal\n",
      "ted's favorite color is blue\n",
      "colt's favorite color is royal deep amazing purple\n"
     ]
    }
   ],
   "source": [
    "def fav_colors(**kwargs):\n",
    "\tfor person, color in kwargs.items():\n",
    "\t\tprint(f\"{person}'s favorite color is {color}\")\n",
    "\n",
    "fav_colors(colt=\"purple\", ruby=\"red\", ethel=\"teal\")\n",
    "fav_colors(colt=\"purple\", ruby=\"red\", ethel=\"teal\", ted=\"blue\")\n",
    "fav_colors(colt=\"royal deep amazing purple\")"
   ]
  },
  {
   "cell_type": "code",
   "execution_count": 4,
   "id": "30a8e5b6",
   "metadata": {},
   "outputs": [
    {
     "name": "stdout",
     "output_type": "stream",
     "text": [
      "Abu's favorite color is yellow\n",
      "Jimlad's favorite color is lilac\n",
      "Arib's favorite color is Magenta\n",
      "Abu's favorite color is yellow\n",
      "Jimlad's favorite color is lilac\n",
      "Arib's favorite color is Magenta\n",
      "AdMub's favorite color is Sky-Blue\n",
      "Abu's favorite color is Cloudy Beautiful Amazing Sky-Blue\n"
     ]
    }
   ],
   "source": [
    "def fav_colors(**args):\n",
    "    for person, color in args.items():\n",
    "        print(f\"{person}'s favorite color is {color}\")\n",
    "        \n",
    "fav_colors(Abu = \"yellow\", Jimlad = \"lilac\", Arib = \"Magenta\")\n",
    "fav_colors(Abu = \"yellow\", Jimlad = \"lilac\", Arib = \"Magenta\", AdMub = \"Sky-Blue\")\n",
    "fav_colors(Abu = \"Cloudy Beautiful Amazing Sky-Blue\")"
   ]
  },
  {
   "cell_type": "code",
   "execution_count": 6,
   "id": "ea700d51",
   "metadata": {},
   "outputs": [
    {
     "name": "stdout",
     "output_type": "stream",
     "text": [
      "Hello David!\n"
     ]
    }
   ],
   "source": [
    "def special_greeting(**kwargs):\n",
    "    if \"David\" in kwargs and kwargs[\"David\"] == \"special\":\n",
    "        return \"You get a special greeting David!\"\n",
    "    elif \"David\" in kwargs:\n",
    "        return f\"{kwargs['David']} David!\"\n",
    "\n",
    "    return \"Not sure who this is...\"\n",
    "print(special_greeting(David = \"Hello\"))"
   ]
  },
  {
   "cell_type": "code",
   "execution_count": 7,
   "id": "399f7171",
   "metadata": {},
   "outputs": [
    {
     "name": "stdout",
     "output_type": "stream",
     "text": [
      "Not sure who this is...\n"
     ]
    }
   ],
   "source": [
    "def special_greeting(**kwargs):\n",
    "    if \"David\" in kwargs and kwargs[\"David\"] == \"special\":\n",
    "        return \"You get a special greeting David!\"\n",
    "    elif \"David\" in kwargs:\n",
    "        return f\"{kwargs['David']} David!\"\n",
    "\n",
    "    return \"Not sure who this is...\"\n",
    "\n",
    "print(special_greeting(Arib = \"Hello\"))"
   ]
  },
  {
   "cell_type": "code",
   "execution_count": 8,
   "id": "02ec7979",
   "metadata": {},
   "outputs": [
    {
     "ename": "NameError",
     "evalue": "name 'Jimlad' is not defined",
     "output_type": "error",
     "traceback": [
      "\u001b[1;31m---------------------------------------------------------------------------\u001b[0m",
      "\u001b[1;31mNameError\u001b[0m                                 Traceback (most recent call last)",
      "\u001b[1;32m~\\AppData\\Local\\Temp/ipykernel_8556/3028531358.py\u001b[0m in \u001b[0;36m<module>\u001b[1;34m\u001b[0m\n\u001b[0;32m      7\u001b[0m     \u001b[1;32mreturn\u001b[0m \u001b[1;34m\"Not sure who this is...\"\u001b[0m\u001b[1;33m\u001b[0m\u001b[1;33m\u001b[0m\u001b[0m\n\u001b[0;32m      8\u001b[0m \u001b[1;33m\u001b[0m\u001b[0m\n\u001b[1;32m----> 9\u001b[1;33m \u001b[0mprint\u001b[0m\u001b[1;33m(\u001b[0m\u001b[0mspecial_greeting\u001b[0m\u001b[1;33m(\u001b[0m\u001b[0mJimlad\u001b[0m\u001b[1;33m)\u001b[0m\u001b[1;33m)\u001b[0m\u001b[1;33m\u001b[0m\u001b[1;33m\u001b[0m\u001b[0m\n\u001b[0m",
      "\u001b[1;31mNameError\u001b[0m: name 'Jimlad' is not defined"
     ]
    }
   ],
   "source": [
    "def special_greeting(**kwargs):\n",
    "    if \"David\" in kwargs and kwargs[\"David\"] == \"special\":\n",
    "        return \"You get a special greeting David!\"\n",
    "    elif \"David\" in kwargs:\n",
    "        return f\"{kwargs['David']} David!\"\n",
    "\n",
    "    return \"Not sure who this is...\"\n",
    "\n",
    "print(special_greeting(Jimlad))"
   ]
  },
  {
   "cell_type": "code",
   "execution_count": 9,
   "id": "ea8a0062",
   "metadata": {},
   "outputs": [
    {
     "name": "stdout",
     "output_type": "stream",
     "text": [
      "Not sure who this is...\n"
     ]
    }
   ],
   "source": [
    "def special_greeting(**kwargs):\n",
    "    if \"David\" in kwargs and kwargs[\"David\"] == \"special\":\n",
    "        return \"You get a special greeting David!\"\n",
    "    elif \"David\" in kwargs:\n",
    "        return f\"{kwargs['David']} David!\"\n",
    "\n",
    "    return \"Not sure who this is...\"\n",
    "\n",
    "print(special_greeting(Arib = \"special\"))"
   ]
  },
  {
   "cell_type": "code",
   "execution_count": 10,
   "id": "808bbbe4",
   "metadata": {},
   "outputs": [
    {
     "name": "stdout",
     "output_type": "stream",
     "text": [
      "Not sure who this is...\n"
     ]
    }
   ],
   "source": [
    "def special_greeting(**kwargs):\n",
    "    if \"David\" in kwargs and kwargs[\"David\"] == \"special\":\n",
    "        return \"You get a special greeting David!\"\n",
    "    elif \"David\" in kwargs:\n",
    "        return f\"{kwargs['David']} David!\"\n",
    "\n",
    "    return \"Not sure who this is...\"\n",
    "\n",
    "print(special_greeting(Bob = \"special\"))"
   ]
  },
  {
   "cell_type": "code",
   "execution_count": 11,
   "id": "022f641c",
   "metadata": {},
   "outputs": [
    {
     "name": "stdout",
     "output_type": "stream",
     "text": [
      "You get a special greeting David!\n"
     ]
    }
   ],
   "source": [
    "def special_greeting(**kwargs):\n",
    "    if \"David\" in kwargs and kwargs[\"David\"] == \"special\":\n",
    "        return \"You get a special greeting David!\"\n",
    "    elif \"David\" in kwargs:\n",
    "        return f\"{kwargs['David']} David!\"\n",
    "\n",
    "    return \"Not sure who this is...\"\n",
    "\n",
    "print(special_greeting(David = \"special\"))"
   ]
  },
  {
   "cell_type": "code",
   "execution_count": 3,
   "id": "25f72405",
   "metadata": {},
   "outputs": [
    {
     "name": "stdout",
     "output_type": "stream",
     "text": [
      "Hello David!\n",
      "Not sure who this is...\n",
      "You get a special greeting David!\n"
     ]
    }
   ],
   "source": [
    "def special_greeting(**kwargs):\n",
    "    if \"David\" in kwargs and kwargs[\"David\"] == \"special\":\n",
    "        return \"You get a special greeting David!\"\n",
    "    elif \"David\" in kwargs:\n",
    "        return f\"{kwargs['David']} David!\"\n",
    "    \n",
    "    return \"Not sure who this is...\"\n",
    "\n",
    "print(special_greeting(David = 'Hello'))\n",
    "print(special_greeting(Bob = 'hello'))\n",
    "print(special_greeting(David = 'special'))"
   ]
  },
  {
   "cell_type": "code",
   "execution_count": 4,
   "id": "12cabb06",
   "metadata": {},
   "outputs": [
    {
     "name": "stdout",
     "output_type": "stream",
     "text": [
      "Hello David!\n",
      "You get a special greeting David!\n",
      "Not sure who this is...\n"
     ]
    }
   ],
   "source": [
    "def special_greeting(**kwargs):\n",
    "    if \"David\" in kwargs and kwargs[\"David\"] == \"special\":\n",
    "        return \"You get a special greeting David!\"\n",
    "    elif \"David\" in kwargs:\n",
    "        return f\"{kwargs['David']} David!\"\n",
    "    \n",
    "    return \"Not sure who this is...\"\n",
    "\n",
    "print(special_greeting(David = 'Hello'))\n",
    "print(special_greeting(David = 'special'))\n",
    "print(special_greeting(Bob = 'hello'))"
   ]
  },
  {
   "cell_type": "code",
   "execution_count": 5,
   "id": "1365d680",
   "metadata": {},
   "outputs": [
    {
     "name": "stdout",
     "output_type": "stream",
     "text": [
      "You get a special greeting David!\n"
     ]
    }
   ],
   "source": [
    "def special_greeting(**kwargs):\n",
    "    if \"David\" in kwargs and kwargs[\"David\"] == \"special\":\n",
    "        return \"You get a special greeting David!\"\n",
    "    elif \"David\" in kwargs:\n",
    "        return f\"{kwargs['David']} David!\"\n",
    "    \n",
    "    return \"Not sure who this is...\"\n",
    "\n",
    "print(special_greeting(Heather = \"hello\", David = \"special\"))"
   ]
  },
  {
   "cell_type": "code",
   "execution_count": 6,
   "id": "5275e362",
   "metadata": {},
   "outputs": [
    {
     "name": "stdout",
     "output_type": "stream",
     "text": [
      "You get a special greeting David!\n"
     ]
    }
   ],
   "source": [
    "def special_greeting(**kwargs):\n",
    "    if \"David\" in kwargs and kwargs[\"David\"] == \"special\":\n",
    "        return \"You get a special greeting David!\"\n",
    "    elif \"David\" in kwargs:\n",
    "        return f\"{kwargs['David']} David!\"\n",
    "    \n",
    "    return \"Not sure who this is...\"\n",
    "\n",
    "print(special_greeting(David = \"special\", Heather = \"hello\"))"
   ]
  },
  {
   "cell_type": "code",
   "execution_count": 7,
   "id": "3d868cff",
   "metadata": {},
   "outputs": [
    {
     "name": "stdout",
     "output_type": "stream",
     "text": [
      "You get a special greeting David!\n"
     ]
    }
   ],
   "source": [
    "def special_greeting(**kwargs):\n",
    "    if \"David\" in kwargs and kwargs[\"David\"] == \"special\":\n",
    "        return \"You get a special greeting David!\"\n",
    "    elif \"David\" in kwargs:\n",
    "        return f\"{kwargs['David']} David!\"\n",
    "    \n",
    "    return \"Not sure who this is...\"\n",
    "\n",
    "print(special_greeting(David = \"special\", Bob = \"hello\"))"
   ]
  },
  {
   "cell_type": "code",
   "execution_count": 8,
   "id": "22b6afc1",
   "metadata": {},
   "outputs": [
    {
     "name": "stdout",
     "output_type": "stream",
     "text": [
      "You get a special greeting David!\n"
     ]
    }
   ],
   "source": [
    "def special_greeting(Heather = \"hello\", **kwargs):\n",
    "    if \"David\" in kwargs and kwargs[\"David\"] == \"special\":\n",
    "        return \"You get a special greeting David!\"\n",
    "    elif \"David\" in kwargs:\n",
    "        return f\"{kwargs['David']} David!\"\n",
    "    \n",
    "    return \"Not sure who this is...\"\n",
    "\n",
    "print(special_greeting(David = \"special\", Heather = \"hello\"))"
   ]
  },
  {
   "cell_type": "code",
   "execution_count": 9,
   "id": "cc6ea2b6",
   "metadata": {},
   "outputs": [
    {
     "name": "stdout",
     "output_type": "stream",
     "text": [
      "You get a special greeting David!\n"
     ]
    }
   ],
   "source": [
    "def special_greeting(Heather = \"hello\", **kwargs):\n",
    "    if \"David\" in kwargs and kwargs[\"David\"] == \"special\":\n",
    "        return \"You get a special greeting David!\"\n",
    "    elif \"David\" in kwargs:\n",
    "        return f\"{kwargs['David']} David!\"\n",
    "    \n",
    "    return \"Not sure who this is...\"\n",
    "\n",
    "print(special_greeting(David = \"special\"))"
   ]
  },
  {
   "cell_type": "code",
   "execution_count": 10,
   "id": "371a18b2",
   "metadata": {},
   "outputs": [
    {
     "name": "stdout",
     "output_type": "stream",
     "text": [
      "Not sure who this is...\n"
     ]
    }
   ],
   "source": [
    "def special_greeting(Heather = \"hello\", **kwargs):\n",
    "    if \"David\" in kwargs and kwargs[\"David\"] == \"special\":\n",
    "        return \"You get a special greeting David!\"\n",
    "    elif \"David\" in kwargs:\n",
    "        return f\"{kwargs['David']} David!\"\n",
    "    \n",
    "    return \"Not sure who this is...\"\n",
    "\n",
    "print(special_greeting(Heather = \"hello\"))"
   ]
  },
  {
   "cell_type": "code",
   "execution_count": 12,
   "id": "6ae8baa5",
   "metadata": {},
   "outputs": [],
   "source": [
    "def combine_words(word,**kwargs):\n",
    "    if 'prefix' in kwargs:\n",
    "        return kwargs['prefix'] + word\n",
    "    elif 'suffix' in kwargs:\n",
    "        return word + kwargs['suffix']\n",
    "    return word"
   ]
  },
  {
   "cell_type": "code",
   "execution_count": 16,
   "id": "57ade1f2",
   "metadata": {},
   "outputs": [
    {
     "name": "stdout",
     "output_type": "stream",
     "text": [
      "<class 'tuple'>\n",
      "None\n"
     ]
    },
    {
     "data": {
      "text/plain": [
       "[1, 2, (3,), 'Colt', {'last_name': 'Steele', 'job': 'Instructor'}]"
      ]
     },
     "execution_count": 16,
     "metadata": {},
     "output_type": "execute_result"
    }
   ],
   "source": [
    "def display_info(a, b, *args, instructor=\"Colt\", **kwargs):\n",
    "    print(type(args))\n",
    "    \n",
    "print(display_info(1, 2, 3, last_name=\"Steele\", job=\"Instructor\"))\n",
    "\n",
    "[1, 2, (3,), 'Colt', {'last_name': 'Steele', 'job': 'Instructor'}]"
   ]
  },
  {
   "cell_type": "code",
   "execution_count": 6,
   "id": "52d8dfd0",
   "metadata": {},
   "outputs": [
    {
     "name": "stdout",
     "output_type": "stream",
     "text": [
      "44\n"
     ]
    }
   ],
   "source": [
    "def sum_all_values(*args):\n",
    "    total = 0\n",
    "    for num in args:\n",
    "        total += num\n",
    "    print(total)\n",
    "    \n",
    "sum_all_values(1,30,2,5,6)"
   ]
  },
  {
   "cell_type": "code",
   "execution_count": 8,
   "id": "f6368a05",
   "metadata": {},
   "outputs": [
    {
     "ename": "SyntaxError",
     "evalue": "unexpected EOF while parsing (Temp/ipykernel_6600/675087414.py, line 5)",
     "output_type": "error",
     "traceback": [
      "\u001b[1;36m  File \u001b[1;32m\"C:\\Users\\user\\AppData\\Local\\Temp/ipykernel_6600/675087414.py\"\u001b[1;36m, line \u001b[1;32m5\u001b[0m\n\u001b[1;33m    print(\u001b[0m\n\u001b[1;37m          ^\u001b[0m\n\u001b[1;31mSyntaxError\u001b[0m\u001b[1;31m:\u001b[0m unexpected EOF while parsing\n"
     ]
    }
   ],
   "source": [
    "def sum_all_values(*args):\n",
    "    total = 0\n",
    "    for num in args:\n",
    "        total += num\n",
    "    print("
   ]
  },
  {
   "cell_type": "code",
   "execution_count": 10,
   "id": "a75ac85f",
   "metadata": {
    "scrolled": true
   },
   "outputs": [
    {
     "ename": "TypeError",
     "evalue": "unsupported operand type(s) for +=: 'int' and 'list'",
     "output_type": "error",
     "traceback": [
      "\u001b[1;31m---------------------------------------------------------------------------\u001b[0m",
      "\u001b[1;31mTypeError\u001b[0m                                 Traceback (most recent call last)",
      "\u001b[1;32m~\\AppData\\Local\\Temp/ipykernel_6600/3785042051.py\u001b[0m in \u001b[0;36m<module>\u001b[1;34m\u001b[0m\n\u001b[0;32m      6\u001b[0m \u001b[1;33m\u001b[0m\u001b[0m\n\u001b[0;32m      7\u001b[0m \u001b[0mnums\u001b[0m \u001b[1;33m=\u001b[0m \u001b[1;33m[\u001b[0m\u001b[1;36m1\u001b[0m\u001b[1;33m,\u001b[0m\u001b[1;36m2\u001b[0m\u001b[1;33m,\u001b[0m\u001b[1;36m3\u001b[0m\u001b[1;33m,\u001b[0m\u001b[1;36m5\u001b[0m\u001b[1;33m,\u001b[0m\u001b[1;36m6\u001b[0m\u001b[1;33m]\u001b[0m\u001b[1;33m\u001b[0m\u001b[1;33m\u001b[0m\u001b[0m\n\u001b[1;32m----> 8\u001b[1;33m \u001b[0msum_all_values\u001b[0m\u001b[1;33m(\u001b[0m\u001b[0mnums\u001b[0m\u001b[1;33m)\u001b[0m\u001b[1;33m\u001b[0m\u001b[1;33m\u001b[0m\u001b[0m\n\u001b[0m",
      "\u001b[1;32m~\\AppData\\Local\\Temp/ipykernel_6600/3785042051.py\u001b[0m in \u001b[0;36msum_all_values\u001b[1;34m(*args)\u001b[0m\n\u001b[0;32m      2\u001b[0m     \u001b[0mtotal\u001b[0m \u001b[1;33m=\u001b[0m \u001b[1;36m0\u001b[0m\u001b[1;33m\u001b[0m\u001b[1;33m\u001b[0m\u001b[0m\n\u001b[0;32m      3\u001b[0m     \u001b[1;32mfor\u001b[0m \u001b[0mnum\u001b[0m \u001b[1;32min\u001b[0m \u001b[0margs\u001b[0m\u001b[1;33m:\u001b[0m\u001b[1;33m\u001b[0m\u001b[1;33m\u001b[0m\u001b[0m\n\u001b[1;32m----> 4\u001b[1;33m         \u001b[0mtotal\u001b[0m \u001b[1;33m+=\u001b[0m \u001b[0mnum\u001b[0m\u001b[1;33m\u001b[0m\u001b[1;33m\u001b[0m\u001b[0m\n\u001b[0m\u001b[0;32m      5\u001b[0m     \u001b[0mprint\u001b[0m\u001b[1;33m(\u001b[0m\u001b[0mtotal\u001b[0m\u001b[1;33m)\u001b[0m\u001b[1;33m\u001b[0m\u001b[1;33m\u001b[0m\u001b[0m\n\u001b[0;32m      6\u001b[0m \u001b[1;33m\u001b[0m\u001b[0m\n",
      "\u001b[1;31mTypeError\u001b[0m: unsupported operand type(s) for +=: 'int' and 'list'"
     ]
    }
   ],
   "source": [
    "def sum_all_values(*args):\n",
    "    total = 0\n",
    "    for num in args:\n",
    "        total += num\n",
    "    print(total)\n",
    "    \n",
    "nums = [1,2,3,45,6]\n",
    "sum_all_values(nums)"
   ]
  },
  {
   "cell_type": "code",
   "execution_count": 11,
   "id": "d0abd598",
   "metadata": {},
   "outputs": [
    {
     "ename": "TypeError",
     "evalue": "unsupported operand type(s) for +=: 'int' and 'tuple'",
     "output_type": "error",
     "traceback": [
      "\u001b[1;31m---------------------------------------------------------------------------\u001b[0m",
      "\u001b[1;31mTypeError\u001b[0m                                 Traceback (most recent call last)",
      "\u001b[1;32m~\\AppData\\Local\\Temp/ipykernel_6600/1342338587.py\u001b[0m in \u001b[0;36m<module>\u001b[1;34m\u001b[0m\n\u001b[0;32m      6\u001b[0m \u001b[1;33m\u001b[0m\u001b[0m\n\u001b[0;32m      7\u001b[0m \u001b[0mnums\u001b[0m \u001b[1;33m=\u001b[0m \u001b[1;33m(\u001b[0m\u001b[1;36m1\u001b[0m\u001b[1;33m,\u001b[0m\u001b[1;36m2\u001b[0m\u001b[1;33m,\u001b[0m\u001b[1;36m3\u001b[0m\u001b[1;33m,\u001b[0m\u001b[1;36m5\u001b[0m\u001b[1;33m,\u001b[0m\u001b[1;36m6\u001b[0m\u001b[1;33m)\u001b[0m\u001b[1;33m\u001b[0m\u001b[1;33m\u001b[0m\u001b[0m\n\u001b[1;32m----> 8\u001b[1;33m \u001b[0msum_all_values\u001b[0m\u001b[1;33m(\u001b[0m\u001b[0mnums\u001b[0m\u001b[1;33m)\u001b[0m\u001b[1;33m\u001b[0m\u001b[1;33m\u001b[0m\u001b[0m\n\u001b[0m",
      "\u001b[1;32m~\\AppData\\Local\\Temp/ipykernel_6600/1342338587.py\u001b[0m in \u001b[0;36msum_all_values\u001b[1;34m(*args)\u001b[0m\n\u001b[0;32m      2\u001b[0m     \u001b[0mtotal\u001b[0m \u001b[1;33m=\u001b[0m \u001b[1;36m0\u001b[0m\u001b[1;33m\u001b[0m\u001b[1;33m\u001b[0m\u001b[0m\n\u001b[0;32m      3\u001b[0m     \u001b[1;32mfor\u001b[0m \u001b[0mnum\u001b[0m \u001b[1;32min\u001b[0m \u001b[0margs\u001b[0m\u001b[1;33m:\u001b[0m\u001b[1;33m\u001b[0m\u001b[1;33m\u001b[0m\u001b[0m\n\u001b[1;32m----> 4\u001b[1;33m         \u001b[0mtotal\u001b[0m \u001b[1;33m+=\u001b[0m \u001b[0mnum\u001b[0m\u001b[1;33m\u001b[0m\u001b[1;33m\u001b[0m\u001b[0m\n\u001b[0m\u001b[0;32m      5\u001b[0m     \u001b[0mprint\u001b[0m\u001b[1;33m(\u001b[0m\u001b[0mtotal\u001b[0m\u001b[1;33m)\u001b[0m\u001b[1;33m\u001b[0m\u001b[1;33m\u001b[0m\u001b[0m\n\u001b[0;32m      6\u001b[0m \u001b[1;33m\u001b[0m\u001b[0m\n",
      "\u001b[1;31mTypeError\u001b[0m: unsupported operand type(s) for +=: 'int' and 'tuple'"
     ]
    }
   ],
   "source": [
    "def sum_all_values(*args):\n",
    "    total = 0\n",
    "    for num in args:\n",
    "        total += num\n",
    "    print(total)\n",
    "    \n",
    "nums = (1,2,3,4,5,6)\n",
    "sum_all_values(nums)"
   ]
  },
  {
   "cell_type": "code",
   "execution_count": 13,
   "id": "d6e16223",
   "metadata": {},
   "outputs": [
    {
     "name": "stdout",
     "output_type": "stream",
     "text": [
      "21\n"
     ]
    }
   ],
   "source": [
    "def sum_all_values(*args):\n",
    "    total = 0\n",
    "    for num in args:\n",
    "        total += num\n",
    "    print(total)\n",
    "    \n",
    "nums = (1,2,3,4,5,6)\n",
    "sum_all_values(*nums)"
   ]
  },
  {
   "cell_type": "code",
   "execution_count": 14,
   "id": "8a60fe58",
   "metadata": {},
   "outputs": [
    {
     "name": "stdout",
     "output_type": "stream",
     "text": [
      "21\n"
     ]
    }
   ],
   "source": [
    "def sum_all_values(*args):\n",
    "    total = 0\n",
    "    for num in args:\n",
    "        total += num\n",
    "    print(total)\n",
    "    \n",
    "nums = [1,2,3,4,5,6]\n",
    "sum_all_values(*nums)"
   ]
  },
  {
   "cell_type": "code",
   "execution_count": 15,
   "id": "3500eaed",
   "metadata": {},
   "outputs": [
    {
     "name": "stdout",
     "output_type": "stream",
     "text": [
      "21\n"
     ]
    },
    {
     "data": {
      "text/plain": [
       "(1, 2, 3, 4, 5, 6)"
      ]
     },
     "execution_count": 15,
     "metadata": {},
     "output_type": "execute_result"
    }
   ],
   "source": [
    "def sum_all_values(*args):\n",
    "    total = 0\n",
    "    for num in args:\n",
    "        total += num\n",
    "    print(total)\n",
    "    \n",
    "nums = [1,2,3,4,5,6]\n",
    "sum_all_values(*nums)\n",
    "(1,2,3,4,5,6)"
   ]
  },
  {
   "cell_type": "code",
   "execution_count": 1,
   "id": "dd1bc413",
   "metadata": {},
   "outputs": [
    {
     "name": "stdout",
     "output_type": "stream",
     "text": [
      "[1, 2, (3,), 'Colt', {'last_name': 'Steele', 'job': 'Instructor'}]\n"
     ]
    }
   ],
   "source": [
    "def display_info(a,b, *args, instructor = \"Colt\", **kwargs):\n",
    "    return [a,b,args, instructor, kwargs]\n",
    "\n",
    "print(display_info(1,2,3, last_name = \"Steele\", job = \"Instructor\"))"
   ]
  },
  {
   "cell_type": "code",
   "execution_count": 3,
   "id": "37420b4d",
   "metadata": {},
   "outputs": [
    {
     "ename": "NameError",
     "evalue": "name 'args' is not defined",
     "output_type": "error",
     "traceback": [
      "\u001b[1;31m---------------------------------------------------------------------------\u001b[0m",
      "\u001b[1;31mNameError\u001b[0m                                 Traceback (most recent call last)",
      "\u001b[1;32m~\\AppData\\Local\\Temp/ipykernel_3140/1512552968.py\u001b[0m in \u001b[0;36m<module>\u001b[1;34m\u001b[0m\n\u001b[1;32m----> 1\u001b[1;33m \u001b[0mprint\u001b[0m\u001b[1;33m(\u001b[0m\u001b[1;33m*\u001b[0m\u001b[0margs\u001b[0m\u001b[1;33m)\u001b[0m\u001b[1;33m\u001b[0m\u001b[1;33m\u001b[0m\u001b[0m\n\u001b[0m",
      "\u001b[1;31mNameError\u001b[0m: name 'args' is not defined"
     ]
    }
   ],
   "source": []
  },
  {
   "cell_type": "code",
   "execution_count": 5,
   "id": "5db36649",
   "metadata": {},
   "outputs": [
    {
     "name": "stdout",
     "output_type": "stream",
     "text": [
      "(3,)\n",
      "None\n"
     ]
    }
   ],
   "source": [
    "def display_info(a,b, *args, instructor = \"Colt\", **kwargs):\n",
    "    print(args)\n",
    "\n",
    "print(display_info(1,2,3, last_name = \"Steele\", job = \"Instructor\"))"
   ]
  },
  {
   "cell_type": "code",
   "execution_count": 13,
   "id": "7c73d2c6",
   "metadata": {},
   "outputs": [
    {
     "name": "stdout",
     "output_type": "stream",
     "text": [
      "2\n",
      "None\n"
     ]
    }
   ],
   "source": [
    "def display_info(a,b, *args, instructor = \"Colt\", **kwargs):\n",
    "        print(b)\n",
    "\n",
    "print(display_info(1,2,3, last_name = \"Steele\", job = \"Instructor\"))"
   ]
  },
  {
   "cell_type": "code",
   "execution_count": 12,
   "id": "012560e1",
   "metadata": {},
   "outputs": [
    {
     "name": "stdout",
     "output_type": "stream",
     "text": [
      "{'last_name': 'Steele', 'job': 'Instructor'}\n",
      "None\n"
     ]
    }
   ],
   "source": [
    "def display_info(a,b, *args, instructor = \"Colt\", **kwargs):\n",
    "       print(kwargs)\n",
    "\n",
    "print(display_info(1,2,3, last_name = \"Steele\", job = \"Instructor\"))"
   ]
  },
  {
   "cell_type": "code",
   "execution_count": 11,
   "id": "b9131f8f",
   "metadata": {},
   "outputs": [
    {
     "name": "stdout",
     "output_type": "stream",
     "text": [
      "Colt\n",
      "None\n"
     ]
    }
   ],
   "source": [
    "def display_info(a,b, *args, instructor = \"Colt\", **kwargs):\n",
    "        print( \"Colt\")\n",
    "\n",
    "print(display_info(1,2,3, last_name = \"Steele\", job = \"Instructor\"))"
   ]
  },
  {
   "cell_type": "code",
   "execution_count": 17,
   "id": "c541ffd2",
   "metadata": {},
   "outputs": [
    {
     "name": "stdout",
     "output_type": "stream",
     "text": [
      "<class 'tuple'>\n",
      "None\n"
     ]
    },
    {
     "data": {
      "text/plain": [
       "[1, 2, 3, 'Colt', {'last_name': 'Steele', 'job': 'Instructor'}]"
      ]
     },
     "execution_count": 17,
     "metadata": {},
     "output_type": "execute_result"
    }
   ],
   "source": [
    "def display_info(a,b, *args, instructor = \"Colt\", **kwargs):\n",
    "       \n",
    "    print(type(args))\n",
    "\n",
    "print(display_info(1,2,3, last_name = \"Steele\", job = \"Instructor\"))\n",
    "\n",
    "[1,2,(3), \"Colt\", {'last_name': 'Steele', 'job': 'Instructor'}]"
   ]
  },
  {
   "cell_type": "code",
   "execution_count": 18,
   "id": "cc799f7f",
   "metadata": {},
   "outputs": [
    {
     "name": "stdout",
     "output_type": "stream",
     "text": [
      "<class 'tuple'>\n",
      "None\n"
     ]
    }
   ],
   "source": [
    "def display_info(a,b, *args, instructor = \"Colt\", **kwargs):\n",
    "       \n",
    "    print(type(args))\n",
    "\n",
    "print(display_info(1,2,3, last_name = \"Steele\", job = \"Instructor\"))"
   ]
  },
  {
   "cell_type": "code",
   "execution_count": 2,
   "id": "7b475136",
   "metadata": {},
   "outputs": [
    {
     "name": "stdout",
     "output_type": "stream",
     "text": [
      "44\n"
     ]
    }
   ],
   "source": [
    "def sum_all_values(*args):\n",
    "    total = 0\n",
    "    for num in args:\n",
    "        total += num\n",
    "    print(total)\n",
    "    \n",
    "sum_all_values(1,30,2,5,6) "
   ]
  },
  {
   "cell_type": "code",
   "execution_count": 5,
   "id": "dd293663",
   "metadata": {},
   "outputs": [
    {
     "name": "stdout",
     "output_type": "stream",
     "text": [
      "1 2 3 4 5 6\n",
      "21\n"
     ]
    }
   ],
   "source": [
    "def sum_all_values(*args):\n",
    "    print(*args)\n",
    "    total = 0\n",
    "    for num in args:\n",
    "        total += num\n",
    "    print(total)\n",
    "    \n",
    "nums = [1,2,3,4,5,6]\n",
    "sum_all_values(*nums)"
   ]
  },
  {
   "cell_type": "code",
   "execution_count": 6,
   "id": "bccaea98",
   "metadata": {},
   "outputs": [
    {
     "name": "stdout",
     "output_type": "stream",
     "text": [
      "[1, 2, 3, 4, 5, 6]\n"
     ]
    },
    {
     "ename": "TypeError",
     "evalue": "unsupported operand type(s) for +=: 'int' and 'list'",
     "output_type": "error",
     "traceback": [
      "\u001b[1;31m---------------------------------------------------------------------------\u001b[0m",
      "\u001b[1;31mTypeError\u001b[0m                                 Traceback (most recent call last)",
      "\u001b[1;32m~\\AppData\\Local\\Temp/ipykernel_932/3146494311.py\u001b[0m in \u001b[0;36m<module>\u001b[1;34m\u001b[0m\n\u001b[0;32m      7\u001b[0m \u001b[1;33m\u001b[0m\u001b[0m\n\u001b[0;32m      8\u001b[0m \u001b[0mnums\u001b[0m \u001b[1;33m=\u001b[0m \u001b[1;33m[\u001b[0m\u001b[1;36m1\u001b[0m\u001b[1;33m,\u001b[0m\u001b[1;36m2\u001b[0m\u001b[1;33m,\u001b[0m\u001b[1;36m3\u001b[0m\u001b[1;33m,\u001b[0m\u001b[1;36m4\u001b[0m\u001b[1;33m,\u001b[0m\u001b[1;36m5\u001b[0m\u001b[1;33m,\u001b[0m\u001b[1;36m6\u001b[0m\u001b[1;33m]\u001b[0m\u001b[1;33m\u001b[0m\u001b[1;33m\u001b[0m\u001b[0m\n\u001b[1;32m----> 9\u001b[1;33m \u001b[0msum_all_values\u001b[0m\u001b[1;33m(\u001b[0m\u001b[0mnums\u001b[0m\u001b[1;33m)\u001b[0m\u001b[1;33m\u001b[0m\u001b[1;33m\u001b[0m\u001b[0m\n\u001b[0m",
      "\u001b[1;32m~\\AppData\\Local\\Temp/ipykernel_932/3146494311.py\u001b[0m in \u001b[0;36msum_all_values\u001b[1;34m(*args)\u001b[0m\n\u001b[0;32m      3\u001b[0m     \u001b[0mtotal\u001b[0m \u001b[1;33m=\u001b[0m \u001b[1;36m0\u001b[0m\u001b[1;33m\u001b[0m\u001b[1;33m\u001b[0m\u001b[0m\n\u001b[0;32m      4\u001b[0m     \u001b[1;32mfor\u001b[0m \u001b[0mnum\u001b[0m \u001b[1;32min\u001b[0m \u001b[0margs\u001b[0m\u001b[1;33m:\u001b[0m\u001b[1;33m\u001b[0m\u001b[1;33m\u001b[0m\u001b[0m\n\u001b[1;32m----> 5\u001b[1;33m         \u001b[0mtotal\u001b[0m \u001b[1;33m+=\u001b[0m \u001b[0mnum\u001b[0m\u001b[1;33m\u001b[0m\u001b[1;33m\u001b[0m\u001b[0m\n\u001b[0m\u001b[0;32m      6\u001b[0m     \u001b[0mprint\u001b[0m\u001b[1;33m(\u001b[0m\u001b[0mtotal\u001b[0m\u001b[1;33m)\u001b[0m\u001b[1;33m\u001b[0m\u001b[1;33m\u001b[0m\u001b[0m\n\u001b[0;32m      7\u001b[0m \u001b[1;33m\u001b[0m\u001b[0m\n",
      "\u001b[1;31mTypeError\u001b[0m: unsupported operand type(s) for +=: 'int' and 'list'"
     ]
    }
   ],
   "source": [
    "def sum_all_values(*args):\n",
    "    print(*args)\n",
    "    total = 0\n",
    "    for num in args:\n",
    "        total += num\n",
    "    print(total)\n",
    "    \n",
    "nums = [1,2,3,4,5,6]\n",
    "sum_all_values(nums)"
   ]
  },
  {
   "cell_type": "code",
   "execution_count": 7,
   "id": "843650f6",
   "metadata": {},
   "outputs": [
    {
     "name": "stdout",
     "output_type": "stream",
     "text": [
      "1 2 3 4 5 6\n",
      "21\n"
     ]
    }
   ],
   "source": [
    "def sum_all_values(*args):\n",
    "    print(*args)\n",
    "    total = 0\n",
    "    for num in args:\n",
    "        total += num\n",
    "    print(total)\n",
    "    \n",
    "nums = (1,2,3,4,5,6)\n",
    "sum_all_values(*nums)"
   ]
  },
  {
   "cell_type": "code",
   "execution_count": 11,
   "id": "1fb7248c",
   "metadata": {},
   "outputs": [
    {
     "name": "stdout",
     "output_type": "stream",
     "text": [
      "Abu says hello to Jimlad\n"
     ]
    }
   ],
   "source": [
    "def display_names(first, second):\n",
    "    print(f\"{first} says hello to {second}\")\n",
    "names = {\"first\": \"Colt\", \"second\": \"Rusty\"}\n",
    "\n",
    "display_names(\"Abu\", \"Jimlad\")"
   ]
  },
  {
   "cell_type": "code",
   "execution_count": 12,
   "id": "def49d4b",
   "metadata": {},
   "outputs": [
    {
     "name": "stdout",
     "output_type": "stream",
     "text": [
      "Jimlad says hello to Abu\n"
     ]
    }
   ],
   "source": [
    "def display_names(first, second):\n",
    "    print(f\"{first} says hello to {second}\")\n",
    "names = {\"first\": \"Colt\", \"second\": \"Rusty\"}\n",
    "\n",
    "display_names(second =\"Abu\", first=\"Jimlad\")"
   ]
  },
  {
   "cell_type": "code",
   "execution_count": 13,
   "id": "5a744ec5",
   "metadata": {},
   "outputs": [
    {
     "ename": "TypeError",
     "evalue": "display_names() missing 1 required positional argument: 'second'",
     "output_type": "error",
     "traceback": [
      "\u001b[1;31m---------------------------------------------------------------------------\u001b[0m",
      "\u001b[1;31mTypeError\u001b[0m                                 Traceback (most recent call last)",
      "\u001b[1;32m~\\AppData\\Local\\Temp/ipykernel_932/2007274428.py\u001b[0m in \u001b[0;36m<module>\u001b[1;34m\u001b[0m\n\u001b[0;32m      2\u001b[0m     \u001b[0mprint\u001b[0m\u001b[1;33m(\u001b[0m\u001b[1;34mf\"{first} says hello to {second}\"\u001b[0m\u001b[1;33m)\u001b[0m\u001b[1;33m\u001b[0m\u001b[1;33m\u001b[0m\u001b[0m\n\u001b[0;32m      3\u001b[0m \u001b[0mnames\u001b[0m \u001b[1;33m=\u001b[0m \u001b[1;33m{\u001b[0m\u001b[1;34m\"first\"\u001b[0m\u001b[1;33m:\u001b[0m \u001b[1;34m\"Colt\"\u001b[0m\u001b[1;33m,\u001b[0m \u001b[1;34m\"second\"\u001b[0m\u001b[1;33m:\u001b[0m \u001b[1;34m\"Rusty\"\u001b[0m\u001b[1;33m}\u001b[0m\u001b[1;33m\u001b[0m\u001b[1;33m\u001b[0m\u001b[0m\n\u001b[1;32m----> 4\u001b[1;33m \u001b[0mdisplay_names\u001b[0m\u001b[1;33m(\u001b[0m\u001b[0mnames\u001b[0m\u001b[1;33m)\u001b[0m\u001b[1;33m\u001b[0m\u001b[1;33m\u001b[0m\u001b[0m\n\u001b[0m",
      "\u001b[1;31mTypeError\u001b[0m: display_names() missing 1 required positional argument: 'second'"
     ]
    }
   ],
   "source": [
    "def display_names(first, second):\n",
    "    print(f\"{first} says hello to {second}\")\n",
    "names = {\"first\": \"Colt\", \"second\": \"Rusty\"}\n",
    "display_names(names)"
   ]
  },
  {
   "cell_type": "code",
   "execution_count": 14,
   "id": "564f5d3b",
   "metadata": {},
   "outputs": [
    {
     "name": "stdout",
     "output_type": "stream",
     "text": [
      "first says hello to second\n"
     ]
    }
   ],
   "source": [
    "def display_names(first, second):\n",
    "    print(f\"{first} says hello to {second}\")\n",
    "names = {\"first\": \"Colt\", \"second\": \"Rusty\"}\n",
    "display_names(*names)"
   ]
  },
  {
   "cell_type": "code",
   "execution_count": 15,
   "id": "4de73c21",
   "metadata": {},
   "outputs": [
    {
     "name": "stdout",
     "output_type": "stream",
     "text": [
      "Colt says hello to Rusty\n"
     ]
    }
   ],
   "source": [
    "def display_names(first, second):\n",
    "    print(f\"{first} says hello to {second}\")\n",
    "names = {\"first\": \"Colt\", \"second\": \"Rusty\"}\n",
    "display_names(**names)"
   ]
  },
  {
   "cell_type": "code",
   "execution_count": 16,
   "id": "81021c46",
   "metadata": {
    "scrolled": true
   },
   "outputs": [
    {
     "name": "stdout",
     "output_type": "stream",
     "text": [
      "Colt says hello to Rusty\n",
      "Colt says hello to Rusty\n"
     ]
    }
   ],
   "source": [
    "def display_names(first, second):\n",
    "    print(f\"{first} says hello to {second}\")\n",
    "names = {\"first\": \"Colt\", \"second\": \"Rusty\"}\n",
    "display_names(**names)\n",
    "\n",
    "display_names(first = \"Colt\", second = \"Rusty\")"
   ]
  },
  {
   "cell_type": "code",
   "execution_count": 17,
   "id": "4dbf165d",
   "metadata": {},
   "outputs": [
    {
     "data": {
      "text/plain": [
       "'Colt says hello to Rusty'"
      ]
     },
     "execution_count": 17,
     "metadata": {},
     "output_type": "execute_result"
    }
   ],
   "source": [
    "def display_names(first, second):\n",
    "    return(f\"{first} says hello to {second}\")\n",
    "names = {\"first\": \"Colt\", \"second\": \"Rusty\"}\n",
    "display_names(**names)\n",
    "\n",
    "\n"
   ]
  },
  {
   "cell_type": "code",
   "execution_count": 23,
   "id": "5227da5a",
   "metadata": {},
   "outputs": [
    {
     "name": "stdout",
     "output_type": "stream",
     "text": [
      "7\n"
     ]
    }
   ],
   "source": [
    "def add_and_multiply_numbers(a,b,c):\n",
    "    print(a + b * c)\n",
    "data = dict(a=1,b=2,c=3)\n",
    "\n",
    "add_and_multiply_numbers(**data)\n"
   ]
  },
  {
   "cell_type": "code",
   "execution_count": 24,
   "id": "2750f824",
   "metadata": {},
   "outputs": [
    {
     "name": "stdout",
     "output_type": "stream",
     "text": [
      "7\n"
     ]
    }
   ],
   "source": [
    "def add_and_multiply_numbers(a,b,c):\n",
    "    print(a + b * c)\n",
    "data = {\"a\": 1, \"b\": 2, \"c\": 3}\n",
    "\n",
    "add_and_multiply_numbers(**data)"
   ]
  },
  {
   "cell_type": "code",
   "execution_count": 26,
   "id": "ea162146",
   "metadata": {},
   "outputs": [
    {
     "name": "stdout",
     "output_type": "stream",
     "text": [
      "7\n",
      "{}\n"
     ]
    }
   ],
   "source": [
    "def add_and_multiply_numbers(a,b,c, **kwargs):\n",
    "    print(a + b * c)\n",
    "    print(kwargs)\n",
    "data = dict(a=1,b=2,c=3)\n",
    "\n",
    "add_and_multiply_numbers(**data)"
   ]
  },
  {
   "cell_type": "code",
   "execution_count": 28,
   "id": "476b5696",
   "metadata": {},
   "outputs": [
    {
     "name": "stdout",
     "output_type": "stream",
     "text": [
      "7\n",
      "{}\n",
      "OTHER STUFF...\n"
     ]
    }
   ],
   "source": [
    "def add_and_multiply_numbers(a,b,c, **kwargs):\n",
    "    print(a + b * c)\n",
    "    print(kwargs)\n",
    "    print(\"OTHER STUFF...\")\n",
    "data = dict(a=1,b=2,c=3)\n",
    "\n",
    "add_and_multiply_numbers(**data)"
   ]
  },
  {
   "cell_type": "code",
   "execution_count": 32,
   "id": "5e41e838",
   "metadata": {},
   "outputs": [
    {
     "name": "stdout",
     "output_type": "stream",
     "text": [
      "7\n",
      "{'d': 56, 'name': 'Tony'}\n",
      "OTHER STUFF...\n"
     ]
    }
   ],
   "source": [
    "def add_and_multiply_numbers(a,b,c, **kwargs):\n",
    "    print(a + b * c)\n",
    "    print(kwargs)\n",
    "    print(\"OTHER STUFF...\")\n",
    "data = dict(a=1,b=2,c=3, d = 56, name =\"Tony\")\n",
    "\n",
    "add_and_multiply_numbers(**data)"
   ]
  },
  {
   "cell_type": "code",
   "execution_count": 37,
   "id": "2b212bd3",
   "metadata": {},
   "outputs": [
    {
     "ename": "SyntaxError",
     "evalue": "expression cannot contain assignment, perhaps you meant \"==\"? (Temp/ipykernel_932/330077288.py, line 5)",
     "output_type": "error",
     "traceback": [
      "\u001b[1;36m  File \u001b[1;32m\"C:\\Users\\user\\AppData\\Local\\Temp/ipykernel_932/330077288.py\"\u001b[1;36m, line \u001b[1;32m5\u001b[0m\n\u001b[1;33m    data = dict(a=1,b=2,c=3, d = 56, 'name' =\"Tony\")\u001b[0m\n\u001b[1;37m                                     ^\u001b[0m\n\u001b[1;31mSyntaxError\u001b[0m\u001b[1;31m:\u001b[0m expression cannot contain assignment, perhaps you meant \"==\"?\n"
     ]
    }
   ],
   "source": [
    "def add_and_multiply_numbers(a,b,c, **kwargs):\n",
    "    print(a + b * c)\n",
    "    print(kwargs)\n",
    "    print(\"OTHER STUFF...\")\n",
    "data = dict(a=1,b=2,c=3, d = 56, 'name' =\"Tony\")\n",
    "\n",
    "add_and_multiply_numbers(**data)"
   ]
  },
  {
   "cell_type": "code",
   "execution_count": 39,
   "id": "6a0c66ad",
   "metadata": {},
   "outputs": [
    {
     "ename": "SyntaxError",
     "evalue": "positional argument follows keyword argument (Temp/ipykernel_932/621038611.py, line 5)",
     "output_type": "error",
     "traceback": [
      "\u001b[1;36m  File \u001b[1;32m\"C:\\Users\\user\\AppData\\Local\\Temp/ipykernel_932/621038611.py\"\u001b[1;36m, line \u001b[1;32m5\u001b[0m\n\u001b[1;33m    data = dict(a=1,b=2,c=3, d = 56, 'name'== \"Tony\")\u001b[0m\n\u001b[1;37m                                                    ^\u001b[0m\n\u001b[1;31mSyntaxError\u001b[0m\u001b[1;31m:\u001b[0m positional argument follows keyword argument\n"
     ]
    }
   ],
   "source": [
    "def add_and_multiply_numbers(a,b,c, **kwargs):\n",
    "    print(a + b * c)\n",
    "    print(kwargs)\n",
    "    print(\"OTHER STUFF...\")\n",
    "data = dict(a=1,b=2,c=3, d = 56, 'name'== \"Tony\")\n",
    "\n",
    "add_and_multiply_numbers(**data)"
   ]
  },
  {
   "cell_type": "code",
   "execution_count": 41,
   "id": "db0bad76",
   "metadata": {},
   "outputs": [
    {
     "name": "stdout",
     "output_type": "stream",
     "text": [
      "7\n",
      "{'d': 56, 'name': 'Tony', 'cat': 'blue'}\n",
      "OTHER STUFF...\n"
     ]
    }
   ],
   "source": [
    "def add_and_multiply_numbers(a,b,c, **kwargs):\n",
    "    print(a + b * c)\n",
    "    print(kwargs)\n",
    "    print(\"OTHER STUFF...\")\n",
    "data = dict(a=1,b=2,c=3, d = 56, name = \"Tony\")\n",
    "\n",
    "add_and_multiply_numbers(**data, cat = \"blue\")"
   ]
  },
  {
   "cell_type": "code",
   "execution_count": 42,
   "id": "b962ccae",
   "metadata": {},
   "outputs": [],
   "source": [
    "def calculate(**kwargs):\n",
    "    operation_lookup = {\n",
    "        'add': kwargs.get('first', 0) + kwargs.get('second', 0),\n",
    "        'subtract': kwargs.get('first', 0) - kwargs.get('second', 0),\n",
    "        'divide': kwargs.get('first', 0) / kwargs.get('second', 0),\n",
    "        'multiply': kwargs.get('first', 0) * kwargs.get('second', 0)\n",
    "    }\n",
    "    is_float = kwargs.get('make_float', False)\n",
    "    operation_value = operation_lookup[kwargs.get('operation', '')]\n",
    "    if is_float:\n",
    "        final = \"{} {}\".format(kwargs.get('message','The result is'), float(operation_value))\n",
    "    else:\n",
    "        final = \"{} {}\".format(kwargs.get('message','The result is'), int(operation_value))\n",
    "    return final"
   ]
  },
  {
   "cell_type": "code",
   "execution_count": null,
   "id": "a97bc57b",
   "metadata": {},
   "outputs": [],
   "source": []
  }
 ],
 "metadata": {
  "kernelspec": {
   "display_name": "Python 3 (ipykernel)",
   "language": "python",
   "name": "python3"
  },
  "language_info": {
   "codemirror_mode": {
    "name": "ipython",
    "version": 3
   },
   "file_extension": ".py",
   "mimetype": "text/x-python",
   "name": "python",
   "nbconvert_exporter": "python",
   "pygments_lexer": "ipython3",
   "version": "3.9.7"
  }
 },
 "nbformat": 4,
 "nbformat_minor": 5
}
