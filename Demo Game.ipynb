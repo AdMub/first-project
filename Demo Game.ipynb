{
 "cells": [
  {
   "cell_type": "code",
   "execution_count": 9,
   "id": "bb9c0088",
   "metadata": {
    "scrolled": true
   },
   "outputs": [
    {
     "name": "stdout",
     "output_type": "stream",
     "text": [
      "Check your most noticeable character\n",
      "Ready?\n"
     ]
    }
   ],
   "source": []
  },
  {
   "cell_type": "code",
   "execution_count": 10,
   "id": "65b0774b",
   "metadata": {},
   "outputs": [
    {
     "name": "stdout",
     "output_type": "stream",
     "text": [
      "Check your most noticeable character\n",
      "Ready?\n",
      "Yes\n",
      "Okay what's your name?\n",
      "yassir\n",
      "how old are you?\n",
      "21\n",
      "You get badmouth, lol\n"
     ]
    }
   ],
   "source": [
    "print (\"Check your most noticeable character\\nReady?\")\n",
    "Response = input()\n",
    "if Response == \"Yes\":\n",
    "    print (\"Okay what's your name?\")\n",
    "name = input()\n",
    "print (\"how old are you?\")\n",
    "age = input()\n",
    "if name == \"yassir\":\n",
    "           print (\"You get badmouth, lol\")"
   ]
  },
  {
   "cell_type": "code",
   "execution_count": null,
   "id": "158f0297",
   "metadata": {},
   "outputs": [],
   "source": []
  },
  {
   "cell_type": "code",
   "execution_count": null,
   "id": "206276de",
   "metadata": {},
   "outputs": [],
   "source": []
  }
 ],
 "metadata": {
  "kernelspec": {
   "display_name": "Python 3 (ipykernel)",
   "language": "python",
   "name": "python3"
  },
  "language_info": {
   "codemirror_mode": {
    "name": "ipython",
    "version": 3
   },
   "file_extension": ".py",
   "mimetype": "text/x-python",
   "name": "python",
   "nbconvert_exporter": "python",
   "pygments_lexer": "ipython3",
   "version": "3.9.7"
  }
 },
 "nbformat": 4,
 "nbformat_minor": 5
}
