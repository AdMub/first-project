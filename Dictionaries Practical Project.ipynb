{
 "cells": [
  {
   "cell_type": "code",
   "execution_count": 1,
   "id": "b103de97",
   "metadata": {},
   "outputs": [],
   "source": [
    "cat = {\"name\": \"blue\", \"age\": 4.5, \"isCute\": True}"
   ]
  },
  {
   "cell_type": "code",
   "execution_count": 2,
   "id": "e784d35c",
   "metadata": {},
   "outputs": [
    {
     "data": {
      "text/plain": [
       "{'name': 'blue', 'age': 4.5, 'isCute': True}"
      ]
     },
     "execution_count": 2,
     "metadata": {},
     "output_type": "execute_result"
    }
   ],
   "source": [
    "cat"
   ]
  },
  {
   "cell_type": "code",
   "execution_count": 22,
   "id": "0668e511",
   "metadata": {},
   "outputs": [],
   "source": [
    "cat2 = dict(name =\"kitty\", age = 7.5)"
   ]
  },
  {
   "cell_type": "code",
   "execution_count": 23,
   "id": "3c83576b",
   "metadata": {},
   "outputs": [
    {
     "data": {
      "text/plain": [
       "{'name': 'kitty', 'age': 7.5}"
      ]
     },
     "execution_count": 23,
     "metadata": {},
     "output_type": "execute_result"
    }
   ],
   "source": [
    "cat2"
   ]
  },
  {
   "cell_type": "code",
   "execution_count": 2,
   "id": "2c656783",
   "metadata": {},
   "outputs": [],
   "source": [
    "instructor = {\n",
    "    \"name\": \"Ben\",\n",
    "    \"owns_pet\": True,\n",
    "    \"num_courses\": 4,\n",
    "    \"favorite_language\": \"Python\",\n",
    "    \"is_hilarious\": False,\n",
    "    44: \"my favorite number!\"\n",
    "}"
   ]
  },
  {
   "cell_type": "code",
   "execution_count": 5,
   "id": "d3e8cbcb",
   "metadata": {},
   "outputs": [
    {
     "data": {
      "text/plain": [
       "dict_values(['Ben', True, 4, 'Python', False, 'my favorite number!'])"
      ]
     },
     "execution_count": 5,
     "metadata": {},
     "output_type": "execute_result"
    }
   ],
   "source": [
    "instructor.values()"
   ]
  },
  {
   "cell_type": "code",
   "execution_count": 8,
   "id": "61c360b9",
   "metadata": {},
   "outputs": [
    {
     "name": "stdout",
     "output_type": "stream",
     "text": [
      "Ben\n",
      "True\n",
      "4\n",
      "Python\n",
      "False\n",
      "my favorite number!\n"
     ]
    }
   ],
   "source": [
    "for v in instructor.values():\n",
    "    print(v)"
   ]
  },
  {
   "cell_type": "code",
   "execution_count": 9,
   "id": "0f33f02c",
   "metadata": {},
   "outputs": [
    {
     "data": {
      "text/plain": [
       "dict_keys(['name', 'owns_pet', 'num_courses', 'favorite_language', 'is_hilarious', 44])"
      ]
     },
     "execution_count": 9,
     "metadata": {},
     "output_type": "execute_result"
    }
   ],
   "source": [
    "instructor.keys()"
   ]
  },
  {
   "cell_type": "code",
   "execution_count": 10,
   "id": "6f0dbb13",
   "metadata": {
    "scrolled": true
   },
   "outputs": [
    {
     "name": "stdout",
     "output_type": "stream",
     "text": [
      "name\n",
      "owns_pet\n",
      "num_courses\n",
      "favorite_language\n",
      "is_hilarious\n",
      "44\n"
     ]
    }
   ],
   "source": [
    "for v in instructor.keys():\n",
    "    print(v)"
   ]
  },
  {
   "cell_type": "code",
   "execution_count": 11,
   "id": "0b949303",
   "metadata": {},
   "outputs": [
    {
     "data": {
      "text/plain": [
       "dict_items([('name', 'Ben'), ('owns_pet', True), ('num_courses', 4), ('favorite_language', 'Python'), ('is_hilarious', False), (44, 'my favorite number!')])"
      ]
     },
     "execution_count": 11,
     "metadata": {},
     "output_type": "execute_result"
    }
   ],
   "source": [
    "instructor.items()"
   ]
  },
  {
   "cell_type": "code",
   "execution_count": 15,
   "id": "5351660f",
   "metadata": {},
   "outputs": [
    {
     "name": "stdout",
     "output_type": "stream",
     "text": [
      "name Ben\n",
      "owns_pet True\n",
      "num_courses 4\n",
      "favorite_language Python\n",
      "is_hilarious False\n",
      "44 my favorite number!\n"
     ]
    }
   ],
   "source": [
    "for keys,values in instructor.items():\n",
    "    print(keys,values)"
   ]
  },
  {
   "cell_type": "code",
   "execution_count": 17,
   "id": "53dcf2e5",
   "metadata": {},
   "outputs": [
    {
     "name": "stdout",
     "output_type": "stream",
     "text": [
      "key is name and value is Ben\n",
      "key is owns_pet and value is True\n",
      "key is num_courses and value is 4\n",
      "key is favorite_language and value is Python\n",
      "key is is_hilarious and value is False\n",
      "key is 44 and value is my favorite number!\n"
     ]
    }
   ],
   "source": [
    "for k,v in instructor.items():\n",
    "    print(f\"key is {k} and value is {v}\")"
   ]
  },
  {
   "cell_type": "code",
   "execution_count": 3,
   "id": "56ab6134",
   "metadata": {},
   "outputs": [
    {
     "data": {
      "text/plain": [
       "True"
      ]
     },
     "execution_count": 3,
     "metadata": {},
     "output_type": "execute_result"
    }
   ],
   "source": [
    "\"name\" in instructor"
   ]
  },
  {
   "cell_type": "code",
   "execution_count": 4,
   "id": "57feb4ac",
   "metadata": {},
   "outputs": [
    {
     "data": {
      "text/plain": [
       "False"
      ]
     },
     "execution_count": 4,
     "metadata": {},
     "output_type": "execute_result"
    }
   ],
   "source": [
    "'pet' in instructor"
   ]
  },
  {
   "cell_type": "code",
   "execution_count": 9,
   "id": "f9a53760",
   "metadata": {},
   "outputs": [
    {
     "data": {
      "text/plain": [
       "False"
      ]
     },
     "execution_count": 9,
     "metadata": {},
     "output_type": "execute_result"
    }
   ],
   "source": [
    "'Ben' in instructor"
   ]
  },
  {
   "cell_type": "code",
   "execution_count": 6,
   "id": "2256712d",
   "metadata": {},
   "outputs": [
    {
     "data": {
      "text/plain": [
       "True"
      ]
     },
     "execution_count": 6,
     "metadata": {},
     "output_type": "execute_result"
    }
   ],
   "source": [
    "True in instructor.values()"
   ]
  },
  {
   "cell_type": "code",
   "execution_count": 8,
   "id": "828e0f2b",
   "metadata": {},
   "outputs": [
    {
     "data": {
      "text/plain": [
       "True"
      ]
     },
     "execution_count": 8,
     "metadata": {},
     "output_type": "execute_result"
    }
   ],
   "source": [
    "\"Ben\" in instructor.values()"
   ]
  },
  {
   "cell_type": "code",
   "execution_count": 10,
   "id": "e865c599",
   "metadata": {},
   "outputs": [
    {
     "data": {
      "text/plain": [
       "False"
      ]
     },
     "execution_count": 10,
     "metadata": {},
     "output_type": "execute_result"
    }
   ],
   "source": [
    "\"pet\" in instructor.values()"
   ]
  },
  {
   "cell_type": "code",
   "execution_count": 11,
   "id": "1bd68c4c",
   "metadata": {},
   "outputs": [
    {
     "data": {
      "text/plain": [
       "True"
      ]
     },
     "execution_count": 11,
     "metadata": {},
     "output_type": "execute_result"
    }
   ],
   "source": [
    "\"name\" in instructor.keys()"
   ]
  },
  {
   "cell_type": "code",
   "execution_count": 19,
   "id": "18b218e2",
   "metadata": {},
   "outputs": [],
   "source": [
    "instructor = {\n",
    "    \"name\": \"Ben\",\n",
    "    \"owns_pet\": True,\n",
    "    \"num_courses\": 4,\n",
    "    \"favorite_language\": \"Python\",\n",
    "    \"is_hilarious\": False,\n",
    "    44: \"my favorite number!\"\n",
    "}"
   ]
  },
  {
   "cell_type": "code",
   "execution_count": 13,
   "id": "933aa886",
   "metadata": {},
   "outputs": [],
   "source": [
    "instructor.clear()"
   ]
  },
  {
   "cell_type": "code",
   "execution_count": 14,
   "id": "0f1d4712",
   "metadata": {},
   "outputs": [
    {
     "data": {
      "text/plain": [
       "{}"
      ]
     },
     "execution_count": 14,
     "metadata": {},
     "output_type": "execute_result"
    }
   ],
   "source": [
    "instructor"
   ]
  },
  {
   "cell_type": "code",
   "execution_count": 20,
   "id": "614a8212",
   "metadata": {},
   "outputs": [],
   "source": [
    "num = instructor.copy()"
   ]
  },
  {
   "cell_type": "code",
   "execution_count": 21,
   "id": "82b901e5",
   "metadata": {},
   "outputs": [
    {
     "data": {
      "text/plain": [
       "{'name': 'Ben',\n",
       " 'owns_pet': True,\n",
       " 'num_courses': 4,\n",
       " 'favorite_language': 'Python',\n",
       " 'is_hilarious': False,\n",
       " 44: 'my favorite number!'}"
      ]
     },
     "execution_count": 21,
     "metadata": {},
     "output_type": "execute_result"
    }
   ],
   "source": [
    "num"
   ]
  },
  {
   "cell_type": "code",
   "execution_count": 32,
   "id": "7e86c39e",
   "metadata": {},
   "outputs": [],
   "source": [
    "d = dict(a=1, b=2, c=3)"
   ]
  },
  {
   "cell_type": "code",
   "execution_count": 33,
   "id": "32083770",
   "metadata": {},
   "outputs": [
    {
     "data": {
      "text/plain": [
       "{'a': 1, 'b': 2, 'c': 3}"
      ]
     },
     "execution_count": 33,
     "metadata": {},
     "output_type": "execute_result"
    }
   ],
   "source": [
    "d"
   ]
  },
  {
   "cell_type": "code",
   "execution_count": 34,
   "id": "a69dbb31",
   "metadata": {},
   "outputs": [],
   "source": [
    "clone = d.copy()"
   ]
  },
  {
   "cell_type": "code",
   "execution_count": 35,
   "id": "06086106",
   "metadata": {},
   "outputs": [
    {
     "data": {
      "text/plain": [
       "{'a': 1, 'b': 2, 'c': 3}"
      ]
     },
     "execution_count": 35,
     "metadata": {},
     "output_type": "execute_result"
    }
   ],
   "source": [
    "clone"
   ]
  },
  {
   "cell_type": "code",
   "execution_count": 36,
   "id": "3cfc2255",
   "metadata": {},
   "outputs": [
    {
     "data": {
      "text/plain": [
       "True"
      ]
     },
     "execution_count": 36,
     "metadata": {},
     "output_type": "execute_result"
    }
   ],
   "source": [
    "clone == d"
   ]
  },
  {
   "cell_type": "code",
   "execution_count": 37,
   "id": "f24f1a74",
   "metadata": {},
   "outputs": [
    {
     "data": {
      "text/plain": [
       "False"
      ]
     },
     "execution_count": 37,
     "metadata": {},
     "output_type": "execute_result"
    }
   ],
   "source": [
    "clone is d"
   ]
  },
  {
   "cell_type": "code",
   "execution_count": 38,
   "id": "66d2a54f",
   "metadata": {},
   "outputs": [
    {
     "data": {
      "text/plain": [
       "False"
      ]
     },
     "execution_count": 38,
     "metadata": {},
     "output_type": "execute_result"
    }
   ],
   "source": [
    "d is clone"
   ]
  },
  {
   "cell_type": "code",
   "execution_count": 50,
   "id": "0aafa7f9",
   "metadata": {},
   "outputs": [],
   "source": [
    "new_user = {}.fromkeys([])"
   ]
  },
  {
   "cell_type": "code",
   "execution_count": 51,
   "id": "23a5c41f",
   "metadata": {},
   "outputs": [],
   "source": [
    "new_user = {}.fromkeys(['name', 'score', 'email', 'profile bio'], 'unknown')"
   ]
  },
  {
   "cell_type": "code",
   "execution_count": 52,
   "id": "83d20a35",
   "metadata": {},
   "outputs": [
    {
     "data": {
      "text/plain": [
       "{'name': 'unknown',\n",
       " 'score': 'unknown',\n",
       " 'email': 'unknown',\n",
       " 'profile bio': 'unknown'}"
      ]
     },
     "execution_count": 52,
     "metadata": {},
     "output_type": "execute_result"
    }
   ],
   "source": [
    "new_user"
   ]
  },
  {
   "cell_type": "code",
   "execution_count": 53,
   "id": "c6c4a67b",
   "metadata": {},
   "outputs": [],
   "source": [
    "new_user = {}.fromkeys(['phone'],'unknown')"
   ]
  },
  {
   "cell_type": "code",
   "execution_count": 54,
   "id": "bc62abed",
   "metadata": {},
   "outputs": [
    {
     "data": {
      "text/plain": [
       "{'phone': 'unknown'}"
      ]
     },
     "execution_count": 54,
     "metadata": {},
     "output_type": "execute_result"
    }
   ],
   "source": [
    "new_user"
   ]
  },
  {
   "cell_type": "code",
   "execution_count": 55,
   "id": "55c21383",
   "metadata": {},
   "outputs": [],
   "source": [
    "new_user = {}.fromkeys(['name', 'score', 'email', 'profile bio'], 'unknown')"
   ]
  },
  {
   "cell_type": "code",
   "execution_count": 56,
   "id": "a614c1da",
   "metadata": {},
   "outputs": [
    {
     "data": {
      "text/plain": [
       "{'name': 'unknown',\n",
       " 'score': 'unknown',\n",
       " 'email': 'unknown',\n",
       " 'profile bio': 'unknown'}"
      ]
     },
     "execution_count": 56,
     "metadata": {},
     "output_type": "execute_result"
    }
   ],
   "source": [
    "new_user"
   ]
  },
  {
   "cell_type": "code",
   "execution_count": 57,
   "id": "5b64917a",
   "metadata": {},
   "outputs": [
    {
     "data": {
      "text/plain": [
       "{'phone': 'unknown'}"
      ]
     },
     "execution_count": 57,
     "metadata": {},
     "output_type": "execute_result"
    }
   ],
   "source": [
    "new_user.fromkeys(['phone'],'unknown')"
   ]
  },
  {
   "cell_type": "code",
   "execution_count": 58,
   "id": "fa67123c",
   "metadata": {},
   "outputs": [
    {
     "data": {
      "text/plain": [
       "{'name': 'unknown',\n",
       " 'score': 'unknown',\n",
       " 'email': 'unknown',\n",
       " 'profile bio': 'unknown'}"
      ]
     },
     "execution_count": 58,
     "metadata": {},
     "output_type": "execute_result"
    }
   ],
   "source": [
    "new_user"
   ]
  },
  {
   "cell_type": "code",
   "execution_count": 59,
   "id": "995597cb",
   "metadata": {},
   "outputs": [
    {
     "data": {
      "text/plain": [
       "{'p': 'unknown',\n",
       " 'h': 'unknown',\n",
       " 'o': 'unknown',\n",
       " 'n': 'unknown',\n",
       " 'e': 'unknown'}"
      ]
     },
     "execution_count": 59,
     "metadata": {},
     "output_type": "execute_result"
    }
   ],
   "source": [
    "new_user.fromkeys('phone','unknown')"
   ]
  },
  {
   "cell_type": "code",
   "execution_count": 60,
   "id": "c291ae52",
   "metadata": {},
   "outputs": [
    {
     "data": {
      "text/plain": [
       "{1: 'unknown',\n",
       " 2: 'unknown',\n",
       " 3: 'unknown',\n",
       " 4: 'unknown',\n",
       " 5: 'unknown',\n",
       " 6: 'unknown',\n",
       " 7: 'unknown',\n",
       " 8: 'unknown',\n",
       " 9: 'unknown'}"
      ]
     },
     "execution_count": 60,
     "metadata": {},
     "output_type": "execute_result"
    }
   ],
   "source": [
    "new_user.fromkeys(range(1,10),'unknown')"
   ]
  },
  {
   "cell_type": "code",
   "execution_count": 66,
   "id": "983c94a0",
   "metadata": {},
   "outputs": [
    {
     "data": {
      "text/plain": [
       "{'name': 'Ben',\n",
       " 'owns_pet': True,\n",
       " 'num_courses': 4,\n",
       " 'favorite_language': 'Python',\n",
       " 'is_hilarious': False,\n",
       " 44: 'my favorite number!'}"
      ]
     },
     "execution_count": 66,
     "metadata": {},
     "output_type": "execute_result"
    }
   ],
   "source": [
    "instructor"
   ]
  },
  {
   "cell_type": "code",
   "execution_count": 67,
   "id": "795a1217",
   "metadata": {},
   "outputs": [
    {
     "data": {
      "text/plain": [
       "'Ben'"
      ]
     },
     "execution_count": 67,
     "metadata": {},
     "output_type": "execute_result"
    }
   ],
   "source": [
    "instructor.get(\"name\")"
   ]
  },
  {
   "cell_type": "code",
   "execution_count": 68,
   "id": "b1844719",
   "metadata": {},
   "outputs": [],
   "source": [
    "instructor.get(\"email\")"
   ]
  },
  {
   "cell_type": "code",
   "execution_count": 69,
   "id": "f4f30074",
   "metadata": {},
   "outputs": [],
   "source": [
    "result = instructor.get(\"email\")"
   ]
  },
  {
   "cell_type": "raw",
   "id": "f839d353",
   "metadata": {},
   "source": []
  },
  {
   "cell_type": "code",
   "execution_count": 70,
   "id": "325df97c",
   "metadata": {},
   "outputs": [
    {
     "data": {
      "text/plain": [
       "True"
      ]
     },
     "execution_count": 70,
     "metadata": {},
     "output_type": "execute_result"
    }
   ],
   "source": [
    "result == None"
   ]
  },
  {
   "cell_type": "code",
   "execution_count": 71,
   "id": "0636d496",
   "metadata": {},
   "outputs": [
    {
     "data": {
      "text/plain": [
       "True"
      ]
     },
     "execution_count": 71,
     "metadata": {},
     "output_type": "execute_result"
    }
   ],
   "source": [
    "result is None"
   ]
  },
  {
   "cell_type": "code",
   "execution_count": 73,
   "id": "35e5de9a",
   "metadata": {},
   "outputs": [],
   "source": [
    "from random import choice\n",
    "food = choice([\"cheese pizza\", \"quiche\",\"morning bun\",\"gummy bear\",\"tea cake\"])\n",
    "bakery_stock = {\n",
    "    \"almond croissant\" : 12,\n",
    "    \"toffee cookie\": 3,\n",
    "    \"morning bun\": 1,\n",
    "    \"chocolate chunk cookie\": 9,\n",
    "    \"tea cake\": 25\n",
    "}"
   ]
  },
  {
   "cell_type": "code",
   "execution_count": 74,
   "id": "cfd9ef7e",
   "metadata": {},
   "outputs": [
    {
     "name": "stdout",
     "output_type": "stream",
     "text": [
      "1 left\n"
     ]
    }
   ],
   "source": [
    "if food in bakery_stock:\n",
    "    print(\"{} left\".format(bakery_stock[food]))\n",
    "else:\n",
    "    print(\"We don't make that\")"
   ]
  },
  {
   "cell_type": "code",
   "execution_count": 75,
   "id": "c3085be5",
   "metadata": {},
   "outputs": [
    {
     "name": "stdout",
     "output_type": "stream",
     "text": [
      "1 left\n"
     ]
    }
   ],
   "source": [
    "quantity = bakery_stock.get(food)\n",
    "if quantity:\n",
    "    print(\"{} left\".format(quantity))\n",
    "else:\n",
    "    print(\"we don't make that\")\n"
   ]
  },
  {
   "cell_type": "code",
   "execution_count": 77,
   "id": "29aaf5ba",
   "metadata": {},
   "outputs": [],
   "source": [
    "game_properties = [\n",
    "    \"current_score\",\n",
    "    \"high_score\",\n",
    "    \"number_of_lives\",\n",
    "    \"items_in_inventory\",\n",
    "    \"power_ups\",\n",
    "    \"ammo\",\n",
    "    \"enemies_on_screen\",\n",
    "    \"enemy_kills\",\n",
    "    \"enemy_kill_streaks\",\n",
    "    \"minutes_played\",\n",
    "    \"notifications\",\n",
    "    \"achievements\"\n",
    "]\n",
    "initial_game_state = dict.fromkeys(game_properties, 0)"
   ]
  },
  {
   "cell_type": "code",
   "execution_count": 78,
   "id": "eccde23e",
   "metadata": {},
   "outputs": [],
   "source": [
    "initial_game_state = dict.fromkeys(game_properties, 0)"
   ]
  },
  {
   "cell_type": "code",
   "execution_count": 79,
   "id": "6e605ee3",
   "metadata": {},
   "outputs": [
    {
     "data": {
      "text/plain": [
       "{'a': 1, 'b': 2, 'c': 3}"
      ]
     },
     "execution_count": 79,
     "metadata": {},
     "output_type": "execute_result"
    }
   ],
   "source": [
    "d"
   ]
  },
  {
   "cell_type": "code",
   "execution_count": 81,
   "id": "d146229f",
   "metadata": {},
   "outputs": [
    {
     "data": {
      "text/plain": [
       "1"
      ]
     },
     "execution_count": 81,
     "metadata": {},
     "output_type": "execute_result"
    }
   ],
   "source": [
    "d.pop('a')"
   ]
  },
  {
   "cell_type": "code",
   "execution_count": 82,
   "id": "056e35dc",
   "metadata": {},
   "outputs": [
    {
     "data": {
      "text/plain": [
       "{'b': 2, 'c': 3}"
      ]
     },
     "execution_count": 82,
     "metadata": {},
     "output_type": "execute_result"
    }
   ],
   "source": [
    "d"
   ]
  },
  {
   "cell_type": "code",
   "execution_count": 83,
   "id": "2ebbacc4",
   "metadata": {},
   "outputs": [
    {
     "ename": "KeyError",
     "evalue": "'email'",
     "output_type": "error",
     "traceback": [
      "\u001b[1;31m---------------------------------------------------------------------------\u001b[0m",
      "\u001b[1;31mKeyError\u001b[0m                                  Traceback (most recent call last)",
      "\u001b[1;32m~\\AppData\\Local\\Temp/ipykernel_3792/1776535068.py\u001b[0m in \u001b[0;36m<module>\u001b[1;34m\u001b[0m\n\u001b[1;32m----> 1\u001b[1;33m \u001b[0md\u001b[0m\u001b[1;33m.\u001b[0m\u001b[0mpop\u001b[0m\u001b[1;33m(\u001b[0m\u001b[1;34m\"email\"\u001b[0m\u001b[1;33m)\u001b[0m\u001b[1;33m\u001b[0m\u001b[1;33m\u001b[0m\u001b[0m\n\u001b[0m",
      "\u001b[1;31mKeyError\u001b[0m: 'email'"
     ]
    }
   ],
   "source": [
    "d.pop(\"email\")"
   ]
  },
  {
   "cell_type": "code",
   "execution_count": 84,
   "id": "b227324f",
   "metadata": {},
   "outputs": [
    {
     "data": {
      "text/plain": [
       "{'name': 'Ben',\n",
       " 'owns_pet': True,\n",
       " 'num_courses': 4,\n",
       " 'favorite_language': 'Python',\n",
       " 'is_hilarious': False,\n",
       " 44: 'my favorite number!'}"
      ]
     },
     "execution_count": 84,
     "metadata": {},
     "output_type": "execute_result"
    }
   ],
   "source": [
    "instructor"
   ]
  },
  {
   "cell_type": "code",
   "execution_count": 85,
   "id": "41a6fbdd",
   "metadata": {},
   "outputs": [
    {
     "data": {
      "text/plain": [
       "(44, 'my favorite number!')"
      ]
     },
     "execution_count": 85,
     "metadata": {},
     "output_type": "execute_result"
    }
   ],
   "source": [
    "instructor.popitem()"
   ]
  },
  {
   "cell_type": "code",
   "execution_count": 86,
   "id": "faf7dc9c",
   "metadata": {},
   "outputs": [
    {
     "ename": "TypeError",
     "evalue": "pop expected at least 1 argument, got 0",
     "output_type": "error",
     "traceback": [
      "\u001b[1;31m---------------------------------------------------------------------------\u001b[0m",
      "\u001b[1;31mTypeError\u001b[0m                                 Traceback (most recent call last)",
      "\u001b[1;32m~\\AppData\\Local\\Temp/ipykernel_3792/1274378990.py\u001b[0m in \u001b[0;36m<module>\u001b[1;34m\u001b[0m\n\u001b[1;32m----> 1\u001b[1;33m \u001b[0md\u001b[0m\u001b[1;33m.\u001b[0m\u001b[0mpop\u001b[0m\u001b[1;33m(\u001b[0m\u001b[1;33m)\u001b[0m\u001b[1;33m\u001b[0m\u001b[1;33m\u001b[0m\u001b[0m\n\u001b[0m",
      "\u001b[1;31mTypeError\u001b[0m: pop expected at least 1 argument, got 0"
     ]
    }
   ],
   "source": [
    "d.pop()"
   ]
  },
  {
   "cell_type": "code",
   "execution_count": 87,
   "id": "65724889",
   "metadata": {},
   "outputs": [
    {
     "data": {
      "text/plain": [
       "('is_hilarious', False)"
      ]
     },
     "execution_count": 87,
     "metadata": {},
     "output_type": "execute_result"
    }
   ],
   "source": [
    "instructor.popitem()"
   ]
  },
  {
   "cell_type": "code",
   "execution_count": 88,
   "id": "8d4b79b1",
   "metadata": {},
   "outputs": [
    {
     "ename": "TypeError",
     "evalue": "dict.popitem() takes no arguments (1 given)",
     "output_type": "error",
     "traceback": [
      "\u001b[1;31m---------------------------------------------------------------------------\u001b[0m",
      "\u001b[1;31mTypeError\u001b[0m                                 Traceback (most recent call last)",
      "\u001b[1;32m~\\AppData\\Local\\Temp/ipykernel_3792/1013173315.py\u001b[0m in \u001b[0;36m<module>\u001b[1;34m\u001b[0m\n\u001b[1;32m----> 1\u001b[1;33m \u001b[0minstructor\u001b[0m\u001b[1;33m.\u001b[0m\u001b[0mpopitem\u001b[0m\u001b[1;33m(\u001b[0m\u001b[1;34m'name'\u001b[0m\u001b[1;33m)\u001b[0m\u001b[1;33m\u001b[0m\u001b[1;33m\u001b[0m\u001b[0m\n\u001b[0m",
      "\u001b[1;31mTypeError\u001b[0m: dict.popitem() takes no arguments (1 given)"
     ]
    }
   ],
   "source": [
    "instructor.popitem('name')"
   ]
  },
  {
   "cell_type": "code",
   "execution_count": 94,
   "id": "a48b9e0c",
   "metadata": {},
   "outputs": [
    {
     "data": {
      "text/plain": [
       "{'name': 'Ben',\n",
       " 'owns_pet': True,\n",
       " 'num_courses': 4,\n",
       " 'favorite_language': 'Python',\n",
       " 'city': 'Lagos'}"
      ]
     },
     "execution_count": 94,
     "metadata": {},
     "output_type": "execute_result"
    }
   ],
   "source": [
    "instructor"
   ]
  },
  {
   "cell_type": "code",
   "execution_count": 95,
   "id": "75d7e7ea",
   "metadata": {},
   "outputs": [],
   "source": [
    "person = {\"city\":\"Lagos\"}"
   ]
  },
  {
   "cell_type": "code",
   "execution_count": 91,
   "id": "4affc3d4",
   "metadata": {},
   "outputs": [],
   "source": [
    "instructor.update(person)"
   ]
  },
  {
   "cell_type": "code",
   "execution_count": 92,
   "id": "caf648f3",
   "metadata": {},
   "outputs": [
    {
     "data": {
      "text/plain": [
       "{'city': 'Lagos'}"
      ]
     },
     "execution_count": 92,
     "metadata": {},
     "output_type": "execute_result"
    }
   ],
   "source": [
    "person"
   ]
  },
  {
   "cell_type": "code",
   "execution_count": 93,
   "id": "8e285224",
   "metadata": {},
   "outputs": [
    {
     "data": {
      "text/plain": [
       "{'name': 'Ben',\n",
       " 'owns_pet': True,\n",
       " 'num_courses': 4,\n",
       " 'favorite_language': 'Python',\n",
       " 'city': 'Lagos'}"
      ]
     },
     "execution_count": 93,
     "metadata": {},
     "output_type": "execute_result"
    }
   ],
   "source": [
    "instructor"
   ]
  },
  {
   "cell_type": "code",
   "execution_count": 96,
   "id": "fbedc9f9",
   "metadata": {},
   "outputs": [],
   "source": [
    "person.update(instructor)"
   ]
  },
  {
   "cell_type": "code",
   "execution_count": 97,
   "id": "62c63360",
   "metadata": {},
   "outputs": [
    {
     "data": {
      "text/plain": [
       "{'city': 'Lagos',\n",
       " 'name': 'Ben',\n",
       " 'owns_pet': True,\n",
       " 'num_courses': 4,\n",
       " 'favorite_language': 'Python'}"
      ]
     },
     "execution_count": 97,
     "metadata": {},
     "output_type": "execute_result"
    }
   ],
   "source": [
    "person"
   ]
  },
  {
   "cell_type": "code",
   "execution_count": 104,
   "id": "9f758b68",
   "metadata": {},
   "outputs": [],
   "source": [
    "person['name'] = \"Jimlad\""
   ]
  },
  {
   "cell_type": "code",
   "execution_count": 112,
   "id": "16402755",
   "metadata": {},
   "outputs": [
    {
     "data": {
      "text/plain": [
       "{'city': 'Lagos',\n",
       " 'name': 'Ben',\n",
       " 'owns_pet': True,\n",
       " 'num_courses': 4,\n",
       " 'favorite_language': 'Python'}"
      ]
     },
     "execution_count": 112,
     "metadata": {},
     "output_type": "execute_result"
    }
   ],
   "source": [
    "person"
   ]
  },
  {
   "cell_type": "code",
   "execution_count": 108,
   "id": "7440e1b8",
   "metadata": {},
   "outputs": [],
   "source": [
    "person.update(instructor)"
   ]
  },
  {
   "cell_type": "code",
   "execution_count": 109,
   "id": "c9a3dbd8",
   "metadata": {},
   "outputs": [
    {
     "data": {
      "text/plain": [
       "{'city': 'Lagos',\n",
       " 'name': 'Ben',\n",
       " 'owns_pet': True,\n",
       " 'num_courses': 4,\n",
       " 'favorite_language': 'Python'}"
      ]
     },
     "execution_count": 109,
     "metadata": {},
     "output_type": "execute_result"
    }
   ],
   "source": [
    "person"
   ]
  },
  {
   "cell_type": "code",
   "execution_count": 110,
   "id": "9d7f9737",
   "metadata": {},
   "outputs": [],
   "source": [
    "person.update({})"
   ]
  },
  {
   "cell_type": "code",
   "execution_count": 111,
   "id": "85af66af",
   "metadata": {},
   "outputs": [
    {
     "data": {
      "text/plain": [
       "{'city': 'Lagos',\n",
       " 'name': 'Ben',\n",
       " 'owns_pet': True,\n",
       " 'num_courses': 4,\n",
       " 'favorite_language': 'Python'}"
      ]
     },
     "execution_count": 111,
     "metadata": {},
     "output_type": "execute_result"
    }
   ],
   "source": [
    "person"
   ]
  },
  {
   "cell_type": "code",
   "execution_count": 121,
   "id": "d35cfb73",
   "metadata": {},
   "outputs": [
    {
     "name": "stdout",
     "output_type": "stream",
     "text": [
      "I love lagos\n",
      "Zazzu Zeh\n",
      "Pakurumo\n"
     ]
    }
   ],
   "source": [
    "playlist = {\n",
    "    'title':'patagonia bus',\n",
    "     'author':'colt Steele',\n",
    "     'songs':[\n",
    "         {'title': 'I love lagos','artist': ['Olamide'], 'duration':3.45},\n",
    "         {'title': 'Zazzu Zeh','artist': ['Portable'], 'duration':4.24},\n",
    "         {'title': 'Pakurumo','artist': ['Wizkid'], 'duration':5.36}\n",
    "                \n",
    "            ]  \n",
    "           }\n",
    "for song in playlist['songs']:\n",
    "    print(song['title'])"
   ]
  },
  {
   "cell_type": "code",
   "execution_count": 124,
   "id": "8706eb71",
   "metadata": {},
   "outputs": [
    {
     "name": "stdout",
     "output_type": "stream",
     "text": [
      "3.45\n",
      "4.24\n",
      "5.36\n"
     ]
    }
   ],
   "source": [
    "playlist = {\n",
    "    'title':'patagonia bus',\n",
    "     'author':'colt Steele',\n",
    "     'songs':[\n",
    "         {'title': 'I love lagos','artist': ['Olamide'], 'duration':3.45},\n",
    "         {'title': 'Zazzu Zeh','artist': ['Portable'], 'duration':4.24},\n",
    "         {'title': 'Pakurumo','artist': ['Wizkid'], 'duration':5.36}\n",
    "                \n",
    "            ]  \n",
    "           }\n",
    "for song in playlist['songs']:\n",
    "    print(song['duration'])"
   ]
  },
  {
   "cell_type": "code",
   "execution_count": 127,
   "id": "30aa0d75",
   "metadata": {},
   "outputs": [
    {
     "name": "stdout",
     "output_type": "stream",
     "text": [
      "13.05\n"
     ]
    }
   ],
   "source": [
    "playlist = {\n",
    "    'title':'patagonia bus',\n",
    "     'author':'colt Steele',\n",
    "     'songs':[\n",
    "         {'title': 'I love lagos','artist': ['Olamide'], 'duration':3.45},\n",
    "         {'title': 'Zazzu Zeh','artist': ['Portable'], 'duration':4.24},\n",
    "         {'title': 'Pakurumo','artist': ['Wizkid'], 'duration':5.36}\n",
    "                \n",
    "            ]  \n",
    "           }\n",
    "total_length = 0\n",
    "for song in playlist['songs']:\n",
    "    total_length += (song['duration'])\n",
    "print(total_length)"
   ]
  },
  {
   "cell_type": "code",
   "execution_count": 129,
   "id": "f3e72a6a",
   "metadata": {},
   "outputs": [
    {
     "name": "stdout",
     "output_type": "stream",
     "text": [
      "13.05\n"
     ]
    }
   ],
   "source": [
    "playlist = {\n",
    "    'title':'patagonia bus',\n",
    "     'author':'colt Steele',\n",
    "     'songs':[\n",
    "         {'title': 'I love lagos','artist': ['Olamide'], 'duration':3.45},\n",
    "         {'title': 'Zazzu Zeh','artist': ['Portable'], 'duration':4.24},\n",
    "         {'title': 'Pakurumo','artist': ['Wizkid'], 'duration':5.36}\n",
    "                \n",
    "            ]  \n",
    "           }\n",
    "totallength = 0\n",
    "for song in playlist['songs']:\n",
    "    totallength += (song['duration'])\n",
    "print(totallength)"
   ]
  },
  {
   "cell_type": "code",
   "execution_count": null,
   "id": "b3f21937",
   "metadata": {},
   "outputs": [],
   "source": []
  }
 ],
 "metadata": {
  "kernelspec": {
   "display_name": "Python 3 (ipykernel)",
   "language": "python",
   "name": "python3"
  },
  "language_info": {
   "codemirror_mode": {
    "name": "ipython",
    "version": 3
   },
   "file_extension": ".py",
   "mimetype": "text/x-python",
   "name": "python",
   "nbconvert_exporter": "python",
   "pygments_lexer": "ipython3",
   "version": "3.9.7"
  }
 },
 "nbformat": 4,
 "nbformat_minor": 5
}
