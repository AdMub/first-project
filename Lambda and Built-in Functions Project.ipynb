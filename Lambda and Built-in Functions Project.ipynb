{
 "cells": [
  {
   "cell_type": "code",
   "execution_count": 1,
   "id": "5e7dcfbb",
   "metadata": {},
   "outputs": [
    {
     "name": "stdout",
     "output_type": "stream",
     "text": [
      "81\n"
     ]
    }
   ],
   "source": [
    "def square(num):\n",
    "    return num * num\n",
    "print(square(9))"
   ]
  },
  {
   "cell_type": "code",
   "execution_count": 2,
   "id": "e0c6cdf4",
   "metadata": {},
   "outputs": [
    {
     "name": "stdout",
     "output_type": "stream",
     "text": [
      "81\n"
     ]
    }
   ],
   "source": [
    "def square(num):return num * num\n",
    "print(square(9))"
   ]
  },
  {
   "cell_type": "code",
   "execution_count": 3,
   "id": "cd5d73ac",
   "metadata": {},
   "outputs": [
    {
     "name": "stdout",
     "output_type": "stream",
     "text": [
      "81\n"
     ]
    }
   ],
   "source": [
    "def square(num):return num * num\n",
    "square2 = lambda num: num * num\n",
    "print(square(9))"
   ]
  },
  {
   "cell_type": "code",
   "execution_count": 4,
   "id": "d5d4154d",
   "metadata": {},
   "outputs": [
    {
     "name": "stdout",
     "output_type": "stream",
     "text": [
      "81\n"
     ]
    }
   ],
   "source": [
    "def square(num):return num * num\n",
    "\n",
    "square2 = lambda num: num * num\n",
    "\n",
    "print(square2(9))"
   ]
  },
  {
   "cell_type": "code",
   "execution_count": 5,
   "id": "56c7e11e",
   "metadata": {},
   "outputs": [
    {
     "name": "stdout",
     "output_type": "stream",
     "text": [
      "13\n"
     ]
    }
   ],
   "source": [
    "  def square(num):return num * num\n",
    "\n",
    "square2 = lambda num: num * num\n",
    "\n",
    "add = lambda a,b: a + b\n",
    "print(add(3,10))"
   ]
  },
  {
   "cell_type": "code",
   "execution_count": 6,
   "id": "310373e0",
   "metadata": {},
   "outputs": [
    {
     "name": "stdout",
     "output_type": "stream",
     "text": [
      "square\n"
     ]
    }
   ],
   "source": [
    "def square(num):return num * num\n",
    "\n",
    "square2 = lambda num: num * num\n",
    "\n",
    "print(square.__name__)"
   ]
  },
  {
   "cell_type": "code",
   "execution_count": 7,
   "id": "1cdadbab",
   "metadata": {},
   "outputs": [
    {
     "name": "stdout",
     "output_type": "stream",
     "text": [
      "square\n"
     ]
    }
   ],
   "source": [
    "print(square.__name__)"
   ]
  },
  {
   "cell_type": "code",
   "execution_count": 8,
   "id": "cea9fa62",
   "metadata": {},
   "outputs": [
    {
     "name": "stdout",
     "output_type": "stream",
     "text": [
      "square\n",
      "<lambda>\n",
      "<lambda>\n"
     ]
    }
   ],
   "source": [
    "def square(num):return num * num\n",
    "\n",
    "square2 = lambda num: num * num\n",
    "\n",
    "add = lambda a,b: a + b\n",
    "\n",
    "print(square.__name__)\n",
    "print(square2.__name__)\n",
    "print(add.__name__)"
   ]
  },
  {
   "cell_type": "code",
   "execution_count": 9,
   "id": "228976f3",
   "metadata": {},
   "outputs": [
    {
     "name": "stdout",
     "output_type": "stream",
     "text": [
      "HELLO\n"
     ]
    }
   ],
   "source": [
    "import tkinter as tk\n",
    "root = tk.Tk()\n",
    "\n",
    "frame = tk.Frame(root)\n",
    "frame.pack()\n",
    "\n",
    "def say_hi():\n",
    "    print(\"HELLO\")\n",
    "    \n",
    "button = tk.Button(frame,\n",
    "                   text = \"CLICK ME\",\n",
    "                   fg = \"red\",\n",
    "                   command = print(\"HELLO\"))\n",
    "\n",
    "button.pack(side = tk.LEFT)\n",
    "root.mainloop()"
   ]
  },
  {
   "cell_type": "code",
   "execution_count": 10,
   "id": "786cec1f",
   "metadata": {},
   "outputs": [
    {
     "name": "stdout",
     "output_type": "stream",
     "text": [
      "HELLO\n"
     ]
    }
   ],
   "source": [
    "import tkinter as tk\n",
    "root = tk.Tk()\n",
    "\n",
    "frame = tk.Frame(root)\n",
    "frame.pack()\n",
    "\n",
    "def say_hi():\n",
    "    print(\"HELLO\")\n",
    "    \n",
    "button = tk.Button(frame,\n",
    "                   text = \"CLICK ME\",\n",
    "                   fg = \"red\",\n",
    "                   command = print(\"HELLO\"))\n",
    "\n",
    "button.pack(side = tk.LEFT)\n",
    "root.mainloop()"
   ]
  },
  {
   "cell_type": "code",
   "execution_count": 11,
   "id": "114887b5",
   "metadata": {},
   "outputs": [
    {
     "name": "stdout",
     "output_type": "stream",
     "text": [
      "HELLO\n",
      "HELLO\n",
      "HELLO\n",
      "HELLO\n",
      "HELLO\n",
      "HELLO\n",
      "HELLO\n",
      "HELLO\n",
      "HELLO\n",
      "HELLO\n",
      "HELLO\n",
      "HELLO\n",
      "HELLO\n",
      "HELLO\n",
      "HELLO\n",
      "HELLO\n",
      "HELLO\n",
      "HELLO\n"
     ]
    }
   ],
   "source": [
    "import tkinter as tk\n",
    "root = tk.Tk()\n",
    "\n",
    "frame = tk.Frame(root)\n",
    "frame.pack()\n",
    "\n",
    "def say_hi():\n",
    "    print(\"HELLO\")\n",
    "    \n",
    "button = tk.Button(frame,\n",
    "                   text = \"CLICK ME\",\n",
    "                   fg = \"red\",\n",
    "                   command = lambda: print(\"HELLO\"))\n",
    "\n",
    "button.pack(side = tk.LEFT)\n",
    "root.mainloop()"
   ]
  },
  {
   "cell_type": "code",
   "execution_count": 12,
   "id": "4041b6c1",
   "metadata": {},
   "outputs": [
    {
     "name": "stdout",
     "output_type": "stream",
     "text": [
      "HELLO\n",
      "HELLO\n",
      "HELLO\n",
      "HELLO\n",
      "HELLO\n",
      "HELLO\n",
      "HELLO\n",
      "HELLO\n",
      "HELLO\n",
      "HELLO\n"
     ]
    }
   ],
   "source": [
    "import tkinter as tk\n",
    "root = tk.Tk()\n",
    "\n",
    "frame = tk.Frame(root)\n",
    "frame.pack()\n",
    "\n",
    "def say_hi():\n",
    "    print(\"HELLO\")\n",
    "    \n",
    "button = tk.Button(frame,\n",
    "                   text = \"CLICK ME\",\n",
    "                   fg = \"red\",\n",
    "                   command = lambda: print(\"HELLO\"))\n",
    "\n",
    "button.pack(side = tk.LEFT)\n",
    "root.mainloop()"
   ]
  },
  {
   "cell_type": "code",
   "execution_count": 13,
   "id": "f0a10154",
   "metadata": {},
   "outputs": [
    {
     "name": "stdout",
     "output_type": "stream",
     "text": [
      "LOVE YOU\n",
      "LOVE YOU\n",
      "LOVE YOU\n",
      "LOVE YOU\n",
      "LOVE YOU\n",
      "LOVE YOU\n",
      "LOVE YOU\n",
      "LOVE YOU\n",
      "LOVE YOU\n",
      "LOVE YOU\n",
      "LOVE YOU\n",
      "LOVE YOU\n",
      "LOVE YOU\n"
     ]
    }
   ],
   "source": [
    "import tkinter as tk\n",
    "root = tk.Tk()\n",
    "\n",
    "frame = tk.Frame(root)\n",
    "frame.pack()\n",
    "\n",
    "\n",
    "    \n",
    "button = tk.Button(frame,\n",
    "                   text = \"CLICK ME\",\n",
    "                   fg = \"red\",\n",
    "                   command = lambda: print(\"LOVE YOU\"))\n",
    "\n",
    "button.pack(side = tk.LEFT)\n",
    "root.mainloop()"
   ]
  },
  {
   "cell_type": "code",
   "execution_count": 14,
   "id": "03c0cf00",
   "metadata": {},
   "outputs": [
    {
     "name": "stdout",
     "output_type": "stream",
     "text": [
      "LOVE YOU\n",
      "LOVE YOU\n",
      "LOVE YOU\n",
      "LOVE YOU\n",
      "LOVE YOU\n",
      "LOVE YOU\n",
      "LOVE YOU\n",
      "LOVE YOU\n",
      "LOVE YOU\n",
      "LOVE YOU\n",
      "LOVE YOU\n",
      "LOVE YOU\n",
      "LOVE YOU\n"
     ]
    }
   ],
   "source": [
    "import tkinter as tk\n",
    "root = tk.Tk()\n",
    "\n",
    "frame = tk.Frame(root)\n",
    "frame.pack()\n",
    "\n",
    "def say_hi():\n",
    "    print(\"HELLO\")\n",
    "    \n",
    "def say_bye():\n",
    "    print(\"Say Bye\")\n",
    "    \n",
    "button = tk.Button(frame,\n",
    "                   text = \"CLICK ME\",\n",
    "                   fg = \"red\",\n",
    "                   command = lambda: print(\"LOVE YOU\"))\n",
    "\n",
    "button2 = tk.Button(frame,\n",
    "                   text = \"CLICK ME\",\n",
    "                   fg = \"red\",\n",
    "                   command = say_bye)\n",
    "\n",
    "button.pack(side = tk.LEFT)\n",
    "root.mainloop()"
   ]
  },
  {
   "cell_type": "code",
   "execution_count": 15,
   "id": "c4862044",
   "metadata": {},
   "outputs": [
    {
     "name": "stdout",
     "output_type": "stream",
     "text": [
      "LOVE YOU\n",
      "LOVE YOU\n",
      "LOVE YOU\n",
      "LOVE YOU\n",
      "LOVE YOU\n",
      "LOVE YOU\n",
      "LOVE YOU\n",
      "LOVE YOU\n",
      "LOVE YOU\n",
      "LOVE YOU\n",
      "LOVE YOU\n",
      "LOVE YOU\n",
      "LOVE YOU\n",
      "LOVE YOU\n"
     ]
    }
   ],
   "source": [
    "import tkinter as tk\n",
    "root = tk.Tk()\n",
    "\n",
    "frame = tk.Frame(root)\n",
    "frame.pack()\n",
    "\n",
    "\n",
    "    \n",
    "def say_bye():\n",
    "    print(\"Say Bye\")\n",
    "    \n",
    "button = tk.Button(frame,\n",
    "                   text = \"CLICK ME\",\n",
    "                   fg = \"red\",\n",
    "                   command = lambda: print(\"LOVE YOU\"))\n",
    "\n",
    "button2 = tk.Button(frame,\n",
    "                   text = \"CLICK ME\",\n",
    "                   fg = \"red\",\n",
    "                   command = say_bye)\n",
    "\n",
    "button.pack(side = tk.LEFT)\n",
    "root.mainloop()"
   ]
  },
  {
   "cell_type": "code",
   "execution_count": 16,
   "id": "0cff8461",
   "metadata": {},
   "outputs": [
    {
     "data": {
      "text/plain": [
       "200"
      ]
     },
     "execution_count": 16,
     "metadata": {},
     "output_type": "execute_result"
    }
   ],
   "source": [
    "add_values = lambda x,y: x + y\n",
    "multiply_values = lambda x,y: x * y\n",
    "\n",
    "add_values(10,20)\n",
    "\n",
    "multiply_values(10,20)"
   ]
  },
  {
   "cell_type": "code",
   "execution_count": 17,
   "id": "8b97dffb",
   "metadata": {},
   "outputs": [
    {
     "data": {
      "text/plain": [
       "30"
      ]
     },
     "execution_count": 17,
     "metadata": {},
     "output_type": "execute_result"
    }
   ],
   "source": [
    "multiply_values = lambda x,y: x + y\n",
    "multiply_values(10,20)"
   ]
  },
  {
   "cell_type": "code",
   "execution_count": 18,
   "id": "1a2de98b",
   "metadata": {},
   "outputs": [],
   "source": [
    "nums = [2 ,4, 6, 8, 10]"
   ]
  },
  {
   "cell_type": "code",
   "execution_count": 19,
   "id": "4844cb91",
   "metadata": {},
   "outputs": [
    {
     "data": {
      "text/plain": [
       "[2, 4, 6, 8, 10]"
      ]
     },
     "execution_count": 19,
     "metadata": {},
     "output_type": "execute_result"
    }
   ],
   "source": [
    "nums"
   ]
  },
  {
   "cell_type": "code",
   "execution_count": 20,
   "id": "9d98c935",
   "metadata": {},
   "outputs": [],
   "source": [
    "doubles = map(lambda x: x*2 ,nums)"
   ]
  },
  {
   "cell_type": "code",
   "execution_count": 21,
   "id": "0e15e7b9",
   "metadata": {},
   "outputs": [
    {
     "name": "stdout",
     "output_type": "stream",
     "text": [
      "4\n",
      "8\n",
      "12\n",
      "16\n",
      "20\n"
     ]
    }
   ],
   "source": [
    "for nums in doubles:\n",
    "    print(nums)"
   ]
  },
  {
   "cell_type": "code",
   "execution_count": 22,
   "id": "1335121a",
   "metadata": {},
   "outputs": [
    {
     "data": {
      "text/plain": [
       "[]"
      ]
     },
     "execution_count": 22,
     "metadata": {},
     "output_type": "execute_result"
    }
   ],
   "source": [
    "list(doubles)"
   ]
  },
  {
   "cell_type": "code",
   "execution_count": 23,
   "id": "d3c3482c",
   "metadata": {},
   "outputs": [
    {
     "data": {
      "text/plain": [
       "<map at 0x22478e71850>"
      ]
     },
     "execution_count": 23,
     "metadata": {},
     "output_type": "execute_result"
    }
   ],
   "source": [
    "doubles"
   ]
  },
  {
   "cell_type": "code",
   "execution_count": 24,
   "id": "f2a2ab80",
   "metadata": {},
   "outputs": [
    {
     "data": {
      "text/plain": [
       "()"
      ]
     },
     "execution_count": 24,
     "metadata": {},
     "output_type": "execute_result"
    }
   ],
   "source": [
    "tuple(doubles)"
   ]
  },
  {
   "cell_type": "code",
   "execution_count": 25,
   "id": "ee86aac2",
   "metadata": {},
   "outputs": [],
   "source": [
    "people = [\"Darcy\", \"Christiana\", \"Dana\", \"Annabel\"]"
   ]
  },
  {
   "cell_type": "code",
   "execution_count": 26,
   "id": "12fcd4d9",
   "metadata": {},
   "outputs": [],
   "source": [
    "peeps = map(lambda name: name.upper(), people)"
   ]
  },
  {
   "cell_type": "code",
   "execution_count": 27,
   "id": "edc27af8",
   "metadata": {},
   "outputs": [
    {
     "data": {
      "text/plain": [
       "['Darcy', 'Christiana', 'Dana', 'Annabel']"
      ]
     },
     "execution_count": 27,
     "metadata": {},
     "output_type": "execute_result"
    }
   ],
   "source": [
    "list(people)"
   ]
  },
  {
   "cell_type": "code",
   "execution_count": 28,
   "id": "8446fa5b",
   "metadata": {},
   "outputs": [
    {
     "data": {
      "text/plain": [
       "['DARCY', 'CHRISTIANA', 'DANA', 'ANNABEL']"
      ]
     },
     "execution_count": 28,
     "metadata": {},
     "output_type": "execute_result"
    }
   ],
   "source": [
    "list(peeps)"
   ]
  },
  {
   "cell_type": "code",
   "execution_count": 29,
   "id": "d705fd63",
   "metadata": {},
   "outputs": [],
   "source": [
    "names = [\n",
    "    {'first': 'Rusty', 'last': 'Steele'},\n",
    "    {'first': 'Colt', 'last': 'Steele'},\n",
    "    {'first': 'Blue', 'last': 'Steele'}    \n",
    "]\n",
    "\n",
    "first_names = list(map(lambda x: x['first'], names))"
   ]
  },
  {
   "cell_type": "code",
   "execution_count": 30,
   "id": "74dd0979",
   "metadata": {},
   "outputs": [
    {
     "data": {
      "text/plain": [
       "['Rusty', 'Colt', 'Blue']"
      ]
     },
     "execution_count": 30,
     "metadata": {},
     "output_type": "execute_result"
    }
   ],
   "source": [
    "first_names"
   ]
  },
  {
   "cell_type": "code",
   "execution_count": 31,
   "id": "2502adda",
   "metadata": {},
   "outputs": [],
   "source": [
    "names = [\n",
    "    {'first': 'Rusty', 'last': 'Steele'},\n",
    "    {'first': 'Colt', 'last': 'Steele'},\n",
    "    {'first': 'Blue', 'last': 'Steele'}    \n",
    "]\n",
    "\n",
    "first_names = map(lambda x: x['first'], names)"
   ]
  },
  {
   "cell_type": "code",
   "execution_count": 32,
   "id": "7d899d5a",
   "metadata": {},
   "outputs": [
    {
     "data": {
      "text/plain": [
       "<map at 0x22478e71280>"
      ]
     },
     "execution_count": 32,
     "metadata": {},
     "output_type": "execute_result"
    }
   ],
   "source": [
    "first_names"
   ]
  },
  {
   "cell_type": "code",
   "execution_count": 33,
   "id": "cd4fa7af",
   "metadata": {},
   "outputs": [
    {
     "data": {
      "text/plain": [
       "('Rusty', 'Colt', 'Blue')"
      ]
     },
     "execution_count": 33,
     "metadata": {},
     "output_type": "execute_result"
    }
   ],
   "source": [
    "tuple(first_names)"
   ]
  },
  {
   "cell_type": "code",
   "execution_count": 34,
   "id": "7b57d571",
   "metadata": {},
   "outputs": [],
   "source": [
    "def double(x): return x*2"
   ]
  },
  {
   "cell_type": "code",
   "execution_count": 35,
   "id": "b2681b32",
   "metadata": {},
   "outputs": [
    {
     "data": {
      "text/plain": [
       "6"
      ]
     },
     "execution_count": 35,
     "metadata": {},
     "output_type": "execute_result"
    }
   ],
   "source": [
    "double(3)"
   ]
  },
  {
   "cell_type": "code",
   "execution_count": 36,
   "id": "52177564",
   "metadata": {},
   "outputs": [
    {
     "ename": "TypeError",
     "evalue": "'int' object is not iterable",
     "output_type": "error",
     "traceback": [
      "\u001b[1;31m---------------------------------------------------------------------------\u001b[0m",
      "\u001b[1;31mTypeError\u001b[0m                                 Traceback (most recent call last)",
      "\u001b[1;32m~\\AppData\\Local\\Temp/ipykernel_8656/1860729488.py\u001b[0m in \u001b[0;36m<module>\u001b[1;34m\u001b[0m\n\u001b[1;32m----> 1\u001b[1;33m \u001b[0mdoubles\u001b[0m \u001b[1;33m=\u001b[0m \u001b[0mmap\u001b[0m\u001b[1;33m(\u001b[0m\u001b[0mdouble\u001b[0m\u001b[1;33m,\u001b[0m \u001b[0mnums\u001b[0m\u001b[1;33m)\u001b[0m\u001b[1;33m\u001b[0m\u001b[1;33m\u001b[0m\u001b[0m\n\u001b[0m",
      "\u001b[1;31mTypeError\u001b[0m: 'int' object is not iterable"
     ]
    }
   ],
   "source": [
    "doubles = map(double, nums)"
   ]
  },
  {
   "cell_type": "code",
   "execution_count": null,
   "id": "0c1f5723",
   "metadata": {},
   "outputs": [],
   "source": [
    "list(doubles)"
   ]
  },
  {
   "cell_type": "code",
   "execution_count": 37,
   "id": "3760f066",
   "metadata": {},
   "outputs": [],
   "source": [
    "l = [1, 2, 3, 4]\n",
    "evens = list(filter(lambda x: x % 2 == 0, l))"
   ]
  },
  {
   "cell_type": "code",
   "execution_count": 38,
   "id": "2f6619e9",
   "metadata": {},
   "outputs": [
    {
     "data": {
      "text/plain": [
       "[2, 4]"
      ]
     },
     "execution_count": 38,
     "metadata": {},
     "output_type": "execute_result"
    }
   ],
   "source": [
    "evens"
   ]
  },
  {
   "cell_type": "code",
   "execution_count": 39,
   "id": "73f60f91",
   "metadata": {},
   "outputs": [],
   "source": [
    "names = [\"austin\", \"penny\", 'anthony', 'angel', 'billy']"
   ]
  },
  {
   "cell_type": "code",
   "execution_count": 40,
   "id": "670aa7cb",
   "metadata": {},
   "outputs": [
    {
     "data": {
      "text/plain": [
       "['austin', 'penny', 'anthony', 'angel', 'billy']"
      ]
     },
     "execution_count": 40,
     "metadata": {},
     "output_type": "execute_result"
    }
   ],
   "source": [
    "names"
   ]
  },
  {
   "cell_type": "code",
   "execution_count": 41,
   "id": "ac0ed8f9",
   "metadata": {},
   "outputs": [],
   "source": [
    "a_names = filter(lambda n: n[0] == 'a', names) "
   ]
  },
  {
   "cell_type": "code",
   "execution_count": 42,
   "id": "b5417564",
   "metadata": {},
   "outputs": [
    {
     "data": {
      "text/plain": [
       "<filter at 0x22478f23dc0>"
      ]
     },
     "execution_count": 42,
     "metadata": {},
     "output_type": "execute_result"
    }
   ],
   "source": [
    "a_names"
   ]
  },
  {
   "cell_type": "code",
   "execution_count": 43,
   "id": "a9d76fc6",
   "metadata": {},
   "outputs": [
    {
     "data": {
      "text/plain": [
       "['austin', 'anthony', 'angel']"
      ]
     },
     "execution_count": 43,
     "metadata": {},
     "output_type": "execute_result"
    }
   ],
   "source": [
    "list(a_names)"
   ]
  },
  {
   "cell_type": "code",
   "execution_count": 44,
   "id": "7890e3eb",
   "metadata": {},
   "outputs": [],
   "source": [
    "users = [\n",
    "    {\"username\": \"samuel\", \"tweets\": [\"I love cake\", \"I love pie\"]},\n",
    "    {\"username\": \"kattie\", \"tweets\": [\"I love my cat\"]},\n",
    "    {\"username\": \"jeff\", \"tweets\": []},\n",
    "    {\"username\": \"bob123\", \"tweets\": []},\n",
    "    {\"username\": \"doggo_luvr\", \"tweets\": [\"dogs are the best\", \"I'm hungry\"]},\n",
    "    {\"username\": \"guitar_gal\", \"tweets\": []}\n",
    "]"
   ]
  },
  {
   "cell_type": "code",
   "execution_count": 45,
   "id": "35a84189",
   "metadata": {},
   "outputs": [],
   "source": [
    "inactive_users = filter(lambda u: u['tweets'] == 0, users)"
   ]
  },
  {
   "cell_type": "code",
   "execution_count": 46,
   "id": "973343d9",
   "metadata": {},
   "outputs": [
    {
     "data": {
      "text/plain": [
       "[]"
      ]
     },
     "execution_count": 46,
     "metadata": {},
     "output_type": "execute_result"
    }
   ],
   "source": [
    "list(inactive_users)"
   ]
  },
  {
   "cell_type": "code",
   "execution_count": 47,
   "id": "cba92325",
   "metadata": {},
   "outputs": [
    {
     "name": "stdout",
     "output_type": "stream",
     "text": [
      "<filter object at 0x0000022479147550>\n"
     ]
    }
   ],
   "source": [
    "print(inactive_users)"
   ]
  },
  {
   "cell_type": "code",
   "execution_count": 48,
   "id": "4074801d",
   "metadata": {},
   "outputs": [
    {
     "ename": "SyntaxError",
     "evalue": "unexpected EOF while parsing (Temp/ipykernel_8656/3413328176.py, line 1)",
     "output_type": "error",
     "traceback": [
      "\u001b[1;36m  File \u001b[1;32m\"C:\\Users\\user\\AppData\\Local\\Temp/ipykernel_8656/3413328176.py\"\u001b[1;36m, line \u001b[1;32m1\u001b[0m\n\u001b[1;33m    inactive_users = list(filter((lambda u: len(u['tweets']) == 0, users))\u001b[0m\n\u001b[1;37m                                                                          ^\u001b[0m\n\u001b[1;31mSyntaxError\u001b[0m\u001b[1;31m:\u001b[0m unexpected EOF while parsing\n"
     ]
    }
   ],
   "source": [
    "inactive_users = list(filter((lambda u: len(u['tweets']) == 0, users))"
   ]
  },
  {
   "cell_type": "code",
   "execution_count": 49,
   "id": "7a21aac3",
   "metadata": {},
   "outputs": [
    {
     "name": "stdout",
     "output_type": "stream",
     "text": [
      "<filter object at 0x0000022479147550>\n"
     ]
    }
   ],
   "source": [
    "print(inactive_users)"
   ]
  },
  {
   "cell_type": "code",
   "execution_count": 50,
   "id": "300f1d7c",
   "metadata": {},
   "outputs": [],
   "source": [
    "active_users = list(filter(lambda u: u['tweets'], users))"
   ]
  },
  {
   "cell_type": "code",
   "execution_count": 51,
   "id": "2fa75046",
   "metadata": {},
   "outputs": [
    {
     "name": "stdout",
     "output_type": "stream",
     "text": [
      "[{'username': 'samuel', 'tweets': ['I love cake', 'I love pie']}, {'username': 'kattie', 'tweets': ['I love my cat']}, {'username': 'doggo_luvr', 'tweets': ['dogs are the best', \"I'm hungry\"]}]\n"
     ]
    }
   ],
   "source": [
    "print(active_users)"
   ]
  },
  {
   "cell_type": "code",
   "execution_count": 52,
   "id": "d74aed29",
   "metadata": {},
   "outputs": [],
   "source": [
    "inactive_users = list(filter(lambda u: len(u['tweets']) , users))"
   ]
  },
  {
   "cell_type": "code",
   "execution_count": 53,
   "id": "4993d4b0",
   "metadata": {},
   "outputs": [
    {
     "name": "stdout",
     "output_type": "stream",
     "text": [
      "[{'username': 'samuel', 'tweets': ['I love cake', 'I love pie']}, {'username': 'kattie', 'tweets': ['I love my cat']}, {'username': 'doggo_luvr', 'tweets': ['dogs are the best', \"I'm hungry\"]}]\n"
     ]
    }
   ],
   "source": [
    "print(active_users)"
   ]
  },
  {
   "cell_type": "code",
   "execution_count": 54,
   "id": "b16fd48f",
   "metadata": {},
   "outputs": [],
   "source": [
    "inactive_users = list(filter(lambda u: not u['tweets'], users))"
   ]
  },
  {
   "cell_type": "code",
   "execution_count": 55,
   "id": "e01719fe",
   "metadata": {},
   "outputs": [
    {
     "name": "stdout",
     "output_type": "stream",
     "text": [
      "[{'username': 'jeff', 'tweets': []}, {'username': 'bob123', 'tweets': []}, {'username': 'guitar_gal', 'tweets': []}]\n"
     ]
    }
   ],
   "source": [
    "print(inactive_users)"
   ]
  },
  {
   "cell_type": "code",
   "execution_count": 56,
   "id": "16c03d74",
   "metadata": {},
   "outputs": [],
   "source": [
    "friends = ['Lassie', 'Arib', 'Rusty']"
   ]
  },
  {
   "cell_type": "code",
   "execution_count": 57,
   "id": "cdfd44f4",
   "metadata": {},
   "outputs": [
    {
     "data": {
      "text/plain": [
       "['Your instructor is Arib']"
      ]
     },
     "execution_count": 57,
     "metadata": {},
     "output_type": "execute_result"
    }
   ],
   "source": [
    "list(map(lambda name: f\"Your instructor is {name}\",\n",
    "    filter(lambda value: len(value) < 5, friends)))"
   ]
  },
  {
   "cell_type": "code",
   "execution_count": 58,
   "id": "219faae7",
   "metadata": {},
   "outputs": [],
   "source": [
    "USERNAME = list(map(lambda user: user[\"username\"].upper(),\n",
    "    filter(lambda u: not u['tweets'], users)))"
   ]
  },
  {
   "cell_type": "code",
   "execution_count": 59,
   "id": "b843c177",
   "metadata": {},
   "outputs": [
    {
     "data": {
      "text/plain": [
       "['JEFF', 'BOB123', 'GUITAR_GAL']"
      ]
     },
     "execution_count": 59,
     "metadata": {},
     "output_type": "execute_result"
    }
   ],
   "source": [
    "USERNAME"
   ]
  },
  {
   "cell_type": "code",
   "execution_count": 60,
   "id": "26aff046",
   "metadata": {},
   "outputs": [
    {
     "data": {
      "text/plain": [
       "['austin', 'penny', 'anthony', 'angel', 'billy']"
      ]
     },
     "execution_count": 60,
     "metadata": {},
     "output_type": "execute_result"
    }
   ],
   "source": [
    "names"
   ]
  },
  {
   "cell_type": "code",
   "execution_count": 61,
   "id": "71411eb6",
   "metadata": {},
   "outputs": [
    {
     "data": {
      "text/plain": [
       "['Your instructor is Colt']"
      ]
     },
     "execution_count": 61,
     "metadata": {},
     "output_type": "execute_result"
    }
   ],
   "source": [
    "ages = ['Lassie', 'Colt','Rusty']\n",
    "[f'Your instructor is {name}' for name in ages if len(name) < 5]"
   ]
  },
  {
   "cell_type": "code",
   "execution_count": 62,
   "id": "d3d52ce5",
   "metadata": {},
   "outputs": [
    {
     "data": {
      "text/plain": [
       "['Your instructor is Colt', 'Your instructor is Rusty']"
      ]
     },
     "execution_count": 62,
     "metadata": {},
     "output_type": "execute_result"
    }
   ],
   "source": [
    "ages = ['Lassie', 'Colt','Rusty']\n",
    "[f'Your instructor is {name}' for name in ages if len(name) < 6]"
   ]
  },
  {
   "cell_type": "code",
   "execution_count": 63,
   "id": "96e2edde",
   "metadata": {},
   "outputs": [
    {
     "name": "stdout",
     "output_type": "stream",
     "text": [
      "[{'username': 'jeff', 'tweets': []}, {'username': 'bob123', 'tweets': []}, {'username': 'guitar_gal', 'tweets': []}]\n"
     ]
    }
   ],
   "source": [
    "inactive_users2 = [user for user in users if not user[\"tweets\"]]\n",
    "print(inactive_users2)"
   ]
  },
  {
   "cell_type": "code",
   "execution_count": 64,
   "id": "6757f070",
   "metadata": {},
   "outputs": [
    {
     "ename": "SyntaxError",
     "evalue": "invalid syntax (Temp/ipykernel_8656/4244025222.py, line 11)",
     "output_type": "error",
     "traceback": [
      "\u001b[1;36m  File \u001b[1;32m\"C:\\Users\\user\\AppData\\Local\\Temp/ipykernel_8656/4244025222.py\"\u001b[1;36m, line \u001b[1;32m11\u001b[0m\n\u001b[1;33m    print(inacti)\u001b[0m\n\u001b[1;37m    ^\u001b[0m\n\u001b[1;31mSyntaxError\u001b[0m\u001b[1;31m:\u001b[0m invalid syntax\n"
     ]
    }
   ],
   "source": [
    "users = [\n",
    "    {\"username\": \"samuel\", \"tweets\": [\"I love cake\", \"I love pie\"]},\n",
    "    {\"username\": \"kattie\", \"tweets\": [\"I love my cat\"]},\n",
    "    {\"username\": \"jeff\", \"tweets\": []},\n",
    "    {\"username\": \"bob123\", \"tweets\": []},\n",
    "    {\"username\": \"doggo_luvr\", \"tweets\": [\"dogs are the best\", \"I'm hungry\"]},\n",
    "    {\"username\": \"guitar_gal\", \"tweets\": []}\n",
    "]\n",
    "\n",
    "inactive_users = list(filter((lambda u: len(u['tweets']) == 0, users))\n",
    "print(inacti)\n",
    "                      \n",
    "inactive_users2 = [user for user in users if not user[\"tweets\"]]\n",
    "print(inactive_users2)"
   ]
  },
  {
   "cell_type": "code",
   "execution_count": 65,
   "id": "e45497be",
   "metadata": {},
   "outputs": [
    {
     "name": "stdout",
     "output_type": "stream",
     "text": [
      "['JEFF', 'BOB123', 'GUITAR_GAL']\n"
     ]
    }
   ],
   "source": [
    "username2 = [user[\"username\"].upper() for user in users if not user[\"tweets\"]]\n",
    "print(username2)"
   ]
  },
  {
   "cell_type": "code",
   "execution_count": 66,
   "id": "c810df25",
   "metadata": {},
   "outputs": [
    {
     "data": {
      "text/plain": [
       "False"
      ]
     },
     "execution_count": 66,
     "metadata": {},
     "output_type": "execute_result"
    }
   ],
   "source": [
    "all([0, 1, 2, 3])"
   ]
  },
  {
   "cell_type": "code",
   "execution_count": 67,
   "id": "b47dff3b",
   "metadata": {},
   "outputs": [
    {
     "data": {
      "text/plain": [
       "True"
      ]
     },
     "execution_count": 67,
     "metadata": {},
     "output_type": "execute_result"
    }
   ],
   "source": [
    "all([char for char in 'eio' if char in 'aeiou'])"
   ]
  },
  {
   "cell_type": "code",
   "execution_count": 68,
   "id": "a8f4404b",
   "metadata": {},
   "outputs": [
    {
     "data": {
      "text/plain": [
       "True"
      ]
     },
     "execution_count": 68,
     "metadata": {},
     "output_type": "execute_result"
    }
   ],
   "source": [
    "all([num for num in [4, 2, 10, 6, 8] if num % 2 == 0])"
   ]
  },
  {
   "cell_type": "code",
   "execution_count": 69,
   "id": "5d31e985",
   "metadata": {},
   "outputs": [
    {
     "data": {
      "text/plain": [
       "['e', 'i', 'o']"
      ]
     },
     "execution_count": 69,
     "metadata": {},
     "output_type": "execute_result"
    }
   ],
   "source": [
    "[char for char in 'eio' if char in 'aeiou']"
   ]
  },
  {
   "cell_type": "code",
   "execution_count": 70,
   "id": "70a44831",
   "metadata": {},
   "outputs": [
    {
     "data": {
      "text/plain": [
       "True"
      ]
     },
     "execution_count": 70,
     "metadata": {},
     "output_type": "execute_result"
    }
   ],
   "source": [
    "all([1, 2, 3])"
   ]
  },
  {
   "cell_type": "code",
   "execution_count": 71,
   "id": "5e1991f8",
   "metadata": {},
   "outputs": [
    {
     "data": {
      "text/plain": [
       "False"
      ]
     },
     "execution_count": 71,
     "metadata": {},
     "output_type": "execute_result"
    }
   ],
   "source": [
    "all([0, 1, 2, 3, 0])"
   ]
  },
  {
   "cell_type": "code",
   "execution_count": 72,
   "id": "14074fef",
   "metadata": {},
   "outputs": [],
   "source": [
    "people = [\"Charlie\", \"Casey\", \"Cody\", \"Carly\", \"Cristina\"]"
   ]
  },
  {
   "cell_type": "code",
   "execution_count": 73,
   "id": "6be10b8c",
   "metadata": {},
   "outputs": [
    {
     "data": {
      "text/plain": [
       "['Charlie', 'Casey', 'Cody', 'Carly', 'Cristina']"
      ]
     },
     "execution_count": 73,
     "metadata": {},
     "output_type": "execute_result"
    }
   ],
   "source": [
    "people"
   ]
  },
  {
   "cell_type": "code",
   "execution_count": 74,
   "id": "e9492df5",
   "metadata": {},
   "outputs": [
    {
     "data": {
      "text/plain": [
       "True"
      ]
     },
     "execution_count": 74,
     "metadata": {},
     "output_type": "execute_result"
    }
   ],
   "source": [
    "all([name[0] == \"C\" for name in people])"
   ]
  },
  {
   "cell_type": "code",
   "execution_count": 75,
   "id": "4b7232cb",
   "metadata": {},
   "outputs": [
    {
     "data": {
      "text/plain": [
       "[True, True, True, True, True]"
      ]
     },
     "execution_count": 75,
     "metadata": {},
     "output_type": "execute_result"
    }
   ],
   "source": [
    "[name[0] == \"C\" for name in people]"
   ]
  },
  {
   "cell_type": "code",
   "execution_count": 76,
   "id": "d1cb3b14",
   "metadata": {},
   "outputs": [],
   "source": [
    "people.append(\"Kristy\")"
   ]
  },
  {
   "cell_type": "code",
   "execution_count": 77,
   "id": "bc0bd56c",
   "metadata": {},
   "outputs": [
    {
     "data": {
      "text/plain": [
       "['Charlie', 'Casey', 'Cody', 'Carly', 'Cristina', 'Kristy']"
      ]
     },
     "execution_count": 77,
     "metadata": {},
     "output_type": "execute_result"
    }
   ],
   "source": [
    "people"
   ]
  },
  {
   "cell_type": "code",
   "execution_count": 78,
   "id": "f2f8addd",
   "metadata": {},
   "outputs": [
    {
     "data": {
      "text/plain": [
       "[True, True, True, True, True, False]"
      ]
     },
     "execution_count": 78,
     "metadata": {},
     "output_type": "execute_result"
    }
   ],
   "source": [
    "[name[0] == \"C\" for name in people]"
   ]
  },
  {
   "cell_type": "code",
   "execution_count": 79,
   "id": "40d84910",
   "metadata": {},
   "outputs": [
    {
     "data": {
      "text/plain": [
       "False"
      ]
     },
     "execution_count": 79,
     "metadata": {},
     "output_type": "execute_result"
    }
   ],
   "source": [
    "all([name[0] == \"C\" for name in people])"
   ]
  },
  {
   "cell_type": "code",
   "execution_count": 80,
   "id": "5ddfbec6",
   "metadata": {},
   "outputs": [],
   "source": [
    "nums = [2, 60, 26, 18]"
   ]
  },
  {
   "cell_type": "code",
   "execution_count": 81,
   "id": "022cf309",
   "metadata": {},
   "outputs": [
    {
     "data": {
      "text/plain": [
       "True"
      ]
     },
     "execution_count": 81,
     "metadata": {},
     "output_type": "execute_result"
    }
   ],
   "source": [
    "all([num % 2 == 0 for num in nums])"
   ]
  },
  {
   "cell_type": "code",
   "execution_count": 82,
   "id": "a89013e7",
   "metadata": {},
   "outputs": [],
   "source": [
    "num = [2, 60, 26, 18, 21]"
   ]
  },
  {
   "cell_type": "code",
   "execution_count": 83,
   "id": "099d6b98",
   "metadata": {},
   "outputs": [
    {
     "data": {
      "text/plain": [
       "False"
      ]
     },
     "execution_count": 83,
     "metadata": {},
     "output_type": "execute_result"
    }
   ],
   "source": [
    "all([nums % 2 == 0 for nums in num])"
   ]
  },
  {
   "cell_type": "code",
   "execution_count": 84,
   "id": "0efd6570",
   "metadata": {},
   "outputs": [
    {
     "data": {
      "text/plain": [
       "True"
      ]
     },
     "execution_count": 84,
     "metadata": {},
     "output_type": "execute_result"
    }
   ],
   "source": [
    "any([0, 1, 2, 3])"
   ]
  },
  {
   "cell_type": "code",
   "execution_count": 85,
   "id": "31a16060",
   "metadata": {},
   "outputs": [
    {
     "data": {
      "text/plain": [
       "True"
      ]
     },
     "execution_count": 85,
     "metadata": {},
     "output_type": "execute_result"
    }
   ],
   "source": [
    "any([val for val in [1, 2, 3] if val > 2])"
   ]
  },
  {
   "cell_type": "code",
   "execution_count": 86,
   "id": "0813db5e",
   "metadata": {},
   "outputs": [
    {
     "data": {
      "text/plain": [
       "False"
      ]
     },
     "execution_count": 86,
     "metadata": {},
     "output_type": "execute_result"
    }
   ],
   "source": [
    "any([val for val in [1, 2, 3] if val > 5])"
   ]
  },
  {
   "cell_type": "code",
   "execution_count": 87,
   "id": "57877074",
   "metadata": {},
   "outputs": [
    {
     "data": {
      "text/plain": [
       "True"
      ]
     },
     "execution_count": 87,
     "metadata": {},
     "output_type": "execute_result"
    }
   ],
   "source": [
    "any([nums % 2 == 1 for nums in num])"
   ]
  },
  {
   "cell_type": "code",
   "execution_count": 88,
   "id": "d538304a",
   "metadata": {},
   "outputs": [
    {
     "data": {
      "text/plain": [
       "True"
      ]
     },
     "execution_count": 88,
     "metadata": {},
     "output_type": "execute_result"
    }
   ],
   "source": [
    "any([nums % 2 == 0 for nums in num])"
   ]
  },
  {
   "cell_type": "code",
   "execution_count": 89,
   "id": "5053fe2c",
   "metadata": {},
   "outputs": [
    {
     "data": {
      "text/plain": [
       "False"
      ]
     },
     "execution_count": 89,
     "metadata": {},
     "output_type": "execute_result"
    }
   ],
   "source": [
    "any([nums % 2 == 2 for nums in num])"
   ]
  },
  {
   "cell_type": "code",
   "execution_count": 90,
   "id": "855cb72e",
   "metadata": {},
   "outputs": [
    {
     "data": {
      "text/plain": [
       "False"
      ]
     },
     "execution_count": 90,
     "metadata": {},
     "output_type": "execute_result"
    }
   ],
   "source": [
    "any([nums % 2 == 3 for nums in num])"
   ]
  },
  {
   "cell_type": "code",
   "execution_count": 91,
   "id": "779cba4a",
   "metadata": {},
   "outputs": [
    {
     "ename": "SyntaxError",
     "evalue": "invalid syntax (Temp/ipykernel_8656/3105158391.py, line 2)",
     "output_type": "error",
     "traceback": [
      "\u001b[1;36m  File \u001b[1;32m\"C:\\Users\\user\\AppData\\Local\\Temp/ipykernel_8656/3105158391.py\"\u001b[1;36m, line \u001b[1;32m2\u001b[0m\n\u001b[1;33m    if person[0] != \"C\"\u001b[0m\n\u001b[1;37m                       ^\u001b[0m\n\u001b[1;31mSyntaxError\u001b[0m\u001b[1;31m:\u001b[0m invalid syntax\n"
     ]
    }
   ],
   "source": [
    "for person in people:\n",
    "    if person[0] != \"C\""
   ]
  },
  {
   "cell_type": "code",
   "execution_count": 92,
   "id": "0f23bcbb",
   "metadata": {},
   "outputs": [
    {
     "data": {
      "text/plain": [
       "False"
      ]
     },
     "execution_count": 92,
     "metadata": {},
     "output_type": "execute_result"
    }
   ],
   "source": [
    "all(name[0] == 'C' for name in people)"
   ]
  },
  {
   "cell_type": "code",
   "execution_count": 93,
   "id": "9490d656",
   "metadata": {},
   "outputs": [
    {
     "data": {
      "text/plain": [
       "<generator object <genexpr> at 0x0000022479146F20>"
      ]
     },
     "execution_count": 93,
     "metadata": {},
     "output_type": "execute_result"
    }
   ],
   "source": [
    "(name[0] == 'C' for name in people)"
   ]
  },
  {
   "cell_type": "code",
   "execution_count": 94,
   "id": "e22824b5",
   "metadata": {},
   "outputs": [
    {
     "name": "stdout",
     "output_type": "stream",
     "text": [
      "To do the same thing, it takes...\n",
      "List Comprehension: 8856 bytes\n",
      "Generator Expression: 112 bytes\n"
     ]
    }
   ],
   "source": [
    "import sys\n",
    "list_comp = sys.getsizeof([x * 10 for x in range(1000)])\n",
    "gen_exp = sys.getsizeof(x * 10 for x in range(1000))\n",
    "\n",
    "print(\"To do the same thing, it takes...\")\n",
    "print(f\"List Comprehension: {list_comp} bytes\")\n",
    "print(f\"Generator Expression: {gen_exp} bytes\")"
   ]
  },
  {
   "cell_type": "code",
   "execution_count": 95,
   "id": "81fdeb1d",
   "metadata": {},
   "outputs": [
    {
     "name": "stdout",
     "output_type": "stream",
     "text": [
      "To do the same thing, it takes...\n",
      "List Comprehension: 920 bytes\n",
      "Generator Expression: 112 bytes\n"
     ]
    }
   ],
   "source": [
    "import sys\n",
    "list_comp = sys.getsizeof([x * 10 for x in range(100)])\n",
    "gen_exp = sys.getsizeof(x * 10 for x in range(100))\n",
    "\n",
    "print(\"To do the same thing, it takes...\")\n",
    "print(f\"List Comprehension: {list_comp} bytes\")\n",
    "print(f\"Generator Expression: {gen_exp} bytes\")"
   ]
  },
  {
   "cell_type": "code",
   "execution_count": 96,
   "id": "8812117a",
   "metadata": {},
   "outputs": [],
   "source": [
    "nums = [4,6,1,30,55,23]"
   ]
  },
  {
   "cell_type": "code",
   "execution_count": 97,
   "id": "58903419",
   "metadata": {},
   "outputs": [],
   "source": [
    "nums.sort()"
   ]
  },
  {
   "cell_type": "code",
   "execution_count": 98,
   "id": "7bf2c079",
   "metadata": {},
   "outputs": [
    {
     "data": {
      "text/plain": [
       "[1, 4, 6, 23, 30, 55]"
      ]
     },
     "execution_count": 98,
     "metadata": {},
     "output_type": "execute_result"
    }
   ],
   "source": [
    "nums"
   ]
  },
  {
   "cell_type": "code",
   "execution_count": 99,
   "id": "1f4398e7",
   "metadata": {},
   "outputs": [],
   "source": [
    "nums = [4,6,1,30,55,23]"
   ]
  },
  {
   "cell_type": "code",
   "execution_count": 100,
   "id": "78cbda81",
   "metadata": {},
   "outputs": [
    {
     "data": {
      "text/plain": [
       "[1, 4, 6, 23, 30, 55]"
      ]
     },
     "execution_count": 100,
     "metadata": {},
     "output_type": "execute_result"
    }
   ],
   "source": [
    "sorted(nums)"
   ]
  },
  {
   "cell_type": "code",
   "execution_count": 101,
   "id": "21842689",
   "metadata": {},
   "outputs": [
    {
     "data": {
      "text/plain": [
       "[55, 30, 23, 6, 4, 1]"
      ]
     },
     "execution_count": 101,
     "metadata": {},
     "output_type": "execute_result"
    }
   ],
   "source": [
    "sorted(nums, reverse = True)"
   ]
  },
  {
   "cell_type": "code",
   "execution_count": 102,
   "id": "a14a11cf",
   "metadata": {},
   "outputs": [
    {
     "data": {
      "text/plain": [
       "[1, 2, 23, 45, 99]"
      ]
     },
     "execution_count": 102,
     "metadata": {},
     "output_type": "execute_result"
    }
   ],
   "source": [
    "sorted((2,1,45,23,99))"
   ]
  },
  {
   "cell_type": "code",
   "execution_count": 103,
   "id": "78f9f15a",
   "metadata": {},
   "outputs": [],
   "source": [
    "users = [\n",
    "    {\"username\": \"samuel\", \"tweets\": [\"I love cake\", \"I love pie\"]},\n",
    "    {\"username\": \"kattie\", \"tweets\": [\"I love my cat\"]},\n",
    "    {\"username\": \"jeff\", \"tweets\": []},\n",
    "    {\"username\": \"bob123\", \"tweets\": []},\n",
    "    {\"username\": \"doggo_luvr\", \"tweets\": [\"dogs are the best\", \"I'm hungry\"]},\n",
    "    {\"username\": \"guitar_gal\", \"tweets\": []}\n",
    "]"
   ]
  },
  {
   "cell_type": "code",
   "execution_count": 104,
   "id": "a861949e",
   "metadata": {},
   "outputs": [
    {
     "ename": "TypeError",
     "evalue": "'<' not supported between instances of 'dict' and 'dict'",
     "output_type": "error",
     "traceback": [
      "\u001b[1;31m---------------------------------------------------------------------------\u001b[0m",
      "\u001b[1;31mTypeError\u001b[0m                                 Traceback (most recent call last)",
      "\u001b[1;32m~\\AppData\\Local\\Temp/ipykernel_8656/845554862.py\u001b[0m in \u001b[0;36m<module>\u001b[1;34m\u001b[0m\n\u001b[1;32m----> 1\u001b[1;33m \u001b[0msorted\u001b[0m\u001b[1;33m(\u001b[0m\u001b[0musers\u001b[0m\u001b[1;33m)\u001b[0m\u001b[1;33m\u001b[0m\u001b[1;33m\u001b[0m\u001b[0m\n\u001b[0m",
      "\u001b[1;31mTypeError\u001b[0m: '<' not supported between instances of 'dict' and 'dict'"
     ]
    }
   ],
   "source": [
    "sorted(users)"
   ]
  },
  {
   "cell_type": "code",
   "execution_count": 105,
   "id": "ba90fa86",
   "metadata": {},
   "outputs": [],
   "source": [
    "users3 = [\n",
    "    {\"username\": \"samuel\", \"tweets\": [\"I love cake\", \"I love pie\", \"hello world!\"]},\n",
    "    {\"username\": \"kattie\", \"tweets\": [\"I love my cat\"]},\n",
    "    {\"username\": \"jeff\", \"tweets\": [], \"color\": \"purple\"},\n",
    "    {\"username\": \"bob123\", \"tweets\": [], \"num\": 10, \"color\": \"teal\"},\n",
    "    {\"username\": \"doggo_luvr\", \"tweets\": [\"dogs are the best\", \"I'm hungry\"]},\n",
    "    {\"username\": \"guitar_gal\", \"tweets\": []}\n",
    "]"
   ]
  },
  {
   "cell_type": "code",
   "execution_count": 106,
   "id": "af51e3e2",
   "metadata": {},
   "outputs": [
    {
     "data": {
      "text/plain": [
       "[{'username': 'samuel', 'tweets': ['I love cake', 'I love pie']},\n",
       " {'username': 'kattie', 'tweets': ['I love my cat']},\n",
       " {'username': 'jeff', 'tweets': []},\n",
       " {'username': 'bob123', 'tweets': []},\n",
       " {'username': 'doggo_luvr', 'tweets': ['dogs are the best', \"I'm hungry\"]},\n",
       " {'username': 'guitar_gal', 'tweets': []}]"
      ]
     },
     "execution_count": 106,
     "metadata": {},
     "output_type": "execute_result"
    }
   ],
   "source": [
    "sorted(users, key=len)"
   ]
  },
  {
   "cell_type": "code",
   "execution_count": 107,
   "id": "c13f4f90",
   "metadata": {},
   "outputs": [
    {
     "data": {
      "text/plain": [
       "[{'username': 'samuel',\n",
       "  'tweets': ['I love cake', 'I love pie', 'hello world!']},\n",
       " {'username': 'kattie', 'tweets': ['I love my cat']},\n",
       " {'username': 'doggo_luvr', 'tweets': ['dogs are the best', \"I'm hungry\"]},\n",
       " {'username': 'guitar_gal', 'tweets': []},\n",
       " {'username': 'jeff', 'tweets': [], 'color': 'purple'},\n",
       " {'username': 'bob123', 'tweets': [], 'num': 10, 'color': 'teal'}]"
      ]
     },
     "execution_count": 107,
     "metadata": {},
     "output_type": "execute_result"
    }
   ],
   "source": [
    "sorted(users3, key=len)"
   ]
  },
  {
   "cell_type": "code",
   "execution_count": 108,
   "id": "0b588c30",
   "metadata": {},
   "outputs": [
    {
     "data": {
      "text/plain": [
       "[{'username': 'bob123', 'tweets': []},\n",
       " {'username': 'doggo_luvr', 'tweets': ['dogs are the best', \"I'm hungry\"]},\n",
       " {'username': 'guitar_gal', 'tweets': []},\n",
       " {'username': 'jeff', 'tweets': []},\n",
       " {'username': 'kattie', 'tweets': ['I love my cat']},\n",
       " {'username': 'samuel', 'tweets': ['I love cake', 'I love pie']}]"
      ]
     },
     "execution_count": 108,
     "metadata": {},
     "output_type": "execute_result"
    }
   ],
   "source": [
    "sorted(users, key=lambda user: user['username'])"
   ]
  },
  {
   "cell_type": "code",
   "execution_count": 109,
   "id": "73e68b87",
   "metadata": {},
   "outputs": [
    {
     "data": {
      "text/plain": [
       "[{'username': 'jeff', 'tweets': []},\n",
       " {'username': 'bob123', 'tweets': []},\n",
       " {'username': 'guitar_gal', 'tweets': []},\n",
       " {'username': 'kattie', 'tweets': ['I love my cat']},\n",
       " {'username': 'samuel', 'tweets': ['I love cake', 'I love pie']},\n",
       " {'username': 'doggo_luvr', 'tweets': ['dogs are the best', \"I'm hungry\"]}]"
      ]
     },
     "execution_count": 109,
     "metadata": {},
     "output_type": "execute_result"
    }
   ],
   "source": [
    "sorted(users, key=lambda user: len(user['tweets']))"
   ]
  },
  {
   "cell_type": "code",
   "execution_count": 110,
   "id": "ab52507d",
   "metadata": {},
   "outputs": [
    {
     "data": {
      "text/plain": [
       "[{'username': 'bob123', 'tweets': [], 'num': 10, 'color': 'teal'},\n",
       " {'username': 'doggo_luvr', 'tweets': ['dogs are the best', \"I'm hungry\"]},\n",
       " {'username': 'guitar_gal', 'tweets': []},\n",
       " {'username': 'jeff', 'tweets': [], 'color': 'purple'},\n",
       " {'username': 'kattie', 'tweets': ['I love my cat']},\n",
       " {'username': 'samuel',\n",
       "  'tweets': ['I love cake', 'I love pie', 'hello world!']}]"
      ]
     },
     "execution_count": 110,
     "metadata": {},
     "output_type": "execute_result"
    }
   ],
   "source": [
    "sorted(users3, key=lambda user: user['username'])"
   ]
  },
  {
   "cell_type": "code",
   "execution_count": 111,
   "id": "1921e546",
   "metadata": {},
   "outputs": [
    {
     "data": {
      "text/plain": [
       "[{'username': 'jeff', 'tweets': [], 'color': 'purple'},\n",
       " {'username': 'bob123', 'tweets': [], 'num': 10, 'color': 'teal'},\n",
       " {'username': 'guitar_gal', 'tweets': []},\n",
       " {'username': 'kattie', 'tweets': ['I love my cat']},\n",
       " {'username': 'doggo_luvr', 'tweets': ['dogs are the best', \"I'm hungry\"]},\n",
       " {'username': 'samuel',\n",
       "  'tweets': ['I love cake', 'I love pie', 'hello world!']}]"
      ]
     },
     "execution_count": 111,
     "metadata": {},
     "output_type": "execute_result"
    }
   ],
   "source": [
    "sorted(users3, key=lambda user: len(user['tweets']))"
   ]
  },
  {
   "cell_type": "code",
   "execution_count": 112,
   "id": "1b8773cb",
   "metadata": {},
   "outputs": [
    {
     "data": {
      "text/plain": [
       "[{'username': 'samuel',\n",
       "  'tweets': ['I love cake', 'I love pie', 'hello world!']},\n",
       " {'username': 'doggo_luvr', 'tweets': ['dogs are the best', \"I'm hungry\"]},\n",
       " {'username': 'kattie', 'tweets': ['I love my cat']},\n",
       " {'username': 'jeff', 'tweets': [], 'color': 'purple'},\n",
       " {'username': 'bob123', 'tweets': [], 'num': 10, 'color': 'teal'},\n",
       " {'username': 'guitar_gal', 'tweets': []}]"
      ]
     },
     "execution_count": 112,
     "metadata": {},
     "output_type": "execute_result"
    }
   ],
   "source": [
    "sorted(users3, key=lambda user: len(user[\"tweets\"]),reverse=True)"
   ]
  },
  {
   "cell_type": "code",
   "execution_count": 113,
   "id": "80c200f7",
   "metadata": {},
   "outputs": [],
   "source": [
    "songs = [\n",
    "    {\"title\": \"happy birthday\", \"playcount\": 1},\n",
    "    {\"title\": \"Survive\", \"playcount\": 6},\n",
    "    {\"title\": \"YMCA\", \"playcount\": 99},\n",
    "    {\"title\": \"Toxic\", \"playcount\": 31}\n",
    "]"
   ]
  },
  {
   "cell_type": "code",
   "execution_count": 114,
   "id": "35b6160b",
   "metadata": {},
   "outputs": [
    {
     "data": {
      "text/plain": [
       "[{'title': 'happy birthday', 'playcount': 1},\n",
       " {'title': 'Survive', 'playcount': 6},\n",
       " {'title': 'Toxic', 'playcount': 31},\n",
       " {'title': 'YMCA', 'playcount': 99}]"
      ]
     },
     "execution_count": 114,
     "metadata": {},
     "output_type": "execute_result"
    }
   ],
   "source": [
    "sorted(songs, key=lambda s: s[\"playcount\"])"
   ]
  },
  {
   "cell_type": "code",
   "execution_count": 115,
   "id": "cee55b90",
   "metadata": {},
   "outputs": [
    {
     "data": {
      "text/plain": [
       "[{'title': 'happy birthday', 'playcount': 1},\n",
       " {'title': 'Survive', 'playcount': 6},\n",
       " {'title': 'YMCA', 'playcount': 99},\n",
       " {'title': 'Toxic', 'playcount': 31}]"
      ]
     },
     "execution_count": 115,
     "metadata": {},
     "output_type": "execute_result"
    }
   ],
   "source": [
    "songs"
   ]
  },
  {
   "cell_type": "code",
   "execution_count": 116,
   "id": "bd76e99f",
   "metadata": {},
   "outputs": [
    {
     "data": {
      "text/plain": [
       "[{'title': 'YMCA', 'playcount': 99},\n",
       " {'title': 'Toxic', 'playcount': 31},\n",
       " {'title': 'Survive', 'playcount': 6},\n",
       " {'title': 'happy birthday', 'playcount': 1}]"
      ]
     },
     "execution_count": 116,
     "metadata": {},
     "output_type": "execute_result"
    }
   ],
   "source": [
    "sorted(songs, key=lambda s: s[\"playcount\"], reverse=True)"
   ]
  },
  {
   "cell_type": "code",
   "execution_count": 117,
   "id": "048666d7",
   "metadata": {},
   "outputs": [
    {
     "data": {
      "text/plain": [
       "88"
      ]
     },
     "execution_count": 117,
     "metadata": {},
     "output_type": "execute_result"
    }
   ],
   "source": [
    "max(3,56,77,88)"
   ]
  },
  {
   "cell_type": "code",
   "execution_count": 118,
   "id": "ad648bd5",
   "metadata": {},
   "outputs": [
    {
     "data": {
      "text/plain": [
       "'d'"
      ]
     },
     "execution_count": 118,
     "metadata": {},
     "output_type": "execute_result"
    }
   ],
   "source": [
    "max('c','d','a')"
   ]
  },
  {
   "cell_type": "code",
   "execution_count": 119,
   "id": "65cab970",
   "metadata": {},
   "outputs": [
    {
     "data": {
      "text/plain": [
       "4"
      ]
     },
     "execution_count": 119,
     "metadata": {},
     "output_type": "execute_result"
    }
   ],
   "source": [
    "max([3,4,1,2])"
   ]
  },
  {
   "cell_type": "code",
   "execution_count": 120,
   "id": "3e6950f5",
   "metadata": {},
   "outputs": [
    {
     "data": {
      "text/plain": [
       "4"
      ]
     },
     "execution_count": 120,
     "metadata": {},
     "output_type": "execute_result"
    }
   ],
   "source": [
    "max((1,2,3,4))"
   ]
  },
  {
   "cell_type": "code",
   "execution_count": 121,
   "id": "0183dbd0",
   "metadata": {},
   "outputs": [
    {
     "data": {
      "text/plain": [
       "'w'"
      ]
     },
     "execution_count": 121,
     "metadata": {},
     "output_type": "execute_result"
    }
   ],
   "source": [
    "max(\"awesome\")"
   ]
  },
  {
   "cell_type": "code",
   "execution_count": 122,
   "id": "a26eb6b9",
   "metadata": {},
   "outputs": [
    {
     "data": {
      "text/plain": [
       "3"
      ]
     },
     "execution_count": 122,
     "metadata": {},
     "output_type": "execute_result"
    }
   ],
   "source": [
    "max({1:\"a\", 3:'c', 2:'b'})"
   ]
  },
  {
   "cell_type": "code",
   "execution_count": 123,
   "id": "49278e55",
   "metadata": {},
   "outputs": [
    {
     "ename": "SyntaxError",
     "evalue": "invalid syntax (Temp/ipykernel_8656/2489816330.py, line 1)",
     "output_type": "error",
     "traceback": [
      "\u001b[1;36m  File \u001b[1;32m\"C:\\Users\\user\\AppData\\Local\\Temp/ipykernel_8656/2489816330.py\"\u001b[1;36m, line \u001b[1;32m1\u001b[0m\n\u001b[1;33m    max{1:\"a\", 3:'c', 2:'b'}\u001b[0m\n\u001b[1;37m       ^\u001b[0m\n\u001b[1;31mSyntaxError\u001b[0m\u001b[1;31m:\u001b[0m invalid syntax\n"
     ]
    }
   ],
   "source": [
    "max{1:\"a\", 3:'c', 2:'b'}"
   ]
  },
  {
   "cell_type": "code",
   "execution_count": 124,
   "id": "260dd29f",
   "metadata": {},
   "outputs": [],
   "source": [
    "nums = [40, 32, 6, 5, 10]"
   ]
  },
  {
   "cell_type": "code",
   "execution_count": 125,
   "id": "f679ffce",
   "metadata": {},
   "outputs": [
    {
     "data": {
      "text/plain": [
       "40"
      ]
     },
     "execution_count": 125,
     "metadata": {},
     "output_type": "execute_result"
    }
   ],
   "source": [
    "max(nums)"
   ]
  },
  {
   "cell_type": "code",
   "execution_count": 126,
   "id": "72dd2191",
   "metadata": {},
   "outputs": [
    {
     "data": {
      "text/plain": [
       "5"
      ]
     },
     "execution_count": 126,
     "metadata": {},
     "output_type": "execute_result"
    }
   ],
   "source": [
    "min(nums)"
   ]
  },
  {
   "cell_type": "code",
   "execution_count": 127,
   "id": "254fb1da",
   "metadata": {},
   "outputs": [
    {
     "data": {
      "text/plain": [
       "'w'"
      ]
     },
     "execution_count": 127,
     "metadata": {},
     "output_type": "execute_result"
    }
   ],
   "source": [
    "max(\"hello world\")"
   ]
  },
  {
   "cell_type": "code",
   "execution_count": 128,
   "id": "4e6f8106",
   "metadata": {},
   "outputs": [
    {
     "data": {
      "text/plain": [
       "' '"
      ]
     },
     "execution_count": 128,
     "metadata": {},
     "output_type": "execute_result"
    }
   ],
   "source": [
    "min(\"hello world\")"
   ]
  },
  {
   "cell_type": "code",
   "execution_count": 129,
   "id": "2323a2db",
   "metadata": {},
   "outputs": [
    {
     "data": {
      "text/plain": [
       "'_'"
      ]
     },
     "execution_count": 129,
     "metadata": {},
     "output_type": "execute_result"
    }
   ],
   "source": [
    "min(\"hello_world\")"
   ]
  },
  {
   "cell_type": "code",
   "execution_count": 130,
   "id": "d11a5254",
   "metadata": {},
   "outputs": [],
   "source": [
    "names = [\"Arya\", \"Samson\", 'Dora', 'Tim', \"Ollivander\"]"
   ]
  },
  {
   "cell_type": "code",
   "execution_count": 131,
   "id": "1a164e0b",
   "metadata": {},
   "outputs": [
    {
     "data": {
      "text/plain": [
       "['Arya', 'Samson', 'Dora', 'Tim', 'Ollivander']"
      ]
     },
     "execution_count": 131,
     "metadata": {},
     "output_type": "execute_result"
    }
   ],
   "source": [
    "names"
   ]
  },
  {
   "cell_type": "code",
   "execution_count": 132,
   "id": "61530cae",
   "metadata": {},
   "outputs": [
    {
     "data": {
      "text/plain": [
       "'Arya'"
      ]
     },
     "execution_count": 132,
     "metadata": {},
     "output_type": "execute_result"
    }
   ],
   "source": [
    "min(names)"
   ]
  },
  {
   "cell_type": "code",
   "execution_count": 133,
   "id": "0a41a1b0",
   "metadata": {},
   "outputs": [
    {
     "data": {
      "text/plain": [
       "'Tim'"
      ]
     },
     "execution_count": 133,
     "metadata": {},
     "output_type": "execute_result"
    }
   ],
   "source": [
    "max(names)"
   ]
  },
  {
   "cell_type": "code",
   "execution_count": 134,
   "id": "e5c3626c",
   "metadata": {},
   "outputs": [
    {
     "data": {
      "text/plain": [
       "3"
      ]
     },
     "execution_count": 134,
     "metadata": {},
     "output_type": "execute_result"
    }
   ],
   "source": [
    "min(len(name) for name in names)"
   ]
  },
  {
   "cell_type": "code",
   "execution_count": 135,
   "id": "8610306a",
   "metadata": {},
   "outputs": [
    {
     "data": {
      "text/plain": [
       "<generator object <genexpr> at 0x000002247915E270>"
      ]
     },
     "execution_count": 135,
     "metadata": {},
     "output_type": "execute_result"
    }
   ],
   "source": [
    "(len(name) for name in names)"
   ]
  },
  {
   "cell_type": "code",
   "execution_count": 136,
   "id": "62a36c31",
   "metadata": {},
   "outputs": [
    {
     "data": {
      "text/plain": [
       "[4, 6, 4, 3, 10]"
      ]
     },
     "execution_count": 136,
     "metadata": {},
     "output_type": "execute_result"
    }
   ],
   "source": [
    "[len(name) for name in names]"
   ]
  },
  {
   "cell_type": "code",
   "execution_count": 137,
   "id": "c05ef22f",
   "metadata": {},
   "outputs": [
    {
     "data": {
      "text/plain": [
       "'Ollivander'"
      ]
     },
     "execution_count": 137,
     "metadata": {},
     "output_type": "execute_result"
    }
   ],
   "source": [
    "max(names, key=lambda n: len(n))"
   ]
  },
  {
   "cell_type": "code",
   "execution_count": 138,
   "id": "0b34a97e",
   "metadata": {},
   "outputs": [
    {
     "data": {
      "text/plain": [
       "[{'title': 'happy birthday', 'playcount': 1},\n",
       " {'title': 'Survive', 'playcount': 6},\n",
       " {'title': 'YMCA', 'playcount': 99},\n",
       " {'title': 'Toxic', 'playcount': 31}]"
      ]
     },
     "execution_count": 138,
     "metadata": {},
     "output_type": "execute_result"
    }
   ],
   "source": [
    "songs"
   ]
  },
  {
   "cell_type": "code",
   "execution_count": 139,
   "id": "705f3b96",
   "metadata": {},
   "outputs": [],
   "source": [
    "songs = [\n",
    "    {\"title\": \"happy birthday\", \"playcount\": 1},\n",
    "    {\"title\": \"Survive\", \"playcount\": 6},\n",
    "    {\"title\": \"YMCA\", \"playcount\": 99},\n",
    "    {\"title\": \"Toxic\", \"playcount\": 31}\n",
    "]"
   ]
  },
  {
   "cell_type": "code",
   "execution_count": 140,
   "id": "40e62758",
   "metadata": {},
   "outputs": [
    {
     "data": {
      "text/plain": [
       "{'title': 'happy birthday', 'playcount': 1}"
      ]
     },
     "execution_count": 140,
     "metadata": {},
     "output_type": "execute_result"
    }
   ],
   "source": [
    "min(songs, key=lambda s: s[\"playcount\"])"
   ]
  },
  {
   "cell_type": "raw",
   "id": "8be627aa",
   "metadata": {},
   "source": [
    "max(songs, key=lambda s: s[\"playcount\"])  "
   ]
  },
  {
   "cell_type": "code",
   "execution_count": 141,
   "id": "bc0d9656",
   "metadata": {},
   "outputs": [
    {
     "data": {
      "text/plain": [
       "{'title': 'YMCA', 'playcount': 99}"
      ]
     },
     "execution_count": 141,
     "metadata": {},
     "output_type": "execute_result"
    }
   ],
   "source": [
    "max(songs, key=lambda s: s[\"playcount\"])"
   ]
  },
  {
   "cell_type": "code",
   "execution_count": 142,
   "id": "d1925ba7",
   "metadata": {},
   "outputs": [
    {
     "data": {
      "text/plain": [
       "'YMCA'"
      ]
     },
     "execution_count": 142,
     "metadata": {},
     "output_type": "execute_result"
    }
   ],
   "source": [
    "max(songs, key=lambda s: s[\"playcount\"])[\"title\"]"
   ]
  },
  {
   "cell_type": "code",
   "execution_count": 143,
   "id": "00f60981",
   "metadata": {},
   "outputs": [
    {
     "data": {
      "text/plain": [
       "'happy birthday'"
      ]
     },
     "execution_count": 143,
     "metadata": {},
     "output_type": "execute_result"
    }
   ],
   "source": [
    "min(songs, key= lambda s: s[\"playcount\"])[\"title\"]"
   ]
  },
  {
   "cell_type": "code",
   "execution_count": 144,
   "id": "9725bb85",
   "metadata": {},
   "outputs": [
    {
     "ename": "SyntaxError",
     "evalue": "invalid syntax (Temp/ipykernel_8656/1075598306.py, line 2)",
     "output_type": "error",
     "traceback": [
      "\u001b[1;36m  File \u001b[1;32m\"C:\\Users\\user\\AppData\\Local\\Temp/ipykernel_8656/1075598306.py\"\u001b[1;36m, line \u001b[1;32m2\u001b[0m\n\u001b[1;33m    for song in songs\u001b[0m\n\u001b[1;37m                     ^\u001b[0m\n\u001b[1;31mSyntaxError\u001b[0m\u001b[1;31m:\u001b[0m invalid syntax\n"
     ]
    }
   ],
   "source": [
    "max = 0\n",
    "for song in songs\n",
    "    if song[\"playcount\"] > max\n",
    "    max = song"
   ]
  },
  {
   "cell_type": "code",
   "execution_count": 145,
   "id": "2bbb29d2",
   "metadata": {},
   "outputs": [],
   "source": [
    "nuns = [1,2,3,4]"
   ]
  },
  {
   "cell_type": "code",
   "execution_count": 146,
   "id": "bb86adf6",
   "metadata": {},
   "outputs": [],
   "source": [
    "nuns.reverse()"
   ]
  },
  {
   "cell_type": "code",
   "execution_count": 147,
   "id": "372abf01",
   "metadata": {},
   "outputs": [
    {
     "data": {
      "text/plain": [
       "[4, 3, 2, 1]"
      ]
     },
     "execution_count": 147,
     "metadata": {},
     "output_type": "execute_result"
    }
   ],
   "source": [
    "nuns"
   ]
  },
  {
   "cell_type": "code",
   "execution_count": 148,
   "id": "79ea4dc2",
   "metadata": {},
   "outputs": [
    {
     "data": {
      "text/plain": [
       "<list_reverseiterator at 0x22478f23a90>"
      ]
     },
     "execution_count": 148,
     "metadata": {},
     "output_type": "execute_result"
    }
   ],
   "source": [
    "reversed(nuns) "
   ]
  },
  {
   "cell_type": "code",
   "execution_count": 149,
   "id": "74056b85",
   "metadata": {},
   "outputs": [
    {
     "data": {
      "text/plain": [
       "[1, 2, 3, 4]"
      ]
     },
     "execution_count": 149,
     "metadata": {},
     "output_type": "execute_result"
    }
   ],
   "source": [
    " list(reversed(nuns))"
   ]
  },
  {
   "cell_type": "code",
   "execution_count": 150,
   "id": "5a282111",
   "metadata": {},
   "outputs": [
    {
     "data": {
      "text/plain": [
       "<reversed at 0x22479147250>"
      ]
     },
     "execution_count": 150,
     "metadata": {},
     "output_type": "execute_result"
    }
   ],
   "source": [
    "reversed(\"hello\")"
   ]
  },
  {
   "cell_type": "code",
   "execution_count": 151,
   "id": "9413325f",
   "metadata": {},
   "outputs": [
    {
     "name": "stdout",
     "output_type": "stream",
     "text": [
      "hello\n",
      "hello\n",
      "hello\n",
      "hello\n",
      "hello\n"
     ]
    }
   ],
   "source": [
    "for char in reversed(\"hello\"):\n",
    "    print(\"hello\")\n"
   ]
  },
  {
   "cell_type": "code",
   "execution_count": 152,
   "id": "2977bc0e",
   "metadata": {},
   "outputs": [
    {
     "name": "stdout",
     "output_type": "stream",
     "text": [
      "o\n",
      "l\n",
      "l\n",
      "e\n",
      "h\n"
     ]
    }
   ],
   "source": [
    "for char in reversed(\"hello\"):\n",
    "    print(char)"
   ]
  },
  {
   "cell_type": "code",
   "execution_count": 153,
   "id": "257b8fa3",
   "metadata": {},
   "outputs": [
    {
     "data": {
      "text/plain": [
       "'olleh'"
      ]
     },
     "execution_count": 153,
     "metadata": {},
     "output_type": "execute_result"
    }
   ],
   "source": [
    "\"hello\"[::-1]"
   ]
  },
  {
   "cell_type": "code",
   "execution_count": 154,
   "id": "e84e05e9",
   "metadata": {},
   "outputs": [
    {
     "data": {
      "text/plain": [
       "['o', 'l', 'l', 'e', 'h']"
      ]
     },
     "execution_count": 154,
     "metadata": {},
     "output_type": "execute_result"
    }
   ],
   "source": [
    "list(reversed(\"hello\"))"
   ]
  },
  {
   "cell_type": "code",
   "execution_count": 155,
   "id": "626cff2c",
   "metadata": {},
   "outputs": [
    {
     "data": {
      "text/plain": [
       "'olleh'"
      ]
     },
     "execution_count": 155,
     "metadata": {},
     "output_type": "execute_result"
    }
   ],
   "source": [
    "\"\".join(list(reversed(\"hello\")))"
   ]
  },
  {
   "cell_type": "code",
   "execution_count": 156,
   "id": "ba0e7763",
   "metadata": {},
   "outputs": [
    {
     "name": "stdout",
     "output_type": "stream",
     "text": [
      "9\n",
      "8\n",
      "7\n",
      "6\n",
      "5\n",
      "4\n",
      "3\n",
      "2\n",
      "1\n",
      "0\n"
     ]
    }
   ],
   "source": [
    "for x in reversed(range(0,10)):\n",
    "    print(x)"
   ]
  },
  {
   "cell_type": "code",
   "execution_count": 157,
   "id": "25a74ac4",
   "metadata": {},
   "outputs": [
    {
     "data": {
      "text/plain": [
       "0"
      ]
     },
     "execution_count": 157,
     "metadata": {},
     "output_type": "execute_result"
    }
   ],
   "source": [
    "len({})"
   ]
  },
  {
   "cell_type": "code",
   "execution_count": 158,
   "id": "4287e885",
   "metadata": {},
   "outputs": [
    {
     "data": {
      "text/plain": [
       "5"
      ]
     },
     "execution_count": 158,
     "metadata": {},
     "output_type": "execute_result"
    }
   ],
   "source": [
    "'hello'.__len__()"
   ]
  },
  {
   "cell_type": "code",
   "execution_count": 159,
   "id": "55f43b58",
   "metadata": {},
   "outputs": [
    {
     "data": {
      "text/plain": [
       "4"
      ]
     },
     "execution_count": 159,
     "metadata": {},
     "output_type": "execute_result"
    }
   ],
   "source": [
    "[1,2,3,4].__len__()"
   ]
  },
  {
   "cell_type": "code",
   "execution_count": 160,
   "id": "126f64f4",
   "metadata": {},
   "outputs": [
    {
     "data": {
      "text/plain": [
       "2"
      ]
     },
     "execution_count": 160,
     "metadata": {},
     "output_type": "execute_result"
    }
   ],
   "source": [
    "len(\"HI\")"
   ]
  },
  {
   "cell_type": "code",
   "execution_count": 161,
   "id": "009efd0a",
   "metadata": {},
   "outputs": [
    {
     "name": "stdout",
     "output_type": "stream",
     "text": [
      "50\n",
      "50\n"
     ]
    }
   ],
   "source": [
    " class SpecialList:\n",
    "        \n",
    "    def __init__(self,data):\n",
    "        self.__data = data\n",
    "        \n",
    "    def __len__(self):\n",
    "        return 50\n",
    "    \n",
    "l1 = SpecialList([1,40,30,100])\n",
    "l2 = SpecialList([])\n",
    "\n",
    "print(len(l1))\n",
    "print(len(l2))"
   ]
  },
  {
   "cell_type": "code",
   "execution_count": 162,
   "id": "5c4ec1ba",
   "metadata": {},
   "outputs": [
    {
     "name": "stdout",
     "output_type": "stream",
     "text": [
      "4\n",
      "0\n"
     ]
    }
   ],
   "source": [
    " class SpecialList:\n",
    "        \n",
    "    def __init__(self,data):\n",
    "        self.__data = data\n",
    "        \n",
    "    def __len__(self):\n",
    "        return self.__data.__len__() // 2\n",
    "    \n",
    "l1 = SpecialList([1,40,30,100,30,1,2,3,4])\n",
    "l2 = SpecialList([])\n",
    "\n",
    "print(len(l1))\n",
    "print(len(l2))"
   ]
  },
  {
   "cell_type": "code",
   "execution_count": 163,
   "id": "70bd64c5",
   "metadata": {},
   "outputs": [
    {
     "data": {
      "text/plain": [
       "35"
      ]
     },
     "execution_count": 163,
     "metadata": {},
     "output_type": "execute_result"
    }
   ],
   "source": [
    "abs(-35)"
   ]
  },
  {
   "cell_type": "code",
   "execution_count": 164,
   "id": "0b0566f7",
   "metadata": {},
   "outputs": [
    {
     "data": {
      "text/plain": [
       "3.44444"
      ]
     },
     "execution_count": 164,
     "metadata": {},
     "output_type": "execute_result"
    }
   ],
   "source": [
    "abs(3.44444)"
   ]
  },
  {
   "cell_type": "code",
   "execution_count": 165,
   "id": "ea4f8a7d",
   "metadata": {},
   "outputs": [
    {
     "data": {
      "text/plain": [
       "3.44444"
      ]
     },
     "execution_count": 165,
     "metadata": {},
     "output_type": "execute_result"
    }
   ],
   "source": [
    "abs(-3.44444)"
   ]
  },
  {
   "cell_type": "code",
   "execution_count": 166,
   "id": "6d8f4371",
   "metadata": {},
   "outputs": [
    {
     "ename": "TypeError",
     "evalue": "bad operand type for abs(): 'str'",
     "output_type": "error",
     "traceback": [
      "\u001b[1;31m---------------------------------------------------------------------------\u001b[0m",
      "\u001b[1;31mTypeError\u001b[0m                                 Traceback (most recent call last)",
      "\u001b[1;32m~\\AppData\\Local\\Temp/ipykernel_8656/3146841062.py\u001b[0m in \u001b[0;36m<module>\u001b[1;34m\u001b[0m\n\u001b[1;32m----> 1\u001b[1;33m \u001b[0mabs\u001b[0m\u001b[1;33m(\u001b[0m\u001b[1;34m'333'\u001b[0m\u001b[1;33m)\u001b[0m\u001b[1;33m\u001b[0m\u001b[1;33m\u001b[0m\u001b[0m\n\u001b[0m",
      "\u001b[1;31mTypeError\u001b[0m: bad operand type for abs(): 'str'"
     ]
    }
   ],
   "source": [
    "abs('333')"
   ]
  },
  {
   "cell_type": "code",
   "execution_count": 167,
   "id": "4d717241",
   "metadata": {},
   "outputs": [
    {
     "data": {
      "text/plain": [
       "88.0"
      ]
     },
     "execution_count": 167,
     "metadata": {},
     "output_type": "execute_result"
    }
   ],
   "source": [
    "abs(float(88))"
   ]
  },
  {
   "cell_type": "code",
   "execution_count": 168,
   "id": "2cd1221e",
   "metadata": {},
   "outputs": [
    {
     "data": {
      "text/plain": [
       "88.0"
      ]
     },
     "execution_count": 168,
     "metadata": {},
     "output_type": "execute_result"
    }
   ],
   "source": [
    "abs(float('88'))"
   ]
  },
  {
   "cell_type": "code",
   "execution_count": 169,
   "id": "ba0f7aa4",
   "metadata": {},
   "outputs": [
    {
     "data": {
      "text/plain": [
       "66.0"
      ]
     },
     "execution_count": 169,
     "metadata": {},
     "output_type": "execute_result"
    }
   ],
   "source": [
    "import math\n",
    "\n",
    "math.fabs(-66)"
   ]
  },
  {
   "cell_type": "code",
   "execution_count": 170,
   "id": "22f0fbc0",
   "metadata": {},
   "outputs": [
    {
     "data": {
      "text/plain": [
       "77.0"
      ]
     },
     "execution_count": 170,
     "metadata": {},
     "output_type": "execute_result"
    }
   ],
   "source": [
    "import math\n",
    "\n",
    "math.fabs(77)"
   ]
  },
  {
   "cell_type": "code",
   "execution_count": 171,
   "id": "0bc4336f",
   "metadata": {},
   "outputs": [
    {
     "data": {
      "text/plain": [
       "6"
      ]
     },
     "execution_count": 171,
     "metadata": {},
     "output_type": "execute_result"
    }
   ],
   "source": [
    "sum([1,2,3])"
   ]
  },
  {
   "cell_type": "code",
   "execution_count": 172,
   "id": "65f6c0cf",
   "metadata": {},
   "outputs": [
    {
     "data": {
      "text/plain": [
       "16"
      ]
     },
     "execution_count": 172,
     "metadata": {},
     "output_type": "execute_result"
    }
   ],
   "source": [
    "sum([1,2,3], 10)"
   ]
  },
  {
   "cell_type": "code",
   "execution_count": 177,
   "id": "40b7933d",
   "metadata": {},
   "outputs": [
    {
     "data": {
      "text/plain": [
       "0"
      ]
     },
     "execution_count": 177,
     "metadata": {},
     "output_type": "execute_result"
    }
   ],
   "source": [
    "sum([1,2,3], -6)"
   ]
  },
  {
   "cell_type": "code",
   "execution_count": 178,
   "id": "ce3a9864",
   "metadata": {},
   "outputs": [
    {
     "data": {
      "text/plain": [
       "7.2"
      ]
     },
     "execution_count": 178,
     "metadata": {},
     "output_type": "execute_result"
    }
   ],
   "source": [
    "sum([1.5, 2, 3.7])"
   ]
  },
  {
   "cell_type": "code",
   "execution_count": 179,
   "id": "b6f1efd4",
   "metadata": {},
   "outputs": [
    {
     "ename": "TypeError",
     "evalue": "unsupported operand type(s) for +: 'int' and 'str'",
     "output_type": "error",
     "traceback": [
      "\u001b[1;31m---------------------------------------------------------------------------\u001b[0m",
      "\u001b[1;31mTypeError\u001b[0m                                 Traceback (most recent call last)",
      "\u001b[1;32m~\\AppData\\Local\\Temp/ipykernel_8656/3814582728.py\u001b[0m in \u001b[0;36m<module>\u001b[1;34m\u001b[0m\n\u001b[1;32m----> 1\u001b[1;33m \u001b[0msum\u001b[0m\u001b[1;33m(\u001b[0m\u001b[1;33m[\u001b[0m\u001b[1;34m'hi'\u001b[0m\u001b[1;33m,\u001b[0m \u001b[1;34m'gal'\u001b[0m\u001b[1;33m]\u001b[0m\u001b[1;33m)\u001b[0m\u001b[1;33m\u001b[0m\u001b[1;33m\u001b[0m\u001b[0m\n\u001b[0m",
      "\u001b[1;31mTypeError\u001b[0m: unsupported operand type(s) for +: 'int' and 'str'"
     ]
    }
   ],
   "source": [
    "sum(['hi', 'gal'])"
   ]
  },
  {
   "cell_type": "code",
   "execution_count": 180,
   "id": "82c26327",
   "metadata": {},
   "outputs": [
    {
     "ename": "TypeError",
     "evalue": "sum() can't sum strings [use ''.join(seq) instead]",
     "output_type": "error",
     "traceback": [
      "\u001b[1;31m---------------------------------------------------------------------------\u001b[0m",
      "\u001b[1;31mTypeError\u001b[0m                                 Traceback (most recent call last)",
      "\u001b[1;32m~\\AppData\\Local\\Temp/ipykernel_8656/3353927502.py\u001b[0m in \u001b[0;36m<module>\u001b[1;34m\u001b[0m\n\u001b[1;32m----> 1\u001b[1;33m \u001b[0msum\u001b[0m\u001b[1;33m(\u001b[0m\u001b[1;34m'hi'\u001b[0m\u001b[1;33m,\u001b[0m \u001b[1;34m'gal'\u001b[0m\u001b[1;33m)\u001b[0m\u001b[1;33m\u001b[0m\u001b[1;33m\u001b[0m\u001b[0m\n\u001b[0m",
      "\u001b[1;31mTypeError\u001b[0m: sum() can't sum strings [use ''.join(seq) instead]"
     ]
    }
   ],
   "source": [
    "sum('hi', 'gal')"
   ]
  },
  {
   "cell_type": "code",
   "execution_count": 181,
   "id": "ea64af35",
   "metadata": {},
   "outputs": [
    {
     "ename": "TypeError",
     "evalue": "str.join() takes exactly one argument (2 given)",
     "output_type": "error",
     "traceback": [
      "\u001b[1;31m---------------------------------------------------------------------------\u001b[0m",
      "\u001b[1;31mTypeError\u001b[0m                                 Traceback (most recent call last)",
      "\u001b[1;32m~\\AppData\\Local\\Temp/ipykernel_8656/1591653539.py\u001b[0m in \u001b[0;36m<module>\u001b[1;34m\u001b[0m\n\u001b[1;32m----> 1\u001b[1;33m \u001b[1;34m''\u001b[0m\u001b[1;33m.\u001b[0m\u001b[0mjoin\u001b[0m\u001b[1;33m(\u001b[0m\u001b[1;34m'hi'\u001b[0m\u001b[1;33m,\u001b[0m \u001b[1;34m'gal'\u001b[0m\u001b[1;33m)\u001b[0m\u001b[1;33m\u001b[0m\u001b[1;33m\u001b[0m\u001b[0m\n\u001b[0m",
      "\u001b[1;31mTypeError\u001b[0m: str.join() takes exactly one argument (2 given)"
     ]
    }
   ],
   "source": [
    "''.join('hi', 'gal')"
   ]
  },
  {
   "cell_type": "code",
   "execution_count": 182,
   "id": "7fff4326",
   "metadata": {},
   "outputs": [
    {
     "data": {
      "text/plain": [
       "'hi'"
      ]
     },
     "execution_count": 182,
     "metadata": {},
     "output_type": "execute_result"
    }
   ],
   "source": [
    "''.join('hi')"
   ]
  },
  {
   "cell_type": "code",
   "execution_count": 183,
   "id": "145cd802",
   "metadata": {},
   "outputs": [
    {
     "ename": "TypeError",
     "evalue": "'str' object is not callable",
     "output_type": "error",
     "traceback": [
      "\u001b[1;31m---------------------------------------------------------------------------\u001b[0m",
      "\u001b[1;31mTypeError\u001b[0m                                 Traceback (most recent call last)",
      "\u001b[1;32m~\\AppData\\Local\\Temp/ipykernel_8656/1838259536.py\u001b[0m in \u001b[0;36m<module>\u001b[1;34m\u001b[0m\n\u001b[1;32m----> 1\u001b[1;33m \u001b[1;34m''\u001b[0m\u001b[1;33m.\u001b[0m\u001b[0mjoin\u001b[0m\u001b[1;33m(\u001b[0m\u001b[1;34m'hi'\u001b[0m\u001b[1;33m)\u001b[0m\u001b[1;33m(\u001b[0m\u001b[1;34m'gal'\u001b[0m\u001b[1;33m)\u001b[0m\u001b[1;33m\u001b[0m\u001b[1;33m\u001b[0m\u001b[0m\n\u001b[0m",
      "\u001b[1;31mTypeError\u001b[0m: 'str' object is not callable"
     ]
    }
   ],
   "source": [
    "''.join('hi')('gal')"
   ]
  },
  {
   "cell_type": "code",
   "execution_count": 184,
   "id": "d77f2b65",
   "metadata": {},
   "outputs": [
    {
     "ename": "TypeError",
     "evalue": "sum() can't sum strings [use ''.join(seq) instead]",
     "output_type": "error",
     "traceback": [
      "\u001b[1;31m---------------------------------------------------------------------------\u001b[0m",
      "\u001b[1;31mTypeError\u001b[0m                                 Traceback (most recent call last)",
      "\u001b[1;32m~\\AppData\\Local\\Temp/ipykernel_8656/2393171495.py\u001b[0m in \u001b[0;36m<module>\u001b[1;34m\u001b[0m\n\u001b[1;32m----> 1\u001b[1;33m \u001b[0msum\u001b[0m\u001b[1;33m(\u001b[0m\u001b[1;33m[\u001b[0m\u001b[1;34m'hi'\u001b[0m\u001b[1;33m,\u001b[0m \u001b[1;34m'there'\u001b[0m\u001b[1;33m]\u001b[0m\u001b[1;33m,\u001b[0m \u001b[1;34m'lol'\u001b[0m\u001b[1;33m)\u001b[0m\u001b[1;33m\u001b[0m\u001b[1;33m\u001b[0m\u001b[0m\n\u001b[0m",
      "\u001b[1;31mTypeError\u001b[0m: sum() can't sum strings [use ''.join(seq) instead]"
     ]
    }
   ],
   "source": [
    "sum(['hi', 'there'], 'lol')"
   ]
  },
  {
   "cell_type": "code",
   "execution_count": 185,
   "id": "1aa75cdb",
   "metadata": {},
   "outputs": [
    {
     "data": {
      "text/plain": [
       "'hi gal'"
      ]
     },
     "execution_count": 185,
     "metadata": {},
     "output_type": "execute_result"
    }
   ],
   "source": [
    "' '.join(['hi', 'gal'])"
   ]
  },
  {
   "cell_type": "code",
   "execution_count": 186,
   "id": "66b5b6eb",
   "metadata": {},
   "outputs": [
    {
     "data": {
      "text/plain": [
       "10"
      ]
     },
     "execution_count": 186,
     "metadata": {},
     "output_type": "execute_result"
    }
   ],
   "source": [
    "round(10.2)"
   ]
  },
  {
   "cell_type": "code",
   "execution_count": 187,
   "id": "59ca6b8b",
   "metadata": {},
   "outputs": [
    {
     "data": {
      "text/plain": [
       "3"
      ]
     },
     "execution_count": 187,
     "metadata": {},
     "output_type": "execute_result"
    }
   ],
   "source": [
    "round(3.4987)"
   ]
  },
  {
   "cell_type": "code",
   "execution_count": 188,
   "id": "dd89714f",
   "metadata": {},
   "outputs": [
    {
     "data": {
      "text/plain": [
       "4"
      ]
     },
     "execution_count": 188,
     "metadata": {},
     "output_type": "execute_result"
    }
   ],
   "source": [
    "round(3.51234)"
   ]
  },
  {
   "cell_type": "code",
   "execution_count": 189,
   "id": "881c7a0c",
   "metadata": {},
   "outputs": [
    {
     "data": {
      "text/plain": [
       "3.512"
      ]
     },
     "execution_count": 189,
     "metadata": {},
     "output_type": "execute_result"
    }
   ],
   "source": [
    " round(3.51234, 3)"
   ]
  },
  {
   "cell_type": "code",
   "execution_count": 190,
   "id": "a2eca68e",
   "metadata": {},
   "outputs": [
    {
     "ename": "TypeError",
     "evalue": "'float' object cannot be interpreted as an integer",
     "output_type": "error",
     "traceback": [
      "\u001b[1;31m---------------------------------------------------------------------------\u001b[0m",
      "\u001b[1;31mTypeError\u001b[0m                                 Traceback (most recent call last)",
      "\u001b[1;32m~\\AppData\\Local\\Temp/ipykernel_8656/2497088734.py\u001b[0m in \u001b[0;36m<module>\u001b[1;34m\u001b[0m\n\u001b[1;32m----> 1\u001b[1;33m \u001b[0mround\u001b[0m\u001b[1;33m(\u001b[0m\u001b[1;36m3.51234\u001b[0m\u001b[1;33m,\u001b[0m \u001b[1;36m3.499\u001b[0m\u001b[1;33m)\u001b[0m\u001b[1;33m\u001b[0m\u001b[1;33m\u001b[0m\u001b[0m\n\u001b[0m",
      "\u001b[1;31mTypeError\u001b[0m: 'float' object cannot be interpreted as an integer"
     ]
    }
   ],
   "source": [
    " round(3.51234, 3.499)"
   ]
  },
  {
   "cell_type": "code",
   "execution_count": 191,
   "id": "69572f17",
   "metadata": {},
   "outputs": [
    {
     "ename": "TypeError",
     "evalue": "'float' object cannot be interpreted as an integer",
     "output_type": "error",
     "traceback": [
      "\u001b[1;31m---------------------------------------------------------------------------\u001b[0m",
      "\u001b[1;31mTypeError\u001b[0m                                 Traceback (most recent call last)",
      "\u001b[1;32m~\\AppData\\Local\\Temp/ipykernel_8656/368347833.py\u001b[0m in \u001b[0;36m<module>\u001b[1;34m\u001b[0m\n\u001b[1;32m----> 1\u001b[1;33m \u001b[0mround\u001b[0m\u001b[1;33m(\u001b[0m\u001b[1;36m6\u001b[0m\u001b[1;33m,\u001b[0m \u001b[1;36m3.499\u001b[0m\u001b[1;33m)\u001b[0m\u001b[1;33m\u001b[0m\u001b[1;33m\u001b[0m\u001b[0m\n\u001b[0m",
      "\u001b[1;31mTypeError\u001b[0m: 'float' object cannot be interpreted as an integer"
     ]
    }
   ],
   "source": [
    "round(6, 3.499)"
   ]
  },
  {
   "cell_type": "code",
   "execution_count": 192,
   "id": "9df85c9e",
   "metadata": {},
   "outputs": [
    {
     "data": {
      "text/plain": [
       "8.999"
      ]
     },
     "execution_count": 192,
     "metadata": {},
     "output_type": "execute_result"
    }
   ],
   "source": [
    "round(8.999, 7)"
   ]
  },
  {
   "cell_type": "code",
   "execution_count": 193,
   "id": "06e5c504",
   "metadata": {},
   "outputs": [
    {
     "data": {
      "text/plain": [
       "9"
      ]
     },
     "execution_count": 193,
     "metadata": {},
     "output_type": "execute_result"
    }
   ],
   "source": [
    " round(8.999, None)"
   ]
  },
  {
   "cell_type": "code",
   "execution_count": 194,
   "id": "bd9dcb38",
   "metadata": {},
   "outputs": [
    {
     "ename": "TypeError",
     "evalue": "type NoneType doesn't define __round__ method",
     "output_type": "error",
     "traceback": [
      "\u001b[1;31m---------------------------------------------------------------------------\u001b[0m",
      "\u001b[1;31mTypeError\u001b[0m                                 Traceback (most recent call last)",
      "\u001b[1;32m~\\AppData\\Local\\Temp/ipykernel_8656/853228468.py\u001b[0m in \u001b[0;36m<module>\u001b[1;34m\u001b[0m\n\u001b[1;32m----> 1\u001b[1;33m \u001b[0mround\u001b[0m\u001b[1;33m(\u001b[0m\u001b[1;32mNone\u001b[0m\u001b[1;33m,\u001b[0m \u001b[1;36m3.499\u001b[0m\u001b[1;33m)\u001b[0m\u001b[1;33m\u001b[0m\u001b[1;33m\u001b[0m\u001b[0m\n\u001b[0m",
      "\u001b[1;31mTypeError\u001b[0m: type NoneType doesn't define __round__ method"
     ]
    }
   ],
   "source": [
    "round(None, 3.499)"
   ]
  },
  {
   "cell_type": "code",
   "execution_count": 195,
   "id": "f3580a80",
   "metadata": {},
   "outputs": [
    {
     "data": {
      "text/plain": [
       "9.0"
      ]
     },
     "execution_count": 195,
     "metadata": {},
     "output_type": "execute_result"
    }
   ],
   "source": [
    "round(8.99999999999999999999999999999999, 7)"
   ]
  },
  {
   "cell_type": "code",
   "execution_count": 196,
   "id": "1d1dfc4f",
   "metadata": {},
   "outputs": [],
   "source": [
    "times = [3,4,5,9,-3,-5,77]"
   ]
  },
  {
   "cell_type": "code",
   "execution_count": 197,
   "id": "c21cd9af",
   "metadata": {},
   "outputs": [
    {
     "data": {
      "text/plain": [
       "[3, 4, 5, 9, -3, -5, 77]"
      ]
     },
     "execution_count": 197,
     "metadata": {},
     "output_type": "execute_result"
    }
   ],
   "source": [
    "times"
   ]
  },
  {
   "cell_type": "code",
   "execution_count": 198,
   "id": "ea63d41b",
   "metadata": {},
   "outputs": [],
   "source": [
    "def max_magnitude(times):\n",
    "    return max(abs(num) for num in times)"
   ]
  },
  {
   "cell_type": "code",
   "execution_count": 199,
   "id": "7c61ce14",
   "metadata": {},
   "outputs": [
    {
     "data": {
      "text/plain": [
       "[3, 4, 5, 9, -3, -5, 77]"
      ]
     },
     "execution_count": 199,
     "metadata": {},
     "output_type": "execute_result"
    }
   ],
   "source": [
    "times"
   ]
  },
  {
   "cell_type": "code",
   "execution_count": 200,
   "id": "f054503e",
   "metadata": {},
   "outputs": [],
   "source": [
    "first_zip = zip([1,2,3], [4,5,6])"
   ]
  },
  {
   "cell_type": "code",
   "execution_count": 201,
   "id": "f6161dd0",
   "metadata": {},
   "outputs": [
    {
     "data": {
      "text/plain": [
       "[(1, 4), (2, 5), (3, 6)]"
      ]
     },
     "execution_count": 201,
     "metadata": {},
     "output_type": "execute_result"
    }
   ],
   "source": [
    "list(first_zip)"
   ]
  },
  {
   "cell_type": "code",
   "execution_count": 202,
   "id": "b94826e0",
   "metadata": {},
   "outputs": [
    {
     "data": {
      "text/plain": [
       "{}"
      ]
     },
     "execution_count": 202,
     "metadata": {},
     "output_type": "execute_result"
    }
   ],
   "source": [
    "dict(first_zip)"
   ]
  },
  {
   "cell_type": "code",
   "execution_count": 203,
   "id": "173abc3e",
   "metadata": {},
   "outputs": [
    {
     "data": {
      "text/plain": [
       "()"
      ]
     },
     "execution_count": 203,
     "metadata": {},
     "output_type": "execute_result"
    }
   ],
   "source": [
    "tuple(first_zip)"
   ]
  },
  {
   "cell_type": "code",
   "execution_count": 204,
   "id": "53087252",
   "metadata": {},
   "outputs": [],
   "source": [
    "nums1 = [1,2,3,4,5]"
   ]
  },
  {
   "cell_type": "code",
   "execution_count": 205,
   "id": "926c42c1",
   "metadata": {},
   "outputs": [],
   "source": [
    "nums2 = [6,7,8,9,10]"
   ]
  },
  {
   "cell_type": "code",
   "execution_count": 206,
   "id": "b013ae09",
   "metadata": {},
   "outputs": [
    {
     "data": {
      "text/plain": [
       "<zip at 0x22479172780>"
      ]
     },
     "execution_count": 206,
     "metadata": {},
     "output_type": "execute_result"
    }
   ],
   "source": [
    "zip(nums1,nums2)"
   ]
  },
  {
   "cell_type": "code",
   "execution_count": 207,
   "id": "d965db8d",
   "metadata": {},
   "outputs": [],
   "source": [
    "z = zip(nums1, nums2)"
   ]
  },
  {
   "cell_type": "code",
   "execution_count": 208,
   "id": "5ef2c7b3",
   "metadata": {},
   "outputs": [
    {
     "data": {
      "text/plain": [
       "[(1, 6), (2, 7), (3, 8), (4, 9), (5, 10)]"
      ]
     },
     "execution_count": 208,
     "metadata": {},
     "output_type": "execute_result"
    }
   ],
   "source": [
    "list(z)"
   ]
  },
  {
   "cell_type": "code",
   "execution_count": 209,
   "id": "63c0a2ce",
   "metadata": {},
   "outputs": [
    {
     "data": {
      "text/plain": [
       "()"
      ]
     },
     "execution_count": 209,
     "metadata": {},
     "output_type": "execute_result"
    }
   ],
   "source": [
    "tuple(z)"
   ]
  },
  {
   "cell_type": "code",
   "execution_count": 210,
   "id": "787bd411",
   "metadata": {},
   "outputs": [],
   "source": [
    "nums3 = [1,2,3,4,5,11]"
   ]
  },
  {
   "cell_type": "code",
   "execution_count": 211,
   "id": "87749951",
   "metadata": {},
   "outputs": [],
   "source": [
    "z2 = zip(nums3, nums2)"
   ]
  },
  {
   "cell_type": "code",
   "execution_count": 212,
   "id": "51c3b5f9",
   "metadata": {},
   "outputs": [
    {
     "data": {
      "text/plain": [
       "[(1, 6), (2, 7), (3, 8), (4, 9), (5, 10)]"
      ]
     },
     "execution_count": 212,
     "metadata": {},
     "output_type": "execute_result"
    }
   ],
   "source": [
    "list(z2)"
   ]
  },
  {
   "cell_type": "code",
   "execution_count": 213,
   "id": "1e5c153f",
   "metadata": {},
   "outputs": [],
   "source": [
    "z2 = zip(nums2, nums3)"
   ]
  },
  {
   "cell_type": "code",
   "execution_count": 214,
   "id": "bc44cc91",
   "metadata": {},
   "outputs": [
    {
     "data": {
      "text/plain": [
       "[(6, 1), (7, 2), (8, 3), (9, 4), (10, 5)]"
      ]
     },
     "execution_count": 214,
     "metadata": {},
     "output_type": "execute_result"
    }
   ],
   "source": [
    "list(z2)"
   ]
  },
  {
   "cell_type": "code",
   "execution_count": 215,
   "id": "3b59b257",
   "metadata": {},
   "outputs": [],
   "source": [
    "words = ['hi', 'lol', 'haha', ':)']"
   ]
  },
  {
   "cell_type": "code",
   "execution_count": 216,
   "id": "c1ffc2f7",
   "metadata": {},
   "outputs": [
    {
     "data": {
      "text/plain": [
       "[('hi', 1, 6), ('lol', 2, 7), ('haha', 3, 8), (':)', 4, 9)]"
      ]
     },
     "execution_count": 216,
     "metadata": {},
     "output_type": "execute_result"
    }
   ],
   "source": [
    "list(zip(words,nums1,nums2))"
   ]
  },
  {
   "cell_type": "code",
   "execution_count": 217,
   "id": "066a9870",
   "metadata": {},
   "outputs": [],
   "source": [
    "z = list(zip(words,nums1,nums2))"
   ]
  },
  {
   "cell_type": "code",
   "execution_count": 218,
   "id": "88f4a2ca",
   "metadata": {},
   "outputs": [
    {
     "data": {
      "text/plain": [
       "[('hi', 1, 6), ('lol', 2, 7), ('haha', 3, 8), (':)', 4, 9)]"
      ]
     },
     "execution_count": 218,
     "metadata": {},
     "output_type": "execute_result"
    }
   ],
   "source": [
    "z"
   ]
  },
  {
   "cell_type": "code",
   "execution_count": 219,
   "id": "8eefc361",
   "metadata": {},
   "outputs": [
    {
     "data": {
      "text/plain": [
       "[('hi', 'lol', 'haha', ':)'), (1, 2, 3, 4), (6, 7, 8, 9)]"
      ]
     },
     "execution_count": 219,
     "metadata": {},
     "output_type": "execute_result"
    }
   ],
   "source": [
    "list(zip(*z))"
   ]
  },
  {
   "cell_type": "code",
   "execution_count": 220,
   "id": "6d4f7e49",
   "metadata": {},
   "outputs": [],
   "source": [
    "five_by_two = [(0,1), (1,2), (2,3), (3,4), (4,5)]"
   ]
  },
  {
   "cell_type": "code",
   "execution_count": 221,
   "id": "16e5df02",
   "metadata": {},
   "outputs": [
    {
     "data": {
      "text/plain": [
       "[(0, 1, 2, 3, 4), (1, 2, 3, 4, 5)]"
      ]
     },
     "execution_count": 221,
     "metadata": {},
     "output_type": "execute_result"
    }
   ],
   "source": [
    "list(zip(*five_by_two))"
   ]
  },
  {
   "cell_type": "code",
   "execution_count": 222,
   "id": "2ec08be1",
   "metadata": {},
   "outputs": [],
   "source": [
    "midterms = [80,91,78]\n",
    "finals = [98,89,53]\n",
    "students = ['dan', 'ang', 'kate']"
   ]
  },
  {
   "cell_type": "code",
   "execution_count": 223,
   "id": "f8818429",
   "metadata": {},
   "outputs": [
    {
     "ename": "ValueError",
     "evalue": "dictionary update sequence element #0 has length 3; 2 is required",
     "output_type": "error",
     "traceback": [
      "\u001b[1;31m---------------------------------------------------------------------------\u001b[0m",
      "\u001b[1;31mValueError\u001b[0m                                Traceback (most recent call last)",
      "\u001b[1;32m~\\AppData\\Local\\Temp/ipykernel_8656/835509496.py\u001b[0m in \u001b[0;36m<module>\u001b[1;34m\u001b[0m\n\u001b[1;32m----> 1\u001b[1;33m \u001b[0mdict\u001b[0m\u001b[1;33m(\u001b[0m\u001b[0mzip\u001b[0m\u001b[1;33m(\u001b[0m\u001b[0mmidterms\u001b[0m\u001b[1;33m,\u001b[0m \u001b[0mfinals\u001b[0m\u001b[1;33m,\u001b[0m \u001b[0mstudents\u001b[0m\u001b[1;33m)\u001b[0m\u001b[1;33m)\u001b[0m\u001b[1;33m\u001b[0m\u001b[1;33m\u001b[0m\u001b[0m\n\u001b[0m",
      "\u001b[1;31mValueError\u001b[0m: dictionary update sequence element #0 has length 3; 2 is required"
     ]
    }
   ],
   "source": [
    "dict(zip(midterms, finals, students))"
   ]
  },
  {
   "cell_type": "code",
   "execution_count": 224,
   "id": "466d9814",
   "metadata": {},
   "outputs": [
    {
     "data": {
      "text/plain": [
       "{98: 'dan', 89: 'ang', 53: 'kate'}"
      ]
     },
     "execution_count": 224,
     "metadata": {},
     "output_type": "execute_result"
    }
   ],
   "source": [
    "dict(zip(finals, students))"
   ]
  },
  {
   "cell_type": "code",
   "execution_count": 225,
   "id": "875f15d2",
   "metadata": {},
   "outputs": [],
   "source": [
    "final_grades = {t[0]:max(t[1], t[2]) for t in zip(students, midterms, finals)}"
   ]
  },
  {
   "cell_type": "code",
   "execution_count": 226,
   "id": "1d51f797",
   "metadata": {},
   "outputs": [
    {
     "data": {
      "text/plain": [
       "{'dan': 98, 'ang': 91, 'kate': 78}"
      ]
     },
     "execution_count": 226,
     "metadata": {},
     "output_type": "execute_result"
    }
   ],
   "source": [
    "final_grades"
   ]
  },
  {
   "cell_type": "code",
   "execution_count": 227,
   "id": "3638eb71",
   "metadata": {},
   "outputs": [],
   "source": [
    "test1 = [20,15,6,13,18]\n",
    "test2 = [19,17,20,17,11]\n",
    "exam = [55,43,49,35,29]\n",
    "total = [94,75,75,65,58]\n",
    "students = [\"Dhoom\", \"Khan\", \"Don\", \"Mard\", \"Jumong\"]\n",
    "\n",
    "final_score = {t[0]: max(t[1], t[2], t[3], t[4]) for t in zip(students,test1, test2, exam, total)}"
   ]
  },
  {
   "cell_type": "code",
   "execution_count": 228,
   "id": "40c45024",
   "metadata": {},
   "outputs": [
    {
     "data": {
      "text/plain": [
       "{'Dhoom': 94, 'Khan': 75, 'Don': 75, 'Mard': 65, 'Jumong': 58}"
      ]
     },
     "execution_count": 228,
     "metadata": {},
     "output_type": "execute_result"
    }
   ],
   "source": [
    "final_score"
   ]
  },
  {
   "cell_type": "code",
   "execution_count": 229,
   "id": "a49d8e6a",
   "metadata": {},
   "outputs": [],
   "source": [
    "final_grades = dict(\n",
    "\tzip(\n",
    "\t\tstudents,\n",
    "\t\tmap(\n",
    "\t\t\tlambda pair: max(pair),\n",
    "\t\t\tzip(midterms, finals)\n",
    "\t\t)\n",
    "\t)\n",
    ")"
   ]
  },
  {
   "cell_type": "code",
   "execution_count": 230,
   "id": "bec46a53",
   "metadata": {},
   "outputs": [
    {
     "data": {
      "text/plain": [
       "{'Dhoom': 98, 'Khan': 91, 'Don': 78}"
      ]
     },
     "execution_count": 230,
     "metadata": {},
     "output_type": "execute_result"
    }
   ],
   "source": [
    "final_grades"
   ]
  },
  {
   "cell_type": "code",
   "execution_count": 232,
   "id": "3742c5cf",
   "metadata": {},
   "outputs": [],
   "source": [
    "avg_grades = dict(\n",
    "\tzip(\n",
    "\t\tstudents,\n",
    "\t\tmap(\n",
    "\t\t\tlambda pair: ((pair[0]+pair[1])/2),\n",
    "\t\t\tzip(midterms, finals)\n",
    "\t\t)\n",
    "\t)\n",
    ")"
   ]
  },
  {
   "cell_type": "code",
   "execution_count": 233,
   "id": "de7bb779",
   "metadata": {},
   "outputs": [
    {
     "data": {
      "text/plain": [
       "{'Dhoom': 89.0, 'Khan': 90.0, 'Don': 65.5}"
      ]
     },
     "execution_count": 233,
     "metadata": {},
     "output_type": "execute_result"
    }
   ],
   "source": [
    "avg_grades"
   ]
  },
  {
   "cell_type": "code",
   "execution_count": 2,
   "id": "72dcc7f5",
   "metadata": {},
   "outputs": [],
   "source": [
    "mat121 = [80,91,78]\n",
    "phy102 = [98,89,53]\n",
    "peeps = [\"Chan\", \"Damme\", \"Lee\"]"
   ]
  },
  {
   "cell_type": "code",
   "execution_count": 4,
   "id": "8185973d",
   "metadata": {},
   "outputs": [
    {
     "data": {
      "text/plain": [
       "[(98, 80), (89, 91), (53, 78)]"
      ]
     },
     "execution_count": 4,
     "metadata": {},
     "output_type": "execute_result"
    }
   ],
   "source": [
    " [pair for pair in zip(phy102,mat121)]"
   ]
  },
  {
   "cell_type": "code",
   "execution_count": 4,
   "id": "c35b573c",
   "metadata": {},
   "outputs": [],
   "source": [
    "total_grade = [pair for pair in zip(phy102,mat121)]"
   ]
  },
  {
   "cell_type": "code",
   "execution_count": 5,
   "id": "13ff5cde",
   "metadata": {},
   "outputs": [
    {
     "data": {
      "text/plain": [
       "[(98, 80), (89, 91), (53, 78)]"
      ]
     },
     "execution_count": 5,
     "metadata": {},
     "output_type": "execute_result"
    }
   ],
   "source": [
    "list(total_grade)"
   ]
  },
  {
   "cell_type": "code",
   "execution_count": 6,
   "id": "b0957eda",
   "metadata": {},
   "outputs": [],
   "source": [
    "total_grade = [max(pair) for pair in zip(phy102,mat121)]"
   ]
  },
  {
   "cell_type": "code",
   "execution_count": 7,
   "id": "a0372abd",
   "metadata": {},
   "outputs": [
    {
     "data": {
      "text/plain": [
       "[98, 91, 78]"
      ]
     },
     "execution_count": 7,
     "metadata": {},
     "output_type": "execute_result"
    }
   ],
   "source": [
    "list(total_grade)"
   ]
  },
  {
   "cell_type": "code",
   "execution_count": 8,
   "id": "567a4d1a",
   "metadata": {},
   "outputs": [
    {
     "ename": "SyntaxError",
     "evalue": "closing parenthesis ']' does not match opening parenthesis '(' (Temp/ipykernel_8384/2232906529.py, line 1)",
     "output_type": "error",
     "traceback": [
      "\u001b[1;36m  File \u001b[1;32m\"C:\\Users\\user\\AppData\\Local\\Temp/ipykernel_8384/2232906529.py\"\u001b[1;36m, line \u001b[1;32m1\u001b[0m\n\u001b[1;33m    total_grade = [max(pair) for pair in zip(phy102,mat121,peeps]\u001b[0m\n\u001b[1;37m                                                                ^\u001b[0m\n\u001b[1;31mSyntaxError\u001b[0m\u001b[1;31m:\u001b[0m closing parenthesis ']' does not match opening parenthesis '('\n"
     ]
    }
   ],
   "source": [
    "total_grade = [max(pair) for pair in zip(phy102,mat121,peeps]"
   ]
  },
  {
   "cell_type": "code",
   "execution_count": 19,
   "id": "619e712e",
   "metadata": {},
   "outputs": [
    {
     "ename": "TypeError",
     "evalue": "'>' not supported between instances of 'str' and 'int'",
     "output_type": "error",
     "traceback": [
      "\u001b[1;31m---------------------------------------------------------------------------\u001b[0m",
      "\u001b[1;31mTypeError\u001b[0m                                 Traceback (most recent call last)",
      "\u001b[1;32m~\\AppData\\Local\\Temp/ipykernel_8384/1442583418.py\u001b[0m in \u001b[0;36m<module>\u001b[1;34m\u001b[0m\n\u001b[1;32m----> 1\u001b[1;33m \u001b[0mtotal_grade\u001b[0m \u001b[1;33m=\u001b[0m \u001b[1;33m{\u001b[0m\u001b[0mpair\u001b[0m\u001b[1;33m[\u001b[0m\u001b[1;36m0\u001b[0m\u001b[1;33m]\u001b[0m\u001b[1;33m:\u001b[0m \u001b[0mmax\u001b[0m\u001b[1;33m(\u001b[0m\u001b[0mpair\u001b[0m\u001b[1;33m[\u001b[0m\u001b[1;36m1\u001b[0m\u001b[1;33m]\u001b[0m\u001b[1;33m,\u001b[0m \u001b[0mpair\u001b[0m\u001b[1;33m[\u001b[0m\u001b[1;36m2\u001b[0m\u001b[1;33m]\u001b[0m\u001b[1;33m)\u001b[0m \u001b[1;32mfor\u001b[0m \u001b[0mpair\u001b[0m \u001b[1;32min\u001b[0m \u001b[0mzip\u001b[0m\u001b[1;33m(\u001b[0m\u001b[0mphy102\u001b[0m\u001b[1;33m,\u001b[0m\u001b[0mmat121\u001b[0m\u001b[1;33m,\u001b[0m\u001b[0mpeeps\u001b[0m\u001b[1;33m)\u001b[0m\u001b[1;33m}\u001b[0m\u001b[1;33m\u001b[0m\u001b[1;33m\u001b[0m\u001b[0m\n\u001b[0m",
      "\u001b[1;32m~\\AppData\\Local\\Temp/ipykernel_8384/1442583418.py\u001b[0m in \u001b[0;36m<dictcomp>\u001b[1;34m(.0)\u001b[0m\n\u001b[1;32m----> 1\u001b[1;33m \u001b[0mtotal_grade\u001b[0m \u001b[1;33m=\u001b[0m \u001b[1;33m{\u001b[0m\u001b[0mpair\u001b[0m\u001b[1;33m[\u001b[0m\u001b[1;36m0\u001b[0m\u001b[1;33m]\u001b[0m\u001b[1;33m:\u001b[0m \u001b[0mmax\u001b[0m\u001b[1;33m(\u001b[0m\u001b[0mpair\u001b[0m\u001b[1;33m[\u001b[0m\u001b[1;36m1\u001b[0m\u001b[1;33m]\u001b[0m\u001b[1;33m,\u001b[0m \u001b[0mpair\u001b[0m\u001b[1;33m[\u001b[0m\u001b[1;36m2\u001b[0m\u001b[1;33m]\u001b[0m\u001b[1;33m)\u001b[0m \u001b[1;32mfor\u001b[0m \u001b[0mpair\u001b[0m \u001b[1;32min\u001b[0m \u001b[0mzip\u001b[0m\u001b[1;33m(\u001b[0m\u001b[0mphy102\u001b[0m\u001b[1;33m,\u001b[0m\u001b[0mmat121\u001b[0m\u001b[1;33m,\u001b[0m\u001b[0mpeeps\u001b[0m\u001b[1;33m)\u001b[0m\u001b[1;33m}\u001b[0m\u001b[1;33m\u001b[0m\u001b[1;33m\u001b[0m\u001b[0m\n\u001b[0m",
      "\u001b[1;31mTypeError\u001b[0m: '>' not supported between instances of 'str' and 'int'"
     ]
    }
   ],
   "source": [
    "total_grade = {pair[0]: max(pair[1], pair[2]) for pair in zip(phy102,mat121,peeps)}"
   ]
  },
  {
   "cell_type": "code",
   "execution_count": 20,
   "id": "65586714",
   "metadata": {},
   "outputs": [],
   "source": [
    "total_grade = {pair[0]: max(pair[1], pair[2]) for pair in zip(peeps,phy102,mat121)}"
   ]
  },
  {
   "cell_type": "code",
   "execution_count": 21,
   "id": "628af690",
   "metadata": {},
   "outputs": [
    {
     "data": {
      "text/plain": [
       "{'Chan': 98, 'Damme': 91, 'Lee': 78}"
      ]
     },
     "execution_count": 21,
     "metadata": {},
     "output_type": "execute_result"
    }
   ],
   "source": [
    "total_grade"
   ]
  },
  {
   "cell_type": "code",
   "execution_count": 24,
   "id": "87a0c9f8",
   "metadata": {},
   "outputs": [
    {
     "ename": "TypeError",
     "evalue": "'>' not supported between instances of 'int' and 'str'",
     "output_type": "error",
     "traceback": [
      "\u001b[1;31m---------------------------------------------------------------------------\u001b[0m",
      "\u001b[1;31mTypeError\u001b[0m                                 Traceback (most recent call last)",
      "\u001b[1;32m~\\AppData\\Local\\Temp/ipykernel_8384/1547536978.py\u001b[0m in \u001b[0;36m<module>\u001b[1;34m\u001b[0m\n\u001b[1;32m----> 1\u001b[1;33m \u001b[0mtotal_grade\u001b[0m \u001b[1;33m=\u001b[0m \u001b[1;33m{\u001b[0m\u001b[0mpair\u001b[0m\u001b[1;33m[\u001b[0m\u001b[1;36m0\u001b[0m\u001b[1;33m]\u001b[0m\u001b[1;33m:\u001b[0m \u001b[0mmax\u001b[0m\u001b[1;33m(\u001b[0m\u001b[0mpair\u001b[0m\u001b[1;33m[\u001b[0m\u001b[1;36m1\u001b[0m\u001b[1;33m]\u001b[0m\u001b[1;33m,\u001b[0m \u001b[0mpair\u001b[0m\u001b[1;33m[\u001b[0m\u001b[1;36m2\u001b[0m\u001b[1;33m]\u001b[0m\u001b[1;33m)\u001b[0m \u001b[1;32mfor\u001b[0m \u001b[0mpair\u001b[0m \u001b[1;32min\u001b[0m \u001b[0mzip\u001b[0m\u001b[1;33m(\u001b[0m\u001b[0mphy102\u001b[0m\u001b[1;33m,\u001b[0m\u001b[0mpeeps\u001b[0m\u001b[1;33m,\u001b[0m\u001b[0mmat121\u001b[0m\u001b[1;33m)\u001b[0m\u001b[1;33m}\u001b[0m\u001b[1;33m\u001b[0m\u001b[1;33m\u001b[0m\u001b[0m\n\u001b[0m",
      "\u001b[1;32m~\\AppData\\Local\\Temp/ipykernel_8384/1547536978.py\u001b[0m in \u001b[0;36m<dictcomp>\u001b[1;34m(.0)\u001b[0m\n\u001b[1;32m----> 1\u001b[1;33m \u001b[0mtotal_grade\u001b[0m \u001b[1;33m=\u001b[0m \u001b[1;33m{\u001b[0m\u001b[0mpair\u001b[0m\u001b[1;33m[\u001b[0m\u001b[1;36m0\u001b[0m\u001b[1;33m]\u001b[0m\u001b[1;33m:\u001b[0m \u001b[0mmax\u001b[0m\u001b[1;33m(\u001b[0m\u001b[0mpair\u001b[0m\u001b[1;33m[\u001b[0m\u001b[1;36m1\u001b[0m\u001b[1;33m]\u001b[0m\u001b[1;33m,\u001b[0m \u001b[0mpair\u001b[0m\u001b[1;33m[\u001b[0m\u001b[1;36m2\u001b[0m\u001b[1;33m]\u001b[0m\u001b[1;33m)\u001b[0m \u001b[1;32mfor\u001b[0m \u001b[0mpair\u001b[0m \u001b[1;32min\u001b[0m \u001b[0mzip\u001b[0m\u001b[1;33m(\u001b[0m\u001b[0mphy102\u001b[0m\u001b[1;33m,\u001b[0m\u001b[0mpeeps\u001b[0m\u001b[1;33m,\u001b[0m\u001b[0mmat121\u001b[0m\u001b[1;33m)\u001b[0m\u001b[1;33m}\u001b[0m\u001b[1;33m\u001b[0m\u001b[1;33m\u001b[0m\u001b[0m\n\u001b[0m",
      "\u001b[1;31mTypeError\u001b[0m: '>' not supported between instances of 'int' and 'str'"
     ]
    }
   ],
   "source": [
    "total_grade = {pair[0]: max(pair[1], pair[2]) for pair in zip(phy102,peeps,mat121)}"
   ]
  },
  {
   "cell_type": "code",
   "execution_count": 25,
   "id": "ffcc0190",
   "metadata": {},
   "outputs": [
    {
     "data": {
      "text/plain": [
       "True"
      ]
     },
     "execution_count": 25,
     "metadata": {},
     "output_type": "execute_result"
    }
   ],
   "source": [
    "1 == 1"
   ]
  },
  {
   "cell_type": "markdown",
   "id": "2ab8e56a",
   "metadata": {},
   "source": [
    "## "
   ]
  },
  {
   "cell_type": "markdown",
   "id": "c3c37590",
   "metadata": {},
   "source": [
    "22 == 33"
   ]
  },
  {
   "cell_type": "markdown",
   "id": "02e3a27f",
   "metadata": {},
   "source": [
    "22 == 22"
   ]
  },
  {
   "cell_type": "code",
   "execution_count": 29,
   "id": "03a3bdfb",
   "metadata": {},
   "outputs": [
    {
     "name": "stdout",
     "output_type": "stream",
     "text": [
      "[98, 91, 78]\n"
     ]
    }
   ],
   "source": [
    "scores = map(\n",
    "    lambda pair: max(pair),\n",
    "    zip(phy102,mat121)\n",
    ")\n",
    "print(list(scores))"
   ]
  },
  {
   "cell_type": "code",
   "execution_count": 32,
   "id": "4bd51b65",
   "metadata": {},
   "outputs": [
    {
     "ename": "TypeError",
     "evalue": "'>' not supported between instances of 'int' and 'str'",
     "output_type": "error",
     "traceback": [
      "\u001b[1;31m---------------------------------------------------------------------------\u001b[0m",
      "\u001b[1;31mTypeError\u001b[0m                                 Traceback (most recent call last)",
      "\u001b[1;32m~\\AppData\\Local\\Temp/ipykernel_8384/1935673478.py\u001b[0m in \u001b[0;36m<module>\u001b[1;34m\u001b[0m\n\u001b[0;32m      3\u001b[0m     \u001b[0mzip\u001b[0m\u001b[1;33m(\u001b[0m\u001b[0mpeeps\u001b[0m\u001b[1;33m,\u001b[0m\u001b[0mphy102\u001b[0m\u001b[1;33m,\u001b[0m\u001b[0mmat121\u001b[0m\u001b[1;33m)\u001b[0m\u001b[1;33m\u001b[0m\u001b[1;33m\u001b[0m\u001b[0m\n\u001b[0;32m      4\u001b[0m )\n\u001b[1;32m----> 5\u001b[1;33m \u001b[0mprint\u001b[0m\u001b[1;33m(\u001b[0m\u001b[0mlist\u001b[0m\u001b[1;33m(\u001b[0m\u001b[0mscores\u001b[0m\u001b[1;33m)\u001b[0m\u001b[1;33m)\u001b[0m\u001b[1;33m\u001b[0m\u001b[1;33m\u001b[0m\u001b[0m\n\u001b[0m",
      "\u001b[1;32m~\\AppData\\Local\\Temp/ipykernel_8384/1935673478.py\u001b[0m in \u001b[0;36m<lambda>\u001b[1;34m(pair)\u001b[0m\n\u001b[0;32m      1\u001b[0m scores = map(\n\u001b[1;32m----> 2\u001b[1;33m     \u001b[1;32mlambda\u001b[0m \u001b[0mpair\u001b[0m\u001b[1;33m:\u001b[0m \u001b[0mmax\u001b[0m\u001b[1;33m(\u001b[0m\u001b[0mpair\u001b[0m\u001b[1;33m)\u001b[0m\u001b[1;33m,\u001b[0m\u001b[1;33m\u001b[0m\u001b[1;33m\u001b[0m\u001b[0m\n\u001b[0m\u001b[0;32m      3\u001b[0m     \u001b[0mzip\u001b[0m\u001b[1;33m(\u001b[0m\u001b[0mpeeps\u001b[0m\u001b[1;33m,\u001b[0m\u001b[0mphy102\u001b[0m\u001b[1;33m,\u001b[0m\u001b[0mmat121\u001b[0m\u001b[1;33m)\u001b[0m\u001b[1;33m\u001b[0m\u001b[1;33m\u001b[0m\u001b[0m\n\u001b[0;32m      4\u001b[0m )\n\u001b[0;32m      5\u001b[0m \u001b[0mprint\u001b[0m\u001b[1;33m(\u001b[0m\u001b[0mlist\u001b[0m\u001b[1;33m(\u001b[0m\u001b[0mscores\u001b[0m\u001b[1;33m)\u001b[0m\u001b[1;33m)\u001b[0m\u001b[1;33m\u001b[0m\u001b[1;33m\u001b[0m\u001b[0m\n",
      "\u001b[1;31mTypeError\u001b[0m: '>' not supported between instances of 'int' and 'str'"
     ]
    }
   ],
   "source": [
    "scores = map(\n",
    "    lambda pair: max(pair),\n",
    "    zip(peeps,phy102,mat121)\n",
    ")\n",
    "print(list(scores))"
   ]
  },
  {
   "cell_type": "code",
   "execution_count": 10,
   "id": "4b3bb1b3",
   "metadata": {},
   "outputs": [
    {
     "name": "stdout",
     "output_type": "stream",
     "text": [
      "{'Chan': 98, 'Damme': 91, 'Lee': 78}\n"
     ]
    }
   ],
   "source": [
    "grades = zip(\n",
    "    peeps,\n",
    "    map(\n",
    "        lambda pair: max(pair),\n",
    "        zip(phy102,mat121)\n",
    "   )\n",
    ")\n",
    "print(dict(grades))"
   ]
  },
  {
   "cell_type": "code",
   "execution_count": 3,
   "id": "a4638e81",
   "metadata": {},
   "outputs": [
    {
     "name": "stdout",
     "output_type": "stream",
     "text": [
      "[98, 91, 78]\n"
     ]
    }
   ],
   "source": [
    "scores = map(\n",
    "    lambda pair: max(pair),\n",
    "    zip(phy102,mat121)\n",
    ")\n",
    "print(list(scores))"
   ]
  },
  {
   "cell_type": "code",
   "execution_count": 4,
   "id": "ab73b2f2",
   "metadata": {},
   "outputs": [
    {
     "name": "stdout",
     "output_type": "stream",
     "text": [
      "[98, 91, 78]\n"
     ]
    }
   ],
   "source": [
    "scores = map(lambda pair: max(pair), zip(phy102,mat121))\n",
    "\n",
    "print(list(scores))"
   ]
  },
  {
   "cell_type": "code",
   "execution_count": 8,
   "id": "8ea98c9a",
   "metadata": {},
   "outputs": [
    {
     "name": "stdout",
     "output_type": "stream",
     "text": [
      "{'Chan': 98, 'Damme': 91, 'Lee': 78}\n"
     ]
    }
   ],
   "source": [
    "grades = zip(\n",
    "    peeps,\n",
    "    map(\n",
    "        lambda pair: max(pair),\n",
    "        zip(phy102,mat121)\n",
    "    )\n",
    ")\n",
    "\n",
    "print(dict(grades))"
   ]
  },
  {
   "cell_type": "code",
   "execution_count": 12,
   "id": "cc3c197e",
   "metadata": {},
   "outputs": [
    {
     "name": "stdout",
     "output_type": "stream",
     "text": [
      "{'Chan': 98, 'Damme': 91, 'Lee': 78}\n"
     ]
    }
   ],
   "source": [
    "grades = zip(\n",
    "    peeps,\n",
    "    map(\n",
    "        lambda pair: max(pair),\n",
    "        zip(phy102,mat121)\n",
    "   )\n",
    ")\n",
    "print(dict(grades))"
   ]
  },
  {
   "cell_type": "code",
   "execution_count": 13,
   "id": "764429ba",
   "metadata": {},
   "outputs": [
    {
     "name": "stdout",
     "output_type": "stream",
     "text": [
      "{'Chan': 98, 'Damme': 91, 'Lee': 78}\n"
     ]
    }
   ],
   "source": [
    "grades = zip(peeps, map(lambda pair: max(pair), zip(phy102,mat121)))\n",
    "print(dict(grades))"
   ]
  },
  {
   "cell_type": "code",
   "execution_count": 14,
   "id": "1909fb16",
   "metadata": {},
   "outputs": [
    {
     "name": "stdout",
     "output_type": "stream",
     "text": [
      "{'Chan': 98, 'Damme': 91, 'Lee': 78}\n"
     ]
    }
   ],
   "source": [
    "final_grades = dict(\n",
    "    zip(\n",
    "    peeps,\n",
    "    map(\n",
    "        lambda pair: max(pair),\n",
    "        zip(phy102,mat121)\n",
    "   )\n",
    "))\n",
    "print(final_grades)"
   ]
  },
  {
   "cell_type": "code",
   "execution_count": 7,
   "id": "dbdcc8f1",
   "metadata": {},
   "outputs": [
    {
     "name": "stdout",
     "output_type": "stream",
     "text": [
      "{'Chan': 89.0, 'Damme': 90.0, 'Lee': 65.5}\n"
     ]
    }
   ],
   "source": [
    "avg_grades = dict(\n",
    "    zip(\n",
    "        peeps,\n",
    "        map(\n",
    "            lambda pair: ((pair[0] +pair[1])/2),\n",
    "            zip(phy102,mat121)\n",
    "   )\n",
    "))\n",
    "print(avg_grades)"
   ]
  },
  {
   "cell_type": "code",
   "execution_count": null,
   "id": "e67fe246",
   "metadata": {},
   "outputs": [],
   "source": []
  }
 ],
 "metadata": {
  "kernelspec": {
   "display_name": "Python 3 (ipykernel)",
   "language": "python",
   "name": "python3"
  },
  "language_info": {
   "codemirror_mode": {
    "name": "ipython",
    "version": 3
   },
   "file_extension": ".py",
   "mimetype": "text/x-python",
   "name": "python",
   "nbconvert_exporter": "python",
   "pygments_lexer": "ipython3",
   "version": "3.9.7"
  }
 },
 "nbformat": 4,
 "nbformat_minor": 5
}
