{
 "cells": [
  {
   "cell_type": "code",
   "execution_count": 2,
   "id": "1e8336d4",
   "metadata": {},
   "outputs": [
    {
     "name": "stdout",
     "output_type": "stream",
     "text": [
      "What's your favorite color? yelllow\n",
      "You said yelllow\n"
     ]
    }
   ],
   "source": [
    "data = input(\"What's your favorite color? \")\n",
    "print(\"You said \" + data)"
   ]
  },
  {
   "cell_type": "code",
   "execution_count": 3,
   "id": "893c9566",
   "metadata": {},
   "outputs": [
    {
     "name": "stdout",
     "output_type": "stream",
     "text": [
      "What's your favorite color? purple\n",
      "green\n",
      "You said green\n"
     ]
    }
   ],
   "source": [
    "data = input(\"What's your favorite color? \")\n",
    "data = input()\n",
    "print(\"You said \" + data)"
   ]
  },
  {
   "cell_type": "code",
   "execution_count": 7,
   "id": "e811561f",
   "metadata": {},
   "outputs": [
    {
     "name": "stdout",
     "output_type": "stream",
     "text": [
      "What is your favorite color? black\n",
      "YOU MONSTER!\n"
     ]
    }
   ],
   "source": [
    "color = input(\"What is your favorite color? \")\n",
    "if color == 'purple':\n",
    "    print(\"Excellent Choice!\")\n",
    "elif color == \"blue\":\n",
    "    print('not bad!')\n",
    "elif color == 'green':\n",
    "    print(\"Manageable!\")\n",
    "elif color == 'yellow':\n",
    "    print(\"nice!\")\n",
    "else:\n",
    "    print(\"YOU MONSTER!\")\n",
    "    "
   ]
  },
  {
   "cell_type": "code",
   "execution_count": 9,
   "id": "aff0aef8",
   "metadata": {},
   "outputs": [
    {
     "name": "stdout",
     "output_type": "stream",
     "text": [
      "Enter your favorite animal? \n",
      "YOU DIDN'T SAY ANYTHING!\n"
     ]
    }
   ],
   "source": [
    "animal = input('Enter your favorite animal? ')\n",
    "if animal:\n",
    "    print(animal + \"is my favorite too!\")\n",
    "else:\n",
    "    print(\"YOU DIDN'T SAY ANYTHING!\")"
   ]
  },
  {
   "cell_type": "code",
   "execution_count": 13,
   "id": "421af76e",
   "metadata": {},
   "outputs": [
    {
     "name": "stdout",
     "output_type": "stream",
     "text": [
      "Enter your favorite animal? Rabbit\n",
      "Rabbit is my favorite too!\n"
     ]
    }
   ],
   "source": [
    "animal = input('Enter your favorite animal? ')\n",
    "if animal:\n",
    "    print(animal + \" is my favorite too!\")\n",
    "else:\n",
    "    print(\"YOU DIDN'T SAY ANYTHING!\")"
   ]
  },
  {
   "cell_type": "code",
   "execution_count": 14,
   "id": "d3cceb38",
   "metadata": {},
   "outputs": [
    {
     "data": {
      "text/plain": [
       "True"
      ]
     },
     "execution_count": 14,
     "metadata": {},
     "output_type": "execute_result"
    }
   ],
   "source": [
    " 1 == 1"
   ]
  },
  {
   "cell_type": "code",
   "execution_count": 16,
   "id": "55702cc0",
   "metadata": {},
   "outputs": [
    {
     "data": {
      "text/plain": [
       "False"
      ]
     },
     "execution_count": 16,
     "metadata": {},
     "output_type": "execute_result"
    }
   ],
   "source": [
    "\"A\" == \"a\""
   ]
  },
  {
   "cell_type": "code",
   "execution_count": 17,
   "id": "cf667df9",
   "metadata": {},
   "outputs": [],
   "source": [
    "color = \"teal\""
   ]
  },
  {
   "cell_type": "code",
   "execution_count": 18,
   "id": "93995e61",
   "metadata": {},
   "outputs": [
    {
     "data": {
      "text/plain": [
       "True"
      ]
     },
     "execution_count": 18,
     "metadata": {},
     "output_type": "execute_result"
    }
   ],
   "source": [
    "color != 'purple'"
   ]
  },
  {
   "cell_type": "code",
   "execution_count": 19,
   "id": "ed13250e",
   "metadata": {},
   "outputs": [
    {
     "data": {
      "text/plain": [
       "True"
      ]
     },
     "execution_count": 19,
     "metadata": {},
     "output_type": "execute_result"
    }
   ],
   "source": [
    "'a'>'A'"
   ]
  },
  {
   "cell_type": "code",
   "execution_count": 20,
   "id": "7b16e12a",
   "metadata": {},
   "outputs": [
    {
     "data": {
      "text/plain": [
       "False"
      ]
     },
     "execution_count": 20,
     "metadata": {},
     "output_type": "execute_result"
    }
   ],
   "source": [
    "'a'<'A'"
   ]
  },
  {
   "cell_type": "code",
   "execution_count": 22,
   "id": "7f315b13",
   "metadata": {},
   "outputs": [
    {
     "data": {
      "text/plain": [
       "True"
      ]
     },
     "execution_count": 22,
     "metadata": {},
     "output_type": "execute_result"
    }
   ],
   "source": [
    "'A'<'a'"
   ]
  },
  {
   "cell_type": "code",
   "execution_count": 23,
   "id": "40a13118",
   "metadata": {},
   "outputs": [
    {
     "data": {
      "text/plain": [
       "False"
      ]
     },
     "execution_count": 23,
     "metadata": {},
     "output_type": "execute_result"
    }
   ],
   "source": [
    "'a'>'b'"
   ]
  },
  {
   "cell_type": "code",
   "execution_count": 24,
   "id": "358c2b86",
   "metadata": {},
   "outputs": [
    {
     "data": {
      "text/plain": [
       "True"
      ]
     },
     "execution_count": 24,
     "metadata": {},
     "output_type": "execute_result"
    }
   ],
   "source": [
    "'B'>'A'"
   ]
  },
  {
   "cell_type": "code",
   "execution_count": 25,
   "id": "4a4ce21a",
   "metadata": {},
   "outputs": [
    {
     "data": {
      "text/plain": [
       "True"
      ]
     },
     "execution_count": 25,
     "metadata": {},
     "output_type": "execute_result"
    }
   ],
   "source": [
    "'b'>'A'"
   ]
  },
  {
   "cell_type": "code",
   "execution_count": 27,
   "id": "0a2e43f1",
   "metadata": {},
   "outputs": [
    {
     "name": "stdout",
     "output_type": "stream",
     "text": [
      "How old are you: 32\n",
      "NOT ELIGIBLE!\n"
     ]
    }
   ],
   "source": [
    "age = input(\"How old are you: \")\n",
    "if age:\n",
    "    age = int(age)\n",
    "    if age>= 18 and age < 21:\n",
    "        print(\"You can sat fot JAMB!\")\n",
    "    elif age >= 21 and age < 30:\n",
    "        print(\"You can get admission!\")\n",
    "    else:\n",
    "        print(\"NOT ELIGIBLE!\")\n",
    "else:\n",
    "    print('OVER-AGE!')\n",
    "        \n",
    "        "
   ]
  },
  {
   "cell_type": "code",
   "execution_count": 35,
   "id": "7528dd19",
   "metadata": {},
   "outputs": [
    {
     "name": "stdout",
     "output_type": "stream",
     "text": [
      "How old are you: 44\n",
      "OVER-AGE!\n"
     ]
    }
   ],
   "source": [
    "age = input(\"How old are you: \")\n",
    "if age:\n",
    "    age = int(age)\n",
    "    if age>= 18 and age < 21:\n",
    "        print(\"You can sat fot JAMB!\")\n",
    "    elif age >= 21 and age < 30:\n",
    "        print(\"You can get admission!\") \n",
    "    elif age >= 30:\n",
    "         print(\"OVER-AGE!\")\n",
    "    else:\n",
    "        print(\"NOT ELIGIBLE!\")"
   ]
  },
  {
   "cell_type": "code",
   "execution_count": null,
   "id": "e1b8daa8",
   "metadata": {},
   "outputs": [],
   "source": []
  },
  {
   "cell_type": "code",
   "execution_count": null,
   "id": "e36428e9",
   "metadata": {},
   "outputs": [],
   "source": []
  },
  {
   "cell_type": "code",
   "execution_count": null,
   "id": "ed84ce75",
   "metadata": {},
   "outputs": [],
   "source": []
  }
 ],
 "metadata": {
  "kernelspec": {
   "display_name": "Python 3 (ipykernel)",
   "language": "python",
   "name": "python3"
  },
  "language_info": {
   "codemirror_mode": {
    "name": "ipython",
    "version": 3
   },
   "file_extension": ".py",
   "mimetype": "text/x-python",
   "name": "python",
   "nbconvert_exporter": "python",
   "pygments_lexer": "ipython3",
   "version": "3.9.7"
  }
 },
 "nbformat": 4,
 "nbformat_minor": 5
}
